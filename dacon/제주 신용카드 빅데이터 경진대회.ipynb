{
 "cells": [
  {
   "cell_type": "markdown",
   "metadata": {},
   "source": [
    "## 제주 빅데이터 경진대회"
   ]
  },
  {
   "cell_type": "code",
   "execution_count": 1,
   "metadata": {},
   "outputs": [],
   "source": [
    "import pandas as pd\n",
    "import numpy as np\n",
    "import matplotlib as mpl\n",
    "import matplotlib.pyplot as plt\n",
    "import seaborn as sns\n",
    "import sklearn\n",
    "from sklearn.ensemble import RandomForestRegressor\n",
    "from sklearn.preprocessing import LabelEncoder\n",
    "import warnings\n",
    "warnings.filterwarnings(action = 'ignore')"
   ]
  },
  {
   "cell_type": "code",
   "execution_count": 2,
   "metadata": {},
   "outputs": [],
   "source": [
    "font_name = mpl.font_manager.FontProperties(fname='C:/Windows/Fonts/malgunbd.ttf').get_name()\n",
    "mpl.rc('font', family=font_name)\n",
    "mpl.rcParams['axes.unicode_minus'] = False"
   ]
  },
  {
   "cell_type": "code",
   "execution_count": 3,
   "metadata": {
    "scrolled": true
   },
   "outputs": [
    {
     "name": "stdout",
     "output_type": "stream",
     "text": [
      "Pandas : 1.0.5\n",
      "Numpy : 1.16.6\n",
      "Python 3.7.7\n"
     ]
    }
   ],
   "source": [
    "print('Pandas : %s'%(pd.__version__))\n",
    "print('Numpy : %s'%(np.__version__))\n",
    "!python --version"
   ]
  },
  {
   "cell_type": "markdown",
   "metadata": {},
   "source": [
    "## 2. 데이터 전처리\n",
    "## Data Cleansing & Pre-Processing  "
   ]
  },
  {
   "cell_type": "markdown",
   "metadata": {},
   "source": [
    "변수명\n",
    "- REG_YYMM :년월\n",
    "- CARD_SIDO_NM : 카드이용지역_시도 (가맹점 주소 기준)\n",
    "- CARD_CCG_NM : 카드이용지역_시군구 (가맹점 주소 기준)\n",
    "- STD_CLSS_NM : 업종명\n",
    "- HOM_SIDO_NM : 거주지역_시도 (고객 집주소 기준)\n",
    "- HOM_CCG_NM : 거주지역_시군구 (고객 집주소 기준)\n",
    "- AGE: 연령대\n",
    "- SEX_CTGO_CD : 성별 (1: 남성, 2: 여성)\n",
    "- FLC : 가구생애주기 (1: 1인가구, 2: 영유아자녀가구, 3: 중고생자녀가구, 4: 성인자녀가구, 5: 노년가구)\n",
    "- CSTMR_CNT : 이용고객수 (명)\n",
    "- AMT : 이용금액 (원) - 종속변수\n",
    "- CNT : 이용건수 (건)"
   ]
  },
  {
   "cell_type": "code",
   "execution_count": 4,
   "metadata": {},
   "outputs": [],
   "source": [
    "def grap_year(data):\n",
    "    data = str(data)\n",
    "    return int(data[:4])\n",
    "\n",
    "def grap_month(data):\n",
    "    data = str(data)\n",
    "    return int(data[4:])"
   ]
  },
  {
   "cell_type": "code",
   "execution_count": 5,
   "metadata": {},
   "outputs": [],
   "source": [
    "# 날짜 처리\n",
    "data = pd.read_csv('D:/data/dacon/jeju/201901-202003.csv')\n",
    "data = data.fillna('')\n",
    "data['year'] = data['REG_YYMM'].apply(lambda x: grap_year(x))\n",
    "data['month'] = data['REG_YYMM'].apply(lambda x: grap_month(x))\n",
    "data = data.drop(['REG_YYMM'], axis=1)"
   ]
  },
  {
   "cell_type": "code",
   "execution_count": 6,
   "metadata": {},
   "outputs": [
    {
     "data": {
      "text/html": [
       "<div>\n",
       "<style scoped>\n",
       "    .dataframe tbody tr th:only-of-type {\n",
       "        vertical-align: middle;\n",
       "    }\n",
       "\n",
       "    .dataframe tbody tr th {\n",
       "        vertical-align: top;\n",
       "    }\n",
       "\n",
       "    .dataframe thead th {\n",
       "        text-align: right;\n",
       "    }\n",
       "</style>\n",
       "<table border=\"1\" class=\"dataframe\">\n",
       "  <thead>\n",
       "    <tr style=\"text-align: right;\">\n",
       "      <th></th>\n",
       "      <th>CARD_SIDO_NM</th>\n",
       "      <th>CARD_CCG_NM</th>\n",
       "      <th>STD_CLSS_NM</th>\n",
       "      <th>HOM_SIDO_NM</th>\n",
       "      <th>HOM_CCG_NM</th>\n",
       "      <th>AGE</th>\n",
       "      <th>SEX_CTGO_CD</th>\n",
       "      <th>FLC</th>\n",
       "      <th>CSTMR_CNT</th>\n",
       "      <th>AMT</th>\n",
       "      <th>CNT</th>\n",
       "      <th>year</th>\n",
       "      <th>month</th>\n",
       "    </tr>\n",
       "  </thead>\n",
       "  <tbody>\n",
       "    <tr>\n",
       "      <th>12230816</th>\n",
       "      <td>경기</td>\n",
       "      <td>화성시</td>\n",
       "      <td>체인화 편의점</td>\n",
       "      <td>경기</td>\n",
       "      <td>화성시</td>\n",
       "      <td>30s</td>\n",
       "      <td>1</td>\n",
       "      <td>2</td>\n",
       "      <td>32728</td>\n",
       "      <td>924209390</td>\n",
       "      <td>120357</td>\n",
       "      <td>2019</td>\n",
       "      <td>8</td>\n",
       "    </tr>\n",
       "  </tbody>\n",
       "</table>\n",
       "</div>"
      ],
      "text/plain": [
       "         CARD_SIDO_NM CARD_CCG_NM STD_CLSS_NM HOM_SIDO_NM HOM_CCG_NM  AGE  \\\n",
       "12230816           경기         화성시     체인화 편의점          경기        화성시  30s   \n",
       "\n",
       "          SEX_CTGO_CD  FLC  CSTMR_CNT        AMT     CNT  year  month  \n",
       "12230816            1    2      32728  924209390  120357  2019      8  "
      ]
     },
     "execution_count": 6,
     "metadata": {},
     "output_type": "execute_result"
    }
   ],
   "source": [
    "data[data['CNT']==data['CNT'].max()]"
   ]
  },
  {
   "cell_type": "markdown",
   "metadata": {},
   "source": [
    "- 행 해석: 19년 8월 한달동안 화성시의 30대 남성들의(영유아자녀가구) 화성시 편의점 고객의 수는 32728명이고 소비 횟수는 120357번이며 총 사용 금액은 924209390원이다.\n",
    " - 즉 한명의 고객이 같은 편의점에서 여러번 소비를 했다는 뜻"
   ]
  },
  {
   "cell_type": "code",
   "execution_count": 7,
   "metadata": {},
   "outputs": [
    {
     "data": {
      "text/html": [
       "<div>\n",
       "<style scoped>\n",
       "    .dataframe tbody tr th:only-of-type {\n",
       "        vertical-align: middle;\n",
       "    }\n",
       "\n",
       "    .dataframe tbody tr th {\n",
       "        vertical-align: top;\n",
       "    }\n",
       "\n",
       "    .dataframe thead th {\n",
       "        text-align: right;\n",
       "    }\n",
       "</style>\n",
       "<table border=\"1\" class=\"dataframe\">\n",
       "  <thead>\n",
       "    <tr style=\"text-align: right;\">\n",
       "      <th></th>\n",
       "      <th>CARD_SIDO_NM</th>\n",
       "      <th>CARD_CCG_NM</th>\n",
       "      <th>STD_CLSS_NM</th>\n",
       "      <th>HOM_SIDO_NM</th>\n",
       "      <th>HOM_CCG_NM</th>\n",
       "      <th>AGE</th>\n",
       "      <th>SEX_CTGO_CD</th>\n",
       "      <th>FLC</th>\n",
       "      <th>CSTMR_CNT</th>\n",
       "      <th>AMT</th>\n",
       "    </tr>\n",
       "  </thead>\n",
       "  <tbody>\n",
       "    <tr>\n",
       "      <th>1612230</th>\n",
       "      <td>강원</td>\n",
       "      <td>강릉시</td>\n",
       "      <td>욕탕업</td>\n",
       "      <td>경기</td>\n",
       "      <td>안산시 단원구</td>\n",
       "      <td>30s</td>\n",
       "      <td>2</td>\n",
       "      <td>2</td>\n",
       "      <td>3</td>\n",
       "      <td>43000</td>\n",
       "    </tr>\n",
       "    <tr>\n",
       "      <th>1612350</th>\n",
       "      <td>강원</td>\n",
       "      <td>강릉시</td>\n",
       "      <td>일식 음식점업</td>\n",
       "      <td>강원</td>\n",
       "      <td>삼척시</td>\n",
       "      <td>20s</td>\n",
       "      <td>2</td>\n",
       "      <td>1</td>\n",
       "      <td>3</td>\n",
       "      <td>104500</td>\n",
       "    </tr>\n",
       "    <tr>\n",
       "      <th>1616720</th>\n",
       "      <td>강원</td>\n",
       "      <td>강릉시</td>\n",
       "      <td>한식 음식점업</td>\n",
       "      <td>서울</td>\n",
       "      <td>동대문구</td>\n",
       "      <td>70s</td>\n",
       "      <td>1</td>\n",
       "      <td>5</td>\n",
       "      <td>3</td>\n",
       "      <td>80000</td>\n",
       "    </tr>\n",
       "    <tr>\n",
       "      <th>1625464</th>\n",
       "      <td>강원</td>\n",
       "      <td>속초시</td>\n",
       "      <td>건강보조식품 소매업</td>\n",
       "      <td>강원</td>\n",
       "      <td>양양군</td>\n",
       "      <td>60s</td>\n",
       "      <td>1</td>\n",
       "      <td>5</td>\n",
       "      <td>3</td>\n",
       "      <td>226800</td>\n",
       "    </tr>\n",
       "    <tr>\n",
       "      <th>1627352</th>\n",
       "      <td>강원</td>\n",
       "      <td>속초시</td>\n",
       "      <td>기타 외국식 음식점업</td>\n",
       "      <td>경기</td>\n",
       "      <td>파주시</td>\n",
       "      <td>30s</td>\n",
       "      <td>1</td>\n",
       "      <td>2</td>\n",
       "      <td>4</td>\n",
       "      <td>103000</td>\n",
       "    </tr>\n",
       "    <tr>\n",
       "      <th>...</th>\n",
       "      <td>...</td>\n",
       "      <td>...</td>\n",
       "      <td>...</td>\n",
       "      <td>...</td>\n",
       "      <td>...</td>\n",
       "      <td>...</td>\n",
       "      <td>...</td>\n",
       "      <td>...</td>\n",
       "      <td>...</td>\n",
       "      <td>...</td>\n",
       "    </tr>\n",
       "    <tr>\n",
       "      <th>24694864</th>\n",
       "      <td>충북</td>\n",
       "      <td>충주시</td>\n",
       "      <td>차량용 주유소 운영업</td>\n",
       "      <td>강원</td>\n",
       "      <td>원주시</td>\n",
       "      <td>30s</td>\n",
       "      <td>1</td>\n",
       "      <td>1</td>\n",
       "      <td>3</td>\n",
       "      <td>15000</td>\n",
       "    </tr>\n",
       "    <tr>\n",
       "      <th>24694986</th>\n",
       "      <td>충북</td>\n",
       "      <td>충주시</td>\n",
       "      <td>차량용 주유소 운영업</td>\n",
       "      <td>경기</td>\n",
       "      <td>수원시 팔달구</td>\n",
       "      <td>60s</td>\n",
       "      <td>1</td>\n",
       "      <td>5</td>\n",
       "      <td>3</td>\n",
       "      <td>170000</td>\n",
       "    </tr>\n",
       "    <tr>\n",
       "      <th>24695312</th>\n",
       "      <td>충북</td>\n",
       "      <td>충주시</td>\n",
       "      <td>차량용 주유소 운영업</td>\n",
       "      <td>대전</td>\n",
       "      <td>서구</td>\n",
       "      <td>50s</td>\n",
       "      <td>2</td>\n",
       "      <td>4</td>\n",
       "      <td>3</td>\n",
       "      <td>160000</td>\n",
       "    </tr>\n",
       "    <tr>\n",
       "      <th>24695989</th>\n",
       "      <td>충북</td>\n",
       "      <td>충주시</td>\n",
       "      <td>체인화 편의점</td>\n",
       "      <td>서울</td>\n",
       "      <td>구로구</td>\n",
       "      <td>40s</td>\n",
       "      <td>1</td>\n",
       "      <td>3</td>\n",
       "      <td>3</td>\n",
       "      <td>16900</td>\n",
       "    </tr>\n",
       "    <tr>\n",
       "      <th>24697305</th>\n",
       "      <td>충북</td>\n",
       "      <td>충주시</td>\n",
       "      <td>한식 음식점업</td>\n",
       "      <td>서울</td>\n",
       "      <td>광진구</td>\n",
       "      <td>40s</td>\n",
       "      <td>2</td>\n",
       "      <td>2</td>\n",
       "      <td>3</td>\n",
       "      <td>21900</td>\n",
       "    </tr>\n",
       "  </tbody>\n",
       "</table>\n",
       "<p>29912 rows × 10 columns</p>\n",
       "</div>"
      ],
      "text/plain": [
       "         CARD_SIDO_NM CARD_CCG_NM  STD_CLSS_NM HOM_SIDO_NM HOM_CCG_NM  AGE  \\\n",
       "1612230            강원         강릉시          욕탕업          경기    안산시 단원구  30s   \n",
       "1612350            강원         강릉시      일식 음식점업          강원        삼척시  20s   \n",
       "1616720            강원         강릉시      한식 음식점업          서울       동대문구  70s   \n",
       "1625464            강원         속초시   건강보조식품 소매업          강원        양양군  60s   \n",
       "1627352            강원         속초시  기타 외국식 음식점업          경기        파주시  30s   \n",
       "...               ...         ...          ...         ...        ...  ...   \n",
       "24694864           충북         충주시  차량용 주유소 운영업          강원        원주시  30s   \n",
       "24694986           충북         충주시  차량용 주유소 운영업          경기    수원시 팔달구  60s   \n",
       "24695312           충북         충주시  차량용 주유소 운영업          대전         서구  50s   \n",
       "24695989           충북         충주시      체인화 편의점          서울        구로구  40s   \n",
       "24697305           충북         충주시      한식 음식점업          서울        광진구  40s   \n",
       "\n",
       "          SEX_CTGO_CD  FLC  CSTMR_CNT     AMT  \n",
       "1612230             2    2          3   43000  \n",
       "1612350             2    1          3  104500  \n",
       "1616720             1    5          3   80000  \n",
       "1625464             1    5          3  226800  \n",
       "1627352             1    2          4  103000  \n",
       "...               ...  ...        ...     ...  \n",
       "24694864            1    1          3   15000  \n",
       "24694986            1    5          3  170000  \n",
       "24695312            2    4          3  160000  \n",
       "24695989            1    3          3   16900  \n",
       "24697305            2    2          3   21900  \n",
       "\n",
       "[29912 rows x 10 columns]"
      ]
     },
     "metadata": {},
     "output_type": "display_data"
    }
   ],
   "source": [
    "#중복된 행의 데이터만 표시하기\n",
    "check = data[data.columns[:-3]]\n",
    "display(check[check.duplicated()])"
   ]
  },
  {
   "cell_type": "markdown",
   "metadata": {},
   "source": [
    "\"카드이용 정보가 같은 경우가 있을지\" 이다.\n",
    "- 없음 (모두 다름)\n",
    "- **결론적으로 각 지역의 업종별로 '어떤 고객(고객 지역,성별,가족 생애주기 등)'들이 구성되어 있는지 확인을 하는 것이 중요해 보인다.**"
   ]
  },
  {
   "cell_type": "code",
   "execution_count": 8,
   "metadata": {},
   "outputs": [
    {
     "data": {
      "text/plain": [
       "(24697792, 13)"
      ]
     },
     "execution_count": 8,
     "metadata": {},
     "output_type": "execute_result"
    }
   ],
   "source": [
    "data.shape"
   ]
  },
  {
   "cell_type": "code",
   "execution_count": 9,
   "metadata": {},
   "outputs": [
    {
     "data": {
      "text/plain": [
       "CARD_SIDO_NM    0\n",
       "CARD_CCG_NM     0\n",
       "STD_CLSS_NM     0\n",
       "HOM_SIDO_NM     0\n",
       "HOM_CCG_NM      0\n",
       "AGE             0\n",
       "SEX_CTGO_CD     0\n",
       "FLC             0\n",
       "CSTMR_CNT       0\n",
       "AMT             0\n",
       "CNT             0\n",
       "year            0\n",
       "month           0\n",
       "dtype: int64"
      ]
     },
     "execution_count": 9,
     "metadata": {},
     "output_type": "execute_result"
    }
   ],
   "source": [
    "data.isna().sum()"
   ]
  },
  {
   "cell_type": "code",
   "execution_count": 19,
   "metadata": {
    "scrolled": false
   },
   "outputs": [
    {
     "data": {
      "image/png": "[encoded data removed]",
      "text/plain": [
       "<Figure size 1440x1080 with 1 Axes>"
      ]
     },
     "metadata": {
      "needs_background": "light"
     },
     "output_type": "display_data"
    }
   ],
   "source": [
    "# 업종별 등장 빈도수\n",
    "fig = plt.figure(figsize=(20, 15))\n",
    "# fig.patch.set_facecolor('xkcd:mint green')\n",
    "sns.barplot(y=data['STD_CLSS_NM'].value_counts().index,x=data['STD_CLSS_NM'].value_counts())\n",
    "plt.tick_params(labelsize=14)\n",
    "#plt.tight_layout()"
   ]
  },
  {
   "cell_type": "code",
   "execution_count": 10,
   "metadata": {},
   "outputs": [
    {
     "data": {
      "text/html": [
       "<div>\n",
       "<style scoped>\n",
       "    .dataframe tbody tr th:only-of-type {\n",
       "        vertical-align: middle;\n",
       "    }\n",
       "\n",
       "    .dataframe tbody tr th {\n",
       "        vertical-align: top;\n",
       "    }\n",
       "\n",
       "    .dataframe thead th {\n",
       "        text-align: right;\n",
       "    }\n",
       "</style>\n",
       "<table border=\"1\" class=\"dataframe\">\n",
       "  <thead>\n",
       "    <tr style=\"text-align: right;\">\n",
       "      <th></th>\n",
       "      <th>CARD_SIDO_NM</th>\n",
       "      <th>CARD_CCG_NM</th>\n",
       "      <th>STD_CLSS_NM</th>\n",
       "      <th>HOM_SIDO_NM</th>\n",
       "      <th>HOM_CCG_NM</th>\n",
       "      <th>AGE</th>\n",
       "      <th>SEX_CTGO_CD</th>\n",
       "      <th>FLC</th>\n",
       "      <th>CSTMR_CNT</th>\n",
       "      <th>AMT</th>\n",
       "      <th>CNT</th>\n",
       "      <th>year</th>\n",
       "      <th>month</th>\n",
       "    </tr>\n",
       "  </thead>\n",
       "  <tbody>\n",
       "    <tr>\n",
       "      <th>0</th>\n",
       "      <td>강원</td>\n",
       "      <td>강릉시</td>\n",
       "      <td>건강보조식품 소매업</td>\n",
       "      <td>강원</td>\n",
       "      <td>강릉시</td>\n",
       "      <td>20s</td>\n",
       "      <td>1</td>\n",
       "      <td>1</td>\n",
       "      <td>4</td>\n",
       "      <td>311200</td>\n",
       "      <td>4</td>\n",
       "      <td>2019</td>\n",
       "      <td>1</td>\n",
       "    </tr>\n",
       "    <tr>\n",
       "      <th>1</th>\n",
       "      <td>강원</td>\n",
       "      <td>강릉시</td>\n",
       "      <td>건강보조식품 소매업</td>\n",
       "      <td>강원</td>\n",
       "      <td>강릉시</td>\n",
       "      <td>30s</td>\n",
       "      <td>1</td>\n",
       "      <td>2</td>\n",
       "      <td>7</td>\n",
       "      <td>1374500</td>\n",
       "      <td>8</td>\n",
       "      <td>2019</td>\n",
       "      <td>1</td>\n",
       "    </tr>\n",
       "    <tr>\n",
       "      <th>2</th>\n",
       "      <td>강원</td>\n",
       "      <td>강릉시</td>\n",
       "      <td>건강보조식품 소매업</td>\n",
       "      <td>강원</td>\n",
       "      <td>강릉시</td>\n",
       "      <td>30s</td>\n",
       "      <td>2</td>\n",
       "      <td>2</td>\n",
       "      <td>6</td>\n",
       "      <td>818700</td>\n",
       "      <td>6</td>\n",
       "      <td>2019</td>\n",
       "      <td>1</td>\n",
       "    </tr>\n",
       "    <tr>\n",
       "      <th>3</th>\n",
       "      <td>강원</td>\n",
       "      <td>강릉시</td>\n",
       "      <td>건강보조식품 소매업</td>\n",
       "      <td>강원</td>\n",
       "      <td>강릉시</td>\n",
       "      <td>40s</td>\n",
       "      <td>1</td>\n",
       "      <td>3</td>\n",
       "      <td>4</td>\n",
       "      <td>1717000</td>\n",
       "      <td>5</td>\n",
       "      <td>2019</td>\n",
       "      <td>1</td>\n",
       "    </tr>\n",
       "    <tr>\n",
       "      <th>4</th>\n",
       "      <td>강원</td>\n",
       "      <td>강릉시</td>\n",
       "      <td>건강보조식품 소매업</td>\n",
       "      <td>강원</td>\n",
       "      <td>강릉시</td>\n",
       "      <td>40s</td>\n",
       "      <td>1</td>\n",
       "      <td>4</td>\n",
       "      <td>3</td>\n",
       "      <td>1047300</td>\n",
       "      <td>3</td>\n",
       "      <td>2019</td>\n",
       "      <td>1</td>\n",
       "    </tr>\n",
       "  </tbody>\n",
       "</table>\n",
       "</div>"
      ],
      "text/plain": [
       "  CARD_SIDO_NM CARD_CCG_NM STD_CLSS_NM HOM_SIDO_NM HOM_CCG_NM  AGE  \\\n",
       "0           강원         강릉시  건강보조식품 소매업          강원        강릉시  20s   \n",
       "1           강원         강릉시  건강보조식품 소매업          강원        강릉시  30s   \n",
       "2           강원         강릉시  건강보조식품 소매업          강원        강릉시  30s   \n",
       "3           강원         강릉시  건강보조식품 소매업          강원        강릉시  40s   \n",
       "4           강원         강릉시  건강보조식품 소매업          강원        강릉시  40s   \n",
       "\n",
       "   SEX_CTGO_CD  FLC  CSTMR_CNT      AMT  CNT  year  month  \n",
       "0            1    1          4   311200    4  2019      1  \n",
       "1            1    2          7  1374500    8  2019      1  \n",
       "2            2    2          6   818700    6  2019      1  \n",
       "3            1    3          4  1717000    5  2019      1  \n",
       "4            1    4          3  1047300    3  2019      1  "
      ]
     },
     "execution_count": 10,
     "metadata": {},
     "output_type": "execute_result"
    }
   ],
   "source": [
    "data.head()"
   ]
  },
  {
   "cell_type": "code",
   "execution_count": null,
   "metadata": {},
   "outputs": [],
   "source": []
  },
  {
   "cell_type": "code",
   "execution_count": null,
   "metadata": {},
   "outputs": [],
   "source": [
    "city_count= data.groupby(['CARD_SIDO_NM','CARD_CCG_NM'])['STD_CLSS_NM'].value_counts().reset_index(name='count')\n",
    "city_count.head()"
   ]
  },
  {
   "cell_type": "code",
   "execution_count": null,
   "metadata": {},
   "outputs": [],
   "source": [
    "# 사실상 시,군,구 변수는 활용을 할 수 없기때문에 도별로 접근하는 것이 좋을 것으로 보인다.\n",
    "city_sum = city_count.groupby(['CARD_SIDO_NM','STD_CLSS_NM'])['count'].sum().reset_index(name='sum')\n",
    "city_sum.head()"
   ]
  },
  {
   "cell_type": "code",
   "execution_count": null,
   "metadata": {},
   "outputs": [],
   "source": []
  },
  {
   "cell_type": "code",
   "execution_count": 8,
   "metadata": {},
   "outputs": [],
   "source": [
    "# 데이터 정제\n",
    "df = data.copy()\n",
    "df = df.drop(['CARD_CCG_NM', 'HOM_CCG_NM'], axis=1)\n",
    "\n",
    "columns = ['CARD_SIDO_NM', 'STD_CLSS_NM', 'HOM_SIDO_NM', 'AGE', 'SEX_CTGO_CD', 'FLC', 'year', 'month']\n",
    "df = df.groupby(columns).sum().reset_index(drop=False)"
   ]
  },
  {
   "cell_type": "code",
   "execution_count": 9,
   "metadata": {},
   "outputs": [],
   "source": [
    "# 인코딩\n",
    "dtypes = df.dtypes\n",
    "encoders = {}\n",
    "for column in df.columns:\n",
    "    if str(dtypes[column]) == 'object':\n",
    "        encoder = LabelEncoder()\n",
    "        encoder.fit(df[column])\n",
    "        encoders[column] = encoder\n",
    "        \n",
    "df_num = df.copy()        \n",
    "for column in encoders.keys():\n",
    "    encoder = encoders[column]\n",
    "    df_num[column] = encoder.transform(df[column])"
   ]
  },
  {
   "cell_type": "markdown",
   "metadata": {},
   "source": [
    "## 3. 탐색적 자료분석\n",
    "## Exploratory Data Analysis"
   ]
  },
  {
   "cell_type": "code",
   "execution_count": 9,
   "metadata": {},
   "outputs": [],
   "source": [
    "# 입력하세요."
   ]
  },
  {
   "cell_type": "markdown",
   "metadata": {},
   "source": [
    "## 4. 변수 선택 및 모델 구축\n",
    "## Feature Engineering & Initial Modeling  "
   ]
  },
  {
   "cell_type": "code",
   "execution_count": 10,
   "metadata": {},
   "outputs": [],
   "source": [
    "# feature, target 설정\n",
    "train_num = df_num.sample(frac=1, random_state=0)\n",
    "x = train_num.drop(['CSTMR_CNT', 'AMT', 'CNT'], axis=1)\n",
    "y = np.log1p(train_num['AMT'])"
   ]
  },
  {
   "cell_type": "code",
   "execution_count": 11,
   "metadata": {},
   "outputs": [],
   "source": [
    "k = int(len(x)*0.9)"
   ]
  },
  {
   "cell_type": "code",
   "execution_count": 12,
   "metadata": {},
   "outputs": [],
   "source": [
    "x_train = x[:k]\n",
    "y_train = y[:k]\n",
    "x_val = x[k:]\n",
    "y_val = y[k:]"
   ]
  },
  {
   "cell_type": "markdown",
   "metadata": {},
   "source": [
    "## 5. 모델 학습 및 검증\n",
    "## Model Tuning & Evaluation"
   ]
  },
  {
   "cell_type": "code",
   "execution_count": 13,
   "metadata": {},
   "outputs": [],
   "source": [
    "import lightgbm as lgb"
   ]
  },
  {
   "cell_type": "code",
   "execution_count": 14,
   "metadata": {},
   "outputs": [],
   "source": [
    "train_ds = lgb.Dataset(x_train, label=y_train)\n",
    "val_ds = lgb.Dataset(x_val, label=y_val)"
   ]
  },
  {
   "cell_type": "code",
   "execution_count": 15,
   "metadata": {},
   "outputs": [],
   "source": [
    "params = {\n",
    "            'learning_rate' : 0.05,\n",
    "            'boosting_type': 'gbdt',\n",
    "            'objective': 'tweedie',\n",
    "            'tweedie_variance_power': 1.1,\n",
    "            'metric': 'rmse',\n",
    "            'sub_row' : 0.75,\n",
    "            'lambda_l2' : 0.1\n",
    "        }"
   ]
  },
  {
   "cell_type": "code",
   "execution_count": 16,
   "metadata": {
    "scrolled": true
   },
   "outputs": [
    {
     "name": "stdout",
     "output_type": "stream",
     "text": [
      "Training until validation scores don't improve for 100 rounds\n",
      "[100]\tvalid_0's rmse: 1.98152\n",
      "[200]\tvalid_0's rmse: 1.81073\n",
      "[300]\tvalid_0's rmse: 1.68877\n",
      "[400]\tvalid_0's rmse: 1.6029\n",
      "[500]\tvalid_0's rmse: 1.51398\n",
      "[600]\tvalid_0's rmse: 1.44908\n",
      "[700]\tvalid_0's rmse: 1.39724\n",
      "[800]\tvalid_0's rmse: 1.35602\n",
      "[900]\tvalid_0's rmse: 1.31433\n",
      "[1000]\tvalid_0's rmse: 1.27941\n",
      "Did not meet early stopping. Best iteration is:\n",
      "[1000]\tvalid_0's rmse: 1.27941\n"
     ]
    }
   ],
   "source": [
    "model = lgb.train(params,\n",
    "                  train_ds,\n",
    "                  1000,\n",
    "                  val_ds,\n",
    "                  verbose_eval = 100,\n",
    "                  early_stopping_rounds = 100\n",
    "                 )"
   ]
  },
  {
   "cell_type": "markdown",
   "metadata": {},
   "source": [
    "## 6. 결과 및 결언\n",
    "## Conclusion & Discussion"
   ]
  },
  {
   "cell_type": "code",
   "execution_count": 17,
   "metadata": {},
   "outputs": [],
   "source": [
    "# 예측 템플릿 만들기\n",
    "CARD_SIDO_NMs = df_num['CARD_SIDO_NM'].unique()\n",
    "STD_CLSS_NMs  = df_num['STD_CLSS_NM'].unique()\n",
    "HOM_SIDO_NMs  = df_num['HOM_SIDO_NM'].unique()\n",
    "AGEs          = df_num['AGE'].unique()\n",
    "SEX_CTGO_CDs  = df_num['SEX_CTGO_CD'].unique()\n",
    "FLCs          = df_num['FLC'].unique()\n",
    "years         = [2020]\n",
    "months        = [4, 7]\n",
    "\n",
    "temp = []\n",
    "for CARD_SIDO_NM in CARD_SIDO_NMs:\n",
    "    for STD_CLSS_NM in STD_CLSS_NMs:\n",
    "        for HOM_SIDO_NM in HOM_SIDO_NMs:\n",
    "            for AGE in AGEs:\n",
    "                for SEX_CTGO_CD in SEX_CTGO_CDs:\n",
    "                    for FLC in FLCs:\n",
    "                        for year in years:\n",
    "                            for month in months:\n",
    "                                temp.append([CARD_SIDO_NM, STD_CLSS_NM, HOM_SIDO_NM, AGE, SEX_CTGO_CD, FLC, year, month])\n",
    "temp = np.array(temp)\n",
    "temp = pd.DataFrame(data=temp, columns=x.columns)"
   ]
  },
  {
   "cell_type": "code",
   "execution_count": 18,
   "metadata": {},
   "outputs": [],
   "source": [
    "# 예측\n",
    "pred = model.predict(temp)\n",
    "pred = np.expm1(pred)\n",
    "temp['AMT'] = np.round(pred, 0)\n",
    "temp['REG_YYMM'] = temp['year']*100 + temp['month']\n",
    "temp = temp[['REG_YYMM', 'CARD_SIDO_NM', 'STD_CLSS_NM', 'AMT']]\n",
    "temp = temp.groupby(['REG_YYMM', 'CARD_SIDO_NM', 'STD_CLSS_NM']).sum().reset_index(drop=False)"
   ]
  },
  {
   "cell_type": "code",
   "execution_count": 19,
   "metadata": {},
   "outputs": [],
   "source": [
    "# 디코딩 \n",
    "temp['CARD_SIDO_NM'] = encoders['CARD_SIDO_NM'].inverse_transform(temp['CARD_SIDO_NM'])\n",
    "temp['STD_CLSS_NM'] = encoders['STD_CLSS_NM'].inverse_transform(temp['STD_CLSS_NM'])"
   ]
  },
  {
   "cell_type": "code",
   "execution_count": 20,
   "metadata": {},
   "outputs": [
    {
     "data": {
      "text/html": [
       "<div>\n",
       "<style scoped>\n",
       "    .dataframe tbody tr th:only-of-type {\n",
       "        vertical-align: middle;\n",
       "    }\n",
       "\n",
       "    .dataframe tbody tr th {\n",
       "        vertical-align: top;\n",
       "    }\n",
       "\n",
       "    .dataframe thead th {\n",
       "        text-align: right;\n",
       "    }\n",
       "</style>\n",
       "<table border=\"1\" class=\"dataframe\">\n",
       "  <thead>\n",
       "    <tr style=\"text-align: right;\">\n",
       "      <th></th>\n",
       "      <th>REG_YYMM</th>\n",
       "      <th>CARD_SIDO_NM</th>\n",
       "      <th>STD_CLSS_NM</th>\n",
       "      <th>AMT</th>\n",
       "    </tr>\n",
       "  </thead>\n",
       "  <tbody>\n",
       "    <tr>\n",
       "      <th>0</th>\n",
       "      <td>202004</td>\n",
       "      <td>강원</td>\n",
       "      <td>건강보조식품 소매업</td>\n",
       "      <td>2.353337e+08</td>\n",
       "    </tr>\n",
       "    <tr>\n",
       "      <th>1</th>\n",
       "      <td>202004</td>\n",
       "      <td>강원</td>\n",
       "      <td>골프장 운영업</td>\n",
       "      <td>1.601208e+09</td>\n",
       "    </tr>\n",
       "    <tr>\n",
       "      <th>2</th>\n",
       "      <td>202004</td>\n",
       "      <td>강원</td>\n",
       "      <td>과실 및 채소 소매업</td>\n",
       "      <td>6.451061e+08</td>\n",
       "    </tr>\n",
       "    <tr>\n",
       "      <th>3</th>\n",
       "      <td>202004</td>\n",
       "      <td>강원</td>\n",
       "      <td>관광 민예품 및 선물용품 소매업</td>\n",
       "      <td>6.329203e+07</td>\n",
       "    </tr>\n",
       "    <tr>\n",
       "      <th>4</th>\n",
       "      <td>202004</td>\n",
       "      <td>강원</td>\n",
       "      <td>그외 기타 분류안된 오락관련 서비스업</td>\n",
       "      <td>2.724102e+07</td>\n",
       "    </tr>\n",
       "  </tbody>\n",
       "</table>\n",
       "</div>"
      ],
      "text/plain": [
       "   REG_YYMM CARD_SIDO_NM           STD_CLSS_NM           AMT\n",
       "0    202004           강원            건강보조식품 소매업  2.353337e+08\n",
       "1    202004           강원               골프장 운영업  1.601208e+09\n",
       "2    202004           강원           과실 및 채소 소매업  6.451061e+08\n",
       "3    202004           강원     관광 민예품 및 선물용품 소매업  6.329203e+07\n",
       "4    202004           강원  그외 기타 분류안된 오락관련 서비스업  2.724102e+07"
      ]
     },
     "execution_count": 20,
     "metadata": {},
     "output_type": "execute_result"
    }
   ],
   "source": [
    "temp.head()"
   ]
  },
  {
   "cell_type": "code",
   "execution_count": null,
   "metadata": {},
   "outputs": [],
   "source": [
    "print(\"ACC : \", accuracy_score(y_test, pred))"
   ]
  },
  {
   "cell_type": "code",
   "execution_count": null,
   "metadata": {},
   "outputs": [],
   "source": []
  },
  {
   "cell_type": "code",
   "execution_count": null,
   "metadata": {},
   "outputs": [],
   "source": [
    "# 제출 파일 만들기\n",
    "submission = pd.read_csv('data/submission.csv', index_col=0)\n",
    "submission = submission.drop(['AMT'], axis=1)\n",
    "submission = submission.merge(temp, left_on=['REG_YYMM', 'CARD_SIDO_NM', 'STD_CLSS_NM'], right_on=['REG_YYMM', 'CARD_SIDO_NM', 'STD_CLSS_NM'], how='left')\n",
    "submission.index.name = 'id'\n",
    "submission.to_csv('submission.csv', encoding='utf-8-sig')\n",
    "submission.head()"
   ]
  },
  {
   "cell_type": "code",
   "execution_count": null,
   "metadata": {},
   "outputs": [],
   "source": []
  }
 ],
 "metadata": {
  "kernelspec": {
   "display_name": "tf",
   "language": "python",
   "name": "tf"
  },
  "language_info": {
   "codemirror_mode": {
    "name": "ipython",
    "version": 3
   },
   "file_extension": ".py",
   "mimetype": "text/x-python",
   "name": "python",
   "nbconvert_exporter": "python",
   "pygments_lexer": "ipython3",
   "version": "3.7.7"
  }
 },
 "nbformat": 4,
 "nbformat_minor": 4
}
