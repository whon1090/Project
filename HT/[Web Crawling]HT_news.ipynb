{
 "cells": [
  {
   "cell_type": "code",
   "execution_count": 7,
   "metadata": {},
   "outputs": [],
   "source": [
    "#import module\n",
    "\n",
    "#python defalut module\n",
    "import time\n",
    "import re\n",
    "import os\n",
    "from datetime import datetime,timedelta\n",
    "from IPython.display import Image\n",
    "\n",
    "import pandas as pd\n",
    "import numpy as np\n",
    "\n",
    "import urllib3\n",
    "from bs4 import BeautifulSoup\n",
    "import requests\n",
    "\n",
    "import selenium\n",
    "\n",
    "from selenium import webdriver\n",
    "from selenium.webdriver.common.keys import Keys\n",
    "from selenium.webdriver.support.ui import Select\n",
    "\n",
    "import warnings\n",
    "warnings.filterwarnings(action='ignore')"
   ]
  },
  {
   "cell_type": "markdown",
   "metadata": {},
   "source": [
    "### 현대 트랜시스 뉴스 크롤링  \n",
    "> 네이버 뉴스 통합검색으로 진행\n",
    ">\n",
    "> 통합검색시 page, start date, end date 설정\n",
    ">\n",
    "> 네이버 기사 제목 + URL + 기사검색시 요약본 3가지를 추출\n",
    ">\n",
    "> 네이버 뉴스란 클릭하면 네이버 뉴스로만 들어가짐 해당 기사 긁어오기"
   ]
  },
  {
   "cell_type": "markdown",
   "metadata": {},
   "source": [
    "날짜 형식 yyyy.mm.dd로 입력? \n",
    "  \n",
    "input data를 설정해야함(시작 날짜, 종료날짜, 검색어) 3개로 선정?"
   ]
  },
  {
   "cell_type": "markdown",
   "metadata": {},
   "source": [
    "### 검색어 Input"
   ]
  },
  {
   "cell_type": "markdown",
   "metadata": {},
   "source": [
    "검색어의 경우 기존의 재경본부에서 진행하는 현대차그룹, 현대자동차, 기아자동차, 현대트랜시스 네 가지의 검색어를 동일하게 진행하였습니다.\n",
    "검색어를 선정해서 크롤링을 진행할 수 있게 작성하였고, 다른 검색어가 들어갈 경우 ERROR 코드로  \n",
    "검색어 input data 가 입력값을 벗어났습니다. 다시 입력해주세요.문구가 뜨게 작성하였습니다"
   ]
  },
  {
   "cell_type": "code",
   "execution_count": 8,
   "metadata": {},
   "outputs": [],
   "source": [
    "category = []\n",
    "defalut_category = ['현대차그룹' ,'현대자동차', '기아자동차' , '현대트랜시스'] # 검색어 범주 지정\n",
    "def select_keyword():\n",
    "    while True:\n",
    "        search_keywords = input(\"\"\"\n",
    "        크롤링 할 수 있는 검색어는 다음과 같습니다.\n",
    "        ------------------------------------------------------------\n",
    "        '현대차그룹' , '현대자동차', '기아자동차' , '현대트랜시스'\n",
    "        ------------------------------------------------------------\n",
    "        크롤링 할 분야를 최소 한가지 이상 선택하여 입력해 주세요. 띄어쓰기로 구분합니다.\n",
    "        입력:\"\"\")\n",
    "\n",
    "        input_keyword = search_keywords.split()\n",
    "        is_keyword = True\n",
    "        for input_data in input_keyword:\n",
    "            if not input_data in defalut_category:\n",
    "                print('검색어' +input_data + \" 가 입력값을 벗어났습니다. 다시 입력해주세요.\")\n",
    "                is_keyword = False\n",
    "                break\n",
    "        if is_keyword is True:\n",
    "            break\n",
    "            \n",
    "    category.extend(input_keyword)\n",
    "    return input_keyword"
   ]
  },
  {
   "cell_type": "code",
   "execution_count": 9,
   "metadata": {},
   "outputs": [
    {
     "name": "stdout",
     "output_type": "stream",
     "text": [
      "\n",
      "        크롤링 할 수 있는 검색어는 다음과 같습니다.\n",
      "        ------------------------------------------------------------\n",
      "        '현대차그룹' , '현대자동차', '기아자동차' , '현대트랜시스'\n",
      "        ------------------------------------------------------------\n",
      "        크롤링 할 분야를 최소 한가지 이상 선택하여 입력해 주세요. 띄어쓰기로 구분합니다.\n",
      "        입력:현대차그룹 현대자동차 현대트랜시스\n"
     ]
    },
    {
     "data": {
      "text/plain": [
       "['현대차그룹', '현대자동차', '현대트랜시스']"
      ]
     },
     "execution_count": 9,
     "metadata": {},
     "output_type": "execute_result"
    }
   ],
   "source": [
    "select_keyword()"
   ]
  },
  {
   "cell_type": "markdown",
   "metadata": {},
   "source": [
    "1일 검색어 기준"
   ]
  },
  {
   "cell_type": "code",
   "execution_count": 4,
   "metadata": {},
   "outputs": [],
   "source": [
    "title_list =[] # 제목을 저장하기 위한 list\n",
    "url_list = [] # URL을 저장하기 위한 list\n",
    "summary_list = [] # 날짜를 저장하기 위한 list\n",
    "date_list = []\n",
    "\n",
    "def Crawl(category):\n",
    "    keywords = select_keyword()\n",
    "    for keyword in keywords:\n",
    "        page = f'https://search.naver.com/search.naver?where=news&query={keywords}&sm=tab_opt&sort=0&photo=0&field=0&reporter_article=&pd=4&ds=&de=&docid=&nso=so%3Ar%2Cp%3A1d%2Ca%3Aall&mynews=0&refresh_start=0&related=0'\n",
    "        res = requests.get(page, headers={'User-Agent':\n",
    "                                  (\"Mozilla/5.0 (Windows NT 10.0; Win64; x64) \"\n",
    "                                   \"AppleWebKit/537.36 (KHTML, like Gecko) Chrome/86.0.4240.75 Safari/537.36\")},\n",
    "                   verify = False) \n",
    "        news_html = BeautifulSoup(res.text,'html.parser')\n",
    "\n",
    "        content = news_html.select(\".group_news\") # 기사 본문 저장되어 있는 html주소 복사\n",
    "\n",
    "\n",
    "        news_area = content[0].select('.news_area') # 기사가 저장되어 있는 링크 추출\n",
    "\n",
    "        for area in range(len(news_area)) :\n",
    "            title_content = news_area[area].select('a')\n",
    "\n",
    "            # title content 안의 attr은 dictionary 형태기때문에 has_key함수 바탕으로 title여부를 확인하여 리스트를 뽑아낸다\n",
    "            for i in title_content : \n",
    "                if i.has_key('title') == True :\n",
    "                    title_list.append(i.attrs['title'])\n",
    "                else : continue\n",
    "\n",
    "            date_content = news_area[area].find_all('span',{'class':'info'})\n",
    "            news_date = date_content[0].get_text()\n",
    "\n",
    "        url_content = news_area[area].select('a')\n",
    "        for i in url_content :\n",
    "            url_list.append(i.attrs['href'])"
   ]
  },
  {
   "cell_type": "code",
   "execution_count": null,
   "metadata": {},
   "outputs": [],
   "source": []
  },
  {
   "cell_type": "code",
   "execution_count": 4,
   "metadata": {},
   "outputs": [],
   "source": [
    "title_list =[] # 제목을 저장하기 위한 list\n",
    "url_list = [] # URL을 저장하기 위한 list\n",
    "summary_list = [] # 날짜를 저장하기 위한 list\n",
    "\n",
    "def Crawl(category):\n",
    "    keywords = select_keyword()\n",
    "    for keyword in keywords:\n",
    "        page = f'https://search.naver.com/search.naver?where=news&sm=tab_jum&query={keyword}'\n",
    "        res = requests.get(page, headers={'User-Agent':\n",
    "                                  (\"Mozilla/5.0 (Windows NT 10.0; Win64; x64) \"\n",
    "                                   \"AppleWebKit/537.36 (KHTML, like Gecko) Chrome/86.0.4240.75 Safari/537.36\")},\n",
    "                   verify = False) \n",
    "        news_html = BeautifulSoup(res.text,'html.parser')\n",
    "        \n",
    "        content = news_html.select(\"#group_news\") # 기사 본문 저장되어 있는 html주소 복사\n",
    "\n",
    "\n",
    "        title_content = content[0].select('dt > a') # 기사가 저장되어 있는 링크 추출\n",
    "\n",
    "        for i in title_content :\n",
    "            title_list.append(i.attrs['title'])\n",
    "\n",
    "\n",
    "        url_content = content[0].select('dt > a')\n",
    "        for i in url_content :\n",
    "            url_list.append(i.attrs['href'])\n",
    "\n",
    "\n",
    "        summary_content = content[0].select('dl > dd')\n",
    "        for k in summary_content :\n",
    "            if str(k.attrs) == \"{'class': ['txt_inline']}\" :\n",
    "                continue\n",
    "\n",
    "            for target in k.find_all('span'): # 기사 본문에 추가로 저장되어 있는 각 class들 제거\n",
    "                target.extract()\n",
    "\n",
    "            for target in k.find_all('ul'): # 기사 본문에 추가로 저장되어 있는 각 class들 제거\n",
    "                target.extract()\n",
    "\n",
    "            for target in k.find_all('div'): # 기사 본문에 추가로 저장되어 있는 각 class들 제거\n",
    "                target.extract()\n",
    "\n",
    "            k = k.get_text().strip()\n",
    "\n",
    "            if not k  :\n",
    "                continue\n",
    "            summary_list.append(k)"
   ]
  },
  {
   "cell_type": "code",
   "execution_count": 5,
   "metadata": {},
   "outputs": [
    {
     "name": "stdout",
     "output_type": "stream",
     "text": [
      "\n",
      "        크롤링 할 수 있는 검색어는 다음과 같습니다.\n",
      "        ------------------------------------------------------------\n",
      "        '현대차그룹' , '현대자동차', '기아자동차' , '현대트랜시스'\n",
      "        ------------------------------------------------------------\n",
      "        크롤링 할 분야를 최소 한가지 이상 선택하여 입력해 주세요. 띄어쓰기로 구분합니다.\n",
      "        입력:현대트랜시스 현대차그룹\n"
     ]
    },
    {
     "ename": "IndexError",
     "evalue": "list index out of range",
     "output_type": "error",
     "traceback": [
      "\u001b[1;31m---------------------------------------------------------------------------\u001b[0m",
      "\u001b[1;31mIndexError\u001b[0m                                Traceback (most recent call last)",
      "\u001b[1;32m<ipython-input-5-1df3a6e79416>\u001b[0m in \u001b[0;36m<module>\u001b[1;34m\u001b[0m\n\u001b[1;32m----> 1\u001b[1;33m \u001b[0mCrawl\u001b[0m\u001b[1;33m(\u001b[0m\u001b[0mcategory\u001b[0m\u001b[1;33m)\u001b[0m\u001b[1;33m\u001b[0m\u001b[1;33m\u001b[0m\u001b[0m\n\u001b[0m",
      "\u001b[1;32m<ipython-input-4-8cbd3d3d9f5c>\u001b[0m in \u001b[0;36mCrawl\u001b[1;34m(data)\u001b[0m\n\u001b[0;32m     16\u001b[0m \u001b[1;33m\u001b[0m\u001b[0m\n\u001b[0;32m     17\u001b[0m \u001b[1;33m\u001b[0m\u001b[0m\n\u001b[1;32m---> 18\u001b[1;33m         \u001b[0mtitle_content\u001b[0m \u001b[1;33m=\u001b[0m \u001b[0mcontent\u001b[0m\u001b[1;33m[\u001b[0m\u001b[1;36m0\u001b[0m\u001b[1;33m]\u001b[0m\u001b[1;33m.\u001b[0m\u001b[0mselect\u001b[0m\u001b[1;33m(\u001b[0m\u001b[1;34m'dt > a'\u001b[0m\u001b[1;33m)\u001b[0m \u001b[1;31m# 기사가 저장되어 있는 링크 추출\u001b[0m\u001b[1;33m\u001b[0m\u001b[1;33m\u001b[0m\u001b[0m\n\u001b[0m\u001b[0;32m     19\u001b[0m \u001b[1;33m\u001b[0m\u001b[0m\n\u001b[0;32m     20\u001b[0m         \u001b[1;32mfor\u001b[0m \u001b[0mi\u001b[0m \u001b[1;32min\u001b[0m \u001b[0mtitle_content\u001b[0m \u001b[1;33m:\u001b[0m\u001b[1;33m\u001b[0m\u001b[1;33m\u001b[0m\u001b[0m\n",
      "\u001b[1;31mIndexError\u001b[0m: list index out of range"
     ]
    }
   ],
   "source": [
    "Crawl(category)"
   ]
  },
  {
   "cell_type": "code",
   "execution_count": 42,
   "metadata": {},
   "outputs": [],
   "source": [
    "def date_preprocessing(date) :\n",
    "    \n",
    "    date = date.get_text() #날짜 추출\n",
    "\n",
    "    if '시간' in date : # 날짜가 n시간 전으로 표기될 경우 문자열 처리\n",
    "        date_find = re.findall(r'\\d+', date) \n",
    "        final_date = str(datetime.now() - timedelta(hours=int(date_find[0])))\n",
    "        date_list.append(final_date)\n",
    "\n",
    "    elif '분' in date : # 날짜가 n분 전으로 표기될 경우 문자열 처리\n",
    "        date_find = re.findall(r'\\d+', date)\n",
    "        final_date = str(datetime.now() - timedelta(minutes=int(date_find[0])))\n",
    "        date_list.append(final_date)\n",
    "\n",
    "    elif '일' in date: # 날짜가 n일 전으로 표기될 경우 문자열 처리\n",
    "        date_find = re.findall(r'\\d+', date)\n",
    "        final_date = str(datetime.now() - timedelta(days=int(date_find[0])))\n",
    "        date_list.append(final_date)    \n",
    "\n",
    "    elif bool(re.search(r'\\d{3,4}.\\d{1,2}.\\d{2}',date)) == True : # yyyy.mm.dd로 표기될 경우 처리\n",
    "        final_date = date.replace('.',\"-\")\n",
    "        date_list.append(final_date)"
   ]
  },
  {
   "cell_type": "code",
   "execution_count": 34,
   "metadata": {},
   "outputs": [],
   "source": [
    "title_list =[] # 제목을 저장하기 위한 list\n",
    "url_list = [] # URL을 저장하기 위한 list\n",
    "summary_list = [] # 날짜를 저장하기 위한 list\n",
    "date_list = []\n",
    "\n",
    "page = f'https://search.naver.com/search.naver?where=news&query=현대차그룹'\n",
    "res = requests.get(page, headers={'User-Agent':\n",
    "                          (\"Mozilla/5.0 (Windows NT 10.0; Win64; x64) \"\n",
    "                           \"AppleWebKit/537.36 (KHTML, like Gecko) Chrome/86.0.4240.75 Safari/537.36\")},\n",
    "           verify = False) \n",
    "news_html = BeautifulSoup(res.text,'html.parser')\n",
    "\n",
    "content = news_html.select(\".group_news\") # 기사 본문 저장되어 있는 html주소 복사\n",
    "\n",
    "\n",
    "news_area = content[0].select('.news_area') # 기사가 저장되어 있는 링크 추출\n",
    "\n",
    "for area in range(len(news_area)) :\n",
    "    title_content = news_area[area].select('a')\n",
    "\n",
    "    # title content 안의 attr은 dictionary 형태기때문에 has_key함수 바탕으로 title여부를 확인하여 리스트를 뽑아낸다\n",
    "    for i in title_content : \n",
    "        if i.has_key('title') == True :\n",
    "            title_list.append(i.attrs['title'])\n",
    "        else : continue\n",
    "\n",
    "    date_content = news_area[area].find_all('span',{'class':'info'})\n",
    "    news_date = date_content[0].get_text()\n",
    "\n",
    "url_content = news_area[area].select('a')\n",
    "for i in url_content :\n",
    "    url_list.append(i.attrs['href'])\n",
    "\n",
    "\n",
    "# summary_content = content[0].select('dl > dd')\n",
    "# for k in summary_content :\n",
    "#     if str(k.attrs) == \"{'class': ['txt_inline']}\" :\n",
    "#         continue\n",
    "\n",
    "#     for target in k.find_all('span'): # 기사 본문에 추가로 저장되어 있는 각 class들 제거\n",
    "#         target.extract()\n",
    "\n",
    "#     for target in k.find_all('ul'): # 기사 본문에 추가로 저장되어 있는 각 class들 제거\n",
    "#         target.extract()\n",
    "\n",
    "#     for target in k.find_all('div'): # 기사 본문에 추가로 저장되어 있는 각 class들 제거\n",
    "#         target.extract()\n",
    "\n",
    "#     k = k.get_text().strip()\n",
    "\n",
    "#     if not k  :\n",
    "#         continue\n",
    "#     summary_list.append(k)"
   ]
  },
  {
   "cell_type": "code",
   "execution_count": 35,
   "metadata": {},
   "outputs": [
    {
     "data": {
      "text/plain": [
       "['정의선 현대차 회장, 이건희 회장 영결식에도 달려왔다(종합)']"
      ]
     },
     "execution_count": 35,
     "metadata": {},
     "output_type": "execute_result"
    }
   ],
   "source": [
    "title_list"
   ]
  },
  {
   "cell_type": "code",
   "execution_count": 41,
   "metadata": {},
   "outputs": [
    {
     "data": {
      "text/plain": [
       "'20시간 전'"
      ]
     },
     "execution_count": 41,
     "metadata": {},
     "output_type": "execute_result"
    }
   ],
   "source": [
    "date_content = news_area[0].find_all('span',{'class':'info'})\n",
    "date_content[0].get_text()"
   ]
  },
  {
   "cell_type": "code",
   "execution_count": 36,
   "metadata": {},
   "outputs": [
    {
     "data": {
      "text/plain": [
       "[<a class=\"info press\" href=\"https://www.yna.co.kr/\" onclick=\"return goOtherCR(this, 'a=nws*h.prof&amp;r=1&amp;i=880000D8_000000000000000011977771&amp;g=001.0011977771&amp;u='+urlencode(this.href));\" target=\"_blank\"><span class=\"thumb_box\"><img alt=\"\" class=\"thumb\" height=\"20\" onerror=\"this.src='data:image/gif;base64,R0lGODlhAQABAIAAAAAAAP///yH5BAEAAAAALAAAAAABAAEAAAIBRAA7';this.className='thumb bg_default_press'\" src=\"https://search.pstatic.net/common/?src=https%3A%2F%2Fmimgnews.pstatic.net%2Fimage%2Fupload%2Foffice_logo%2F001%2F2017%2F06%2F29%2Flogo_001_18_20170629160329.png&amp;type=f54_54&amp;expire=24&amp;refresh=true\" width=\"20\"/></span>연합뉴스<i class=\"spnew ico_pick\">언론사 선정</i></a>,\n",
       " <a class=\"info\" href=\"https://news.naver.com/main/read.nhn?mode=LSD&amp;mid=sec&amp;sid1=101&amp;oid=001&amp;aid=0011977771\" onclick=\"return goOtherCR(this, 'a=nws*h.nav&amp;r=1&amp;i=880000D8_000000000000000011977771&amp;u='+urlencode(this.href));\" target=\"_blank\">네이버뉴스</a>,\n",
       " <a class=\"news_tit\" href=\"http://yna.kr/AKR20201028070351003?did=1195m\" onclick=\"return goOtherCR(this, 'a=nws*h.tit&amp;r=1&amp;i=880000D8_000000000000000011977771&amp;g=001.0011977771&amp;u='+urlencode(this.href));\" target=\"_blank\" title=\"정의선 현대차 회장, 이건희 회장 영결식에도 달려왔다(종합)\">정의선 <mark>현대차</mark> 회장, 이건희 회장 영결식에도 달려왔다(종합)</a>,\n",
       " <a class=\"api_txt_lines dsc_txt_wrap\" href=\"http://yna.kr/AKR20201028070351003?did=1195m\" onclick=\"return goOtherCR(this, 'a=nws*h.body&amp;r=1&amp;i=880000D8_000000000000000011977771&amp;g=001.0011977771&amp;u='+urlencode(this.href));\" target=\"_blank\">정 회장은 조문 후 취재진과 만나 \"너무 훌륭하신 분이 돌아가셔서 <mark>참</mark> 안타깝다\"며 \"고인께서 우리나라... 삼성은 1983년 이병철 회장의 '도쿄선언'을 통해 반도체 사업에 진출했고, <mark>현대</mark><mark>그룹</mark> 역시 같은 해 반도체 진출을...</a>]"
      ]
     },
     "execution_count": 36,
     "metadata": {},
     "output_type": "execute_result"
    }
   ],
   "source": [
    "title_content"
   ]
  },
  {
   "cell_type": "code",
   "execution_count": null,
   "metadata": {},
   "outputs": [],
   "source": [
    "title"
   ]
  },
  {
   "cell_type": "code",
   "execution_count": null,
   "metadata": {},
   "outputs": [],
   "source": []
  },
  {
   "cell_type": "code",
   "execution_count": null,
   "metadata": {},
   "outputs": [],
   "source": [
    " "
   ]
  },
  {
   "cell_type": "code",
   "execution_count": null,
   "metadata": {},
   "outputs": [],
   "source": []
  },
  {
   "cell_type": "code",
   "execution_count": null,
   "metadata": {},
   "outputs": [],
   "source": []
  },
  {
   "cell_type": "code",
   "execution_count": null,
   "metadata": {},
   "outputs": [],
   "source": []
  },
  {
   "cell_type": "markdown",
   "metadata": {},
   "source": [
    "## TEST"
   ]
  },
  {
   "cell_type": "code",
   "execution_count": 73,
   "metadata": {
    "scrolled": true
   },
   "outputs": [
    {
     "data": {
      "text/html": [
       "<div>\n",
       "<style scoped>\n",
       "    .dataframe tbody tr th:only-of-type {\n",
       "        vertical-align: middle;\n",
       "    }\n",
       "\n",
       "    .dataframe tbody tr th {\n",
       "        vertical-align: top;\n",
       "    }\n",
       "\n",
       "    .dataframe thead th {\n",
       "        text-align: right;\n",
       "    }\n",
       "</style>\n",
       "<table border=\"1\" class=\"dataframe\">\n",
       "  <thead>\n",
       "    <tr style=\"text-align: right;\">\n",
       "      <th></th>\n",
       "      <th>title</th>\n",
       "      <th>article</th>\n",
       "    </tr>\n",
       "  </thead>\n",
       "  <tbody>\n",
       "    <tr>\n",
       "      <th>0</th>\n",
       "      <td>`자율주행 우체국이 집앞까지` 비대면으로 접수하고, 배달받는다(종합)</td>\n",
       "      <td>&lt;div class=\"_article_body_contents\" id=\"articl...</td>\n",
       "    </tr>\n",
       "    <tr>\n",
       "      <th>1</th>\n",
       "      <td>장대환 매경 회장 \"MBN 불법 행위, 나는 몰랐다\"</td>\n",
       "      <td>&lt;div class=\"_article_body_contents\" id=\"articl...</td>\n",
       "    </tr>\n",
       "    <tr>\n",
       "      <th>2</th>\n",
       "      <td>文 \"나의아저씨·슈스케 제작한 케이블TV 뿌듯\"…25주년 시상식 개최</td>\n",
       "      <td>&lt;div class=\"_article_body_contents\" id=\"articl...</td>\n",
       "    </tr>\n",
       "    <tr>\n",
       "      <th>3</th>\n",
       "      <td>임플란트 표면 감염균 부착 막아줄 코팅 기술 개발</td>\n",
       "      <td>&lt;div class=\"_article_body_contents\" id=\"articl...</td>\n",
       "    </tr>\n",
       "    <tr>\n",
       "      <th>4</th>\n",
       "      <td>게임업계 “이젠 PC·콘솔보다 모바일”</td>\n",
       "      <td>&lt;div class=\"_article_body_contents\" id=\"articl...</td>\n",
       "    </tr>\n",
       "    <tr>\n",
       "      <th>5</th>\n",
       "      <td>맵퍼스-도로공사, “사고포착알리미 시행 후 돌발상황 인지 시간 단축”</td>\n",
       "      <td>&lt;div class=\"node_body cb\"&gt;맵퍼스는 아틀란 내비게이션 앱의 실시...</td>\n",
       "    </tr>\n",
       "    <tr>\n",
       "      <th>6</th>\n",
       "      <td>한국IBM, 뉴칼라 인재 육성 위한 무료 오픈 교육 플랫폼 발표</td>\n",
       "      <td>&lt;div class=\"node_body cb\"&gt;IBM이 디지털 뉴딜에 맞춤화된 뉴칼...</td>\n",
       "    </tr>\n",
       "    <tr>\n",
       "      <th>7</th>\n",
       "      <td>2020 하반기 기업 채용, 오픈소스 전문가에 눈 뜨다</td>\n",
       "      <td>&lt;div class=\"node_body cb\"&gt;모든 이들에게 험난한 한 해였다. 그...</td>\n",
       "    </tr>\n",
       "    <tr>\n",
       "      <th>8</th>\n",
       "      <td>IDG 블로그 | 클라우드옵스가 잘 안되는 이유</td>\n",
       "      <td>&lt;div class=\"node_body cb\"&gt;클라우드 운영, 즉 클라우드옵스(Cl...</td>\n",
       "    </tr>\n",
       "    <tr>\n",
       "      <th>9</th>\n",
       "      <td>마인즈랩 유태준 대표 \"AI 분야 넷플릭스 되겠다\"</td>\n",
       "      <td>&lt;figure class=\"view_cont_img_jpg\"&gt;&lt;span class=...</td>\n",
       "    </tr>\n",
       "    <tr>\n",
       "      <th>10</th>\n",
       "      <td>한화생명, AI 기반 보이스피싱 경보 시스템 구축</td>\n",
       "      <td>&lt;figure class=\"view_cont_img_jpg\"&gt;&lt;span class=...</td>\n",
       "    </tr>\n",
       "    <tr>\n",
       "      <th>11</th>\n",
       "      <td>中 AI연구 활기…논문 인용순위 美이어 2위</td>\n",
       "      <td>&lt;figure class=\"view_cont_img_jpg\"&gt;&lt;span class=...</td>\n",
       "    </tr>\n",
       "    <tr>\n",
       "      <th>12</th>\n",
       "      <td>장홍성 SK텔 단장 \"AI시대, 요리사보다 재료가 더 중요\"</td>\n",
       "      <td>&lt;figure class=\"view_cont_img_jpg\"&gt;&lt;span class=...</td>\n",
       "    </tr>\n",
       "    <tr>\n",
       "      <th>13</th>\n",
       "      <td>MS, 노코드 기계학습 개발 서비스 미리보기 버전 출시</td>\n",
       "      <td>&lt;figure class=\"view_cont_img_jpg\"&gt;&lt;span class=...</td>\n",
       "    </tr>\n",
       "    <tr>\n",
       "      <th>14</th>\n",
       "      <td>어도비, C3.ai·MS와 AI 기반 CRM 플랫폼 공동 출시</td>\n",
       "      <td>&lt;figure class=\"view_cont_img_jpg\"&gt;&lt;span class=...</td>\n",
       "    </tr>\n",
       "    <tr>\n",
       "      <th>15</th>\n",
       "      <td>제이엘케이, 세계최대 폐질환 컨퍼런스서 시선</td>\n",
       "      <td>&lt;figure class=\"view_cont_img_jpg\"&gt;&lt;span class=...</td>\n",
       "    </tr>\n",
       "    <tr>\n",
       "      <th>16</th>\n",
       "      <td>엔씨소프트 찾은 국민의힘, AI와 일자리 논의</td>\n",
       "      <td>&lt;figure class=\"view_cont_img_jpg\"&gt;&lt;span class=...</td>\n",
       "    </tr>\n",
       "    <tr>\n",
       "      <th>17</th>\n",
       "      <td>AI로 숨겨진 물질 발견하고 예측한다</td>\n",
       "      <td>&lt;figure class=\"view_cont_img_jpg\"&gt;&lt;span class=...</td>\n",
       "    </tr>\n",
       "    <tr>\n",
       "      <th>18</th>\n",
       "      <td>KB손해보험, AI 기반 보험사기 탐지 시스템 개발</td>\n",
       "      <td>&lt;figure class=\"view_cont_img_jpg\"&gt;&lt;span class=...</td>\n",
       "    </tr>\n",
       "    <tr>\n",
       "      <th>19</th>\n",
       "      <td>셀바스AI, 머신러닝 기반 전립선암 생존 연구 대한암학회 학술지 게재</td>\n",
       "      <td>&lt;figure class=\"view_cont_img_jpg\"&gt;&lt;span class=...</td>\n",
       "    </tr>\n",
       "    <tr>\n",
       "      <th>20</th>\n",
       "      <td>카카오벤처스, AI 영어회화 '플랭' 5억원 투자</td>\n",
       "      <td>&lt;figure class=\"view_cont_img_jpg\"&gt;&lt;span class=...</td>\n",
       "    </tr>\n",
       "    <tr>\n",
       "      <th>21</th>\n",
       "      <td>크라우드웍스, 데이터 라벨러 누적 지급 수익 30억 돌파</td>\n",
       "      <td>&lt;figure class=\"view_cont_img_jpg\"&gt;&lt;span class=...</td>\n",
       "    </tr>\n",
       "    <tr>\n",
       "      <th>22</th>\n",
       "      <td>“100만 명 참여한 폴딩앳홈(F@h) 분산형 슈퍼컴 프로젝트, 코로나19 단서 찾았다”</td>\n",
       "      <td>&lt;div class=\"node_body cb\"&gt;&lt;strong&gt;크라우드 소싱으로 구축...</td>\n",
       "    </tr>\n",
       "    <tr>\n",
       "      <th>23</th>\n",
       "      <td>더 스마트한 컴퓨팅··· ‘엣지 애널리틱스’가 견인한다</td>\n",
       "      <td>&lt;div class=\"node_body cb\"&gt;&lt;strong&gt;실시간 애널리틱스 분야...</td>\n",
       "    </tr>\n",
       "  </tbody>\n",
       "</table>\n",
       "</div>"
      ],
      "text/plain": [
       "                                                title  \\\n",
       "0              `자율주행 우체국이 집앞까지` 비대면으로 접수하고, 배달받는다(종합)   \n",
       "1                       장대환 매경 회장 \"MBN 불법 행위, 나는 몰랐다\"   \n",
       "2              文 \"나의아저씨·슈스케 제작한 케이블TV 뿌듯\"…25주년 시상식 개최   \n",
       "3                         임플란트 표면 감염균 부착 막아줄 코팅 기술 개발   \n",
       "4                               게임업계 “이젠 PC·콘솔보다 모바일”   \n",
       "5              맵퍼스-도로공사, “사고포착알리미 시행 후 돌발상황 인지 시간 단축”   \n",
       "6                 한국IBM, 뉴칼라 인재 육성 위한 무료 오픈 교육 플랫폼 발표   \n",
       "7                      2020 하반기 기업 채용, 오픈소스 전문가에 눈 뜨다   \n",
       "8                          IDG 블로그 | 클라우드옵스가 잘 안되는 이유   \n",
       "9                        마인즈랩 유태준 대표 \"AI 분야 넷플릭스 되겠다\"   \n",
       "10                        한화생명, AI 기반 보이스피싱 경보 시스템 구축   \n",
       "11                           中 AI연구 활기…논문 인용순위 美이어 2위   \n",
       "12                  장홍성 SK텔 단장 \"AI시대, 요리사보다 재료가 더 중요\"   \n",
       "13                     MS, 노코드 기계학습 개발 서비스 미리보기 버전 출시   \n",
       "14                 어도비, C3.ai·MS와 AI 기반 CRM 플랫폼 공동 출시   \n",
       "15                           제이엘케이, 세계최대 폐질환 컨퍼런스서 시선   \n",
       "16                          엔씨소프트 찾은 국민의힘, AI와 일자리 논의   \n",
       "17                               AI로 숨겨진 물질 발견하고 예측한다   \n",
       "18                       KB손해보험, AI 기반 보험사기 탐지 시스템 개발   \n",
       "19             셀바스AI, 머신러닝 기반 전립선암 생존 연구 대한암학회 학술지 게재   \n",
       "20                        카카오벤처스, AI 영어회화 '플랭' 5억원 투자   \n",
       "21                    크라우드웍스, 데이터 라벨러 누적 지급 수익 30억 돌파   \n",
       "22  “100만 명 참여한 폴딩앳홈(F@h) 분산형 슈퍼컴 프로젝트, 코로나19 단서 찾았다”   \n",
       "23                     더 스마트한 컴퓨팅··· ‘엣지 애널리틱스’가 견인한다   \n",
       "\n",
       "                                              article  \n",
       "0   <div class=\"_article_body_contents\" id=\"articl...  \n",
       "1   <div class=\"_article_body_contents\" id=\"articl...  \n",
       "2   <div class=\"_article_body_contents\" id=\"articl...  \n",
       "3   <div class=\"_article_body_contents\" id=\"articl...  \n",
       "4   <div class=\"_article_body_contents\" id=\"articl...  \n",
       "5   <div class=\"node_body cb\">맵퍼스는 아틀란 내비게이션 앱의 실시...  \n",
       "6   <div class=\"node_body cb\">IBM이 디지털 뉴딜에 맞춤화된 뉴칼...  \n",
       "7   <div class=\"node_body cb\">모든 이들에게 험난한 한 해였다. 그...  \n",
       "8   <div class=\"node_body cb\">클라우드 운영, 즉 클라우드옵스(Cl...  \n",
       "9   <figure class=\"view_cont_img_jpg\"><span class=...  \n",
       "10  <figure class=\"view_cont_img_jpg\"><span class=...  \n",
       "11  <figure class=\"view_cont_img_jpg\"><span class=...  \n",
       "12  <figure class=\"view_cont_img_jpg\"><span class=...  \n",
       "13  <figure class=\"view_cont_img_jpg\"><span class=...  \n",
       "14  <figure class=\"view_cont_img_jpg\"><span class=...  \n",
       "15  <figure class=\"view_cont_img_jpg\"><span class=...  \n",
       "16  <figure class=\"view_cont_img_jpg\"><span class=...  \n",
       "17  <figure class=\"view_cont_img_jpg\"><span class=...  \n",
       "18  <figure class=\"view_cont_img_jpg\"><span class=...  \n",
       "19  <figure class=\"view_cont_img_jpg\"><span class=...  \n",
       "20  <figure class=\"view_cont_img_jpg\"><span class=...  \n",
       "21  <figure class=\"view_cont_img_jpg\"><span class=...  \n",
       "22  <div class=\"node_body cb\"><strong>크라우드 소싱으로 구축...  \n",
       "23  <div class=\"node_body cb\"><strong>실시간 애널리틱스 분야...  "
      ]
     },
     "execution_count": 73,
     "metadata": {},
     "output_type": "execute_result"
    }
   ],
   "source": [
    "final_df"
   ]
  },
  {
   "cell_type": "code",
   "execution_count": 66,
   "metadata": {},
   "outputs": [],
   "source": [
    "category = []\n",
    "defalut_category = ['현대차그룹' ,'현대자동차', '기아자동차' , '현대트랜시스']\n",
    "def select_keyword():\n",
    "    while True:\n",
    "        search_keywords = input(\"\"\"\n",
    "        크롤링 할 수 있는 검색어는 다음과 같습니다.\n",
    "        ------------------------------------------------------------\n",
    "        '현대차그룹' , '현대자동차', '기아자동차' , '현대트랜시스'\n",
    "        ------------------------------------------------------------\n",
    "        크롤링 할 분야를 최소 한가지 이상 선택하여 입력해 주세요. 띄어쓰기로 구분합니다.\n",
    "        입력:\"\"\")\n",
    "\n",
    "        input_keyword = search_keywords.split()\n",
    "        is_keyword = True\n",
    "        for input_data in input_keyword:\n",
    "            if not input_data in defalut_category:\n",
    "                print(input_data + \" 가 입력값을 벗어났습니다. 다시 입력해주세요.\")\n",
    "                is_keyword = False\n",
    "                break\n",
    "        if is_keyword is True:\n",
    "            break\n",
    "            \n",
    "    category.extend(input_keyword)\n",
    "    return input_keyword\n"
   ]
  },
  {
   "cell_type": "code",
   "execution_count": 80,
   "metadata": {},
   "outputs": [],
   "source": [
    "final_df.drop([1,2,3,4,5,6,7,9,11,14,15,16,18,20,21],axis=0,inplace=True)"
   ]
  },
  {
   "cell_type": "code",
   "execution_count": 69,
   "metadata": {},
   "outputs": [
    {
     "name": "stdout",
     "output_type": "stream",
     "text": [
      "\n",
      "        크롤링 할 수 있는 검색어는 다음과 같습니다.\n",
      "        ------------------------------------------------------------\n",
      "        '현대차그룹' , '현대자동차', '기아자동차' , '현대트랜시스'\n",
      "        ------------------------------------------------------------\n",
      "        크롤링 할 분야를 최소 한가지 이상 선택하여 입력해 주세요. 띄어쓰기로 구분합니다.\n",
      "        입력:현대트랜시스 현대차그룹\n"
     ]
    },
    {
     "data": {
      "text/plain": [
       "['현대트랜시스', '현대차그룹']"
      ]
     },
     "execution_count": 69,
     "metadata": {},
     "output_type": "execute_result"
    }
   ],
   "source": [
    "select_keyword()"
   ]
  },
  {
   "cell_type": "code",
   "execution_count": null,
   "metadata": {},
   "outputs": [],
   "source": [
    "date = soup.find_all(\"span\",{\"class\":bar})\n",
    "# 날짜가 기록된 태그 저장\n",
    "start_date = datetime.now() # 현재 날짜 저장\n",
    "\n",
    "for j in date :\n",
    "    date_list = j.get_text() #날짜 추출\n",
    "\n",
    "\n",
    "\n",
    "#     if '시간' in date_list : # 날짜가 n시간 전으로 표기될 경우 문자열 처리\n",
    "#         date_find = re.findall(r'\\d+', date_list) \n",
    "#         final_date = str(datetime.now() - timedelta(hours=int(date_find[0])))\n",
    "#         total_date.append(final_date)\n",
    "\n",
    "#     elif '분' in date_list : # 날짜가 n분 전으로 표기될 경우 문자열 처리\n",
    "#         date_find = re.findall(r'\\d+', date_list)\n",
    "#         final_date = str(datetime.now() - timedelta(minutes=int(date_find[0])))\n",
    "#         total_date.append(final_date)\n",
    "\n",
    "#     elif '일' in date_list: # 날짜가 n일 전으로 표기될 경우 문자열 처리\n",
    "#         date_find = re.findall(r'\\d+', date_list)\n",
    "#         final_date = str(datetime.now() - timedelta(days=int(date_find[0])))\n",
    "#         total_date.append(final_date)    \n",
    "\n",
    "#     elif bool(re.search(r'\\d{3,4}.\\d{1,2}.\\d{2}',date_list)) == True : # yyyy.mm.dd로 표기될 경우 처리\n",
    "#         final_date = date_list.replace('.',\"-\")\n",
    "#         total_date.append(final_date)"
   ]
  },
  {
   "cell_type": "code",
   "execution_count": null,
   "metadata": {},
   "outputs": [],
   "source": []
  },
  {
   "cell_type": "code",
   "execution_count": 58,
   "metadata": {},
   "outputs": [],
   "source": [
    "title_list =[] # 제목을 저장하기 위한 list\n",
    "url_list = [] # URL을 저장하기 위한 list\n",
    "summary_list = [] # 날짜를 저장하기 위한 list\n",
    "\n",
    "def Crawl(data):\n",
    "    keywords = select_keyword()\n",
    "    for keyword in keywords:\n",
    "        page = f'https://search.naver.com/search.naver?where=news&sm=tab_jum&query={keyword}'\n",
    "        res = requests.get(page, headers={'User-Agent':\n",
    "                                  (\"Mozilla/5.0 (Windows NT 10.0; Win64; x64) \"\n",
    "                                   \"AppleWebKit/537.36 (KHTML, like Gecko) Chrome/86.0.4240.75 Safari/537.36\")},\n",
    "                   verify = False) \n",
    "        news_html = BeautifulSoup(res.text,'html.parser')\n",
    "        \n",
    "        content = news_html.select(\".type01\") # 기사 본문 저장되어 있는 html주소 복사\n",
    "\n",
    "\n",
    "        title_content = content[0].select('dt > a') # 기사가 저장되어 있는 링크 추출\n",
    "\n",
    "        for i in title_content :\n",
    "            title_list.append(i.attrs['title'])\n",
    "\n",
    "\n",
    "        url_content = content[0].select('dt > a')\n",
    "        for i in url_content :\n",
    "            url_list.append(i.attrs['href'])\n",
    "\n",
    "\n",
    "        summary_content = content[0].select('dl > dd')\n",
    "        for k in summary_content :\n",
    "            if str(k.attrs) == \"{'class': ['txt_inline']}\" :\n",
    "                continue\n",
    "\n",
    "            for target in k.find_all('span'): # 기사 본문에 추가로 저장되어 있는 각 class들 제거\n",
    "                target.extract()\n",
    "\n",
    "            for target in k.find_all('ul'): # 기사 본문에 추가로 저장되어 있는 각 class들 제거\n",
    "                target.extract()\n",
    "\n",
    "            for target in k.find_all('div'): # 기사 본문에 추가로 저장되어 있는 각 class들 제거\n",
    "                target.extract()\n",
    "\n",
    "            k = k.get_text().strip()\n",
    "\n",
    "            if not k  :\n",
    "                continue\n",
    "            summary_list.append(k)"
   ]
  },
  {
   "cell_type": "code",
   "execution_count": 59,
   "metadata": {},
   "outputs": [
    {
     "ename": "TypeError",
     "evalue": "Crawl() missing 1 required positional argument: 'data'",
     "output_type": "error",
     "traceback": [
      "\u001b[1;31m---------------------------------------------------------------------------\u001b[0m",
      "\u001b[1;31mTypeError\u001b[0m                                 Traceback (most recent call last)",
      "\u001b[1;32m<ipython-input-59-956a38185091>\u001b[0m in \u001b[0;36m<module>\u001b[1;34m\u001b[0m\n\u001b[1;32m----> 1\u001b[1;33m \u001b[0mCrawl\u001b[0m\u001b[1;33m(\u001b[0m\u001b[1;33m)\u001b[0m\u001b[1;33m\u001b[0m\u001b[1;33m\u001b[0m\u001b[0m\n\u001b[0m",
      "\u001b[1;31mTypeError\u001b[0m: Crawl() missing 1 required positional argument: 'data'"
     ]
    }
   ],
   "source": [
    "Crawl()"
   ]
  },
  {
   "cell_type": "code",
   "execution_count": 50,
   "metadata": {},
   "outputs": [],
   "source": [
    "title_list =[] # 제목을 저장하기 위한 list\n",
    "url_list = [] # URL을 저장하기 위한 list\n",
    "date_list = [] # 날짜를 저장하기 위한 list\n",
    "summary_list = []\n",
    "\n",
    "test = '현대트랜시스'\n",
    "page = f'https://search.naver.com/search.naver?where=news&sm=tab_jum&query={test}'\n",
    "res = requests.get(page, headers={'User-Agent':\n",
    "                          (\"Mozilla/5.0 (Windows NT 10.0; Win64; x64) \"\n",
    "                           \"AppleWebKit/537.36 (KHTML, like Gecko) Chrome/86.0.4240.75 Safari/537.36\")},\n",
    "           verify = False) \n",
    "news_html = BeautifulSoup(res.text,'html.parser')\n",
    "\n",
    "content = news_html.select(\".type01\") # 기사 본문 저장되어 있는 html주소 복사\n",
    "\n",
    "\n",
    "title_content = content[0].select('dt > a') # 기사가 저장되어 있는 링크 추출\n",
    "\n",
    "for i in title_content :\n",
    "    title_list.append(i.attrs['title'])\n",
    "    \n",
    "\n",
    "url_content = content[0].select('dt > a')\n",
    "for i in url_content :\n",
    "    url_list.append(i.attrs['href'])\n",
    "    \n",
    "    \n",
    "summary_content = content[0].select('dl > dd')\n",
    "for k in summary_content :\n",
    "    if str(k.attrs) == \"{'class': ['txt_inline']}\" :\n",
    "        continue\n",
    "        \n",
    "    for target in k.find_all('span'): # 기사 본문에 추가로 저장되어 있는 각 class들 제거\n",
    "        target.extract()\n",
    "\n",
    "    for target in k.find_all('ul'): # 기사 본문에 추가로 저장되어 있는 각 class들 제거\n",
    "        target.extract()\n",
    "        \n",
    "    for target in k.find_all('div'): # 기사 본문에 추가로 저장되어 있는 각 class들 제거\n",
    "        target.extract()\n",
    "    \n",
    "    k = k.get_text().strip()\n",
    "    \n",
    "    if not k  :\n",
    "        continue\n",
    "    summary_list.append(k)"
   ]
  },
  {
   "cell_type": "code",
   "execution_count": 51,
   "metadata": {},
   "outputs": [
    {
     "name": "stdout",
     "output_type": "stream",
     "text": [
      "10\n",
      "10\n",
      "10\n"
     ]
    }
   ],
   "source": [
    "print(len(title_list))\n",
    "print(len(url_list))\n",
    "print(len(summary_list))"
   ]
  },
  {
   "cell_type": "code",
   "execution_count": 52,
   "metadata": {},
   "outputs": [],
   "source": [
    "df = pd.DataFrame({'title': title_list,'url':url_list,'summary':summary_list}) \n"
   ]
  },
  {
   "cell_type": "code",
   "execution_count": 53,
   "metadata": {},
   "outputs": [
    {
     "data": {
      "text/html": [
       "<div>\n",
       "<style scoped>\n",
       "    .dataframe tbody tr th:only-of-type {\n",
       "        vertical-align: middle;\n",
       "    }\n",
       "\n",
       "    .dataframe tbody tr th {\n",
       "        vertical-align: top;\n",
       "    }\n",
       "\n",
       "    .dataframe thead th {\n",
       "        text-align: right;\n",
       "    }\n",
       "</style>\n",
       "<table border=\"1\" class=\"dataframe\">\n",
       "  <thead>\n",
       "    <tr style=\"text-align: right;\">\n",
       "      <th></th>\n",
       "      <th>title</th>\n",
       "      <th>url</th>\n",
       "      <th>summary</th>\n",
       "    </tr>\n",
       "  </thead>\n",
       "  <tbody>\n",
       "    <tr>\n",
       "      <th>0</th>\n",
       "      <td>현대차, 친환경 사회공헌 캠페인 '언택트 펀 레이스' 실시</td>\n",
       "      <td>http://www.etnews.com/20201019000011</td>\n",
       "      <td>현대트랜시스로부터 제공받은 자동차 시트 폐자재를 재활용하고, 글로벌 재활용 컨설팅 ...</td>\n",
       "    </tr>\n",
       "    <tr>\n",
       "      <th>1</th>\n",
       "      <td>정의선, 현대차그룹 회장 취임 고사하다 결국 수락한 이유</td>\n",
       "      <td>https://www.hankyung.com/economy/article/20201...</td>\n",
       "      <td>실제 HMGICS의 경우 현대차와 기아차는 물론 현대모비스, 현대글로비스, 현대오토...</td>\n",
       "    </tr>\n",
       "    <tr>\n",
       "      <th>2</th>\n",
       "      <td>현대차 정의선체제 `3세 경영` 가속화</td>\n",
       "      <td>http://www.dt.co.kr/contents.html?article_no=2...</td>\n",
       "      <td>이번 사업에는 현대·기아차를 비롯해 현대모비스, 현대글로비스, 현대오토에버, 현대위...</td>\n",
       "    </tr>\n",
       "    <tr>\n",
       "      <th>3</th>\n",
       "      <td>현대차그룹 '싱가포르 글로벌 혁신센터' 기공</td>\n",
       "      <td>http://news.kbiz.or.kr/news/articleView.html?i...</td>\n",
       "      <td>현대·기아자동차 이외에도 현대모비스, 현대글로비스, 현대오토에버, 현대위아, 현대로...</td>\n",
       "    </tr>\n",
       "    <tr>\n",
       "      <th>4</th>\n",
       "      <td>[현대차 뉴리더십] 아킬레스건, 지배구조 개편 남았다</td>\n",
       "      <td>https://biz.chosun.com/site/data/html_dir/2020...</td>\n",
       "      <td>한편 계열사 개편 과정에서 현대엔지니어링과 현대트랜시스 등 일부 계열사의 사업 영역...</td>\n",
       "    </tr>\n",
       "    <tr>\n",
       "      <th>5</th>\n",
       "      <td>현대차의 혁신 실험, 싱가포르 글로벌 혁신센터 기공식 개최</td>\n",
       "      <td>http://it.chosun.com/site/data/html_dir/2020/1...</td>\n",
       "      <td>현대·기아자동차 이외에도 현대모비스, 현대글로비스, 현대오토에버, 현대위아, 현대로...</td>\n",
       "    </tr>\n",
       "    <tr>\n",
       "      <th>6</th>\n",
       "      <td>'코로나 넘어 리콜' 현대차, 또 실력 나올까</td>\n",
       "      <td>http://news.bizwatch.co.kr/article/industry/20...</td>\n",
       "      <td>한신평이 등급을 부여한 현대트랜시스, 현대위아, 현대케피코 3사는 올해 2분기 합산...</td>\n",
       "    </tr>\n",
       "    <tr>\n",
       "      <th>7</th>\n",
       "      <td>현대차그룹, 싱가포르 글로벌 혁신센터 기공식 개최</td>\n",
       "      <td>http://kr.aving.net/news/view.php?articleId=15...</td>\n",
       "      <td>현대·기아자동차 이외에도 현대모비스, 현대글로비스, 현대오토에버, 현대위아, 현대로...</td>\n",
       "    </tr>\n",
       "    <tr>\n",
       "      <th>8</th>\n",
       "      <td>현대자동차, 서울어린이대공원서 '언택트 펀 레이스'</td>\n",
       "      <td>http://www.safetimes.co.kr/news/articleView.ht...</td>\n",
       "      <td>현대트랜시스로부터 받은 자동차 시트 폐자재를 재활용해 글로벌 재활용 컨설팅 기업 테...</td>\n",
       "    </tr>\n",
       "    <tr>\n",
       "      <th>9</th>\n",
       "      <td>현대차그룹, ‘미래차 시험 무대’로 왜 동남아를 선택했나</td>\n",
       "      <td>https://www.dnews.co.kr/uhtml/view.jsp?idxno=2...</td>\n",
       "      <td>현대모비스, 현대글로비스, 현대오토에버, 현대위아, 현대로템, 현대트랜시스 등 그룹...</td>\n",
       "    </tr>\n",
       "  </tbody>\n",
       "</table>\n",
       "</div>"
      ],
      "text/plain": [
       "                              title  \\\n",
       "0  현대차, 친환경 사회공헌 캠페인 '언택트 펀 레이스' 실시   \n",
       "1   정의선, 현대차그룹 회장 취임 고사하다 결국 수락한 이유   \n",
       "2             현대차 정의선체제 `3세 경영` 가속화   \n",
       "3          현대차그룹 '싱가포르 글로벌 혁신센터' 기공   \n",
       "4     [현대차 뉴리더십] 아킬레스건, 지배구조 개편 남았다   \n",
       "5  현대차의 혁신 실험, 싱가포르 글로벌 혁신센터 기공식 개최   \n",
       "6         '코로나 넘어 리콜' 현대차, 또 실력 나올까   \n",
       "7       현대차그룹, 싱가포르 글로벌 혁신센터 기공식 개최   \n",
       "8      현대자동차, 서울어린이대공원서 '언택트 펀 레이스'   \n",
       "9   현대차그룹, ‘미래차 시험 무대’로 왜 동남아를 선택했나   \n",
       "\n",
       "                                                 url  \\\n",
       "0               http://www.etnews.com/20201019000011   \n",
       "1  https://www.hankyung.com/economy/article/20201...   \n",
       "2  http://www.dt.co.kr/contents.html?article_no=2...   \n",
       "3  http://news.kbiz.or.kr/news/articleView.html?i...   \n",
       "4  https://biz.chosun.com/site/data/html_dir/2020...   \n",
       "5  http://it.chosun.com/site/data/html_dir/2020/1...   \n",
       "6  http://news.bizwatch.co.kr/article/industry/20...   \n",
       "7  http://kr.aving.net/news/view.php?articleId=15...   \n",
       "8  http://www.safetimes.co.kr/news/articleView.ht...   \n",
       "9  https://www.dnews.co.kr/uhtml/view.jsp?idxno=2...   \n",
       "\n",
       "                                             summary  \n",
       "0  현대트랜시스로부터 제공받은 자동차 시트 폐자재를 재활용하고, 글로벌 재활용 컨설팅 ...  \n",
       "1  실제 HMGICS의 경우 현대차와 기아차는 물론 현대모비스, 현대글로비스, 현대오토...  \n",
       "2  이번 사업에는 현대·기아차를 비롯해 현대모비스, 현대글로비스, 현대오토에버, 현대위...  \n",
       "3  현대·기아자동차 이외에도 현대모비스, 현대글로비스, 현대오토에버, 현대위아, 현대로...  \n",
       "4  한편 계열사 개편 과정에서 현대엔지니어링과 현대트랜시스 등 일부 계열사의 사업 영역...  \n",
       "5  현대·기아자동차 이외에도 현대모비스, 현대글로비스, 현대오토에버, 현대위아, 현대로...  \n",
       "6  한신평이 등급을 부여한 현대트랜시스, 현대위아, 현대케피코 3사는 올해 2분기 합산...  \n",
       "7  현대·기아자동차 이외에도 현대모비스, 현대글로비스, 현대오토에버, 현대위아, 현대로...  \n",
       "8  현대트랜시스로부터 받은 자동차 시트 폐자재를 재활용해 글로벌 재활용 컨설팅 기업 테...  \n",
       "9  현대모비스, 현대글로비스, 현대오토에버, 현대위아, 현대로템, 현대트랜시스 등 그룹...  "
      ]
     },
     "execution_count": 53,
     "metadata": {},
     "output_type": "execute_result"
    }
   ],
   "source": [
    "df"
   ]
  },
  {
   "cell_type": "code",
   "execution_count": 18,
   "metadata": {
    "scrolled": false
   },
   "outputs": [
    {
     "name": "stdout",
     "output_type": "stream",
     "text": [
      "현대트랜시스로부터 제공받은 자동차 시트 폐자재를 재활용하고, 글로벌 재활용 컨설팅 기업 테라사이클이 재활용 연구개발(R&D) 및 트랙 제작을 담당한 러닝 트랙은 서울어린이대공원에 설치돼 어린이들이 마음껏...\n",
      "    현대차, 2020 롱기스트 런 파이널 이벤트 '언택트 펀 레이스' 실시  에이빙뉴스  2020.10.19.     현대차, '2020 롱기스트 런' 서울어린이대공원서 개최  이데일리  2020.10.19. 네이버뉴스     현대차, 2020 롱기스트 런 파이널 참가자 모집… 달리면서 환경 보호 실천  동아일보  2020.10.19. 네이버뉴스     현대차, 2020 롱기스트 런 파이널 이벤트 ‘언택트 펀 레이스’  e대한경제  2020.10.19.     관련뉴스 26건 전체보기  \n",
      "실제 HMGICS의 경우 현대차와 기아차는 물론 현대모비스, 현대글로비스, 현대오토에버, 현대위아, 현대로템, 현대트랜시스 등 현대차그룹 그룹사들이 대거 참여한다. 이들의 역량을 결집시키려면 책임경영이 가능한...\n",
      "    현대차그룹 ‘3세 경영’ 본격화…정의선 시대 포문  스카이데일리  2020.10.14.    \n",
      "이번 사업에는 현대·기아차를 비롯해 현대모비스, 현대글로비스, 현대오토에버, 현대위아, 현대로템, 현대트랜시스 등 그룹사들이 대거 참여한다. 한편 이날 기공식에는 싱가포르에서는 리센룽 총리, 안영집...\n",
      "    현대차, 싱가포르에 모빌리티 혁신기지  디지털타임스  2020.10.13. 네이버뉴스     정의선 \"인간 중심 밸류체인 혁신\"…현대차그룹, 싱가포르 글로벌 혁신센터 건...  디지털타임스  2020.10.13. 네이버뉴스    \n",
      "현대·기아자동차 이외에도 현대모비스, 현대글로비스, 현대오토에버, 현대위아, 현대로템, 현대트랜시스 등 현대자동차그룹 그룹사들이 대거 HMGICS에 참여한다. 베 스완 진 싱가포르 경제개발청(EDB)장은...\n",
      "    현대차 ‘미래 모빌리티 실험실’ 싱가포르 글로벌혁신센터 착공  한겨레  2020.10.13. 네이버뉴스     현대차, 싱가포르 혁신센터 기공식…미래 모빌리티 연구 기지된다  조선비즈  2020.10.13. 네이버뉴스     현대차그룹, 싱가포르 글로벌 혁신센터 본격 건립  조세일보  2020.10.13. 네이버뉴스     현대차그룹, ‘싱가포르 글로벌 혁신센터’ 건립… 미래 모빌리티 개발 전략 ...  동아일보  2020.10.13. 네이버뉴스     관련뉴스 23건 전체보기  \n",
      "한편 계열사 개편 과정에서 현대엔지니어링과 현대트랜시스 등 일부 계열사의 사업 영역을 조정하는 구조 개편도 동시에 이뤄질 가능성이 크다. [조귀동 기자 cao@chosunbiz.com] [ ]\n",
      "현대·기아자동차 이외에도 현대모비스, 현대글로비스, 현대오토에버, 현대위아, 현대로템, 현대트랜시스 등 현대차그룹 그룹사들이 대거 HMGICS에 참여한다. 베 스완 진 싱가포르 경제개발청(EDB)장은 \"현대차그룹은...\n",
      "    현대차그룹 싱가포르 글로벌 혁신센터 '첫삽'…\"가치사슬 혁신\"  뉴시스  2020.10.13. 네이버뉴스     현대차그룹, 싱가포르에 미래 모빌리티 연구기지 세운다  한국경제  2020.10.13. 네이버뉴스     현대차그룹 싱가포르 글로벌 혁신센터 '첫삽'…\"가치사슬 혁신\"(종합)  뉴시스  2020.10.13. 네이버뉴스     현대차그룹 싱가포르에 혁신센터 짓는다…미래 모빌리티 `가속화`  이데일리  2020.10.13. 네이버뉴스     관련뉴스 13건 전체보기  \n",
      "한신평이 등급을 부여한 현대트랜시스, 현대위아, 현대케피코 3사는 올해 2분기 합산 기준으로 765억원의 영업손실을 기록했다. 올 하반기 현대차와 기아차의 실적이 회복되면 부품사들도 동반 개선될 수 있지만...\n",
      "현대·기아자동차 이외에도 현대모비스, 현대글로비스, 현대오토에버, 현대위아, 현대로템, 현대트랜시스 등 현대차그룹 그룹사들이 대거 HMGICS에 참여한다. 베 스완 진 싱가포르 경제개발청(EDB)장은 \"현대차그룹은...\n",
      "    “미래 모빌리티 연구기지”… 현대차, 싱가포르 혁신센터 첫삽  국민일보  2020.10.14. 네이버뉴스     현대차그룹, 싱가포르에 혁신센터 건립…미래 모빌리티 전초기지 구축  스페셜경제  2020.10.14.     현대차그룹, 싱가포르 글로벌 혁신센터서 미래 모빌리티 패러다임 제시  아주경제  2020.10.14.     현대차, 싱가포르에 '미래 모빌리티' 혁신거점...아세안 전기차 시장 공략  포쓰저널  2020.10.14.     관련뉴스 5건 전체보기  \n",
      "현대트랜시스로부터 받은 자동차 시트 폐자재를 재활용해 글로벌 재활용 컨설팅 기업 테라사이클이 재활용 R&D와 트랙 제작했다. 러닝 트랙은 서울 어린이대공원에 설치돼 어린이들이 마음껏 뛰어놀 수 있도록...\n",
      "현대모비스, 현대글로비스, 현대오토에버, 현대위아, 현대로템, 현대트랜시스 등 그룹사도 대거 참여한다. 사실 동남아 자동차 시장은 워낙에 일본차 브랜드가 강세를 보이는 곳이라 그동안 국내 완성차 업체의...\n"
     ]
    }
   ],
   "source": [
    "summary_content = content[0].select('dl > dd')\n",
    "summary_content\n",
    "\n",
    "for i in summary_content :\n",
    "    if str(i.attrs) == \"{'class': ['txt_inline']}\" :\n",
    "        continue\n",
    "    print(i.get_text())\n"
   ]
  },
  {
   "cell_type": "code",
   "execution_count": 30,
   "metadata": {},
   "outputs": [
    {
     "data": {
      "text/plain": [
       "['https://news.naver.com/main/read.nhn?mode=LSD&mid=sec&sid1=103&oid=030&aid=0002907949',\n",
       " 'https://news.naver.com/main/read.nhn?mode=LSD&mid=sec&sid1=101&oid=015&aid=0004431285',\n",
       " 'https://news.naver.com/main/read.nhn?mode=LSD&mid=sec&sid1=101&oid=029&aid=0002629793',\n",
       " 'https://news.naver.com/main/read.nhn?mode=LSD&mid=sec&sid1=103&oid=366&aid=0000603102']"
      ]
     },
     "execution_count": 30,
     "metadata": {},
     "output_type": "execute_result"
    }
   ],
   "source": [
    "url_list"
   ]
  },
  {
   "cell_type": "code",
   "execution_count": 27,
   "metadata": {},
   "outputs": [
    {
     "data": {
      "text/plain": [
       "[\"현대차, 친환경 사회공헌 캠페인 '언택트 펀 레이스' 실시\",\n",
       " '정의선, 현대차그룹 회장 취임 고사하다 결국 수락한 이유',\n",
       " '현대차 정의선체제 `3세 경영` 가속화',\n",
       " \"현대차그룹 '싱가포르 글로벌 혁신센터' 기공\",\n",
       " '[현대차 뉴리더십] 아킬레스건, 지배구조 개편 남았다',\n",
       " '현대차의 혁신 실험, 싱가포르 글로벌 혁신센터 기공식 개최',\n",
       " \"'코로나 넘어 리콜' 현대차, 또 실력 나올까\",\n",
       " '현대차그룹, 싱가포르 글로벌 혁신센터 기공식 개최',\n",
       " \"현대자동차, 서울어린이대공원서 '언택트 펀 레이스'\",\n",
       " '현대차그룹, ‘미래차 시험 무대’로 왜 동남아를 선택했나']"
      ]
     },
     "execution_count": 27,
     "metadata": {},
     "output_type": "execute_result"
    }
   ],
   "source": [
    "title_list"
   ]
  },
  {
   "cell_type": "code",
   "execution_count": 17,
   "metadata": {},
   "outputs": [
    {
     "data": {
      "text/plain": [
       "[<a class=\"link_help\" href=\"https://help.naver.com/support/alias/search/word/word_1.naver\" onclick=\"return goOtherCR(this, 'a=rsk_top.guide&amp;r=&amp;i=&amp;u='+urlencode(urlexpand(this.href)));\" target=\"_blank\"><i class=\"sprenew api_ico_help\">도움말</i></a>,\n",
       " <a class=\"_sp_each_title\" href=\"http://www.etnews.com/20201019000011\" onclick=\"return goOtherCR(this, 'a=nws*h.tit&amp;r=1&amp;i=880000EA_000000000000000002907949&amp;g=030.0002907949&amp;u='+urlencode(this.href));\" target=\"_blank\" title=\"현대차, 친환경 사회공헌 캠페인 '언택트 펀 레이스' 실시\"><strong class=\"hl\">현대</strong>차, 친환경 사회공헌 캠페인 '언택트 펀 레이스' 실시</a>,\n",
       " <a class=\"_sp_each_title\" href=\"https://www.hankyung.com/economy/article/202010145803g\" onclick=\"return goOtherCR(this, 'a=nws*h.tit&amp;r=6&amp;i=88000107_000000000000000004431285&amp;g=015.0004431285&amp;u='+urlencode(this.href));\" target=\"_blank\" title=\"정의선, 현대차그룹 회장 취임 고사하다 결국 수락한 이유\">정의선, <strong class=\"hl\">현대</strong>차그룹 회장 취임 고사하다 결국 수락한 이유</a>,\n",
       " <a class=\"_sp_each_title\" href=\"http://www.dt.co.kr/contents.html?article_no=2020101402150132781001&amp;ref=naver\" onclick=\"return goOtherCR(this, 'a=nws*h.tit&amp;r=8&amp;i=880000AD_000000000000000002629793&amp;g=029.0002629793&amp;u='+urlencode(this.href));\" target=\"_blank\" title=\"현대차 정의선체제 `3세 경영` 가속화\"><strong class=\"hl\">현대</strong>차 정의선체제 `3세 경영` 가속화</a>,\n",
       " <a class=\"_sp_each_url _sp_each_title\" href=\"http://news.kbiz.or.kr/news/articleView.html?idxno=73489\" onclick=\"return goOtherCR(this, 'a=nws*b.tit&amp;r=11&amp;i=88155e85_000000000000000000028387&amp;g=5328.0000028387&amp;u='+urlencode(this.href));\" target=\"_blank\" title=\"현대차그룹 '싱가포르 글로벌 혁신센터' 기공\"><strong class=\"hl\">현대</strong>차그룹 '싱가포르 글로벌 혁신센터' 기공</a>,\n",
       " <a class=\"_sp_each_title\" href=\"https://biz.chosun.com/site/data/html_dir/2020/10/14/2020101401826.html?utm_source=naver&amp;utm_medium=original&amp;utm_campaign=biz\" onclick=\"return goOtherCR(this, 'a=nws*e.tit&amp;r=16&amp;i=88127058_000000000000000000603102&amp;g=366.0000603102&amp;u='+urlencode(this.href));\" target=\"_blank\" title=\"[현대차 뉴리더십] 아킬레스건, 지배구조 개편 남았다\">[<strong class=\"hl\">현대</strong>차 뉴리더십] 아킬레스건, 지배구조 개편 남았다</a>,\n",
       " <a class=\"_sp_each_url _sp_each_title\" href=\"http://it.chosun.com/site/data/html_dir/2020/10/13/2020101301736.html\" onclick=\"return goOtherCR(this, 'a=nws*b.tit&amp;r=17&amp;i=88135207_000000000000000000133619&amp;g=5242.0000133619&amp;u='+urlencode(this.href));\" target=\"_blank\" title=\"현대차의 혁신 실험, 싱가포르 글로벌 혁신센터 기공식 개최\"><strong class=\"hl\">현대</strong>차의 혁신 실험, 싱가포르 글로벌 혁신센터 기공식 개최</a>,\n",
       " <a class=\"_sp_each_url _sp_each_title\" href=\"http://news.bizwatch.co.kr/article/industry/2020/10/21/0001/naver\" onclick=\"return goOtherCR(this, 'a=nws*f.tit&amp;r=22&amp;i=8813C2F5_000000000000000000055716&amp;g=5253.0000055716&amp;u='+urlencode(this.href));\" target=\"_blank\" title=\"'코로나 넘어 리콜' 현대차, 또 실력 나올까\">'코로나 넘어 리콜' <strong class=\"hl\">현대</strong>차, 또 실력 나올까</a>,\n",
       " <a class=\"_sp_each_url _sp_each_title\" href=\"http://kr.aving.net/news/view.php?articleId=1587102&amp;Branch_ID=kr&amp;rssid=naver&amp;mn_name=news\" onclick=\"return goOtherCR(this, 'a=nws*b.tit&amp;r=23&amp;i=880003CB_000000000000000000153694&amp;g=5015.0000153694&amp;u='+urlencode(this.href));\" target=\"_blank\" title=\"현대차그룹, 싱가포르 글로벌 혁신센터 기공식 개최\"><strong class=\"hl\">현대</strong>차그룹, 싱가포르 글로벌 혁신센터 기공식 개최</a>,\n",
       " <a class=\"_sp_each_url _sp_each_title\" href=\"http://www.safetimes.co.kr/news/articleView.html?idxno=87435\" onclick=\"return goOtherCR(this, 'a=nws*f.tit&amp;r=28&amp;i=8819br4i_000000000000000000006054&amp;g=5754.0000006054&amp;u='+urlencode(this.href));\" target=\"_blank\" title=\"현대자동차, 서울어린이대공원서 '언택트 펀 레이스'\"><strong class=\"hl\">현대</strong>자동차, 서울어린이대공원서 '언택트 펀 레이스'</a>,\n",
       " <a class=\"_sp_each_url _sp_each_title\" href=\"https://www.dnews.co.kr/uhtml/view.jsp?idxno=202010190901283800510\" onclick=\"return goOtherCR(this, 'a=nws*f.tit&amp;r=29&amp;i=88105698_000000000000000000243481&amp;g=5138.0000243481&amp;u='+urlencode(this.href));\" target=\"_blank\" title=\"현대차그룹, ‘미래차 시험 무대’로 왜 동남아를 선택했나\"><strong class=\"hl\">현대</strong>차그룹, ‘미래차 시험 무대’로 왜 동남아를 선택했나</a>]"
      ]
     },
     "execution_count": 17,
     "metadata": {},
     "output_type": "execute_result"
    }
   ],
   "source": [
    "for i in title_content:\n",
    "    print()"
   ]
  },
  {
   "cell_type": "code",
   "execution_count": null,
   "metadata": {},
   "outputs": [],
   "source": []
  },
  {
   "cell_type": "code",
   "execution_count": null,
   "metadata": {},
   "outputs": [],
   "source": []
  },
  {
   "cell_type": "code",
   "execution_count": null,
   "metadata": {},
   "outputs": [],
   "source": [
    "class input_date:\n",
    "    def __init__(self, s_date, e_date , search_keyword):\n",
    "        self.s_date = start_date\n",
    "        self.e_date = end_date\n",
    "        self.search_keyword = search_keyword\n",
    "        \n",
    "    def set_contact():\n",
    "        start_date = int(input(\"날짜를 yyyy.mm.dd 형식으로 입력하세요: \"))\n",
    "        end_date = int(input(\"날짜를 yyyy.mm.dd 형식으로 입력하세요: \"))\n",
    "        search_keyword = input('검색어를 쉼표로 구분하여 넣으세요:').split(',')\n",
    "        print(start_date, end_date, search_keyword)\n",
    "\n",
    "\n",
    "    def get_days_list(self):\n",
    "        days_list = []\n",
    "        day = datetime.date.today()\n",
    "        for i in range(0, self.days):\n",
    "            day = day - datetime.timedelta(days=1)\n",
    "            days_list.append(day.isoformat())\n",
    "        return days_list\n",
    "\n",
    "def today_date():\n",
    "    # 'yyyy-mm-mm' 형식 날짜 반환\n",
    "    now = datetime.date.today()\n",
    "    return now.isoformat()\n",
    "\n",
    "def date_preprocessing(soup, date_class) :\n",
    "    date = soup.find_all(\"span\",{\"class\":bar})\n",
    "    # 날짜가 기록된 태그 저장\n",
    "    start_date = datetime.now() # 현재 날짜 저장\n",
    "\n",
    "    for j in date :\n",
    "        date_list = j.get_text() #날짜 추출\n",
    "\n",
    "        if '시간' in date_list : # 날짜가 n시간 전으로 표기될 경우 문자열 처리\n",
    "            date_find = re.findall(r'\\d+', date_list) \n",
    "            final_date = str(datetime.now() - timedelta(hours=int(date_find[0])))\n",
    "            total_date.append(final_date)\n",
    "\n",
    "        elif '분' in date_list : # 날짜가 n분 전으로 표기될 경우 문자열 처리\n",
    "            date_find = re.findall(r'\\d+', date_list)\n",
    "            final_date = str(datetime.now() - timedelta(minutes=int(date_find[0])))\n",
    "            total_date.append(final_date)\n",
    "\n",
    "        elif '일' in date_list: # 날짜가 n일 전으로 표기될 경우 문자열 처리\n",
    "            date_find = re.findall(r'\\d+', date_list)\n",
    "            final_date = str(datetime.now() - timedelta(days=int(date_find[0])))\n",
    "            total_date.append(final_date)    \n",
    "\n",
    "        elif bool(re.search(r'\\d{3,4}.\\d{1,2}.\\d{2}',date_list)) == True : # yyyy.mm.dd로 표기될 경우 처리\n",
    "            final_date = date_list.replace('.',\"-\")\n",
    "            total_date.append(final_date)"
   ]
  }
 ],
 "metadata": {
  "kernelspec": {
   "display_name": "news",
   "language": "python",
   "name": "news"
  },
  "language_info": {
   "codemirror_mode": {
    "name": "ipython",
    "version": 3
   },
   "file_extension": ".py",
   "mimetype": "text/x-python",
   "name": "python",
   "nbconvert_exporter": "python",
   "pygments_lexer": "ipython3",
   "version": "3.7.9"
  }
 },
 "nbformat": 4,
 "nbformat_minor": 4
}
