{
 "cells": [
  {
   "cell_type": "code",
   "execution_count": 6,
   "metadata": {},
   "outputs": [],
   "source": [
    "# import module\n",
    "import pandas as pd\n",
    "import numpy as np\n",
    "import os\n",
    "from datetime import datetime\n",
    "from math import *\n",
    "import glob\n",
    "import time\n",
    "import random\n",
    "import warnings\n",
    "\n",
    "## sklearn\n",
    "from sklearn.ensemble import (GradientBoostingRegressor, GradientBoostingClassifier, RandomForestRegressor, RandomForestClassifier, VotingClassifier, VotingRegressor)\n",
    "from sklearn.linear_model import *\n",
    "from sklearn import metrics\n",
    "from sklearn.feature_selection import SelectFromModel\n",
    "from sklearn.metrics import *\n",
    "from sklearn.model_selection import *\n",
    "from sklearn.preprocessing import StandardScaler, RobustScaler, LabelEncoder, MinMaxScaler\n",
    "\n",
    "#scipy\n",
    "import scipy.stats as st\n",
    "\n",
    "#LightGBM\n",
    "from lightgbm import LGBMClassifier, LGBMRegressor\n",
    "\n",
    "\n",
    "# xgboost\n",
    "from xgboost import XGBClassifier\n",
    "from xgboost import XGBRegressor\n",
    "from xgboost import plot_importance\n",
    "import xgboost as xgb\n",
    "\n",
    "\n",
    "warnings.filterwarnings(action='ignore')\n",
    "%matplotlib inline\n",
    "\n",
    "font_name = mpl.font_manager.FontProperties(fname='C:/Windows/Fonts/malgunbd.ttf').get_name()\n",
    "mpl.rc('font', family=font_name)\n",
    "mpl.rcParams['axes.unicode_minus'] = False\n"
   ]
  },
  {
   "cell_type": "code",
   "execution_count": 7,
   "metadata": {},
   "outputs": [
    {
     "data": {
      "text/html": [
       "<div>\n",
       "<style scoped>\n",
       "    .dataframe tbody tr th:only-of-type {\n",
       "        vertical-align: middle;\n",
       "    }\n",
       "\n",
       "    .dataframe tbody tr th {\n",
       "        vertical-align: top;\n",
       "    }\n",
       "\n",
       "    .dataframe thead th {\n",
       "        text-align: right;\n",
       "    }\n",
       "</style>\n",
       "<table border=\"1\" class=\"dataframe\">\n",
       "  <thead>\n",
       "    <tr style=\"text-align: right;\">\n",
       "      <th></th>\n",
       "      <th>co</th>\n",
       "      <th>date</th>\n",
       "      <th>no2</th>\n",
       "      <th>o3</th>\n",
       "      <th>pm10</th>\n",
       "      <th>pm25</th>\n",
       "      <th>site</th>\n",
       "      <th>so2</th>\n",
       "      <th>humid</th>\n",
       "      <th>rain_yn</th>\n",
       "      <th>temp</th>\n",
       "      <th>wind_direction</th>\n",
       "      <th>wind_speed</th>\n",
       "    </tr>\n",
       "  </thead>\n",
       "  <tbody>\n",
       "    <tr>\n",
       "      <th>0</th>\n",
       "      <td>0.3</td>\n",
       "      <td>2017-12-01 00:00:00</td>\n",
       "      <td>0.017</td>\n",
       "      <td>0.034</td>\n",
       "      <td>10.0</td>\n",
       "      <td>2.0</td>\n",
       "      <td>광교동</td>\n",
       "      <td>0.003</td>\n",
       "      <td>NaN</td>\n",
       "      <td>0.0</td>\n",
       "      <td>-4.1</td>\n",
       "      <td>81.1</td>\n",
       "      <td>1.5</td>\n",
       "    </tr>\n",
       "    <tr>\n",
       "      <th>1</th>\n",
       "      <td>0.4</td>\n",
       "      <td>2017-12-01 00:00:00</td>\n",
       "      <td>0.011</td>\n",
       "      <td>0.018</td>\n",
       "      <td>30.0</td>\n",
       "      <td>4.0</td>\n",
       "      <td>중2동</td>\n",
       "      <td>0.003</td>\n",
       "      <td>NaN</td>\n",
       "      <td>0.0</td>\n",
       "      <td>-3.6</td>\n",
       "      <td>12.8</td>\n",
       "      <td>0.7</td>\n",
       "    </tr>\n",
       "    <tr>\n",
       "      <th>2</th>\n",
       "      <td>0.4</td>\n",
       "      <td>2017-12-01 00:00:00</td>\n",
       "      <td>0.016</td>\n",
       "      <td>0.027</td>\n",
       "      <td>20.0</td>\n",
       "      <td>5.0</td>\n",
       "      <td>대야동</td>\n",
       "      <td>0.004</td>\n",
       "      <td>NaN</td>\n",
       "      <td>0.0</td>\n",
       "      <td>-2.5</td>\n",
       "      <td>3.6</td>\n",
       "      <td>0.5</td>\n",
       "    </tr>\n",
       "    <tr>\n",
       "      <th>3</th>\n",
       "      <td>0.3</td>\n",
       "      <td>2017-12-01 00:00:00</td>\n",
       "      <td>0.012</td>\n",
       "      <td>0.026</td>\n",
       "      <td>13.0</td>\n",
       "      <td>12.0</td>\n",
       "      <td>산본동</td>\n",
       "      <td>0.004</td>\n",
       "      <td>NaN</td>\n",
       "      <td>0.0</td>\n",
       "      <td>-3.6</td>\n",
       "      <td>291.1</td>\n",
       "      <td>1.7</td>\n",
       "    </tr>\n",
       "    <tr>\n",
       "      <th>4</th>\n",
       "      <td>0.5</td>\n",
       "      <td>2017-12-01 00:00:00</td>\n",
       "      <td>0.025</td>\n",
       "      <td>0.021</td>\n",
       "      <td>18.0</td>\n",
       "      <td>10.0</td>\n",
       "      <td>철산동</td>\n",
       "      <td>0.002</td>\n",
       "      <td>NaN</td>\n",
       "      <td>0.0</td>\n",
       "      <td>-3.7</td>\n",
       "      <td>340.0</td>\n",
       "      <td>1.7</td>\n",
       "    </tr>\n",
       "  </tbody>\n",
       "</table>\n",
       "</div>"
      ],
      "text/plain": [
       "    co                 date    no2     o3  pm10  pm25 site    so2  humid  \\\n",
       "0  0.3  2017-12-01 00:00:00  0.017  0.034  10.0   2.0  광교동  0.003    NaN   \n",
       "1  0.4  2017-12-01 00:00:00  0.011  0.018  30.0   4.0  중2동  0.003    NaN   \n",
       "2  0.4  2017-12-01 00:00:00  0.016  0.027  20.0   5.0  대야동  0.004    NaN   \n",
       "3  0.3  2017-12-01 00:00:00  0.012  0.026  13.0  12.0  산본동  0.004    NaN   \n",
       "4  0.5  2017-12-01 00:00:00  0.025  0.021  18.0  10.0  철산동  0.002    NaN   \n",
       "\n",
       "   rain_yn  temp  wind_direction  wind_speed  \n",
       "0      0.0  -4.1            81.1         1.5  \n",
       "1      0.0  -3.6            12.8         0.7  \n",
       "2      0.0  -2.5             3.6         0.5  \n",
       "3      0.0  -3.6           291.1         1.7  \n",
       "4      0.0  -3.7           340.0         1.7  "
      ]
     },
     "execution_count": 7,
     "metadata": {},
     "output_type": "execute_result"
    }
   ],
   "source": [
    "# load data\n",
    "df = pd.read_csv('D:/data/row_final.csv')\n",
    "speed = pd.read_csv('D:/data/speed.csv')\n",
    "df.head()"
   ]
  },
  {
   "cell_type": "code",
   "execution_count": 8,
   "metadata": {},
   "outputs": [
    {
     "data": {
      "text/html": [
       "<div>\n",
       "<style scoped>\n",
       "    .dataframe tbody tr th:only-of-type {\n",
       "        vertical-align: middle;\n",
       "    }\n",
       "\n",
       "    .dataframe tbody tr th {\n",
       "        vertical-align: top;\n",
       "    }\n",
       "\n",
       "    .dataframe thead th {\n",
       "        text-align: right;\n",
       "    }\n",
       "</style>\n",
       "<table border=\"1\" class=\"dataframe\">\n",
       "  <thead>\n",
       "    <tr style=\"text-align: right;\">\n",
       "      <th></th>\n",
       "      <th>date</th>\n",
       "      <th>speed</th>\n",
       "    </tr>\n",
       "  </thead>\n",
       "  <tbody>\n",
       "    <tr>\n",
       "      <th>0</th>\n",
       "      <td>2017-12-01 00:00:00</td>\n",
       "      <td>40.0</td>\n",
       "    </tr>\n",
       "    <tr>\n",
       "      <th>1</th>\n",
       "      <td>2017-12-01 10:00:00</td>\n",
       "      <td>40.5</td>\n",
       "    </tr>\n",
       "    <tr>\n",
       "      <th>2</th>\n",
       "      <td>2017-12-01 11:00:00</td>\n",
       "      <td>40.0</td>\n",
       "    </tr>\n",
       "    <tr>\n",
       "      <th>3</th>\n",
       "      <td>2017-12-01 12:00:00</td>\n",
       "      <td>40.0</td>\n",
       "    </tr>\n",
       "    <tr>\n",
       "      <th>4</th>\n",
       "      <td>2017-12-01 13:00:00</td>\n",
       "      <td>40.0</td>\n",
       "    </tr>\n",
       "  </tbody>\n",
       "</table>\n",
       "</div>"
      ],
      "text/plain": [
       "                  date  speed\n",
       "0  2017-12-01 00:00:00   40.0\n",
       "1  2017-12-01 10:00:00   40.5\n",
       "2  2017-12-01 11:00:00   40.0\n",
       "3  2017-12-01 12:00:00   40.0\n",
       "4  2017-12-01 13:00:00   40.0"
      ]
     },
     "execution_count": 8,
     "metadata": {},
     "output_type": "execute_result"
    }
   ],
   "source": [
    "speed.head()"
   ]
  },
  {
   "cell_type": "markdown",
   "metadata": {},
   "source": [
    "# Preprocessing"
   ]
  },
  {
   "cell_type": "code",
   "execution_count": 9,
   "metadata": {},
   "outputs": [],
   "source": [
    "def date_split(df) : \n",
    "    df['date'] = pd.to_datetime(df['date'], format='%Y-%m-%d %H:%M')\n",
    "    df['ymd'] = [d.date() for d in df['date']]\n",
    "    df['md'] = df['ymd'].apply(lambda x: x.strftime('%m-%d'))\n",
    "def season(x):\n",
    "    if '05-31'>= x>='03-01':\n",
    "        return('봄')\n",
    "    elif '11-30' >= x >= '09-01':\n",
    "        return('가을')\n",
    "    elif '08-31' >=x >= '06-01':\n",
    "        return('여름')\n",
    "    else: return('겨울')\n",
    "    \n",
    "def speed_categori(x):\n",
    "    if 15>=x:\n",
    "        return(0)\n",
    "    elif 25>=x>=15:\n",
    "        return(1)\n",
    "    else: return(2)"
   ]
  },
  {
   "cell_type": "code",
   "execution_count": 10,
   "metadata": {},
   "outputs": [
    {
     "data": {
      "text/html": [
       "<div>\n",
       "<style scoped>\n",
       "    .dataframe tbody tr th:only-of-type {\n",
       "        vertical-align: middle;\n",
       "    }\n",
       "\n",
       "    .dataframe tbody tr th {\n",
       "        vertical-align: top;\n",
       "    }\n",
       "\n",
       "    .dataframe thead th {\n",
       "        text-align: right;\n",
       "    }\n",
       "</style>\n",
       "<table border=\"1\" class=\"dataframe\">\n",
       "  <thead>\n",
       "    <tr style=\"text-align: right;\">\n",
       "      <th></th>\n",
       "      <th>date</th>\n",
       "      <th>so2</th>\n",
       "      <th>co</th>\n",
       "      <th>o3</th>\n",
       "      <th>no2</th>\n",
       "      <th>pm10</th>\n",
       "      <th>pm25</th>\n",
       "      <th>temp</th>\n",
       "      <th>wind_speed</th>\n",
       "      <th>wind_direction</th>\n",
       "      <th>rain_yn</th>\n",
       "      <th>humid</th>\n",
       "      <th>season</th>\n",
       "    </tr>\n",
       "  </thead>\n",
       "  <tbody>\n",
       "    <tr>\n",
       "      <th>7</th>\n",
       "      <td>2017-12-01 00:00:00</td>\n",
       "      <td>0.005</td>\n",
       "      <td>0.4</td>\n",
       "      <td>0.030</td>\n",
       "      <td>0.017</td>\n",
       "      <td>21.0</td>\n",
       "      <td>13.0</td>\n",
       "      <td>-4.6</td>\n",
       "      <td>1.9</td>\n",
       "      <td>4.5</td>\n",
       "      <td>0.0</td>\n",
       "      <td>43.6</td>\n",
       "      <td>겨울</td>\n",
       "    </tr>\n",
       "    <tr>\n",
       "      <th>20</th>\n",
       "      <td>2017-12-01 01:00:00</td>\n",
       "      <td>0.004</td>\n",
       "      <td>0.5</td>\n",
       "      <td>0.032</td>\n",
       "      <td>0.013</td>\n",
       "      <td>25.0</td>\n",
       "      <td>14.0</td>\n",
       "      <td>-6.3</td>\n",
       "      <td>NaN</td>\n",
       "      <td>NaN</td>\n",
       "      <td>0.0</td>\n",
       "      <td>55.5</td>\n",
       "      <td>겨울</td>\n",
       "    </tr>\n",
       "    <tr>\n",
       "      <th>28</th>\n",
       "      <td>2017-12-01 02:00:00</td>\n",
       "      <td>0.005</td>\n",
       "      <td>0.5</td>\n",
       "      <td>0.027</td>\n",
       "      <td>0.017</td>\n",
       "      <td>25.0</td>\n",
       "      <td>13.0</td>\n",
       "      <td>-6.7</td>\n",
       "      <td>0.6</td>\n",
       "      <td>58.6</td>\n",
       "      <td>0.0</td>\n",
       "      <td>60.9</td>\n",
       "      <td>겨울</td>\n",
       "    </tr>\n",
       "    <tr>\n",
       "      <th>36</th>\n",
       "      <td>2017-12-01 03:00:00</td>\n",
       "      <td>0.005</td>\n",
       "      <td>0.5</td>\n",
       "      <td>0.028</td>\n",
       "      <td>0.015</td>\n",
       "      <td>27.0</td>\n",
       "      <td>13.0</td>\n",
       "      <td>-7.2</td>\n",
       "      <td>0.7</td>\n",
       "      <td>11.3</td>\n",
       "      <td>0.0</td>\n",
       "      <td>66.5</td>\n",
       "      <td>겨울</td>\n",
       "    </tr>\n",
       "    <tr>\n",
       "      <th>48</th>\n",
       "      <td>2017-12-01 04:00:00</td>\n",
       "      <td>0.004</td>\n",
       "      <td>0.5</td>\n",
       "      <td>0.028</td>\n",
       "      <td>0.015</td>\n",
       "      <td>20.0</td>\n",
       "      <td>12.0</td>\n",
       "      <td>-7.3</td>\n",
       "      <td>0.7</td>\n",
       "      <td>325.4</td>\n",
       "      <td>0.0</td>\n",
       "      <td>57.1</td>\n",
       "      <td>겨울</td>\n",
       "    </tr>\n",
       "  </tbody>\n",
       "</table>\n",
       "</div>"
      ],
      "text/plain": [
       "                   date    so2   co     o3    no2  pm10  pm25  temp  \\\n",
       "7   2017-12-01 00:00:00  0.005  0.4  0.030  0.017  21.0  13.0  -4.6   \n",
       "20  2017-12-01 01:00:00  0.004  0.5  0.032  0.013  25.0  14.0  -6.3   \n",
       "28  2017-12-01 02:00:00  0.005  0.5  0.027  0.017  25.0  13.0  -6.7   \n",
       "36  2017-12-01 03:00:00  0.005  0.5  0.028  0.015  27.0  13.0  -7.2   \n",
       "48  2017-12-01 04:00:00  0.004  0.5  0.028  0.015  20.0  12.0  -7.3   \n",
       "\n",
       "    wind_speed  wind_direction  rain_yn  humid season  \n",
       "7          1.9             4.5      0.0   43.6     겨울  \n",
       "20         NaN             NaN      0.0   55.5     겨울  \n",
       "28         0.6            58.6      0.0   60.9     겨울  \n",
       "36         0.7            11.3      0.0   66.5     겨울  \n",
       "48         0.7           325.4      0.0   57.1     겨울  "
      ]
     },
     "execution_count": 10,
     "metadata": {},
     "output_type": "execute_result"
    }
   ],
   "source": [
    "df = df[['site', 'date', 'so2', 'co', 'o3', 'no2', 'pm10', 'pm25', 'temp',\n",
    "       'wind_speed', 'wind_direction', 'rain_yn', 'humid']]\n",
    "df.loc[df['temp'] <= -30, 'temp' ] = np.float(\"nan\")\n",
    "df['rain_yn'] = df['rain_yn'].apply(lambda x: x if x==0 else 1)\n",
    "df = df[df['site']=='시화산단']\n",
    "date_split(df)\n",
    "df['season'] = df['md'].apply(season)\n",
    "df = df[df['date']>='2017-11-01']\n",
    "df.drop(['site','md','ymd'],axis=1,inplace=True)\n",
    "df['date'] = df['date'].astype(str)\n",
    "df.head()"
   ]
  },
  {
   "cell_type": "code",
   "execution_count": 11,
   "metadata": {},
   "outputs": [
    {
     "data": {
      "text/plain": [
       "date                0\n",
       "so2               452\n",
       "co                477\n",
       "o3                460\n",
       "no2               567\n",
       "pm10              723\n",
       "pm25              756\n",
       "temp              406\n",
       "wind_speed        347\n",
       "wind_direction    347\n",
       "rain_yn             0\n",
       "humid             338\n",
       "season              0\n",
       "dtype: int64"
      ]
     },
     "execution_count": 11,
     "metadata": {},
     "output_type": "execute_result"
    }
   ],
   "source": [
    "df.isnull().sum()"
   ]
  },
  {
   "cell_type": "code",
   "execution_count": 12,
   "metadata": {},
   "outputs": [
    {
     "data": {
      "text/plain": [
       "date              0\n",
       "so2               0\n",
       "co                0\n",
       "o3                0\n",
       "no2               0\n",
       "pm10              0\n",
       "pm25              0\n",
       "temp              0\n",
       "wind_speed        0\n",
       "wind_direction    0\n",
       "rain_yn           0\n",
       "humid             0\n",
       "season            0\n",
       "speed             0\n",
       "traffic           0\n",
       "dtype: int64"
      ]
     },
     "execution_count": 12,
     "metadata": {},
     "output_type": "execute_result"
    }
   ],
   "source": [
    "df.fillna(method='ffill',inplace=True) # Null 값 이전값 대체\n",
    "df_speed = pd.merge(df,speed,on='date') # 통행속도와 지역 데이터 merge\n",
    "df_speed['traffic'] = df_speed['speed'].apply(speed_categori) # 통행속도 범주화\n",
    "df_speed.isnull().sum()"
   ]
  },
  {
   "cell_type": "markdown",
   "metadata": {},
   "source": [
    "## Data Normalization"
   ]
  },
  {
   "cell_type": "code",
   "execution_count": 14,
   "metadata": {},
   "outputs": [
    {
     "data": {
      "text/html": [
       "<div>\n",
       "<style scoped>\n",
       "    .dataframe tbody tr th:only-of-type {\n",
       "        vertical-align: middle;\n",
       "    }\n",
       "\n",
       "    .dataframe tbody tr th {\n",
       "        vertical-align: top;\n",
       "    }\n",
       "\n",
       "    .dataframe thead th {\n",
       "        text-align: right;\n",
       "    }\n",
       "</style>\n",
       "<table border=\"1\" class=\"dataframe\">\n",
       "  <thead>\n",
       "    <tr style=\"text-align: right;\">\n",
       "      <th></th>\n",
       "      <th>date</th>\n",
       "      <th>so2</th>\n",
       "      <th>co</th>\n",
       "      <th>o3</th>\n",
       "      <th>no2</th>\n",
       "      <th>pm10</th>\n",
       "      <th>pm25</th>\n",
       "      <th>temp</th>\n",
       "      <th>wind_speed</th>\n",
       "      <th>wind_direction</th>\n",
       "      <th>rain_yn</th>\n",
       "      <th>humid</th>\n",
       "      <th>season</th>\n",
       "      <th>speed</th>\n",
       "      <th>traffic</th>\n",
       "    </tr>\n",
       "  </thead>\n",
       "  <tbody>\n",
       "    <tr>\n",
       "      <th>0</th>\n",
       "      <td>2017-12-01 00:00:00</td>\n",
       "      <td>0.005</td>\n",
       "      <td>0.4</td>\n",
       "      <td>0.030</td>\n",
       "      <td>0.017</td>\n",
       "      <td>21.0</td>\n",
       "      <td>13.0</td>\n",
       "      <td>-4.6</td>\n",
       "      <td>1.9</td>\n",
       "      <td>4.5</td>\n",
       "      <td>0.0</td>\n",
       "      <td>43.6</td>\n",
       "      <td>겨울</td>\n",
       "      <td>40.0</td>\n",
       "      <td>2</td>\n",
       "    </tr>\n",
       "    <tr>\n",
       "      <th>1</th>\n",
       "      <td>2017-12-01 01:00:00</td>\n",
       "      <td>0.004</td>\n",
       "      <td>0.5</td>\n",
       "      <td>0.032</td>\n",
       "      <td>0.013</td>\n",
       "      <td>25.0</td>\n",
       "      <td>14.0</td>\n",
       "      <td>-6.3</td>\n",
       "      <td>1.9</td>\n",
       "      <td>4.5</td>\n",
       "      <td>0.0</td>\n",
       "      <td>55.5</td>\n",
       "      <td>겨울</td>\n",
       "      <td>40.0</td>\n",
       "      <td>2</td>\n",
       "    </tr>\n",
       "    <tr>\n",
       "      <th>2</th>\n",
       "      <td>2017-12-01 02:00:00</td>\n",
       "      <td>0.005</td>\n",
       "      <td>0.5</td>\n",
       "      <td>0.027</td>\n",
       "      <td>0.017</td>\n",
       "      <td>25.0</td>\n",
       "      <td>13.0</td>\n",
       "      <td>-6.7</td>\n",
       "      <td>0.6</td>\n",
       "      <td>58.6</td>\n",
       "      <td>0.0</td>\n",
       "      <td>60.9</td>\n",
       "      <td>겨울</td>\n",
       "      <td>39.5</td>\n",
       "      <td>2</td>\n",
       "    </tr>\n",
       "    <tr>\n",
       "      <th>3</th>\n",
       "      <td>2017-12-01 03:00:00</td>\n",
       "      <td>0.005</td>\n",
       "      <td>0.5</td>\n",
       "      <td>0.028</td>\n",
       "      <td>0.015</td>\n",
       "      <td>27.0</td>\n",
       "      <td>13.0</td>\n",
       "      <td>-7.2</td>\n",
       "      <td>0.7</td>\n",
       "      <td>11.3</td>\n",
       "      <td>0.0</td>\n",
       "      <td>66.5</td>\n",
       "      <td>겨울</td>\n",
       "      <td>40.5</td>\n",
       "      <td>2</td>\n",
       "    </tr>\n",
       "    <tr>\n",
       "      <th>4</th>\n",
       "      <td>2017-12-01 04:00:00</td>\n",
       "      <td>0.004</td>\n",
       "      <td>0.5</td>\n",
       "      <td>0.028</td>\n",
       "      <td>0.015</td>\n",
       "      <td>20.0</td>\n",
       "      <td>12.0</td>\n",
       "      <td>-7.3</td>\n",
       "      <td>0.7</td>\n",
       "      <td>325.4</td>\n",
       "      <td>0.0</td>\n",
       "      <td>57.1</td>\n",
       "      <td>겨울</td>\n",
       "      <td>40.0</td>\n",
       "      <td>2</td>\n",
       "    </tr>\n",
       "  </tbody>\n",
       "</table>\n",
       "</div>"
      ],
      "text/plain": [
       "                  date    so2   co     o3    no2  pm10  pm25  temp  \\\n",
       "0  2017-12-01 00:00:00  0.005  0.4  0.030  0.017  21.0  13.0  -4.6   \n",
       "1  2017-12-01 01:00:00  0.004  0.5  0.032  0.013  25.0  14.0  -6.3   \n",
       "2  2017-12-01 02:00:00  0.005  0.5  0.027  0.017  25.0  13.0  -6.7   \n",
       "3  2017-12-01 03:00:00  0.005  0.5  0.028  0.015  27.0  13.0  -7.2   \n",
       "4  2017-12-01 04:00:00  0.004  0.5  0.028  0.015  20.0  12.0  -7.3   \n",
       "\n",
       "   wind_speed  wind_direction  rain_yn  humid season  speed  traffic  \n",
       "0         1.9             4.5      0.0   43.6     겨울   40.0        2  \n",
       "1         1.9             4.5      0.0   55.5     겨울   40.0        2  \n",
       "2         0.6            58.6      0.0   60.9     겨울   39.5        2  \n",
       "3         0.7            11.3      0.0   66.5     겨울   40.5        2  \n",
       "4         0.7           325.4      0.0   57.1     겨울   40.0        2  "
      ]
     },
     "execution_count": 14,
     "metadata": {},
     "output_type": "execute_result"
    }
   ],
   "source": [
    "df_speed.head()"
   ]
  },
  {
   "cell_type": "code",
   "execution_count": 15,
   "metadata": {},
   "outputs": [
    {
     "data": {
      "text/html": [
       "<div>\n",
       "<style scoped>\n",
       "    .dataframe tbody tr th:only-of-type {\n",
       "        vertical-align: middle;\n",
       "    }\n",
       "\n",
       "    .dataframe tbody tr th {\n",
       "        vertical-align: top;\n",
       "    }\n",
       "\n",
       "    .dataframe thead th {\n",
       "        text-align: right;\n",
       "    }\n",
       "</style>\n",
       "<table border=\"1\" class=\"dataframe\">\n",
       "  <thead>\n",
       "    <tr style=\"text-align: right;\">\n",
       "      <th></th>\n",
       "      <th>so2</th>\n",
       "      <th>co</th>\n",
       "      <th>o3</th>\n",
       "      <th>no2</th>\n",
       "      <th>pm10</th>\n",
       "      <th>temp</th>\n",
       "      <th>wind_direction</th>\n",
       "      <th>wind_speed</th>\n",
       "      <th>humid</th>\n",
       "      <th>date</th>\n",
       "      <th>pm25</th>\n",
       "      <th>season</th>\n",
       "      <th>rain_yn</th>\n",
       "      <th>traffic</th>\n",
       "      <th>pm25_window</th>\n",
       "    </tr>\n",
       "  </thead>\n",
       "  <tbody>\n",
       "    <tr>\n",
       "      <th>3</th>\n",
       "      <td>0.012633</td>\n",
       "      <td>0.178571</td>\n",
       "      <td>0.181090</td>\n",
       "      <td>0.113861</td>\n",
       "      <td>0.057107</td>\n",
       "      <td>0.290424</td>\n",
       "      <td>0.054792</td>\n",
       "      <td>0.097328</td>\n",
       "      <td>0.523930</td>\n",
       "      <td>2017-12-01 03:00:00</td>\n",
       "      <td>13.0</td>\n",
       "      <td>겨울</td>\n",
       "      <td>0.0</td>\n",
       "      <td>2.0</td>\n",
       "      <td>13.25</td>\n",
       "    </tr>\n",
       "    <tr>\n",
       "      <th>4</th>\n",
       "      <td>0.011968</td>\n",
       "      <td>0.190476</td>\n",
       "      <td>0.177885</td>\n",
       "      <td>0.108911</td>\n",
       "      <td>0.056472</td>\n",
       "      <td>0.279827</td>\n",
       "      <td>0.277639</td>\n",
       "      <td>0.074427</td>\n",
       "      <td>0.561937</td>\n",
       "      <td>2017-12-01 04:00:00</td>\n",
       "      <td>12.0</td>\n",
       "      <td>겨울</td>\n",
       "      <td>0.0</td>\n",
       "      <td>2.0</td>\n",
       "      <td>13.00</td>\n",
       "    </tr>\n",
       "    <tr>\n",
       "      <th>5</th>\n",
       "      <td>0.011968</td>\n",
       "      <td>0.190476</td>\n",
       "      <td>0.168269</td>\n",
       "      <td>0.116337</td>\n",
       "      <td>0.057107</td>\n",
       "      <td>0.274333</td>\n",
       "      <td>0.288472</td>\n",
       "      <td>0.055344</td>\n",
       "      <td>0.576858</td>\n",
       "      <td>2017-12-01 05:00:00</td>\n",
       "      <td>16.0</td>\n",
       "      <td>겨울</td>\n",
       "      <td>0.0</td>\n",
       "      <td>2.0</td>\n",
       "      <td>13.50</td>\n",
       "    </tr>\n",
       "    <tr>\n",
       "      <th>6</th>\n",
       "      <td>0.011968</td>\n",
       "      <td>0.190476</td>\n",
       "      <td>0.165064</td>\n",
       "      <td>0.118812</td>\n",
       "      <td>0.057107</td>\n",
       "      <td>0.269231</td>\n",
       "      <td>0.295625</td>\n",
       "      <td>0.051527</td>\n",
       "      <td>0.584459</td>\n",
       "      <td>2017-12-01 06:00:00</td>\n",
       "      <td>13.0</td>\n",
       "      <td>겨울</td>\n",
       "      <td>0.0</td>\n",
       "      <td>2.0</td>\n",
       "      <td>13.50</td>\n",
       "    </tr>\n",
       "    <tr>\n",
       "      <th>7</th>\n",
       "      <td>0.011968</td>\n",
       "      <td>0.190476</td>\n",
       "      <td>0.139423</td>\n",
       "      <td>0.163366</td>\n",
       "      <td>0.055838</td>\n",
       "      <td>0.265699</td>\n",
       "      <td>0.317153</td>\n",
       "      <td>0.059160</td>\n",
       "      <td>0.552646</td>\n",
       "      <td>2017-12-01 07:00:00</td>\n",
       "      <td>13.0</td>\n",
       "      <td>겨울</td>\n",
       "      <td>0.0</td>\n",
       "      <td>2.0</td>\n",
       "      <td>13.50</td>\n",
       "    </tr>\n",
       "  </tbody>\n",
       "</table>\n",
       "</div>"
      ],
      "text/plain": [
       "        so2        co        o3       no2      pm10      temp  wind_direction  \\\n",
       "3  0.012633  0.178571  0.181090  0.113861  0.057107  0.290424        0.054792   \n",
       "4  0.011968  0.190476  0.177885  0.108911  0.056472  0.279827        0.277639   \n",
       "5  0.011968  0.190476  0.168269  0.116337  0.057107  0.274333        0.288472   \n",
       "6  0.011968  0.190476  0.165064  0.118812  0.057107  0.269231        0.295625   \n",
       "7  0.011968  0.190476  0.139423  0.163366  0.055838  0.265699        0.317153   \n",
       "\n",
       "   wind_speed     humid                 date  pm25 season  rain_yn  traffic  \\\n",
       "3    0.097328  0.523930  2017-12-01 03:00:00  13.0     겨울      0.0      2.0   \n",
       "4    0.074427  0.561937  2017-12-01 04:00:00  12.0     겨울      0.0      2.0   \n",
       "5    0.055344  0.576858  2017-12-01 05:00:00  16.0     겨울      0.0      2.0   \n",
       "6    0.051527  0.584459  2017-12-01 06:00:00  13.0     겨울      0.0      2.0   \n",
       "7    0.059160  0.552646  2017-12-01 07:00:00  13.0     겨울      0.0      2.0   \n",
       "\n",
       "   pm25_window  \n",
       "3        13.25  \n",
       "4        13.00  \n",
       "5        13.50  \n",
       "6        13.50  \n",
       "7        13.50  "
      ]
     },
     "execution_count": 15,
     "metadata": {},
     "output_type": "execute_result"
    }
   ],
   "source": [
    "data_cols = ['so2','co','o3', 'no2','pm10', 'temp', 'wind_direction','wind_speed', 'humid'] # 연속형 변수 Normalization\n",
    "df_minmax = df_speed[data_cols]\n",
    "df_other = df_speed[['date','pm25','season','rain_yn','traffic']] # 범주형 변수 따로 추출\n",
    "min_max_scaler = MinMaxScaler()\n",
    "min_max_scaler.fit(df_minmax)\n",
    "speed_scale = min_max_scaler.transform(df_minmax)\n",
    "speed_scale = pd.DataFrame(speed_scale, columns=data_cols, index=list(df_minmax.index.values))\n",
    "\n",
    "    \n",
    "speed_scale = pd.concat([speed_scale,df_other],axis=1)\n",
    "scale_column = df_other.columns.tolist()\n",
    "scale_column.remove('pm25')\n",
    "scale_column.remove('date')\n",
    "\n",
    "\n",
    "for i in scale_column :\n",
    "    speed_scale[i] = speed_scale[i].shift(1)\n",
    "\n",
    "for i in data_cols:\n",
    "    speed_scale[i] = speed_scale[i].rolling(window=4).mean()\n",
    "\n",
    "speed_scale['pm25_window'] = speed_scale['pm25'].rolling(window=4).mean()\n",
    "\n",
    "\n",
    "speed_scale.dropna(inplace=True) #Rolling 후 생긴 Null행 제거\n",
    "speed_scale.head(5)"
   ]
  },
  {
   "cell_type": "code",
   "execution_count": 16,
   "metadata": {},
   "outputs": [],
   "source": [
    "data = speed_scale.copy()\n",
    "data.dropna(inplace=True)\n",
    "X = data.drop(['date',\"pm25\"], axis=1)\n",
    "Y = data[\"pm25\"]\n",
    "mse = []\n",
    "\n",
    "# one-hot encoding\n",
    "# object 변수만 해당\n",
    "for i in [\"season\",'rain_yn','traffic']:\n",
    "    X[i] = pd.get_dummies(X[i])\n",
    "# trian / test split 0.8/ 0.2\n",
    "x_train, x_test, y_train, y_test = train_test_split(X, Y, test_size=0.2, random_state=0)"
   ]
  },
  {
   "cell_type": "code",
   "execution_count": 17,
   "metadata": {},
   "outputs": [],
   "source": [
    "def base_model(model):\n",
    "    model.fit(x_train,y_train)\n",
    "    y_pred = model.predict(x_test)\n",
    "    print(\"MSE : {:.3f}\".format((mean_squared_error(y_test, y_pred))**0.5))\n",
    "    mse.append((mean_squared_error(y_test, y_pred))**0.5)\n",
    "    print(\"RMSE : {:.3f}\".format((sqrt(mean_squared_error(y_test, y_pred))**0.5)))"
   ]
  },
  {
   "cell_type": "code",
   "execution_count": 18,
   "metadata": {},
   "outputs": [
    {
     "name": "stdout",
     "output_type": "stream",
     "text": [
      "MSE : 6.468\n",
      "RMSE : 2.543\n",
      "MSE : 6.529\n",
      "RMSE : 2.555\n",
      "MSE : 6.549\n",
      "RMSE : 2.559\n",
      "MSE : 6.396\n",
      "RMSE : 2.529\n"
     ]
    },
    {
     "data": {
      "text/plain": [
       "6.485580740738487"
      ]
     },
     "execution_count": 18,
     "metadata": {},
     "output_type": "execute_result"
    }
   ],
   "source": [
    "model = RandomForestRegressor(random_state =5)\n",
    "base_model(model)\n",
    "\n",
    "model = GradientBoostingRegressor(random_state =5)\n",
    "base_model(model)\n",
    "\n",
    "model = XGBRegressor(objective ='reg:squarederror',random_state =5)\n",
    "base_model(model)\n",
    "\n",
    "model = LGBMRegressor(random_state =5)\n",
    "base_model(model)\n",
    "np.mean(mse)"
   ]
  },
  {
   "cell_type": "markdown",
   "metadata": {},
   "source": [
    "## Hyperparameter Tuning"
   ]
  },
  {
   "cell_type": "code",
   "execution_count": 19,
   "metadata": {},
   "outputs": [
    {
     "data": {
      "text/html": [
       "<div>\n",
       "<style scoped>\n",
       "    .dataframe tbody tr th:only-of-type {\n",
       "        vertical-align: middle;\n",
       "    }\n",
       "\n",
       "    .dataframe tbody tr th {\n",
       "        vertical-align: top;\n",
       "    }\n",
       "\n",
       "    .dataframe thead th {\n",
       "        text-align: right;\n",
       "    }\n",
       "</style>\n",
       "<table border=\"1\" class=\"dataframe\">\n",
       "  <thead>\n",
       "    <tr style=\"text-align: right;\">\n",
       "      <th></th>\n",
       "      <th>so2</th>\n",
       "      <th>co</th>\n",
       "      <th>o3</th>\n",
       "      <th>no2</th>\n",
       "      <th>pm10</th>\n",
       "      <th>temp</th>\n",
       "      <th>wind_direction</th>\n",
       "      <th>wind_speed</th>\n",
       "      <th>humid</th>\n",
       "      <th>date</th>\n",
       "      <th>pm25</th>\n",
       "      <th>season</th>\n",
       "      <th>rain_yn</th>\n",
       "      <th>traffic</th>\n",
       "      <th>pm25_window</th>\n",
       "    </tr>\n",
       "  </thead>\n",
       "  <tbody>\n",
       "    <tr>\n",
       "      <th>3</th>\n",
       "      <td>0.012633</td>\n",
       "      <td>0.178571</td>\n",
       "      <td>0.181090</td>\n",
       "      <td>0.113861</td>\n",
       "      <td>0.057107</td>\n",
       "      <td>0.290424</td>\n",
       "      <td>0.054792</td>\n",
       "      <td>0.097328</td>\n",
       "      <td>0.523930</td>\n",
       "      <td>2017-12-01 03:00:00</td>\n",
       "      <td>13.0</td>\n",
       "      <td>겨울</td>\n",
       "      <td>0.0</td>\n",
       "      <td>2.0</td>\n",
       "      <td>13.25</td>\n",
       "    </tr>\n",
       "    <tr>\n",
       "      <th>4</th>\n",
       "      <td>0.011968</td>\n",
       "      <td>0.190476</td>\n",
       "      <td>0.177885</td>\n",
       "      <td>0.108911</td>\n",
       "      <td>0.056472</td>\n",
       "      <td>0.279827</td>\n",
       "      <td>0.277639</td>\n",
       "      <td>0.074427</td>\n",
       "      <td>0.561937</td>\n",
       "      <td>2017-12-01 04:00:00</td>\n",
       "      <td>12.0</td>\n",
       "      <td>겨울</td>\n",
       "      <td>0.0</td>\n",
       "      <td>2.0</td>\n",
       "      <td>13.00</td>\n",
       "    </tr>\n",
       "    <tr>\n",
       "      <th>5</th>\n",
       "      <td>0.011968</td>\n",
       "      <td>0.190476</td>\n",
       "      <td>0.168269</td>\n",
       "      <td>0.116337</td>\n",
       "      <td>0.057107</td>\n",
       "      <td>0.274333</td>\n",
       "      <td>0.288472</td>\n",
       "      <td>0.055344</td>\n",
       "      <td>0.576858</td>\n",
       "      <td>2017-12-01 05:00:00</td>\n",
       "      <td>16.0</td>\n",
       "      <td>겨울</td>\n",
       "      <td>0.0</td>\n",
       "      <td>2.0</td>\n",
       "      <td>13.50</td>\n",
       "    </tr>\n",
       "    <tr>\n",
       "      <th>6</th>\n",
       "      <td>0.011968</td>\n",
       "      <td>0.190476</td>\n",
       "      <td>0.165064</td>\n",
       "      <td>0.118812</td>\n",
       "      <td>0.057107</td>\n",
       "      <td>0.269231</td>\n",
       "      <td>0.295625</td>\n",
       "      <td>0.051527</td>\n",
       "      <td>0.584459</td>\n",
       "      <td>2017-12-01 06:00:00</td>\n",
       "      <td>13.0</td>\n",
       "      <td>겨울</td>\n",
       "      <td>0.0</td>\n",
       "      <td>2.0</td>\n",
       "      <td>13.50</td>\n",
       "    </tr>\n",
       "    <tr>\n",
       "      <th>7</th>\n",
       "      <td>0.011968</td>\n",
       "      <td>0.190476</td>\n",
       "      <td>0.139423</td>\n",
       "      <td>0.163366</td>\n",
       "      <td>0.055838</td>\n",
       "      <td>0.265699</td>\n",
       "      <td>0.317153</td>\n",
       "      <td>0.059160</td>\n",
       "      <td>0.552646</td>\n",
       "      <td>2017-12-01 07:00:00</td>\n",
       "      <td>13.0</td>\n",
       "      <td>겨울</td>\n",
       "      <td>0.0</td>\n",
       "      <td>2.0</td>\n",
       "      <td>13.50</td>\n",
       "    </tr>\n",
       "  </tbody>\n",
       "</table>\n",
       "</div>"
      ],
      "text/plain": [
       "        so2        co        o3       no2      pm10      temp  wind_direction  \\\n",
       "3  0.012633  0.178571  0.181090  0.113861  0.057107  0.290424        0.054792   \n",
       "4  0.011968  0.190476  0.177885  0.108911  0.056472  0.279827        0.277639   \n",
       "5  0.011968  0.190476  0.168269  0.116337  0.057107  0.274333        0.288472   \n",
       "6  0.011968  0.190476  0.165064  0.118812  0.057107  0.269231        0.295625   \n",
       "7  0.011968  0.190476  0.139423  0.163366  0.055838  0.265699        0.317153   \n",
       "\n",
       "   wind_speed     humid                 date  pm25 season  rain_yn  traffic  \\\n",
       "3    0.097328  0.523930  2017-12-01 03:00:00  13.0     겨울      0.0      2.0   \n",
       "4    0.074427  0.561937  2017-12-01 04:00:00  12.0     겨울      0.0      2.0   \n",
       "5    0.055344  0.576858  2017-12-01 05:00:00  16.0     겨울      0.0      2.0   \n",
       "6    0.051527  0.584459  2017-12-01 06:00:00  13.0     겨울      0.0      2.0   \n",
       "7    0.059160  0.552646  2017-12-01 07:00:00  13.0     겨울      0.0      2.0   \n",
       "\n",
       "   pm25_window  \n",
       "3        13.25  \n",
       "4        13.00  \n",
       "5        13.50  \n",
       "6        13.50  \n",
       "7        13.50  "
      ]
     },
     "execution_count": 19,
     "metadata": {},
     "output_type": "execute_result"
    }
   ],
   "source": [
    "speed_scale.head()"
   ]
  },
  {
   "cell_type": "code",
   "execution_count": 20,
   "metadata": {},
   "outputs": [],
   "source": [
    "# modeling Definition\n",
    "def voting_model(models) : #Voting Model\n",
    "    for i,m in enumerate(models):\n",
    "        print(i, m.__class__)\n",
    "        m.fit(x_train, y_train)\n",
    "\n",
    "    models = sorted(models, key=lambda m: mean_squared_error(y_test, m.predict(x_test)))\n",
    "\n",
    "\n",
    "    y_preds = np.array([m.predict(x_test) for m in models]).T\n",
    "    y_preds_mean = y_preds.mean(axis=1)\n",
    "    df_predict = pd.DataFrame({'Actual': y_test, 'Predicted': y_preds_mean})\n",
    "    print(\"MSE : {:.4f}\".format((mean_squared_error(y_test, y_preds_mean))**0.5))\n",
    "\n",
    "    y_pred_log = np.array([m.predict(x_test) for m in models]).T.dot(\n",
    "    np.linspace(1.0, 0.0, len(models))/sum(np.linspace(1.0, 0.0, len(models))))\n",
    "    df_predict = pd.DataFrame({'Actual': y_test, 'Predicted': y_pred_log})\n",
    "    print(\"weight MSE : {:.4f}\".format((mean_squared_error(y_test, y_pred_log))**0.5))\n",
    "\n",
    "def Randomsearch_rmse(models): #random search \n",
    "    model = RandomizedSearchCV(estimator= models, param_distributions = param, \n",
    "                               n_iter=500, cv = 3, scoring= 'neg_mean_squared_error')\n",
    "    model.fit(x_train, y_train)\n",
    "\n",
    "    print(\"RandomizedSearchCV 최적의 파라미터 : \", model.best_params_)\n",
    "    best_model = model.best_estimator_\n",
    "\n",
    "    y_pred = best_model.predict(x_test)\n",
    "    print(\"MSE : {:.4f}\".format((mean_squared_error(y_test, y_pred))**0.5))"
   ]
  },
  {
   "cell_type": "code",
   "execution_count": 40,
   "metadata": {},
   "outputs": [
    {
     "name": "stdout",
     "output_type": "stream",
     "text": [
      "RandomizedSearchCV 최적의 파라미터 :  {'subsample': 0.7857142857142857, 'reg_lambda': 0.2575, 'reg_alpha': 0.42250000000000004, 'n_estimator': 410, 'min_child_weight': 3.3157894736842106, 'max_depth': 6}\n",
      "MSE : 6.3001\n"
     ]
    }
   ],
   "source": [
    "# Random Search (xgboost)\n",
    "param = {'max_depth': list(range(4, 25)),\n",
    "         'n_estimator' : list(range(10, 3000, 20)),\n",
    "         'min_child_weight' : list(np.linspace(1, 12, 20)),\n",
    "         'subsample' : list(np.linspace(0, 1, 15)),\n",
    "         'reg_alpha' : [x for x in np.linspace(0.01,1,25)],\n",
    "         'reg_lambda' : [x for x in np.linspace(0.01,1,25)]\n",
    "}\n",
    "models = XGBRegressor(objective='reg:squarederror',random_state =5)\n",
    "\n",
    "Randomsearch_rmse(models)"
   ]
  },
  {
   "cell_type": "code",
   "execution_count": 41,
   "metadata": {},
   "outputs": [
    {
     "name": "stdout",
     "output_type": "stream",
     "text": [
      "RandomizedSearchCV 최적의 파라미터 :  {'n_estimators': 347, 'min_samples_leaf': 3, 'max_depth': 10}\n",
      "MSE : 6.4931\n"
     ]
    }
   ],
   "source": [
    "# Random Search (RandomForest)\n",
    "param = {'max_depth' : [int(x) for x in range(5,25)],\n",
    "         'n_estimators' : [int(x) for x in np.linspace(start = 200, stop = 3000, num = 20)],\n",
    "         'min_samples_leaf': list(range(1,6))\n",
    "}\n",
    "models = RandomForestRegressor(random_state =5)\n",
    "\n",
    "Randomsearch_rmse(models)"
   ]
  },
  {
   "cell_type": "code",
   "execution_count": 23,
   "metadata": {},
   "outputs": [
    {
     "name": "stdout",
     "output_type": "stream",
     "text": [
      "RandomizedSearchCV 최적의 파라미터 :  {'n_estimators': 3000, 'min_samples_split': 3, 'min_samples_leaf': 1, 'max_features': 4, 'max_depth': 19}\n",
      "MSE : 6.2690\n"
     ]
    }
   ],
   "source": [
    "# Random Search (RandomForest)\n",
    "param = {'max_depth' : [int(x) for x in range(5,25)],\n",
    "         'n_estimators' : [int(x) for x in np.linspace(start = 200, stop = 3000, num = 20)],\n",
    "         'min_samples_leaf': np.arange(1,10,1),\n",
    "         'min_samples_split' : np.arange(1,10,1),\n",
    "         'max_features' : list(range(1,x_train.shape[1]))\n",
    "}\n",
    "models = RandomForestRegressor(random_state =5)\n",
    "\n",
    "Randomsearch_rmse(models)"
   ]
  },
  {
   "cell_type": "code",
   "execution_count": 24,
   "metadata": {},
   "outputs": [
    {
     "name": "stdout",
     "output_type": "stream",
     "text": [
      "RandomizedSearchCV 최적의 파라미터 :  {'reg_lambda': 0.11241379310344828, 'reg_alpha': 0.48793103448275865, 'n_estimators': 1275, 'max_depth': 17, 'learning_rate': 0.035448275862068966, 'boosting': 'gbdt'}\n",
      "MSE : 6.2468\n"
     ]
    }
   ],
   "source": [
    "# Random Search (LightGBM)\n",
    "param = {'max_depth' : list(range(8, 30)),\n",
    "         'n_estimators' : [int(x) for x in np.linspace(start = 1000, stop = 3000, num = 30)],\n",
    "         'reg_alpha' : [x for x in np.linspace(0.01,1,30)],\n",
    "         'reg_lambda' : [x for x in np.linspace(0.01,1,30)],\n",
    "         'boosting' : ['gbdt','dart','goss'],\n",
    "         'learning_rate' : [x for x in np.linspace(0.001,1,30)]\n",
    "}\n",
    "models = LGBMRegressor(random_state =5)\n",
    "\n",
    "Randomsearch_rmse(models)"
   ]
  },
  {
   "cell_type": "code",
   "execution_count": 25,
   "metadata": {},
   "outputs": [
    {
     "name": "stdout",
     "output_type": "stream",
     "text": [
      "RandomizedSearchCV 최적의 파라미터 :  {'reg_lambda': 0.01, 'reg_alpha': 0.8350000000000001, 'n_estimators': 2467, 'max_depth': 13, 'learning_rate': 0.5421250000000001, 'boosting': 'dart', 'bagging_fraction': 0.41725}\n",
      "MSE : 6.2199\n"
     ]
    }
   ],
   "source": [
    "# Random Search (LightGBM)\n",
    "param = {'max_depth' : list(range(4, 25)),\n",
    "         'n_estimators' : [int(x) for x in np.linspace(start = 100, stop = 3000, num = 50)],\n",
    "         'reg_alpha' : [x for x in np.linspace(0.01,1,25)],\n",
    "         'reg_lambda' : [x for x in np.linspace(0.01,1,25)],\n",
    "         'boosting' : ['gbdt','dart','goss'],\n",
    "         'learning_rate' : [x for x in np.linspace(0.001,1,25)],\n",
    "         'bagging_fraction' : [x for x in np.linspace(0.001,1,25)]     \n",
    "}\n",
    "models = LGBMRegressor(random_state =5)\n",
    "\n",
    "Randomsearch_rmse(models)"
   ]
  },
  {
   "cell_type": "markdown",
   "metadata": {},
   "source": [
    "### LightGBM RandomForest Voting"
   ]
  },
  {
   "cell_type": "code",
   "execution_count": 27,
   "metadata": {},
   "outputs": [
    {
     "name": "stdout",
     "output_type": "stream",
     "text": [
      "0 <class 'sklearn.ensemble._forest.RandomForestRegressor'>\n",
      "1 <class 'lightgbm.sklearn.LGBMRegressor'>\n",
      "MSE : 6.1086\n",
      "weight MSE : 6.2199\n"
     ]
    }
   ],
   "source": [
    "models = [RandomForestRegressor(n_estimators=3000, min_samples_leaf=1, min_samples_split=3 , max_features=4, max_depth=19, random_state =5),\n",
    "\n",
    "         LGBMRegressor(max_depth=13, n_estimators=2467, learning_rate =0.5421250000000001, boosting='dart',\n",
    "                       reg_alpha=0.8350000000000001, reg_lambda=0.01, bagging_fraction=0.41725, random_state =5)]\n",
    "\n",
    "voting_model(models)"
   ]
  },
  {
   "cell_type": "markdown",
   "metadata": {},
   "source": [
    "## Airkorea 24시간이동평균  \n",
    "## RMSE 측정"
   ]
  },
  {
   "cell_type": "code",
   "execution_count": 31,
   "metadata": {},
   "outputs": [],
   "source": [
    "def pm24(pm25, C12):\n",
    "        if pm25<30 :\n",
    "            return(pm25)\n",
    "        elif pm25>=30 :\n",
    "            if (pm25/C12) <0.9 or (pm25/C12)> 1.7:\n",
    "                return(pm25)\n",
    "            else : return(0.75*pm25)"
   ]
  },
  {
   "cell_type": "code",
   "execution_count": 20,
   "metadata": {},
   "outputs": [
    {
     "name": "stdout",
     "output_type": "stream",
     "text": [
      "MSE : 10.7705\n"
     ]
    }
   ],
   "source": [
    "airkorea_24h = df.copy()\n",
    "airkorea_24h['C12'] = airkorea_24h['pm25'].rolling(window=13).mean()\n",
    "airkorea_24h.reset_index(drop=True, inplace=True)\n",
    "airkorea_24h['Cai'] = airkorea_24h.apply(lambda x : pm24(x['pm25'],x['C12']), axis=1)\n",
    "airkorea_24h['C4']  = airkorea_24h['Cai'].rolling(window=5).mean()\n",
    "airkorea_24h.reset_index(drop=True, inplace=True)\n",
    "airkorea_24h.dropna(inplace=True)\n",
    "airkorea_24h['C24E']  = round((airkorea_24h['C12']*12 + airkorea_24h['C4']*12)/24)\n",
    "print(\"MSE : {:.4f}\".format((mean_squared_error(airkorea_24h['pm25'], airkorea_24h['C24E']))**0.5))"
   ]
  },
  {
   "cell_type": "markdown",
   "metadata": {},
   "source": [
    "## Categorical"
   ]
  },
  {
   "cell_type": "markdown",
   "metadata": {},
   "source": [
    "## Airkorea 미세먼지 기준 적용하여 진행  \n",
    "## 좋음(0-50), 보통(51-100), 나쁨(101-250), 매우나쁨(250-)"
   ]
  },
  {
   "cell_type": "code",
   "execution_count": 21,
   "metadata": {},
   "outputs": [],
   "source": [
    "def airkorea_categori(x) :\n",
    "    if 15>= x>=0:\n",
    "        return('0')\n",
    "    elif 35 >= x >= 16 :\n",
    "        return('1')\n",
    "    elif 75 >=x >= 36:\n",
    "        return('2')\n",
    "    else: return('3') \n",
    "    \n",
    "def base_accuracy(model):\n",
    "    model.fit(x_train,y_train)\n",
    "    y_pred = model.predict(x_test)\n",
    "    print(\"ACC : \", accuracy_score(y_test, y_pred))\n",
    "    print(\"f1-score : \", f1_score(y_test, y_pred, average='macro'))\n",
    "    \n",
    "def categorical_modeling(models):\n",
    "    model = VotingClassifier(estimators=[(f'{m}' , m) for m in models], voting='hard')\n",
    " \n",
    "    model = model.fit(x_train, y_train)\n",
    "\n",
    "    #예측 진행\n",
    "    y_pred = model.predict(x_test) \n",
    "    df_predict = pd.DataFrame({'Actual': y_test, 'Predicted': y_pred})\n",
    "    # ACC, F1-score check\n",
    "    print(\"ACC : \", accuracy_score(y_test, y_pred))\n",
    "    print(\"f1-score : \", f1_score(y_test, y_pred, average='macro'))\n",
    "    \n",
    "def Randomsearch_categori(models):\n",
    "    model = RandomizedSearchCV(estimator= models, param_distributions = param, \n",
    "                               n_iter=500, cv = 3, scoring= 'accuracy')\n",
    "    model.fit(x_train, y_train)\n",
    "\n",
    "    print(\"RandomizedSearchCV 최적의 파라미터 : \", model.best_params_)\n",
    "    best_model = model.best_estimator_\n",
    "\n",
    "    y_pred = best_model.predict(x_test)\n",
    "    print(\"ACC : \", accuracy_score(y_test, y_pred))\n",
    "    print(\"f1-score : \", f1_score(y_test, y_pred, average='macro'))"
   ]
  },
  {
   "cell_type": "code",
   "execution_count": 23,
   "metadata": {},
   "outputs": [
    {
     "data": {
      "text/html": [
       "<div>\n",
       "<style scoped>\n",
       "    .dataframe tbody tr th:only-of-type {\n",
       "        vertical-align: middle;\n",
       "    }\n",
       "\n",
       "    .dataframe tbody tr th {\n",
       "        vertical-align: top;\n",
       "    }\n",
       "\n",
       "    .dataframe thead th {\n",
       "        text-align: right;\n",
       "    }\n",
       "</style>\n",
       "<table border=\"1\" class=\"dataframe\">\n",
       "  <thead>\n",
       "    <tr style=\"text-align: right;\">\n",
       "      <th></th>\n",
       "      <th>so2</th>\n",
       "      <th>co</th>\n",
       "      <th>o3</th>\n",
       "      <th>no2</th>\n",
       "      <th>pm10</th>\n",
       "      <th>temp</th>\n",
       "      <th>wind_direction</th>\n",
       "      <th>wind_speed</th>\n",
       "      <th>humid</th>\n",
       "      <th>date</th>\n",
       "      <th>pm25</th>\n",
       "      <th>season</th>\n",
       "      <th>rain_yn</th>\n",
       "      <th>traffic</th>\n",
       "      <th>pm25_window</th>\n",
       "      <th>PM_categorical</th>\n",
       "    </tr>\n",
       "  </thead>\n",
       "  <tbody>\n",
       "    <tr>\n",
       "      <th>3</th>\n",
       "      <td>0.012633</td>\n",
       "      <td>0.178571</td>\n",
       "      <td>0.181090</td>\n",
       "      <td>0.113861</td>\n",
       "      <td>0.057107</td>\n",
       "      <td>0.290424</td>\n",
       "      <td>0.054792</td>\n",
       "      <td>0.097328</td>\n",
       "      <td>0.523930</td>\n",
       "      <td>2017-12-01 03:00:00</td>\n",
       "      <td>13.0</td>\n",
       "      <td>겨울</td>\n",
       "      <td>0.0</td>\n",
       "      <td>2.0</td>\n",
       "      <td>13.25</td>\n",
       "      <td>0</td>\n",
       "    </tr>\n",
       "    <tr>\n",
       "      <th>4</th>\n",
       "      <td>0.011968</td>\n",
       "      <td>0.190476</td>\n",
       "      <td>0.177885</td>\n",
       "      <td>0.108911</td>\n",
       "      <td>0.056472</td>\n",
       "      <td>0.279827</td>\n",
       "      <td>0.277639</td>\n",
       "      <td>0.074427</td>\n",
       "      <td>0.561937</td>\n",
       "      <td>2017-12-01 04:00:00</td>\n",
       "      <td>12.0</td>\n",
       "      <td>겨울</td>\n",
       "      <td>0.0</td>\n",
       "      <td>2.0</td>\n",
       "      <td>13.00</td>\n",
       "      <td>0</td>\n",
       "    </tr>\n",
       "    <tr>\n",
       "      <th>5</th>\n",
       "      <td>0.011968</td>\n",
       "      <td>0.190476</td>\n",
       "      <td>0.168269</td>\n",
       "      <td>0.116337</td>\n",
       "      <td>0.057107</td>\n",
       "      <td>0.274333</td>\n",
       "      <td>0.288472</td>\n",
       "      <td>0.055344</td>\n",
       "      <td>0.576858</td>\n",
       "      <td>2017-12-01 05:00:00</td>\n",
       "      <td>16.0</td>\n",
       "      <td>겨울</td>\n",
       "      <td>0.0</td>\n",
       "      <td>2.0</td>\n",
       "      <td>13.50</td>\n",
       "      <td>1</td>\n",
       "    </tr>\n",
       "    <tr>\n",
       "      <th>6</th>\n",
       "      <td>0.011968</td>\n",
       "      <td>0.190476</td>\n",
       "      <td>0.165064</td>\n",
       "      <td>0.118812</td>\n",
       "      <td>0.057107</td>\n",
       "      <td>0.269231</td>\n",
       "      <td>0.295625</td>\n",
       "      <td>0.051527</td>\n",
       "      <td>0.584459</td>\n",
       "      <td>2017-12-01 06:00:00</td>\n",
       "      <td>13.0</td>\n",
       "      <td>겨울</td>\n",
       "      <td>0.0</td>\n",
       "      <td>2.0</td>\n",
       "      <td>13.50</td>\n",
       "      <td>0</td>\n",
       "    </tr>\n",
       "    <tr>\n",
       "      <th>7</th>\n",
       "      <td>0.011968</td>\n",
       "      <td>0.190476</td>\n",
       "      <td>0.139423</td>\n",
       "      <td>0.163366</td>\n",
       "      <td>0.055838</td>\n",
       "      <td>0.265699</td>\n",
       "      <td>0.317153</td>\n",
       "      <td>0.059160</td>\n",
       "      <td>0.552646</td>\n",
       "      <td>2017-12-01 07:00:00</td>\n",
       "      <td>13.0</td>\n",
       "      <td>겨울</td>\n",
       "      <td>0.0</td>\n",
       "      <td>2.0</td>\n",
       "      <td>13.50</td>\n",
       "      <td>0</td>\n",
       "    </tr>\n",
       "  </tbody>\n",
       "</table>\n",
       "</div>"
      ],
      "text/plain": [
       "        so2        co        o3       no2      pm10      temp  wind_direction  \\\n",
       "3  0.012633  0.178571  0.181090  0.113861  0.057107  0.290424        0.054792   \n",
       "4  0.011968  0.190476  0.177885  0.108911  0.056472  0.279827        0.277639   \n",
       "5  0.011968  0.190476  0.168269  0.116337  0.057107  0.274333        0.288472   \n",
       "6  0.011968  0.190476  0.165064  0.118812  0.057107  0.269231        0.295625   \n",
       "7  0.011968  0.190476  0.139423  0.163366  0.055838  0.265699        0.317153   \n",
       "\n",
       "   wind_speed     humid                 date  pm25 season  rain_yn  traffic  \\\n",
       "3    0.097328  0.523930  2017-12-01 03:00:00  13.0     겨울      0.0      2.0   \n",
       "4    0.074427  0.561937  2017-12-01 04:00:00  12.0     겨울      0.0      2.0   \n",
       "5    0.055344  0.576858  2017-12-01 05:00:00  16.0     겨울      0.0      2.0   \n",
       "6    0.051527  0.584459  2017-12-01 06:00:00  13.0     겨울      0.0      2.0   \n",
       "7    0.059160  0.552646  2017-12-01 07:00:00  13.0     겨울      0.0      2.0   \n",
       "\n",
       "   pm25_window PM_categorical  \n",
       "3        13.25              0  \n",
       "4        13.00              0  \n",
       "5        13.50              1  \n",
       "6        13.50              0  \n",
       "7        13.50              0  "
      ]
     },
     "execution_count": 23,
     "metadata": {},
     "output_type": "execute_result"
    }
   ],
   "source": [
    "df_categori = speed_scale.copy()\n",
    "df_categori['PM_categorical'] = df_categori['pm25'].apply(airkorea_categori) # categori 생성\n",
    "df_categori['PM_categorical'] = df_categori['PM_categorical'].astype('category')\n",
    "df_categori.dropna(inplace=True)\n",
    "df_categori.head()"
   ]
  },
  {
   "cell_type": "code",
   "execution_count": 24,
   "metadata": {},
   "outputs": [],
   "source": [
    "data = df_categori.copy()\n",
    "data.dropna(inplace=True)\n",
    "X = data.drop(['date',\"pm25\",'PM_categorical'], axis=1)\n",
    "Y = data[\"PM_categorical\"]\n",
    "mse = []\n",
    "\n",
    "# one-hot encoding\n",
    "# object 변수만 해당\n",
    "for i in [\"season\",'rain_yn','traffic']:\n",
    "    X[i] = pd.get_dummies(X[i])\n",
    "# trian / test split 0.8/ 0.2\n",
    "x_train, x_test, y_train, y_test = train_test_split(X, Y, test_size=0.2, random_state=0)"
   ]
  },
  {
   "cell_type": "code",
   "execution_count": 25,
   "metadata": {},
   "outputs": [
    {
     "name": "stdout",
     "output_type": "stream",
     "text": [
      "ACC :  0.8438579956016337\n",
      "f1-score :  0.8438085620986613\n",
      "ACC :  0.8391454602576186\n",
      "f1-score :  0.8291397320116763\n",
      "ACC :  0.839459629280553\n",
      "f1-score :  0.8331090109286836\n",
      "ACC :  0.839459629280553\n",
      "f1-score :  0.83495032063809\n"
     ]
    }
   ],
   "source": [
    "# ACC Check\n",
    "model = RandomForestClassifier(random_state =5)\n",
    "base_accuracy(model)\n",
    "\n",
    "model = GradientBoostingClassifier(random_state =5)\n",
    "base_accuracy(model)\n",
    "\n",
    "model = XGBClassifier(objective ='multi:softprob',random_state =5)\n",
    "base_accuracy(model)\n",
    "\n",
    "model = LGBMClassifier(random_state =5)\n",
    "base_accuracy(model)"
   ]
  },
  {
   "cell_type": "code",
   "execution_count": 28,
   "metadata": {},
   "outputs": [
    {
     "name": "stdout",
     "output_type": "stream",
     "text": [
      "RandomizedSearchCV 최적의 파라미터 :  {'subsample': 0.3333333333333333, 'n_estimator': 1960, 'min_child_weight': 4.857142857142858, 'max_depth': 2}\n",
      "ACC :  0.8391454602576186\n",
      "f1-score :  0.8349085211925797\n"
     ]
    }
   ],
   "source": [
    "# Random Search CV (xgboost)\n",
    "param = {'max_depth': list(range(2, 25)),\n",
    "         'n_estimator' : list(range(10, 3000, 30)),\n",
    "         'min_child_weight' : list(np.linspace(1, 10, 15)),\n",
    "         'subsample' : list(np.linspace(0, 1, 7))\n",
    "}\n",
    "models = XGBClassifier(objective='multi:softprob',random_state =5)\n",
    "Randomsearch_categori(models)"
   ]
  },
  {
   "cell_type": "code",
   "execution_count": 27,
   "metadata": {},
   "outputs": [
    {
     "name": "stdout",
     "output_type": "stream",
     "text": [
      "RandomizedSearchCV 최적의 파라미터 :  {'subsample': 0.42857142857142855, 'reg_lambda': 0.01, 'reg_alpha': 0.2575, 'n_estimator': 1990, 'min_child_weight': 3.3157894736842106, 'max_depth': 4}\n",
      "ACC :  0.8378887841658812\n",
      "f1-score :  0.8323472763394253\n"
     ]
    }
   ],
   "source": [
    "# Random Search CV (xgboost)\n",
    "param = {'max_depth': list(range(4, 25)),\n",
    "         'n_estimator' : list(range(10, 3000, 20)),\n",
    "         'min_child_weight' : list(np.linspace(1, 12, 20)),\n",
    "         'subsample' : list(np.linspace(0, 1, 15)),\n",
    "         'reg_alpha' : [x for x in np.linspace(0.01,1,25)],\n",
    "         'reg_lambda' : [x for x in np.linspace(0.01,1,25)]\n",
    "}\n",
    "models = XGBClassifier(objective='multi:softprob',random_state =5)\n",
    "\n",
    "Randomsearch_categori(models)"
   ]
  },
  {
   "cell_type": "code",
   "execution_count": 41,
   "metadata": {},
   "outputs": [
    {
     "name": "stdout",
     "output_type": "stream",
     "text": [
      "RandomizedSearchCV 최적의 파라미터 :  {'n_estimators': 1378, 'min_samples_split': 3, 'min_samples_leaf': 3, 'max_features': 2, 'max_depth': 24}\n",
      "ACC :  0.8448005026704367\n",
      "f1-score :  0.8413348095954294\n"
     ]
    }
   ],
   "source": [
    "# RandomForest\n",
    "param = {'max_depth' : [int(x) for x in range(5,25)],\n",
    "         'n_estimators' : [int(x) for x in np.linspace(start = 200, stop = 3000, num = 20)],\n",
    "         'min_samples_leaf': np.arange(1,10,1),\n",
    "         'min_samples_split' : np.arange(1,10,1),\n",
    "         'max_features' : list(range(1,x_train.shape[1]))\n",
    "}\n",
    "models = RandomForestClassifier(random_state =5)\n",
    "\n",
    "Randomsearch_categori(models)"
   ]
  },
  {
   "cell_type": "code",
   "execution_count": 42,
   "metadata": {},
   "outputs": [
    {
     "name": "stdout",
     "output_type": "stream",
     "text": [
      "RandomizedSearchCV 최적의 파라미터 :  {'n_estimators': 1231, 'min_samples_split': 4, 'min_samples_leaf': 1, 'max_depth': 21, 'bootstrap': True}\n",
      "ACC :  0.8482563619227145\n",
      "f1-score :  0.8466582120575071\n"
     ]
    }
   ],
   "source": [
    "# RandomForest\n",
    "param = {'max_depth' : [int(x) for x in range(5,25)],\n",
    "         'n_estimators' : [int(x) for x in np.linspace(start = 200, stop = 3000, num = 20)],\n",
    "         'min_samples_leaf': list(range(1,2)),\n",
    "         'min_samples_split' : list(range(1,5)),\n",
    "         'bootstrap' : [True, False]\n",
    "}\n",
    "models = RandomForestClassifier(random_state =5)\n",
    "\n",
    "Randomsearch_categori(models)"
   ]
  },
  {
   "cell_type": "code",
   "execution_count": 43,
   "metadata": {},
   "outputs": [
    {
     "name": "stdout",
     "output_type": "stream",
     "text": [
      "RandomizedSearchCV 최적의 파라미터 :  {'reg_lambda': 0.875125, 'reg_alpha': 0.875125, 'n_estimators': 200, 'max_depth': 5}\n",
      "ACC :  0.8410304743952246\n",
      "f1-score :  0.8380284599237111\n"
     ]
    }
   ],
   "source": [
    "# LightGBM\n",
    "param = {'max_depth' : list(range(4, 25)),\n",
    "         'n_estimators' : [int(x) for x in np.linspace(start = 200, stop = 3000, num = 20)],\n",
    "         'reg_alpha' : [x for x in np.linspace(0.001,1,25)],\n",
    "         'reg_lambda' : [x for x in np.linspace(0.001,1,25)]      \n",
    "}\n",
    "models = LGBMClassifier(random_state =5)\n",
    "\n",
    "Randomsearch_categori(models)"
   ]
  },
  {
   "cell_type": "code",
   "execution_count": 44,
   "metadata": {},
   "outputs": [
    {
     "name": "stdout",
     "output_type": "stream",
     "text": [
      "RandomizedSearchCV 최적의 파라미터 :  {'reg_lambda': 0.001, 'reg_alpha': 0.45887500000000003, 'n_estimators': 218, 'max_depth': 4, 'learning_rate': 0.12587500000000001, 'boosting': 'dart'}\n",
      "ACC :  0.8385171222117499\n",
      "f1-score :  0.8337364523371089\n"
     ]
    }
   ],
   "source": [
    "# LightGBM\n",
    "param = {'max_depth' : list(range(3, 30)),\n",
    "         'n_estimators' : [int(x) for x in np.linspace(start = 100, stop = 3000, num = 20)],\n",
    "         'reg_alpha' : [x for x in np.linspace(0.001,1,30)],\n",
    "         'reg_lambda' : [x for x in np.linspace(0.001,1,30)],\n",
    "         'learning_rate' : [x for x in np.linspace(0.001,1,30)]\n",
    "}\n",
    "models = LGBMClassifier(objective = 'multiclass',random_state =5)\n",
    "\n",
    "Randomsearch_categori(models)"
   ]
  },
  {
   "cell_type": "code",
   "execution_count": null,
   "metadata": {},
   "outputs": [],
   "source": [
    "# LightGBM\n",
    "param = {'max_depth' : list(range(2, 30)),\n",
    "         'n_estimators' : [int(x) for x in np.linspace(start = 100, stop = 3000, num = 30)],\n",
    "         'reg_alpha' :[x for x in np.linspace(0.001,1,30)],\n",
    "         'reg_lambda' : [x for x in np.linspace(0.001,1,30)],\n",
    "         'learning_rate' : [x for x in np.linspace(0.001,1,30)],\n",
    "         'bagging_fraction' : [x for x in np.linspace(0.001,1,30)]     \n",
    "}\n",
    "models = LGBMClassifier(objective = 'multiclass',random_state =5)\n",
    "\n",
    "Randomsearch_categori(models)"
   ]
  },
  {
   "cell_type": "code",
   "execution_count": null,
   "metadata": {},
   "outputs": [],
   "source": [
    "param = {'max_depth' : list(range(16, 24)),\n",
    "         'n_estimators' : [int(x) for x in np.linspace(start = 100, stop = 2500, num = 50)],\n",
    "         'reg_alpha' : list(np.arange(0.001, 0.2, 0.04)),\n",
    "         'reg_lambda' : list(np.arange(0.001, 0.1, 0.04)),\n",
    "         'learning_rate' : list(np.arange(0.1, 0.3, 0.01))   \n",
    "}\n",
    "\n",
    "model = LGBMClassifier(objective='reg:squarederror', random_state=5)\n",
    "\n",
    "lgb_model = GridSearchCV(model, param_grid = param, cv = 3)\n",
    "lgb_model.fit(x_train, y_train)\n",
    "\n",
    "print(\"GridSearchCV 최적의 파라미터 : \", lgb_model.best_params_)\n",
    "print(\"GridSearchCV 최고 정확도 : \", lgb_model.best_score_)\n",
    "\n",
    "best_model = lgb_model.best_estimator_\n",
    "\n",
    "pred = best_model.predict(x_test)\n",
    "print(\"RMSE : {0:.4f}\".format((mean_squared_error(y_test, y_pred))**0.5))"
   ]
  },
  {
   "cell_type": "code",
   "execution_count": 20,
   "metadata": {},
   "outputs": [
    {
     "name": "stdout",
     "output_type": "stream",
     "text": [
      "ACC :  0.842287150486962\n",
      "f1-score :  0.8382515682023672\n"
     ]
    }
   ],
   "source": [
    "model = LGBMClassifier(max_depth=5, n_estimators=200, reg_alpha=0.875125, reg_lambda=0.875125, bagging_fraction= 0.1675,  random_state =5)\n",
    "model.fit(x_train, y_train)\n",
    "y_pred = model.predict(x_test)\n",
    "print(\"ACC : \", accuracy_score(y_test, y_pred))\n",
    "print(\"f1-score : \", f1_score(y_test, y_pred, average='macro'))"
   ]
  },
  {
   "cell_type": "code",
   "execution_count": null,
   "metadata": {},
   "outputs": [],
   "source": [
    "# LightGBM\n",
    "param = {'max_depth' : list(range(4, 25)),\n",
    "         'n_estimators' : [int(x) for x in np.linspace(start = 100, stop = 3000, num = 50)],\n",
    "         'reg_alpha' : [x for x in np.linspace(0.01,1,25)],\n",
    "         'reg_lambda' : [x for x in np.linspace(0.01,1,25)],\n",
    "         'boosting' : ['gbdt','dart','goss'],\n",
    "         'learning_rate' : [x for x in np.linspace(0.001,1,25)],\n",
    "         'bagging_fraction' : [x for x in np.linspace(0.001,1,25)]     \n",
    "}\n",
    "models = LGBMClassifier(random_state =5)\n",
    "\n",
    "Randomsearch_categori(models)"
   ]
  },
  {
   "cell_type": "code",
   "execution_count": 48,
   "metadata": {},
   "outputs": [
    {
     "name": "stdout",
     "output_type": "stream",
     "text": [
      "ACC :  0.844172164624568\n",
      "f1-score :  0.8409354331236714\n"
     ]
    }
   ],
   "source": [
    "# add lightGBM\n",
    "models = [RandomForestClassifier(n_estimators=1231, min_samples_leaf=1, min_samples_split =4 ,max_depth=21, \n",
    "                                 bootstrap= True, random_state =5)]\n",
    "\n",
    "models += [LGBMClassifier(max_depth=5, n_estimators=200, reg_alpha=0.875125, reg_lambda=0.875125, bagging_fraction= 0.1675,  random_state =5)]\n",
    "\n",
    "# models += [XGBClassifier(max_depth=6, n_estimators=1330, min_child_weight= 3.5714285714285716,  subsample= 0.8333333333333333,  random_state =5)]\n",
    "\n",
    "\n",
    "categorical_modeling(models)"
   ]
  },
  {
   "cell_type": "code",
   "execution_count": null,
   "metadata": {},
   "outputs": [],
   "source": [
    "target_names = df_categori['PM_categorical'].unique().tolist()\n",
    "print(metrics.classification_report(y_test, y_pred, target_names=target_names))"
   ]
  },
  {
   "cell_type": "code",
   "execution_count": 44,
   "metadata": {},
   "outputs": [
    {
     "name": "stdout",
     "output_type": "stream",
     "text": [
      "ACC :  0.8485705309456487\n",
      "f1-score :  0.8474498700543873\n"
     ]
    }
   ],
   "source": [
    "model = RandomForestClassifier(n_estimators=1231, min_samples_leaf=1, min_samples_split =4 ,max_depth=21, \n",
    "                                 bootstrap= True, random_state =5)\n",
    "model.fit(x_train,y_train)\n",
    "y_pred = model.predict(x_test)\n",
    "print(\"ACC : \", accuracy_score(y_test, y_pred))\n",
    "print(\"f1-score : \", f1_score(y_test, y_pred, average='macro'))"
   ]
  },
  {
   "cell_type": "code",
   "execution_count": 45,
   "metadata": {},
   "outputs": [
    {
     "name": "stdout",
     "output_type": "stream",
     "text": [
      "              precision    recall  f1-score   support\n",
      "\n",
      "           0       0.87      0.85      0.86       846\n",
      "           1       0.83      0.85      0.84      1308\n",
      "           2       0.85      0.86      0.86       853\n",
      "           3       0.92      0.77      0.84       176\n",
      "\n",
      "    accuracy                           0.85      3183\n",
      "   macro avg       0.87      0.83      0.85      3183\n",
      "weighted avg       0.85      0.85      0.85      3183\n",
      "\n"
     ]
    }
   ],
   "source": [
    "target_names = df_categori['PM_categorical'].unique().tolist()\n",
    "print(metrics.classification_report(y_test, y_pred, target_names=target_names))"
   ]
  },
  {
   "cell_type": "code",
   "execution_count": 35,
   "metadata": {},
   "outputs": [],
   "source": [
    "# add lightGBM\n",
    "models = [RandomForestClassifier(n_estimators=1231, min_samples_leaf=1, min_samples_split =4 ,max_depth=21, \n",
    "                                 bootstrap= True, random_state =5)]\n",
    "\n",
    "models += [LGBMClassifier(reg_lambda = 0.875125,reg_alpha = 0.875125, n_estimators=200 , max_depth=5, random_state=5)]\n",
    "\n",
    "# categorical_modeling(models)"
   ]
  },
  {
   "cell_type": "code",
   "execution_count": 37,
   "metadata": {},
   "outputs": [
    {
     "name": "stdout",
     "output_type": "stream",
     "text": [
      "ACC :  0.844172164624568\n",
      "f1-score :  0.8409354331236714\n"
     ]
    }
   ],
   "source": [
    "votingC = VotingClassifier(estimators=[(f'{m}' , m) for m in models], voting='soft')\n",
    "\n",
    "votingC = votingC.fit(x_train, y_train)\n",
    "\n",
    "#예측 진행\n",
    "y_pred = votingC.predict(x_test) \n",
    "df_predict = pd.DataFrame({'Actual': y_test, 'Predicted': y_pred})\n",
    "# ACC, F1-score check\n",
    "print(\"ACC : \", accuracy_score(y_test, y_pred))\n",
    "print(\"f1-score : \", f1_score(y_test, y_pred, average='macro'))"
   ]
  },
  {
   "cell_type": "code",
   "execution_count": 41,
   "metadata": {
    "scrolled": true
   },
   "outputs": [
    {
     "name": "stdout",
     "output_type": "stream",
     "text": [
      "              precision    recall  f1-score   support\n",
      "\n",
      "           0       0.85      0.87      0.86       846\n",
      "           1       0.83      0.84      0.83      1308\n",
      "           2       0.85      0.85      0.85       853\n",
      "           3       0.92      0.74      0.82       176\n",
      "\n",
      "    accuracy                           0.84      3183\n",
      "   macro avg       0.86      0.83      0.84      3183\n",
      "weighted avg       0.84      0.84      0.84      3183\n",
      "\n"
     ]
    }
   ],
   "source": [
    "target_names = df_categori['PM_categorical'].unique().tolist()\n",
    "print(metrics.classification_report(y_test, y_pred, target_names=target_names))"
   ]
  },
  {
   "cell_type": "markdown",
   "metadata": {},
   "source": [
    "## Airkorea 24시간예측이동평균(정확도)"
   ]
  },
  {
   "cell_type": "code",
   "execution_count": 35,
   "metadata": {},
   "outputs": [
    {
     "name": "stdout",
     "output_type": "stream",
     "text": [
      "ACC :  0.729668532612114\n"
     ]
    }
   ],
   "source": [
    "cate_24h = df_categori.copy()\n",
    "cate_24h['C12'] = cate_24h['pm25'].rolling(window=13).mean()\n",
    "cate_24h.reset_index(drop=True, inplace=True)\n",
    "cate_24h['Cai'] = cate_24h.apply(lambda x : pm24(x['pm25'],x['C12']), axis=1)\n",
    "cate_24h['C4']  = cate_24h['Cai'].rolling(window=5).mean()\n",
    "cate_24h.reset_index(drop=True, inplace=True)\n",
    "cate_24h.dropna(inplace=True)\n",
    "cate_24h['C24E']  = round((cate_24h['C12']*12 + cate_24h['C4']*12)/24)\n",
    "cate_24h['C24E'] = cate_24h['C24E'].apply(airkorea_categori)\n",
    "print(\"ACC : \", accuracy_score(cate_24h['PM_categorical'], cate_24h['C24E']))"
   ]
  }
 ],
 "metadata": {
  "kernelspec": {
   "display_name": "Python 3",
   "language": "python",
   "name": "python3"
  },
  "language_info": {
   "codemirror_mode": {
    "name": "ipython",
    "version": 3
   },
   "file_extension": ".py",
   "mimetype": "text/x-python",
   "name": "python",
   "nbconvert_exporter": "python",
   "pygments_lexer": "ipython3",
   "version": "3.7.5"
  }
 },
 "nbformat": 4,
 "nbformat_minor": 2
}
