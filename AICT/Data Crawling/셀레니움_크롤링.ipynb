{
 "cells": [
  {
   "cell_type": "code",
   "execution_count": 1,
   "metadata": {},
   "outputs": [],
   "source": [
    "# import module\n",
    "import pandas as pd\n",
    "import numpy as np\n",
    "from selenium import webdriver\n",
    "from selenium.webdriver.common.keys import Keys\n",
    "from selenium.webdriver.support.ui import Select\n",
    "import time\n",
    "import re\n",
    "path = \"D:/driver/chromedriver.exe\"    #ex. C:/downloads/chromedriver.exe"
   ]
  },
  {
   "cell_type": "markdown",
   "metadata": {},
   "source": [
    "## 측정 지역명 추출"
   ]
  },
  {
   "cell_type": "markdown",
   "metadata": {},
   "source": [
    "크롤링 위해 기존에 제공하는 데이터 셋에서 인천 23개 지역 측정 명 추출\n",
    "\n",
    "인천 남구는 현재 검색 불가, 미추홀구로 변경되어 해당 value replace하여 진행\n",
    "\n",
    "주안 6동 위치도 마찬가지로 검색 안됨, 근처의 석암파출소로 변경 후 진행"
   ]
  },
  {
   "cell_type": "code",
   "execution_count": 16,
   "metadata": {},
   "outputs": [],
   "source": [
    "pm_final = pd.read_csv('D:/data/pm_data_korea.csv', encoding='CP949')\n",
    "pm_final['지역'] = pm_final['지역'].str[:2] \n",
    "pm_final = pm_final[pm_final['지역'] == '인천']\n",
    "pm_final['주소'] =pm_final['주소'].apply(lambda x : re.split(r'\\(',x)[0])\n",
    "site_list = ['송해', '길상', '운서', '검단', '원당', '연희', '청라', '석남', '계산', '삼산', '부평',\n",
    "            '부평역', '송현', '신흥', '동춘', '송도', '숭의', '석바위', '구월동', '고잔', '논현']\n",
    "pm_final = pm_final[pm_final['측정소명'].isin(site_list)]\n",
    "\n",
    "# 검색결과 1000건 이상 혹은 검색안되는 주소 변경\n",
    "pm_final['주소'] =pm_final['주소'].str.replace('남구','미추홀구')\n",
    "pm_final['주소'] =pm_final['주소'].str.replace('주안6동','석암파출소')\n",
    "pm_final['주소'] =pm_final['주소'].str.replace('송현동','수문통로 77')\n",
    "pm_final['주소'] =pm_final['주소'].str.replace('131','') # 크리스탈로\n",
    "incheon_list =pm_final['주소'].unique().tolist()"
   ]
  },
  {
   "cell_type": "code",
   "execution_count": 17,
   "metadata": {},
   "outputs": [
    {
     "data": {
      "text/plain": [
       "['인천 중구 서해대로 471',\n",
       " '인천 남동구 구월말로 7',\n",
       " '인천 미추홀구 독정이로 95',\n",
       " '인천 미추홀구 석암파출소',\n",
       " '인천 부평구 광장로 지하15',\n",
       " '인천 부평구 부평대로88번길 19',\n",
       " '인천 서구 심곡로 98',\n",
       " '인천 서구 검단로502번길 15',\n",
       " '인천 계양구 계양산로134번길 18',\n",
       " '인천 남동구 남동대로 217',\n",
       " '인천 서구 거북로 116',\n",
       " '인천 강화군 송해면 전망대로 29',\n",
       " '인천 연수구 원인재로 115',\n",
       " '인천 중구 영종대로 85',\n",
       " '인천 동구 수문통로 77',\n",
       " '인천 남동구 청능대로611번길 54',\n",
       " '인천 서구 고산후로121번길 7',\n",
       " '인천광역시 미추홀구 독정안길 26',\n",
       " '인천광역시 동구 수문통로 77',\n",
       " '인천 서구 크리스탈로 ',\n",
       " '인천광역시 연수구 갯벌로 12',\n",
       " '인천광역시 남동구 은봉로 82']"
      ]
     },
     "execution_count": 17,
     "metadata": {},
     "output_type": "execute_result"
    }
   ],
   "source": [
    "pm_final['주소'].unique().tolist()"
   ]
  },
  {
   "cell_type": "code",
   "execution_count": 10,
   "metadata": {},
   "outputs": [
    {
     "data": {
      "text/plain": [
       "['신흥',\n",
       " '구월동',\n",
       " '숭의',\n",
       " '석바위',\n",
       " '부평역',\n",
       " '부평',\n",
       " '연희',\n",
       " '검단',\n",
       " '계산',\n",
       " '고잔',\n",
       " '석남',\n",
       " '송해',\n",
       " '동춘',\n",
       " '운서',\n",
       " '송현',\n",
       " '논현',\n",
       " '원당',\n",
       " '청라',\n",
       " '송도']"
      ]
     },
     "execution_count": 10,
     "metadata": {},
     "output_type": "execute_result"
    }
   ],
   "source": [
    "pm_final['측정소명'].unique().tolist()"
   ]
  },
  {
   "cell_type": "code",
   "execution_count": 11,
   "metadata": {},
   "outputs": [
    {
     "data": {
      "text/plain": [
       "22"
      ]
     },
     "execution_count": 11,
     "metadata": {},
     "output_type": "execute_result"
    }
   ],
   "source": [
    "len(incheon_list)"
   ]
  },
  {
   "cell_type": "markdown",
   "metadata": {},
   "source": [
    "## 에어코리아 실시간 자료 조회 -> 우리동네 대기정보 데이터 다운"
   ]
  },
  {
   "cell_type": "markdown",
   "metadata": {},
   "source": [
    "셀레니움을 활용하여 지역명 검색 클릭, 도로명 주소 입력, 측정자료 조회기간 설정, 엑셀 다운을 하는 코드 생성\n",
    "\n",
    "경기도 이외의 지역은 에어코리아에서 자료를 받아야 하기 때문에 통계정보 -> 최종확정측정자료조회에 있는 과거데이터,\n",
    "\n",
    "오픈 API를 활용한 최근 3개월 데이터 수집, \n",
    "\n",
    "우리동네 대기정보에 있는 위의 두 구간에 포함되지 않는 데이터 3 종류의 데이터를 수집 후 전처리 진행"
   ]
  },
  {
   "cell_type": "code",
   "execution_count": 18,
   "metadata": {
    "scrolled": true
   },
   "outputs": [
    {
     "name": "stderr",
     "output_type": "stream",
     "text": [
      "C:\\Anaconda3\\lib\\site-packages\\ipykernel_launcher.py:11: DeprecationWarning: use driver.switch_to.window instead\n",
      "  # This is added back by InteractiveShellApp.init_path()\n",
      "C:\\Anaconda3\\lib\\site-packages\\ipykernel_launcher.py:25: DeprecationWarning: use driver.switch_to.window instead\n"
     ]
    },
    {
     "ename": "NoSuchElementException",
     "evalue": "Message: no such element: Unable to locate element: {\"method\":\"xpath\",\"selector\":\"//*[@id=\"s_condition_input3\"]\"}\n  (Session info: chrome=79.0.3945.117)\n",
     "output_type": "error",
     "traceback": [
      "\u001b[1;31m---------------------------------------------------------------------------\u001b[0m",
      "\u001b[1;31mNoSuchElementException\u001b[0m                    Traceback (most recent call last)",
      "\u001b[1;32m<ipython-input-18-838179881ef2>\u001b[0m in \u001b[0;36m<module>\u001b[1;34m\u001b[0m\n\u001b[0;32m      5\u001b[0m \u001b[1;33m\u001b[0m\u001b[0m\n\u001b[0;32m      6\u001b[0m \u001b[1;32mfor\u001b[0m \u001b[0mi\u001b[0m \u001b[1;32min\u001b[0m \u001b[0mincheon_list\u001b[0m\u001b[1;33m:\u001b[0m\u001b[1;33m\u001b[0m\u001b[1;33m\u001b[0m\u001b[0m\n\u001b[1;32m----> 7\u001b[1;33m     \u001b[0mdriver\u001b[0m\u001b[1;33m.\u001b[0m\u001b[0mfind_element_by_xpath\u001b[0m\u001b[1;33m(\u001b[0m\u001b[1;34m'//*[@id=\"s_condition_input3\"]'\u001b[0m\u001b[1;33m)\u001b[0m\u001b[1;33m.\u001b[0m\u001b[0mclick\u001b[0m\u001b[1;33m(\u001b[0m\u001b[1;33m)\u001b[0m\u001b[1;33m\u001b[0m\u001b[1;33m\u001b[0m\u001b[0m\n\u001b[0m\u001b[0;32m      8\u001b[0m     \u001b[0mdriver\u001b[0m\u001b[1;33m.\u001b[0m\u001b[0mimplicitly_wait\u001b[0m\u001b[1;33m(\u001b[0m\u001b[1;36m4\u001b[0m\u001b[1;33m)\u001b[0m\u001b[1;33m\u001b[0m\u001b[1;33m\u001b[0m\u001b[0m\n\u001b[0;32m      9\u001b[0m \u001b[1;33m\u001b[0m\u001b[0m\n",
      "\u001b[1;32mC:\\Anaconda3\\lib\\site-packages\\selenium\\webdriver\\remote\\webdriver.py\u001b[0m in \u001b[0;36mfind_element_by_xpath\u001b[1;34m(self, xpath)\u001b[0m\n\u001b[0;32m    392\u001b[0m             \u001b[0melement\u001b[0m \u001b[1;33m=\u001b[0m \u001b[0mdriver\u001b[0m\u001b[1;33m.\u001b[0m\u001b[0mfind_element_by_xpath\u001b[0m\u001b[1;33m(\u001b[0m\u001b[1;34m'//div/td[1]'\u001b[0m\u001b[1;33m)\u001b[0m\u001b[1;33m\u001b[0m\u001b[1;33m\u001b[0m\u001b[0m\n\u001b[0;32m    393\u001b[0m         \"\"\"\n\u001b[1;32m--> 394\u001b[1;33m         \u001b[1;32mreturn\u001b[0m \u001b[0mself\u001b[0m\u001b[1;33m.\u001b[0m\u001b[0mfind_element\u001b[0m\u001b[1;33m(\u001b[0m\u001b[0mby\u001b[0m\u001b[1;33m=\u001b[0m\u001b[0mBy\u001b[0m\u001b[1;33m.\u001b[0m\u001b[0mXPATH\u001b[0m\u001b[1;33m,\u001b[0m \u001b[0mvalue\u001b[0m\u001b[1;33m=\u001b[0m\u001b[0mxpath\u001b[0m\u001b[1;33m)\u001b[0m\u001b[1;33m\u001b[0m\u001b[1;33m\u001b[0m\u001b[0m\n\u001b[0m\u001b[0;32m    395\u001b[0m \u001b[1;33m\u001b[0m\u001b[0m\n\u001b[0;32m    396\u001b[0m     \u001b[1;32mdef\u001b[0m \u001b[0mfind_elements_by_xpath\u001b[0m\u001b[1;33m(\u001b[0m\u001b[0mself\u001b[0m\u001b[1;33m,\u001b[0m \u001b[0mxpath\u001b[0m\u001b[1;33m)\u001b[0m\u001b[1;33m:\u001b[0m\u001b[1;33m\u001b[0m\u001b[1;33m\u001b[0m\u001b[0m\n",
      "\u001b[1;32mC:\\Anaconda3\\lib\\site-packages\\selenium\\webdriver\\remote\\webdriver.py\u001b[0m in \u001b[0;36mfind_element\u001b[1;34m(self, by, value)\u001b[0m\n\u001b[0;32m    976\u001b[0m         return self.execute(Command.FIND_ELEMENT, {\n\u001b[0;32m    977\u001b[0m             \u001b[1;34m'using'\u001b[0m\u001b[1;33m:\u001b[0m \u001b[0mby\u001b[0m\u001b[1;33m,\u001b[0m\u001b[1;33m\u001b[0m\u001b[1;33m\u001b[0m\u001b[0m\n\u001b[1;32m--> 978\u001b[1;33m             'value': value})['value']\n\u001b[0m\u001b[0;32m    979\u001b[0m \u001b[1;33m\u001b[0m\u001b[0m\n\u001b[0;32m    980\u001b[0m     \u001b[1;32mdef\u001b[0m \u001b[0mfind_elements\u001b[0m\u001b[1;33m(\u001b[0m\u001b[0mself\u001b[0m\u001b[1;33m,\u001b[0m \u001b[0mby\u001b[0m\u001b[1;33m=\u001b[0m\u001b[0mBy\u001b[0m\u001b[1;33m.\u001b[0m\u001b[0mID\u001b[0m\u001b[1;33m,\u001b[0m \u001b[0mvalue\u001b[0m\u001b[1;33m=\u001b[0m\u001b[1;32mNone\u001b[0m\u001b[1;33m)\u001b[0m\u001b[1;33m:\u001b[0m\u001b[1;33m\u001b[0m\u001b[1;33m\u001b[0m\u001b[0m\n",
      "\u001b[1;32mC:\\Anaconda3\\lib\\site-packages\\selenium\\webdriver\\remote\\webdriver.py\u001b[0m in \u001b[0;36mexecute\u001b[1;34m(self, driver_command, params)\u001b[0m\n\u001b[0;32m    319\u001b[0m         \u001b[0mresponse\u001b[0m \u001b[1;33m=\u001b[0m \u001b[0mself\u001b[0m\u001b[1;33m.\u001b[0m\u001b[0mcommand_executor\u001b[0m\u001b[1;33m.\u001b[0m\u001b[0mexecute\u001b[0m\u001b[1;33m(\u001b[0m\u001b[0mdriver_command\u001b[0m\u001b[1;33m,\u001b[0m \u001b[0mparams\u001b[0m\u001b[1;33m)\u001b[0m\u001b[1;33m\u001b[0m\u001b[1;33m\u001b[0m\u001b[0m\n\u001b[0;32m    320\u001b[0m         \u001b[1;32mif\u001b[0m \u001b[0mresponse\u001b[0m\u001b[1;33m:\u001b[0m\u001b[1;33m\u001b[0m\u001b[1;33m\u001b[0m\u001b[0m\n\u001b[1;32m--> 321\u001b[1;33m             \u001b[0mself\u001b[0m\u001b[1;33m.\u001b[0m\u001b[0merror_handler\u001b[0m\u001b[1;33m.\u001b[0m\u001b[0mcheck_response\u001b[0m\u001b[1;33m(\u001b[0m\u001b[0mresponse\u001b[0m\u001b[1;33m)\u001b[0m\u001b[1;33m\u001b[0m\u001b[1;33m\u001b[0m\u001b[0m\n\u001b[0m\u001b[0;32m    322\u001b[0m             response['value'] = self._unwrap_value(\n\u001b[0;32m    323\u001b[0m                 response.get('value', None))\n",
      "\u001b[1;32mC:\\Anaconda3\\lib\\site-packages\\selenium\\webdriver\\remote\\errorhandler.py\u001b[0m in \u001b[0;36mcheck_response\u001b[1;34m(self, response)\u001b[0m\n\u001b[0;32m    240\u001b[0m                 \u001b[0malert_text\u001b[0m \u001b[1;33m=\u001b[0m \u001b[0mvalue\u001b[0m\u001b[1;33m[\u001b[0m\u001b[1;34m'alert'\u001b[0m\u001b[1;33m]\u001b[0m\u001b[1;33m.\u001b[0m\u001b[0mget\u001b[0m\u001b[1;33m(\u001b[0m\u001b[1;34m'text'\u001b[0m\u001b[1;33m)\u001b[0m\u001b[1;33m\u001b[0m\u001b[1;33m\u001b[0m\u001b[0m\n\u001b[0;32m    241\u001b[0m             \u001b[1;32mraise\u001b[0m \u001b[0mexception_class\u001b[0m\u001b[1;33m(\u001b[0m\u001b[0mmessage\u001b[0m\u001b[1;33m,\u001b[0m \u001b[0mscreen\u001b[0m\u001b[1;33m,\u001b[0m \u001b[0mstacktrace\u001b[0m\u001b[1;33m,\u001b[0m \u001b[0malert_text\u001b[0m\u001b[1;33m)\u001b[0m\u001b[1;33m\u001b[0m\u001b[1;33m\u001b[0m\u001b[0m\n\u001b[1;32m--> 242\u001b[1;33m         \u001b[1;32mraise\u001b[0m \u001b[0mexception_class\u001b[0m\u001b[1;33m(\u001b[0m\u001b[0mmessage\u001b[0m\u001b[1;33m,\u001b[0m \u001b[0mscreen\u001b[0m\u001b[1;33m,\u001b[0m \u001b[0mstacktrace\u001b[0m\u001b[1;33m)\u001b[0m\u001b[1;33m\u001b[0m\u001b[1;33m\u001b[0m\u001b[0m\n\u001b[0m\u001b[0;32m    243\u001b[0m \u001b[1;33m\u001b[0m\u001b[0m\n\u001b[0;32m    244\u001b[0m     \u001b[1;32mdef\u001b[0m \u001b[0m_value_or_default\u001b[0m\u001b[1;33m(\u001b[0m\u001b[0mself\u001b[0m\u001b[1;33m,\u001b[0m \u001b[0mobj\u001b[0m\u001b[1;33m,\u001b[0m \u001b[0mkey\u001b[0m\u001b[1;33m,\u001b[0m \u001b[0mdefault\u001b[0m\u001b[1;33m)\u001b[0m\u001b[1;33m:\u001b[0m\u001b[1;33m\u001b[0m\u001b[1;33m\u001b[0m\u001b[0m\n",
      "\u001b[1;31mNoSuchElementException\u001b[0m: Message: no such element: Unable to locate element: {\"method\":\"xpath\",\"selector\":\"//*[@id=\"s_condition_input3\"]\"}\n  (Session info: chrome=79.0.3945.117)\n"
     ]
    }
   ],
   "source": [
    "# Selenium Load\n",
    "driver = webdriver.Chrome(path)\n",
    "# site connect\n",
    "driver.get('https://www.airkorea.or.kr/web/realSearch?pMENU_NO=97')\n",
    "\n",
    "for i in incheon_list:\n",
    "    driver.find_element_by_xpath('//*[@id=\"s_condition_input3\"]').click()\n",
    "    driver.implicitly_wait(4)\n",
    "\n",
    "    #chrome switch\n",
    "    driver.switch_to_window(driver.window_handles[1])\n",
    "    driver.get_window_position(driver.window_handles[1])\n",
    "    driver.implicitly_wait(4)\n",
    "\n",
    "    # site select\n",
    "    driver.find_element_by_xpath('//*[@id=\"keyword\"]').send_keys(i)\n",
    "    driver.find_element_by_xpath('//*[@id=\"serarchContentBox\"]/fieldset/span/input[2]').click()\n",
    "    time.sleep(3)\n",
    "    driver.find_element_by_xpath('//*[@id=\"roadAddrDiv1\"]/b').click()\n",
    "    time.sleep(3)\n",
    "    driver.find_element_by_xpath('//*[@id=\"resultData\"]/div/a').click()\n",
    "    time.sleep(3)\n",
    "\n",
    "    #chrome switch\n",
    "    driver.switch_to_window(driver.window_handles[0])\n",
    "    driver.get_window_position(driver.window_handles[0])\n",
    "\n",
    "    #측정자료 조회 날짜 설정(10월1일 ~11월30일)\n",
    "    driver.find_element_by_xpath('//*[@id=\"cont_body\"]/form[2]/div[1]/a').click()\n",
    "    time.sleep(4)\n",
    "    driver.find_element_by_xpath('//*[@id=\"from_date\"]').click()\n",
    "    time.sleep(1)\n",
    "    driver.find_element_by_xpath('//*[@id=\"ui-datepicker-div\"]/div[1]/div/select[1]/option[7]').click()\n",
    "    driver.find_element_by_xpath('//*[@id=\"ui-datepicker-div\"]/div[1]/div/select[2]/option[10]').click()\n",
    "    time.sleep(1)\n",
    "    driver.find_element_by_xpath('//*[@id=\"ui-datepicker-div\"]/table/tbody/tr[1]/td[3]/a').click()\n",
    "    time.sleep(5)\n",
    "    driver.find_element_by_xpath('//*[@id=\"to_date\"]').click()\n",
    "    time.sleep(2)\n",
    "    \n",
    "    driver.find_element_by_xpath('//*[@id=\"ui-datepicker-div\"]/div[1]/div/select[1]/option[7]').click()\n",
    "    driver.find_element_by_xpath('//*[@id=\"ui-datepicker-div\"]/div[1]/div/select[2]/option[11]').click()\n",
    "    driver.find_element_by_xpath('//*[@id=\"ui-datepicker-div\"]/table/tbody/tr[5]/td[7]/a').click()\n",
    "    time.sleep(4)\n",
    "    driver.find_element_by_xpath('//*[@id=\"to_date_hour\"]/option[24]').click()\n",
    "    #검색 버튼 클릭\n",
    "    driver.find_element_by_xpath('//*[@id=\"tab1\"]/div[1]/a[1]').click()\n",
    "    time.sleep(4)\n",
    "\n",
    "    #Save file\n",
    "    driver.find_element_by_xpath('//*[@id=\"tab1\"]/div[1]/a[3]').click()\n",
    "    time.sleep(5)\n",
    "    \n",
    "    #측정자료 조회 날짜 설정(12월1일 ~12월31일)\n",
    "    driver.find_element_by_xpath('//*[@id=\"from_date\"]').click()\n",
    "    time.sleep(1)\n",
    "    driver.find_element_by_xpath('//*[@id=\"ui-datepicker-div\"]/div[1]/div/select[1]/option[7]').click()\n",
    "    driver.find_element_by_xpath('//*[@id=\"ui-datepicker-div\"]/div[1]/div/select[2]/option[12]').click()\n",
    "    time.sleep(1)\n",
    "    driver.find_element_by_xpath('//*[@id=\"ui-datepicker-div\"]/table/tbody/tr[1]/td[1]/a').click()\n",
    "    time.sleep(4)\n",
    "    driver.find_element_by_xpath('//*[@id=\"to_date\"]').click()\n",
    "    time.sleep(2)\n",
    "    driver.find_element_by_xpath('//*[@id=\"ui-datepicker-div\"]/div[1]/div/select[1]/option[7]').click()\n",
    "    time.sleep(1)\n",
    "    driver.find_element_by_xpath('//*[@id=\"ui-datepicker-div\"]/div[1]/div/select[2]/option[12]').click()\n",
    "    time.sleep(3)\n",
    "    driver.find_element_by_xpath('//*[@id=\"ui-datepicker-div\"]/table/tbody/tr[5]/td[3]/a').click()\n",
    "    time.sleep(4)\n",
    "    driver.find_element_by_xpath('//*[@id=\"to_date_hour\"]/option[24]').click()\n",
    "    #검색 버튼 클릭\n",
    "    driver.find_element_by_xpath('//*[@id=\"tab1\"]/div[1]/a[1]').click()\n",
    "    time.sleep(4)\n",
    "\n",
    "    #Save file\n",
    "    driver.find_element_by_xpath('//*[@id=\"tab1\"]/div[1]/a[3]').click()\n",
    "    time.sleep(8)"
   ]
  },
  {
   "cell_type": "markdown",
   "metadata": {},
   "source": [
    "## 충남 당진"
   ]
  },
  {
   "cell_type": "code",
   "execution_count": 69,
   "metadata": {},
   "outputs": [
    {
     "name": "stderr",
     "output_type": "stream",
     "text": [
      "C:\\Anaconda3\\lib\\site-packages\\IPython\\core\\interactiveshell.py:3058: DtypeWarning: Columns (1,2,3,4,5,6,7,11,12) have mixed types. Specify dtype option on import or set low_memory=False.\n",
      "  interactivity=interactivity, compiler=compiler, result=result)\n"
     ]
    }
   ],
   "source": [
    "pm_chungnam = pd.read_csv('D:/data/pm_data_korea.csv', encoding='CP949')\n",
    "pm_chungnam['주소'] =pm_chungnam['주소'].apply(lambda x : re.split(r'\\(',x)[0])\n",
    "pm_chungnam = pm_chungnam[pm_chungnam['측정소명']=='송산면']\n",
    "chungnam_list =pm_chungnam['주소'].unique().tolist()\n"
   ]
  },
  {
   "cell_type": "code",
   "execution_count": 70,
   "metadata": {},
   "outputs": [
    {
     "data": {
      "text/plain": [
       "['충남 당진시 송산면 유곡로 342-27']"
      ]
     },
     "execution_count": 70,
     "metadata": {},
     "output_type": "execute_result"
    }
   ],
   "source": [
    "chungnam_list"
   ]
  },
  {
   "cell_type": "code",
   "execution_count": 71,
   "metadata": {},
   "outputs": [
    {
     "name": "stderr",
     "output_type": "stream",
     "text": [
      "C:\\Anaconda3\\lib\\site-packages\\ipykernel_launcher.py:10: DeprecationWarning: use driver.switch_to.window instead\n",
      "  # Remove the CWD from sys.path while we load stuff.\n",
      "C:\\Anaconda3\\lib\\site-packages\\selenium\\webdriver\\remote\\webdriver.py:1149: UserWarning: Only 'current' window is supported for W3C compatibile browsers.\n",
      "  warnings.warn(\"Only 'current' window is supported for W3C compatibile browsers.\")\n",
      "C:\\Anaconda3\\lib\\site-packages\\ipykernel_launcher.py:24: DeprecationWarning: use driver.switch_to.window instead\n"
     ]
    }
   ],
   "source": [
    "# Selenium Load\n",
    "driver = webdriver.Chrome(path)\n",
    "# site connect\n",
    "driver.get('https://www.airkorea.or.kr/web/realSearch?pMENU_NO=97')\n",
    "\n",
    "driver.find_element_by_xpath('//*[@id=\"s_condition_input3\"]').click()\n",
    "driver.implicitly_wait(10)\n",
    "\n",
    "#chrome switch\n",
    "driver.switch_to_window(driver.window_handles[1])\n",
    "driver.get_window_position(driver.window_handles[1])\n",
    "driver.implicitly_wait(10)\n",
    "\n",
    "# site select\n",
    "driver.find_element_by_xpath('//*[@id=\"keyword\"]').send_keys('충남 당진시 송산면 유곡로 342-27')\n",
    "driver.find_element_by_xpath('//*[@id=\"serarchContentBox\"]/fieldset/span/input[2]').click()\n",
    "time.sleep(3)\n",
    "driver.find_element_by_xpath('//*[@id=\"roadAddrDiv1\"]/b').click()\n",
    "time.sleep(5)\n",
    "driver.find_element_by_xpath('//*[@id=\"resultData\"]/div/a').click()\n",
    "time.sleep(3)\n",
    "\n",
    "#chrome switch\n",
    "driver.switch_to_window(driver.window_handles[0])\n",
    "driver.get_window_position(driver.window_handles[0])\n",
    "\n",
    "#측정자료 조회 날짜 설정(5월1일 ~6월30일)\n",
    "driver.find_element_by_xpath('//*[@id=\"cont_body\"]/form[2]/div[1]/a').click()\n",
    "time.sleep(10)\n",
    "driver.find_element_by_xpath('//*[@id=\"from_date\"]').click()\n",
    "time.sleep(1)\n",
    "driver.find_element_by_xpath('//*[@id=\"ui-datepicker-div\"]/div[1]/div/select[2]/option[5]').click()\n",
    "time.sleep(1)\n",
    "driver.find_element_by_xpath('//*[@id=\"ui-datepicker-div\"]/table/tbody/tr[1]/td[4]/a').click()\n",
    "time.sleep(10)\n",
    "driver.find_element_by_xpath('//*[@id=\"to_date\"]').click()\n",
    "time.sleep(2)\n",
    "driver.find_element_by_xpath('//*[@id=\"ui-datepicker-div\"]/div[1]/div/select[2]/option[6]').click()\n",
    "driver.find_element_by_xpath('//*[@id=\"ui-datepicker-div\"]/table/tbody/tr[6]/td[1]/a').click()\n",
    "time.sleep(4)\n",
    "driver.find_element_by_xpath('//*[@id=\"to_date_hour\"]/option[24]').click()\n",
    "#검색 버튼 클릭\n",
    "driver.find_element_by_xpath('//*[@id=\"tab1\"]/div[1]/a[1]').click()\n",
    "time.sleep(4)\n",
    "\n",
    "#Save file\n",
    "driver.find_element_by_xpath('//*[@id=\"tab1\"]/div[1]/a[3]').click()\n",
    "time.sleep(10)\n",
    "\n",
    "#측정자료 조회 날짜 설정(7월1일 ~8월30일)\n",
    "driver.find_element_by_xpath('//*[@id=\"from_date\"]').click()\n",
    "time.sleep(1)\n",
    "driver.find_element_by_xpath('//*[@id=\"ui-datepicker-div\"]/div[1]/div/select[2]/option[7]').click()\n",
    "time.sleep(1)\n",
    "driver.find_element_by_xpath('//*[@id=\"ui-datepicker-div\"]/table/tbody/tr[1]/td[2]/a').click()\n",
    "time.sleep(10)\n",
    "driver.find_element_by_xpath('//*[@id=\"to_date\"]').click()\n",
    "time.sleep(2)\n",
    "driver.find_element_by_xpath('//*[@id=\"ui-datepicker-div\"]/div[1]/div/select[2]/option[8]').click()\n",
    "driver.find_element_by_xpath('//*[@id=\"ui-datepicker-div\"]/table/tbody/tr[3]/td[4]/a').click()\n",
    "time.sleep(4)\n",
    "driver.find_element_by_xpath('//*[@id=\"to_date_hour\"]/option[24]').click()\n",
    "#검색 버튼 클릭\n",
    "driver.find_element_by_xpath('//*[@id=\"tab1\"]/div[1]/a[1]').click()\n",
    "time.sleep(5)\n",
    "\n",
    "#Save file\n",
    "driver.find_element_by_xpath('//*[@id=\"tab1\"]/div[1]/a[3]').click()\n",
    "time.sleep(10)"
   ]
  },
  {
   "cell_type": "markdown",
   "metadata": {},
   "source": [
    "## 경기도 크롤링"
   ]
  },
  {
   "cell_type": "code",
   "execution_count": 8,
   "metadata": {},
   "outputs": [],
   "source": [
    "address_list = ['경기 수원시 영통구 법조로 129', '경기 수원시 권선구 서부로 1600', '경기 광명시 시청로 20', \n",
    "                '경기 안산시 단원구 화랑로 387', '경기 안산시 단원구 산단로 112 ', '경기 의왕시 시청로 11',\n",
    "                '경기 시흥시 공단1대로 204', '경기 시흥시 복지로 37', '경기 군포시 청백리길 6', '경기 부천시 심중로 121']"
   ]
  },
  {
   "cell_type": "code",
   "execution_count": 27,
   "metadata": {
    "scrolled": true
   },
   "outputs": [
    {
     "name": "stderr",
     "output_type": "stream",
     "text": [
      "C:\\Anaconda3\\lib\\site-packages\\ipykernel_launcher.py:8: DeprecationWarning: use driver.switch_to.window instead\n",
      "  \n",
      "C:\\Anaconda3\\lib\\site-packages\\ipykernel_launcher.py:22: DeprecationWarning: use driver.switch_to.window instead\n"
     ]
    },
    {
     "ename": "WebDriverException",
     "evalue": "Message: chrome not reachable\n  (Session info: chrome=79.0.3945.88)\n",
     "output_type": "error",
     "traceback": [
      "\u001b[1;31m---------------------------------------------------------------------------\u001b[0m",
      "\u001b[1;31mWebDriverException\u001b[0m                        Traceback (most recent call last)",
      "\u001b[1;32m<ipython-input-27-c04dd2eda050>\u001b[0m in \u001b[0;36m<module>\u001b[1;34m\u001b[0m\n\u001b[0;32m     36\u001b[0m \u001b[1;33m\u001b[0m\u001b[0m\n\u001b[0;32m     37\u001b[0m     \u001b[1;31m# Search(8월)\u001b[0m\u001b[1;33m\u001b[0m\u001b[1;33m\u001b[0m\u001b[1;33m\u001b[0m\u001b[0m\n\u001b[1;32m---> 38\u001b[1;33m     \u001b[0mdriver\u001b[0m\u001b[1;33m.\u001b[0m\u001b[0mfind_element_by_xpath\u001b[0m\u001b[1;33m(\u001b[0m\u001b[1;34m'//*[@id=\"choice_4\"]/option[8]'\u001b[0m\u001b[1;33m)\u001b[0m\u001b[1;33m.\u001b[0m\u001b[0mclick\u001b[0m\u001b[1;33m(\u001b[0m\u001b[1;33m)\u001b[0m\u001b[1;33m\u001b[0m\u001b[1;33m\u001b[0m\u001b[0m\n\u001b[0m\u001b[0;32m     39\u001b[0m     \u001b[0mtime\u001b[0m\u001b[1;33m.\u001b[0m\u001b[0msleep\u001b[0m\u001b[1;33m(\u001b[0m\u001b[1;36m2\u001b[0m\u001b[1;33m)\u001b[0m\u001b[1;33m\u001b[0m\u001b[1;33m\u001b[0m\u001b[0m\n\u001b[0;32m     40\u001b[0m     \u001b[0mdriver\u001b[0m\u001b[1;33m.\u001b[0m\u001b[0mfind_element_by_xpath\u001b[0m\u001b[1;33m(\u001b[0m\u001b[1;34m'//*[@id=\"cont_body\"]/div[1]/a[1]'\u001b[0m\u001b[1;33m)\u001b[0m\u001b[1;33m.\u001b[0m\u001b[0mclick\u001b[0m\u001b[1;33m(\u001b[0m\u001b[1;33m)\u001b[0m\u001b[1;33m\u001b[0m\u001b[1;33m\u001b[0m\u001b[0m\n",
      "\u001b[1;32mC:\\Anaconda3\\lib\\site-packages\\selenium\\webdriver\\remote\\webdriver.py\u001b[0m in \u001b[0;36mfind_element_by_xpath\u001b[1;34m(self, xpath)\u001b[0m\n\u001b[0;32m    392\u001b[0m             \u001b[0melement\u001b[0m \u001b[1;33m=\u001b[0m \u001b[0mdriver\u001b[0m\u001b[1;33m.\u001b[0m\u001b[0mfind_element_by_xpath\u001b[0m\u001b[1;33m(\u001b[0m\u001b[1;34m'//div/td[1]'\u001b[0m\u001b[1;33m)\u001b[0m\u001b[1;33m\u001b[0m\u001b[1;33m\u001b[0m\u001b[0m\n\u001b[0;32m    393\u001b[0m         \"\"\"\n\u001b[1;32m--> 394\u001b[1;33m         \u001b[1;32mreturn\u001b[0m \u001b[0mself\u001b[0m\u001b[1;33m.\u001b[0m\u001b[0mfind_element\u001b[0m\u001b[1;33m(\u001b[0m\u001b[0mby\u001b[0m\u001b[1;33m=\u001b[0m\u001b[0mBy\u001b[0m\u001b[1;33m.\u001b[0m\u001b[0mXPATH\u001b[0m\u001b[1;33m,\u001b[0m \u001b[0mvalue\u001b[0m\u001b[1;33m=\u001b[0m\u001b[0mxpath\u001b[0m\u001b[1;33m)\u001b[0m\u001b[1;33m\u001b[0m\u001b[1;33m\u001b[0m\u001b[0m\n\u001b[0m\u001b[0;32m    395\u001b[0m \u001b[1;33m\u001b[0m\u001b[0m\n\u001b[0;32m    396\u001b[0m     \u001b[1;32mdef\u001b[0m \u001b[0mfind_elements_by_xpath\u001b[0m\u001b[1;33m(\u001b[0m\u001b[0mself\u001b[0m\u001b[1;33m,\u001b[0m \u001b[0mxpath\u001b[0m\u001b[1;33m)\u001b[0m\u001b[1;33m:\u001b[0m\u001b[1;33m\u001b[0m\u001b[1;33m\u001b[0m\u001b[0m\n",
      "\u001b[1;32mC:\\Anaconda3\\lib\\site-packages\\selenium\\webdriver\\remote\\webdriver.py\u001b[0m in \u001b[0;36mfind_element\u001b[1;34m(self, by, value)\u001b[0m\n\u001b[0;32m    976\u001b[0m         return self.execute(Command.FIND_ELEMENT, {\n\u001b[0;32m    977\u001b[0m             \u001b[1;34m'using'\u001b[0m\u001b[1;33m:\u001b[0m \u001b[0mby\u001b[0m\u001b[1;33m,\u001b[0m\u001b[1;33m\u001b[0m\u001b[1;33m\u001b[0m\u001b[0m\n\u001b[1;32m--> 978\u001b[1;33m             'value': value})['value']\n\u001b[0m\u001b[0;32m    979\u001b[0m \u001b[1;33m\u001b[0m\u001b[0m\n\u001b[0;32m    980\u001b[0m     \u001b[1;32mdef\u001b[0m \u001b[0mfind_elements\u001b[0m\u001b[1;33m(\u001b[0m\u001b[0mself\u001b[0m\u001b[1;33m,\u001b[0m \u001b[0mby\u001b[0m\u001b[1;33m=\u001b[0m\u001b[0mBy\u001b[0m\u001b[1;33m.\u001b[0m\u001b[0mID\u001b[0m\u001b[1;33m,\u001b[0m \u001b[0mvalue\u001b[0m\u001b[1;33m=\u001b[0m\u001b[1;32mNone\u001b[0m\u001b[1;33m)\u001b[0m\u001b[1;33m:\u001b[0m\u001b[1;33m\u001b[0m\u001b[1;33m\u001b[0m\u001b[0m\n",
      "\u001b[1;32mC:\\Anaconda3\\lib\\site-packages\\selenium\\webdriver\\remote\\webdriver.py\u001b[0m in \u001b[0;36mexecute\u001b[1;34m(self, driver_command, params)\u001b[0m\n\u001b[0;32m    319\u001b[0m         \u001b[0mresponse\u001b[0m \u001b[1;33m=\u001b[0m \u001b[0mself\u001b[0m\u001b[1;33m.\u001b[0m\u001b[0mcommand_executor\u001b[0m\u001b[1;33m.\u001b[0m\u001b[0mexecute\u001b[0m\u001b[1;33m(\u001b[0m\u001b[0mdriver_command\u001b[0m\u001b[1;33m,\u001b[0m \u001b[0mparams\u001b[0m\u001b[1;33m)\u001b[0m\u001b[1;33m\u001b[0m\u001b[1;33m\u001b[0m\u001b[0m\n\u001b[0;32m    320\u001b[0m         \u001b[1;32mif\u001b[0m \u001b[0mresponse\u001b[0m\u001b[1;33m:\u001b[0m\u001b[1;33m\u001b[0m\u001b[1;33m\u001b[0m\u001b[0m\n\u001b[1;32m--> 321\u001b[1;33m             \u001b[0mself\u001b[0m\u001b[1;33m.\u001b[0m\u001b[0merror_handler\u001b[0m\u001b[1;33m.\u001b[0m\u001b[0mcheck_response\u001b[0m\u001b[1;33m(\u001b[0m\u001b[0mresponse\u001b[0m\u001b[1;33m)\u001b[0m\u001b[1;33m\u001b[0m\u001b[1;33m\u001b[0m\u001b[0m\n\u001b[0m\u001b[0;32m    322\u001b[0m             response['value'] = self._unwrap_value(\n\u001b[0;32m    323\u001b[0m                 response.get('value', None))\n",
      "\u001b[1;32mC:\\Anaconda3\\lib\\site-packages\\selenium\\webdriver\\remote\\errorhandler.py\u001b[0m in \u001b[0;36mcheck_response\u001b[1;34m(self, response)\u001b[0m\n\u001b[0;32m    240\u001b[0m                 \u001b[0malert_text\u001b[0m \u001b[1;33m=\u001b[0m \u001b[0mvalue\u001b[0m\u001b[1;33m[\u001b[0m\u001b[1;34m'alert'\u001b[0m\u001b[1;33m]\u001b[0m\u001b[1;33m.\u001b[0m\u001b[0mget\u001b[0m\u001b[1;33m(\u001b[0m\u001b[1;34m'text'\u001b[0m\u001b[1;33m)\u001b[0m\u001b[1;33m\u001b[0m\u001b[1;33m\u001b[0m\u001b[0m\n\u001b[0;32m    241\u001b[0m             \u001b[1;32mraise\u001b[0m \u001b[0mexception_class\u001b[0m\u001b[1;33m(\u001b[0m\u001b[0mmessage\u001b[0m\u001b[1;33m,\u001b[0m \u001b[0mscreen\u001b[0m\u001b[1;33m,\u001b[0m \u001b[0mstacktrace\u001b[0m\u001b[1;33m,\u001b[0m \u001b[0malert_text\u001b[0m\u001b[1;33m)\u001b[0m\u001b[1;33m\u001b[0m\u001b[1;33m\u001b[0m\u001b[0m\n\u001b[1;32m--> 242\u001b[1;33m         \u001b[1;32mraise\u001b[0m \u001b[0mexception_class\u001b[0m\u001b[1;33m(\u001b[0m\u001b[0mmessage\u001b[0m\u001b[1;33m,\u001b[0m \u001b[0mscreen\u001b[0m\u001b[1;33m,\u001b[0m \u001b[0mstacktrace\u001b[0m\u001b[1;33m)\u001b[0m\u001b[1;33m\u001b[0m\u001b[1;33m\u001b[0m\u001b[0m\n\u001b[0m\u001b[0;32m    243\u001b[0m \u001b[1;33m\u001b[0m\u001b[0m\n\u001b[0;32m    244\u001b[0m     \u001b[1;32mdef\u001b[0m \u001b[0m_value_or_default\u001b[0m\u001b[1;33m(\u001b[0m\u001b[0mself\u001b[0m\u001b[1;33m,\u001b[0m \u001b[0mobj\u001b[0m\u001b[1;33m,\u001b[0m \u001b[0mkey\u001b[0m\u001b[1;33m,\u001b[0m \u001b[0mdefault\u001b[0m\u001b[1;33m)\u001b[0m\u001b[1;33m:\u001b[0m\u001b[1;33m\u001b[0m\u001b[1;33m\u001b[0m\u001b[0m\n",
      "\u001b[1;31mWebDriverException\u001b[0m: Message: chrome not reachable\n  (Session info: chrome=79.0.3945.88)\n"
     ]
    }
   ],
   "source": [
    "driver = webdriver.Chrome(path)\n",
    "driver.get('https://www.airkorea.or.kr/web/pastSearch?pMENU_NO=123')\n",
    "for i in address_list:\n",
    "    driver.find_element_by_xpath('//*[@id=\"s_condition_input3\"]').click()\n",
    "    driver.implicitly_wait(10)\n",
    "\n",
    "    #chrome switch\n",
    "    driver.switch_to_window(driver.window_handles[1])\n",
    "    driver.get_window_position(driver.window_handles[1])\n",
    "    driver.implicitly_wait(10)\n",
    "\n",
    "    # site select\n",
    "    driver.find_element_by_xpath('//*[@id=\"keyword\"]').send_keys(i)\n",
    "    driver.find_element_by_xpath('//*[@id=\"serarchContentBox\"]/fieldset/span/input[2]').click()\n",
    "    time.sleep(3)\n",
    "    driver.find_element_by_xpath('//*[@id=\"roadAddrDiv1\"]/b').click()\n",
    "    time.sleep(5)\n",
    "    driver.find_element_by_xpath('//*[@id=\"resultData\"]/div/a').click()\n",
    "    time.sleep(3)\n",
    "    \n",
    "    #chrome switch\n",
    "    driver.switch_to_window(driver.window_handles[0])\n",
    "    driver.get_window_position(driver.window_handles[0])\n",
    "    driver.find_element_by_xpath('//*[@id=\"cont_body\"]/form/div[1]/a').click()\n",
    "    time.sleep(3)\n",
    "    \n",
    "    # Search(7월)\n",
    "    driver.find_element_by_xpath('//*[@id=\"choice_1\"]').click()\n",
    "    driver.find_element_by_xpath('//*[@id=\"choice_4\"]/option[7]').click()\n",
    "    time.sleep(3)\n",
    "    driver.find_element_by_xpath('//*[@id=\"cont_body\"]/div[1]/a[1]').click()\n",
    "    time.sleep(2)\n",
    "    #save file\n",
    "    driver.find_element_by_xpath('//*[@id=\"cont_body\"]/div[1]/a[3]').click()\n",
    "    time.sleep(10)\n",
    "    \n",
    "    # Search(8월)\n",
    "    driver.find_element_by_xpath('//*[@id=\"choice_4\"]/option[8]').click()\n",
    "    time.sleep(2)\n",
    "    driver.find_element_by_xpath('//*[@id=\"cont_body\"]/div[1]/a[1]').click()\n",
    "    time.sleep(2)\n",
    "    \n",
    "    #save file\n",
    "    driver.find_element_by_xpath('//*[@id=\"cont_body\"]/div[1]/a[3]').click()\n",
    "    time.sleep(10)\n",
    "    \n",
    "    \n",
    "    # Search(9월)\n",
    "\n",
    "    driver.find_element_by_xpath('//*[@id=\"choice_4\"]/option[9]').click()\n",
    "    time.sleep(1)\n",
    "    driver.find_element_by_xpath('//*[@id=\"cont_body\"]/div[1]/a[1]').click()\n",
    "    time.sleep(3)\n",
    "    #save file\n",
    "    driver.find_element_by_xpath('//*[@id=\"cont_body\"]/div[1]/a[3]').click()\n",
    "    time.sleep(10)"
   ]
  },
  {
   "cell_type": "code",
   "execution_count": 25,
   "metadata": {},
   "outputs": [
    {
     "name": "stderr",
     "output_type": "stream",
     "text": [
      "C:\\Anaconda3\\lib\\site-packages\\ipykernel_launcher.py:11: DeprecationWarning: use driver.switch_to.window instead\n",
      "  # This is added back by InteractiveShellApp.init_path()\n",
      "C:\\Anaconda3\\lib\\site-packages\\ipykernel_launcher.py:25: DeprecationWarning: use driver.switch_to.window instead\n"
     ]
    }
   ],
   "source": [
    "# Selenium Load\n",
    "driver = webdriver.Chrome(path)\n",
    "# site connect\n",
    "driver.get('https://www.airkorea.or.kr/web/realSearch?pMENU_NO=97')\n",
    "\n",
    "for i in address_list:\n",
    "    driver.find_element_by_xpath('//*[@id=\"s_condition_input3\"]').click()\n",
    "    driver.implicitly_wait(10)\n",
    "\n",
    "    #chrome switch\n",
    "    driver.switch_to_window(driver.window_handles[1])\n",
    "    driver.get_window_position(driver.window_handles[1])\n",
    "    driver.implicitly_wait(10)\n",
    "\n",
    "    # site select\n",
    "    driver.find_element_by_xpath('//*[@id=\"keyword\"]').send_keys(i)\n",
    "    driver.find_element_by_xpath('//*[@id=\"serarchContentBox\"]/fieldset/span/input[2]').click()\n",
    "    time.sleep(3)\n",
    "    driver.find_element_by_xpath('//*[@id=\"roadAddrDiv1\"]/b').click()\n",
    "    time.sleep(5)\n",
    "    driver.find_element_by_xpath('//*[@id=\"resultData\"]/div/a').click()\n",
    "    time.sleep(3)\n",
    "\n",
    "    #chrome switch\n",
    "    driver.switch_to_window(driver.window_handles[0])\n",
    "    driver.get_window_position(driver.window_handles[0])\n",
    "    driver.find_element_by_xpath('//*[@id=\"cont_body\"]/form[2]/div[1]/a').click()\n",
    "    time.sleep(3)\n",
    "    \n",
    "    #측정자료 조회 날짜 설정(10월1일 ~11월30일)\n",
    "    driver.find_element_by_xpath('//*[@id=\"from_date\"]').click()\n",
    "    time.sleep(1)\n",
    "    driver.find_element_by_xpath('//*[@id=\"ui-datepicker-div\"]/div[1]/div/select[1]/option[7]').click()\n",
    "    time.sleep(1)\n",
    "    driver.find_element_by_xpath('//*[@id=\"ui-datepicker-div\"]/div[1]/div/select[2]/option[10]').click()\n",
    "    time.sleep(1)\n",
    "    driver.find_element_by_xpath('//*[@id=\"ui-datepicker-div\"]/table/tbody/tr[1]/td[3]/a').click()\n",
    "    time.sleep(10)\n",
    "    driver.find_element_by_xpath('//*[@id=\"to_date\"]').click()\n",
    "    time.sleep(2)\n",
    "    driver.find_element_by_xpath('//*[@id=\"ui-datepicker-div\"]/div[1]/div/select[1]/option[7]').click()\n",
    "    driver.find_element_by_xpath('//*[@id=\"ui-datepicker-div\"]/div[1]/div/select[2]/option[11]').click()\n",
    "    driver.find_element_by_xpath('//*[@id=\"ui-datepicker-div\"]/table/tbody/tr[5]/td[7]/a').click()\n",
    "    time.sleep(4)\n",
    "    driver.find_element_by_xpath('//*[@id=\"to_date_hour\"]/option[24]').click()\n",
    "    #검색 버튼 클릭\n",
    "    driver.find_element_by_xpath('//*[@id=\"tab1\"]/div[1]/a[1]').click()\n",
    "    time.sleep(5)\n",
    "\n",
    "    #Save file\n",
    "    driver.find_element_by_xpath('//*[@id=\"tab1\"]/div[1]/a[3]').click()\n",
    "    time.sleep(10)\n"
   ]
  },
  {
   "cell_type": "markdown",
   "metadata": {},
   "source": [
    "## 고속도로, 일반도로 자료 크롤링"
   ]
  },
  {
   "cell_type": "markdown",
   "metadata": {},
   "source": [
    "교통량 정보 제공 시스템 사이트 \n",
    "\n",
    "통계자료 -> 도로종류별 교통량에 있는 일반국도(52개), 고속국도(48개) 데이터 수집"
   ]
  },
  {
   "cell_type": "code",
   "execution_count": 48,
   "metadata": {},
   "outputs": [],
   "source": [
    "# Selenium Load\n",
    "driver = webdriver.Chrome(path)\n",
    "driver.implicitly_wait(3)\n",
    "# webdriver start\n",
    "driver.get('http://www.road.re.kr/itms/itms_01.asp?main_no=11&sub_no=1')\n",
    "driver.implicitly_wait(10)\n",
    "\n",
    "# 고속도로 select 48\n",
    "for i in range(1,49) :\n",
    "    driver.find_element_by_xpath('//*[@id=\"search\"]/table/tbody/tr/td[4]/label/select').click()\n",
    "    time.sleep(5)\n",
    "    driver.find_element_by_xpath(f'//*[@id=\"search\"]/table/tbody/tr/td[4]/label/select/option[{i}]').click()\n",
    "    time.sleep(5)\n",
    "    driver.find_element_by_xpath('//*[@id=\"data_table\"]/table[2]/tbody/tr/td[2]/a/img').click()\n",
    "    time.sleep(5)"
   ]
  },
  {
   "cell_type": "code",
   "execution_count": 51,
   "metadata": {},
   "outputs": [],
   "source": [
    "# Selenium Load\n",
    "driver = webdriver.Chrome(path)\n",
    "driver.implicitly_wait(3)\n",
    "# webdriver start\n",
    "driver.get('http://www.road.re.kr/itms/itms_01_1.asp?main_no=11&sub_no=2')\n",
    "driver.implicitly_wait(10)\n",
    "\n",
    "# 일반도로 select 48\n",
    "for i in range(1,52) :\n",
    "    driver.find_element_by_xpath('//*[@id=\"search\"]/table/tbody/tr/td[4]/label/select').click()\n",
    "    driver.find_element_by_xpath(f'//*[@id=\"search\"]/table/tbody/tr/td[4]/label/select/option[{i}]').click()\n",
    "    time.sleep(5)\n",
    "    driver.find_element_by_xpath('//*[@id=\"data_table\"]/table[2]/tbody/tr/td[2]/a/img').click()\n",
    "    time.sleep(3)"
   ]
  },
  {
   "cell_type": "code",
   "execution_count": 3,
   "metadata": {},
   "outputs": [],
   "source": [
    "# webdriver close\n",
    "driver.close()"
   ]
  },
  {
   "cell_type": "markdown",
   "metadata": {},
   "source": [
    "## 중국"
   ]
  },
  {
   "cell_type": "code",
   "execution_count": 5,
   "metadata": {},
   "outputs": [],
   "source": [
    "driver = webdriver.Chrome(path)"
   ]
  },
  {
   "cell_type": "code",
   "execution_count": 3,
   "metadata": {},
   "outputs": [],
   "source": [
    "datelist = pd.DataFrame(pd.date_range('2020-01-10',' 2019-12-24'))\n",
    "datelist.columns = ['date']\n",
    "datelist['date'] =datelist['date'].astype(str)\n",
    "datelist['date'] = datelist['date'].str.replace('-','')\n",
    "datelist = datelist['date'].unique().tolist()"
   ]
  },
  {
   "cell_type": "code",
   "execution_count": null,
   "metadata": {},
   "outputs": [],
   "source": []
  },
  {
   "cell_type": "code",
   "execution_count": 9,
   "metadata": {},
   "outputs": [],
   "source": [
    "for i in datelist :\n",
    "    driver.get(f'http://beijingair.sinaapp.com/data/china/sites/{i}/csv')"
   ]
  },
  {
   "cell_type": "code",
   "execution_count": null,
   "metadata": {},
   "outputs": [],
   "source": []
  }
 ],
 "metadata": {
  "kernelspec": {
   "display_name": "Python 3",
   "language": "python",
   "name": "python3"
  },
  "language_info": {
   "codemirror_mode": {
    "name": "ipython",
    "version": 3
   },
   "file_extension": ".py",
   "mimetype": "text/x-python",
   "name": "python",
   "nbconvert_exporter": "python",
   "pygments_lexer": "ipython3",
   "version": "3.7.5"
  }
 },
 "nbformat": 4,
 "nbformat_minor": 2
}
