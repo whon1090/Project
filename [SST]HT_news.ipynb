{
 "cells": [
  {
   "cell_type": "code",
   "execution_count": 5,
   "metadata": {},
   "outputs": [],
   "source": [
    "#import module\n",
    "\n",
    "#python defalut module\n",
    "import time\n",
    "import re\n",
    "import os\n",
    "from datetime import datetime,timedelta, date\n",
    "\n",
    "import pandas as pd\n",
    "import numpy as np\n",
    "\n",
    "import matplotlib.pyplot as plt\n",
    "import matplotlib as mpl\n",
    "import seaborn as sns\n",
    "\n",
    "import urllib3\n",
    "from bs4 import BeautifulSoup\n",
    "import requests\n",
    "\n",
    "import selenium\n",
    "\n",
    "from selenium import webdriver\n",
    "from selenium.webdriver.common.keys import Keys\n",
    "from selenium.webdriver.support.ui import Select\n",
    "from selenium.webdriver.support.ui import WebDriverWait\n",
    "from selenium.webdriver.support import expected_conditions as EC\n",
    "from selenium.webdriver.common.by import By\n",
    "\n",
    "\n",
    "import warnings\n",
    "warnings.filterwarnings(action='ignore')\n",
    "%matplotlib inline\n",
    "\n",
    "font_name = mpl.font_manager.FontProperties(fname='C:/Windows/Fonts/malgunbd.ttf').get_name()\n",
    "mpl.rc('font', family=font_name)\n",
    "mpl.rcParams['axes.unicode_minus'] = False"
   ]
  },
  {
   "cell_type": "markdown",
   "metadata": {},
   "source": [
    "### 현대 트랜시스 뉴스 크롤링  \n",
    "> 네이버 뉴스 통합검색으로 진행\n",
    ">\n",
    "> 통합검색시 page, start date, end date 설정\n",
    ">\n",
    "> 네이버 기사 제목 + URL + 기사검색시 요약본 3가지를 추출\n",
    ">\n",
    "> 네이버 뉴스란 클릭하면 네이버 뉴스로만 들어가짐 해당 기사 긁어오기"
   ]
  },
  {
   "cell_type": "markdown",
   "metadata": {},
   "source": [
    "날짜 형식 yyyy.mm.dd로 입력? \n",
    "  \n",
    "input data를 설정해야함(시작 날짜, 종료날짜, 검색어) 3개로 선정?"
   ]
  },
  {
   "cell_type": "markdown",
   "metadata": {},
   "source": [
    "1일 검색어 기준"
   ]
  },
  {
   "cell_type": "code",
   "execution_count": 19,
   "metadata": {},
   "outputs": [
    {
     "data": {
      "text/plain": [
       "'2020_11_12'"
      ]
     },
     "execution_count": 19,
     "metadata": {},
     "output_type": "execute_result"
    }
   ],
   "source": [
    "today_date = datetime.today().strftime(\"%Y-%m-%d\")\n",
    "today_date = today_date.replace('-','_')\n",
    "now_day = (datetime.today().strftime(\"%Y-%m-%d\")).replace('-','.')\n",
    "before_day = ((datetime.today() - timedelta(days=1)).strftime(\"%Y-%m-%d\")).replace('-','.')\n",
    "today_date"
   ]
  },
  {
   "cell_type": "code",
   "execution_count": 21,
   "metadata": {},
   "outputs": [
    {
     "data": {
      "text/plain": [
       "'\\nhttps://search.naver.com/search.naver?&where=news&query=a&sm=tab_pge&sort=0&photo=0&field=0&reporter_article=\\n&pd=4&ds=2020.11.12.08.00&de=2020.11.11.08.00&docid=&nso=so:r,p:1d,a:all&mynews=0&cluster_rank=63&start=1&refresh_start=0\\n'"
      ]
     },
     "execution_count": 21,
     "metadata": {},
     "output_type": "execute_result"
    }
   ],
   "source": [
    "keyword ='a'\n",
    "k = 0\n",
    "page = f\"\"\"\n",
    "https://search.naver.com/search.naver?&where=news&query={keyword}&sm=tab_pge&sort=0&photo=0&field=0&reporter_article=\n",
    "&pd=4&ds={now_day}.08.00&de={before_day}.08.00&docid=&nso=so:r,p:1d,a:all&mynews=0&cluster_rank=63&start={k*10+1}&refresh_start=0\n",
    "\"\"\"\n",
    "page"
   ]
  },
  {
   "cell_type": "code",
   "execution_count": 4,
   "metadata": {},
   "outputs": [],
   "source": [
    "title_list =[] # 제목을 저장하기 위한 list\n",
    "url_list = [] # URL을 저장하기 위한 list\n",
    "summary_list = [] # 날짜를 저장하기 위한 list\n",
    "date_list = []\n",
    "keyword_list = []\n",
    "\n",
    "keywords = ['현대차', '기아차' , '현대트랜시스','모비스 -농구 -KCC -오리온 -D리그 -DB -전자랜드 -KGC','현대위아',\n",
    "                   '현대로템','자율주행','전동화']\n",
    "\n",
    "for keyword in keywords:\n",
    "    for k in range(0,3) :\n",
    "        try:  \n",
    "            page = f\"\"\"\n",
    "            https://search.naver.com/search.naver?&where=news&query={keyword}&sm=tab_pge&sort=0&photo=0&field=0\n",
    "            &reporter_article=&pd=4&ds={now_day}.08.00&de={before_day}.08.00&docid=&nso=so:r,p:1d,a:all&mynews=0\n",
    "            &cluster_rank=63&start={k*10+1}&refresh_start=0\"\"\"\n",
    "            res = requests.get(page, headers={'User-Agent':\n",
    "                                      (\"Mozilla/5.0 (Windows NT 10.0; Win64; x64) \"\n",
    "                                       \"AppleWebKit/537.36 (KHTML, like Gecko) Chrome/86.0.4240.75 Safari/537.36\")},\n",
    "                       verify = False) \n",
    "            news_html = BeautifulSoup(res.text,'html.parser')\n",
    "            content = news_html.select(\".group_news\") # 기사 본문 저장되어 있는 html주소 복사\n",
    "            if not content:\n",
    "                continue\n",
    "\n",
    "            news_area = content[0].select('.news_area') # 기사가 저장되어 있는 링크 추출\n",
    "\n",
    "            for area in range(len(news_area)) :\n",
    "                title_content = news_area[area].select('a')\n",
    "\n",
    "                # title content 안의 attr은 dictionary 형태기때문에 has_key함수 바탕으로 title여부를 확인하여 리스트를 뽑아낸다\n",
    "                for i in title_content : \n",
    "                    if i.has_key('title') == True :\n",
    "                        title_list.append(i.attrs['title'])\n",
    "                    else : continue\n",
    "\n",
    "                date_content = news_area[area].find_all('span',{'class':'info'})\n",
    "\n",
    "                if len(date_content) ==2 :\n",
    "                    news_date = date_content[1].get_text()\n",
    "\n",
    "                else : news_date = date_content[0].get_text()\n",
    "\n",
    "                if '시간' in news_date : # 날짜가 n시간 전으로 표기될 경우 문자열 처리\n",
    "                    date_find = re.findall(r'\\d+', news_date) \n",
    "                    final_date = str(datetime.now() - timedelta(hours=int(date_find[0])))\n",
    "                    date_list.append(final_date)\n",
    "\n",
    "                elif '분' in news_date : # 날짜가 n분 전으로 표기될 경우 문자열 처리\n",
    "                    date_find = re.findall(r'\\d+', news_date)\n",
    "                    final_date = str(datetime.now() - timedelta(minutes=int(date_find[0])))\n",
    "                    date_list.append(final_date)\n",
    "\n",
    "                elif '일' in news_date: # 날짜가 n일 전으로 표기될 경우 문자열 처리\n",
    "                    date_find = re.findall(r'\\d+', news_date)\n",
    "                    final_date = str(datetime.now() - timedelta(days=int(date_find[0])))\n",
    "                    date_list.append(final_date)    \n",
    "\n",
    "                elif bool(re.search(r'\\d{3,4}.\\d{1,2}.\\d{2}',news_date)) == True : # yyyy.mm.dd로 표기될 경우 처리\n",
    "                    final_date = news_date.replace('.',\"-\")\n",
    "                    date_list.append(final_date)\n",
    "\n",
    "            url_content = content[0].find_all('a',{'class':'news_tit'})\n",
    "            for url in url_content :\n",
    "                url_list.append(url.attrs['href'])\n",
    "                keyword_list.append(keyword)\n",
    "            if keyword in ['자율주행','전동화'] :\n",
    "                break\n",
    "        except : \n",
    "            print(k)\n",
    "            break"
   ]
  },
  {
   "cell_type": "code",
   "execution_count": 14,
   "metadata": {},
   "outputs": [],
   "source": [
    "df = pd.DataFrame({'keyword':keyword_list, 'title':title_list,'url':url_list,'date':date_list})\n",
    "df['date'] = pd.to_datetime(df['date'], format='%Y-%m-%d %H:%M')\n",
    "df = df.sort_values(['date'],ascending=False)\n",
    "df['date'] = df['date'].astype(str)\n",
    "df['date'] = df['date'].str[:13] + \":00\" \n",
    "df = df.sort_index()\n",
    "df.drop_duplicates(subset=['title'], keep='last',inplace=True) # 기사 중 마지막 기사만 남기고 중복 제거\n",
    "df.reset_index(drop=True,inplace=True)"
   ]
  },
  {
   "cell_type": "code",
   "execution_count": 15,
   "metadata": {},
   "outputs": [
    {
     "data": {
      "text/html": [
       "<div>\n",
       "<style scoped>\n",
       "    .dataframe tbody tr th:only-of-type {\n",
       "        vertical-align: middle;\n",
       "    }\n",
       "\n",
       "    .dataframe tbody tr th {\n",
       "        vertical-align: top;\n",
       "    }\n",
       "\n",
       "    .dataframe thead th {\n",
       "        text-align: right;\n",
       "    }\n",
       "</style>\n",
       "<table border=\"1\" class=\"dataframe\">\n",
       "  <thead>\n",
       "    <tr style=\"text-align: right;\">\n",
       "      <th></th>\n",
       "      <th>keyword</th>\n",
       "      <th>title</th>\n",
       "      <th>url</th>\n",
       "      <th>date</th>\n",
       "    </tr>\n",
       "  </thead>\n",
       "  <tbody>\n",
       "    <tr>\n",
       "      <th>0</th>\n",
       "      <td>현대차그룹</td>\n",
       "      <td>현대차그룹 제3회 중국 국제 수입박람회 참가</td>\n",
       "      <td>http://www.gjdream.com/news/articleView.html?i...</td>\n",
       "      <td>2020-11-08 15:00</td>\n",
       "    </tr>\n",
       "    <tr>\n",
       "      <th>1</th>\n",
       "      <td>현대차그룹</td>\n",
       "      <td>현대차그룹, 수소·전기차로 中시장 공략 박차</td>\n",
       "      <td>http://www.ujeil.com/news/articleView.html?idx...</td>\n",
       "      <td>2020-11-08 23:00</td>\n",
       "    </tr>\n",
       "    <tr>\n",
       "      <th>2</th>\n",
       "      <td>현대차그룹</td>\n",
       "      <td>현대차그룹, 제3회 중국 국제 수입박람회 참가</td>\n",
       "      <td>http://www.namdonews.com/news/articleView.html...</td>\n",
       "      <td>2020-11-08 13:00</td>\n",
       "    </tr>\n",
       "    <tr>\n",
       "      <th>3</th>\n",
       "      <td>현대자동차</td>\n",
       "      <td>현대자동차, 화물 운송용 무인 항공기 개발 착수</td>\n",
       "      <td>https://www.jnilbo.com/view/media/view?code=20...</td>\n",
       "      <td>2020-11-08 17:00</td>\n",
       "    </tr>\n",
       "    <tr>\n",
       "      <th>4</th>\n",
       "      <td>현대자동차</td>\n",
       "      <td>\"더는 못 참아\" 현대자동차 '지속적 허위 비방' 유튜브 채널 고소</td>\n",
       "      <td>http://www.ilyosisa.co.kr/news/articleView.htm...</td>\n",
       "      <td>2020-11-08 10:00</td>\n",
       "    </tr>\n",
       "  </tbody>\n",
       "</table>\n",
       "</div>"
      ],
      "text/plain": [
       "  keyword                                  title  \\\n",
       "0   현대차그룹               현대차그룹 제3회 중국 국제 수입박람회 참가   \n",
       "1   현대차그룹               현대차그룹, 수소·전기차로 中시장 공략 박차   \n",
       "2   현대차그룹              현대차그룹, 제3회 중국 국제 수입박람회 참가   \n",
       "3   현대자동차             현대자동차, 화물 운송용 무인 항공기 개발 착수   \n",
       "4   현대자동차  \"더는 못 참아\" 현대자동차 '지속적 허위 비방' 유튜브 채널 고소   \n",
       "\n",
       "                                                 url              date  \n",
       "0  http://www.gjdream.com/news/articleView.html?i...  2020-11-08 15:00  \n",
       "1  http://www.ujeil.com/news/articleView.html?idx...  2020-11-08 23:00  \n",
       "2  http://www.namdonews.com/news/articleView.html...  2020-11-08 13:00  \n",
       "3  https://www.jnilbo.com/view/media/view?code=20...  2020-11-08 17:00  \n",
       "4  http://www.ilyosisa.co.kr/news/articleView.htm...  2020-11-08 10:00  "
      ]
     },
     "execution_count": 15,
     "metadata": {},
     "output_type": "execute_result"
    }
   ],
   "source": [
    "df.head()"
   ]
  },
  {
   "cell_type": "code",
   "execution_count": 16,
   "metadata": {},
   "outputs": [
    {
     "data": {
      "text/plain": [
       "15"
      ]
     },
     "execution_count": 16,
     "metadata": {},
     "output_type": "execute_result"
    }
   ],
   "source": [
    "len(df)"
   ]
  },
  {
   "cell_type": "code",
   "execution_count": 19,
   "metadata": {},
   "outputs": [],
   "source": [
    "df.to_csv(f'C:/data/ht_news/keyword_{today_date}',index=False)"
   ]
  },
  {
   "cell_type": "code",
   "execution_count": 5,
   "metadata": {},
   "outputs": [
    {
     "data": {
      "text/html": [
       "<div>\n",
       "<style scoped>\n",
       "    .dataframe tbody tr th:only-of-type {\n",
       "        vertical-align: middle;\n",
       "    }\n",
       "\n",
       "    .dataframe tbody tr th {\n",
       "        vertical-align: top;\n",
       "    }\n",
       "\n",
       "    .dataframe thead th {\n",
       "        text-align: right;\n",
       "    }\n",
       "</style>\n",
       "<table border=\"1\" class=\"dataframe\">\n",
       "  <thead>\n",
       "    <tr style=\"text-align: right;\">\n",
       "      <th></th>\n",
       "      <th>keyword</th>\n",
       "      <th>title</th>\n",
       "      <th>url</th>\n",
       "      <th>date</th>\n",
       "    </tr>\n",
       "  </thead>\n",
       "  <tbody>\n",
       "    <tr>\n",
       "      <th>0</th>\n",
       "      <td>현대차그룹</td>\n",
       "      <td>현대차그룹 제3회 중국 국제 수입박람회 참가</td>\n",
       "      <td>http://www.gjdream.com/news/articleView.html?i...</td>\n",
       "      <td>2020-11-08 15:00</td>\n",
       "    </tr>\n",
       "    <tr>\n",
       "      <th>1</th>\n",
       "      <td>현대차그룹</td>\n",
       "      <td>현대차그룹, 수소·전기차로 中시장 공략 박차</td>\n",
       "      <td>http://www.ujeil.com/news/articleView.html?idx...</td>\n",
       "      <td>2020-11-08 23:00</td>\n",
       "    </tr>\n",
       "    <tr>\n",
       "      <th>2</th>\n",
       "      <td>현대차그룹</td>\n",
       "      <td>현대차그룹, 제3회 중국 국제 수입박람회 참가</td>\n",
       "      <td>http://www.namdonews.com/news/articleView.html...</td>\n",
       "      <td>2020-11-08 13:00</td>\n",
       "    </tr>\n",
       "    <tr>\n",
       "      <th>3</th>\n",
       "      <td>현대자동차</td>\n",
       "      <td>현대자동차, 화물 운송용 무인 항공기 개발 착수</td>\n",
       "      <td>https://www.jnilbo.com/view/media/view?code=20...</td>\n",
       "      <td>2020-11-08 17:00</td>\n",
       "    </tr>\n",
       "    <tr>\n",
       "      <th>4</th>\n",
       "      <td>현대자동차</td>\n",
       "      <td>\"더는 못 참아\" 현대자동차 '지속적 허위 비방' 유튜브 채널 고소</td>\n",
       "      <td>http://www.ilyosisa.co.kr/news/articleView.htm...</td>\n",
       "      <td>2020-11-08 10:00</td>\n",
       "    </tr>\n",
       "  </tbody>\n",
       "</table>\n",
       "</div>"
      ],
      "text/plain": [
       "  keyword                                  title  \\\n",
       "0   현대차그룹               현대차그룹 제3회 중국 국제 수입박람회 참가   \n",
       "1   현대차그룹               현대차그룹, 수소·전기차로 中시장 공략 박차   \n",
       "2   현대차그룹              현대차그룹, 제3회 중국 국제 수입박람회 참가   \n",
       "3   현대자동차             현대자동차, 화물 운송용 무인 항공기 개발 착수   \n",
       "4   현대자동차  \"더는 못 참아\" 현대자동차 '지속적 허위 비방' 유튜브 채널 고소   \n",
       "\n",
       "                                                 url              date  \n",
       "0  http://www.gjdream.com/news/articleView.html?i...  2020-11-08 15:00  \n",
       "1  http://www.ujeil.com/news/articleView.html?idx...  2020-11-08 23:00  \n",
       "2  http://www.namdonews.com/news/articleView.html...  2020-11-08 13:00  \n",
       "3  https://www.jnilbo.com/view/media/view?code=20...  2020-11-08 17:00  \n",
       "4  http://www.ilyosisa.co.kr/news/articleView.htm...  2020-11-08 10:00  "
      ]
     },
     "execution_count": 5,
     "metadata": {},
     "output_type": "execute_result"
    }
   ],
   "source": [
    "df =pd.read_csv(f'C:/data/ht_news/keyword_{today_date}')\n",
    "# df.drop(['Unnamed: 0'],axis=1,inplace=True)\n",
    "df.head()"
   ]
  },
  {
   "cell_type": "markdown",
   "metadata": {},
   "source": [
    "### Selenium"
   ]
  },
  {
   "cell_type": "code",
   "execution_count": 6,
   "metadata": {},
   "outputs": [],
   "source": [
    "path = \"C:/driver/chromedriver.exe\"    # 크롬드라이버 설치 경로 설정\n",
    "\n",
    "set_id = open(\"C:/driver/kakako/set_id.txt\", 'r').read() #id 입력\n",
    "set_pwd = open(\"C:/driver/kakako/pwd.txt\", 'r').read() # pwd 입력"
   ]
  },
  {
   "cell_type": "code",
   "execution_count": 7,
   "metadata": {},
   "outputs": [],
   "source": [
    "now_weekday = datetime.now()\n",
    "now_weekday = now_weekday.weekday()\n",
    "now_weekday = '월화수목금토일'[now_weekday]"
   ]
  },
  {
   "cell_type": "code",
   "execution_count": 24,
   "metadata": {},
   "outputs": [],
   "source": [
    "def weekday_read(day) :\n",
    "    if now_weekday == \"월\" :\n",
    "        for i in range(1,3) :\n",
    "            final_date = str(datetime.now() - timedelta(days=int(i)))[:10].replace('-','_')\n",
    "            if i==1 :\n",
    "                df = pd.read_csv(f'C:/data/ht_news/keyword_{final_date}')\n",
    "            else : \n",
    "                before_data = pd.read_csv(f'C:/data/ht_news/keyword_{final_date}')\n",
    "                df = pd.concat([df,before_data])\n",
    "                \n",
    "    else :\n",
    "        today = datetime.today().strftime(\"%Y-%m-%d\").replace('-','_')\n",
    "        df = pd.read_csv(f'C:/data/ht_news/keyword_{today}')"
   ]
  },
  {
   "cell_type": "code",
   "execution_count": 30,
   "metadata": {},
   "outputs": [],
   "source": [
    "# Selenium Load\n",
    "driver = webdriver.Chrome(path) # chrome driver load\n",
    "driver.maximize_window() # chrome driver 전체 화면 설정\n",
    "\n",
    "# site login\n",
    "driver.get('https://accounts.kakao.com/login/kakaoforbusiness?continue=https://center-pf.kakao.com/') # 오토웨이 접속\n",
    "time.sleep(3)\n",
    "\n",
    "log = driver.find_element_by_id(\"id_email_2\") # 오토웨이 id 입력 주소\n",
    "log.send_keys(set_id) # id입력\n",
    "time.sleep(2)\n",
    "pwd = driver.find_element_by_id(\"id_password_3\") # 오토웨이 비밀번호 입력 주소\n",
    "pwd.send_keys(set_pwd) # pwd 입력\n",
    "time.sleep(2)\n",
    "driver.find_element_by_xpath('//*[@id=\"login-form\"]/fieldset/div[8]/button[1]').click() # 로그인 버튼 클릭\n",
    "time.sleep(5)\n",
    "\n",
    "try : \n",
    "    driver.find_element_by_class_name('link_close').click()\n",
    "    \n",
    "except: pass\n",
    "\n",
    "time.sleep(5)\n",
    "driver.find_element_by_class_name('link_plus').click()\n",
    "\n",
    "\n",
    "time.sleep(5)\n",
    "driver.get('https://center-pf.kakao.com/_HYRxmxl/posts')\n",
    "\n",
    "repeat_list = list(np.repeat('-50',2))\n",
    "for i in repeat_list :\n",
    "    driver.execute_script(\"window.scrollTo(0, document.body.scrollHeight);\")\n",
    "    time.sleep(2)\n",
    "    driver.execute_script(f\"window.scrollTo(0, document.body.scrollHeight{i});\")\n",
    "    time.sleep(2)\n",
    "    \n",
    "driver.find_element_by_class_name('btn_write').click()\n",
    "\n",
    "driver.find_element_by_css_selector('#mArticle > div > div > div:nth-child(1) > div.box_card.box_write > form > div.tit_tf > input').send_keys()\n",
    "\n",
    "\n",
    "kakao = driver.find_element_by_css_selector('#mArticle > div > div > div:nth-child(1) > div.box_card.box_write > form > div.desc_tf > div > div > div > div > textarea')\n",
    "for row, keyword in enumerate(keywords):\n",
    "    data = df[df['keyword']==keyword]\n",
    "    if row == 0 :\n",
    "        kakao.send_keys(f\"온라인 모니터링({now_weekday})\", Keys.ENTER,'[언론동향]',Keys.ENTER)\n",
    "    if len(data) == 0:\n",
    "            continue    \n",
    "    kakao.send_keys(f'<{keyword}>',Keys.ENTER)\n",
    "    for i, (title, url) in enumerate(zip(data.title,data.url)) :\n",
    "        count = i+1\n",
    "        kakao.send_keys(f'{count}.',Keys.SPACE, title, Keys.ENTER, '- ',url, Keys.ENTER,Keys.ENTER)\n",
    "        \n",
    "# driver.find_element_by_xpath('//*[@id=\"mArticle\"]/div/div/div[1]/div[2]/form/div[3]/div[2]/div[1]/div[1]/div/label/span/span').click()\n",
    "\n",
    "WebDriverWait(driver, 10).until(EC.element_to_be_clickable((By.XPATH, '//*[@id=\"mArticle\"]/div/div/div[1]/div[2]/form/div[3]/div[2]/div[1]/div[1]/div/label/span/span'))).click()\n",
    "\n",
    "# driver.find_element_by_xpath('//*[@id=\"mArticle\"]/div/div/div[1]/div[2]/form/div[3]/div[2]/div[2]/button[2]').click()\n",
    "WebDriverWait(driver, 10).until(EC.element_to_be_clickable((By.XPATH, '//*[@id=\"mArticle\"]/div/div/div[1]/div[2]/form/div[3]/div[2]/div[2]/button[2]'))).click()\n"
   ]
  },
  {
   "cell_type": "code",
   "execution_count": 78,
   "metadata": {},
   "outputs": [],
   "source": [
    "title_list =[] # 제목을 저장하기 위한 list\n",
    "url_list = [] # URL을 저장하기 위한 list\n",
    "summary_list = [] # 날짜를 저장하기 위한 list\n",
    "date_list = []\n",
    "keyword_list = []\n",
    "\n",
    "keywords = ['현대차', '기아차' , '현대트랜시스','모비스 -농구 -KCC -오리온 -D리그 -DB -전자랜드 -KGC','현대위아',\n",
    "                   '현대로템','자율주행','전동화']\n",
    "\n",
    "for keyword in keywords:\n",
    "    for k in range(0,3) :\n",
    "        try:  \n",
    "            page = f'https://search.naver.com/search.naver?&where=news&query={keyword}&sm=tab_pge&sort=0&photo=0&field=0&reporter_article=&pd=4&ds=2020.11.11.08.00&de=2020.11.12.08.00&docid=&nso=so:r,p:1d,a:all&mynews=0&cluster_rank=63&start={k*10+1}&refresh_start=0'\n",
    "            res = requests.get(page, headers={'User-Agent':\n",
    "                                      (\"Mozilla/5.0 (Windows NT 10.0; Win64; x64) \"\n",
    "                                       \"AppleWebKit/537.36 (KHTML, like Gecko) Chrome/86.0.4240.75 Safari/537.36\")},\n",
    "                       verify = False) \n",
    "            news_html = BeautifulSoup(res.text,'html.parser')\n",
    "            content = news_html.select(\".group_news\") # 기사 본문 저장되어 있는 html주소 복사\n",
    "            if not content:\n",
    "                continue\n",
    "\n",
    "            news_area = content[0].select('.news_area') # 기사가 저장되어 있는 링크 추출\n",
    "\n",
    "            for area in range(len(news_area)) :\n",
    "                title_content = news_area[area].select('a')\n",
    "\n",
    "                # title content 안의 attr은 dictionary 형태기때문에 has_key함수 바탕으로 title여부를 확인하여 리스트를 뽑아낸다\n",
    "                for i in title_content : \n",
    "                    if i.has_key('title') == True :\n",
    "                        title_list.append(i.attrs['title'])\n",
    "                    else : continue\n",
    "\n",
    "                date_content = news_area[area].find_all('span',{'class':'info'})\n",
    "\n",
    "                if len(date_content) ==2 :\n",
    "                    news_date = date_content[1].get_text()\n",
    "\n",
    "                else : news_date = date_content[0].get_text()\n",
    "\n",
    "                if '시간' in news_date : # 날짜가 n시간 전으로 표기될 경우 문자열 처리\n",
    "                    date_find = re.findall(r'\\d+', news_date) \n",
    "                    final_date = str(datetime.now() - timedelta(hours=int(date_find[0])))\n",
    "                    date_list.append(final_date)\n",
    "\n",
    "                elif '분' in news_date : # 날짜가 n분 전으로 표기될 경우 문자열 처리\n",
    "                    date_find = re.findall(r'\\d+', news_date)\n",
    "                    final_date = str(datetime.now() - timedelta(minutes=int(date_find[0])))\n",
    "                    date_list.append(final_date)\n",
    "\n",
    "                elif '일' in news_date: # 날짜가 n일 전으로 표기될 경우 문자열 처리\n",
    "                    date_find = re.findall(r'\\d+', news_date)\n",
    "                    final_date = str(datetime.now() - timedelta(days=int(date_find[0])))\n",
    "                    date_list.append(final_date)    \n",
    "\n",
    "                elif bool(re.search(r'\\d{3,4}.\\d{1,2}.\\d{2}',news_date)) == True : # yyyy.mm.dd로 표기될 경우 처리\n",
    "                    final_date = news_date.replace('.',\"-\")\n",
    "                    date_list.append(final_date)\n",
    "\n",
    "            url_content = content[0].find_all('a',{'class':'news_tit'})\n",
    "            for url in url_content :\n",
    "                url_list.append(url.attrs['href'])\n",
    "                keyword_list.append(keyword)\n",
    "            if keyword in ['자율주행','전동화'] :\n",
    "                break\n",
    "        except : \n",
    "            print(k)\n",
    "            break"
   ]
  },
  {
   "cell_type": "code",
   "execution_count": 79,
   "metadata": {},
   "outputs": [],
   "source": [
    "df = pd.DataFrame({'keyword':keyword_list, 'title':title_list,'url':url_list,'date':date_list})\n",
    "df['date'] = pd.to_datetime(df['date'], format='%Y-%m-%d %H:%M')\n",
    "df = df.sort_values(['date'],ascending=False)\n",
    "df['date'] = df['date'].astype(str)\n",
    "df['date'] = df['date'].str[:13] + \":00\" \n",
    "df = df.sort_index()\n",
    "df.drop_duplicates(subset=['title'], keep='first',inplace=True) # 기사 중 마지막 기사만 남기고 중복 제거\n",
    "df.reset_index(drop=True,inplace=True)"
   ]
  },
  {
   "cell_type": "code",
   "execution_count": 80,
   "metadata": {},
   "outputs": [
    {
     "data": {
      "text/plain": [
       "'2020_11_12'"
      ]
     },
     "execution_count": 80,
     "metadata": {},
     "output_type": "execute_result"
    }
   ],
   "source": [
    "today_date = datetime.today().strftime(\"%Y-%m-%d\")\n",
    "today_date = today_date.replace('-','_')\n",
    "today_date"
   ]
  },
  {
   "cell_type": "code",
   "execution_count": 87,
   "metadata": {},
   "outputs": [],
   "source": [
    "df['title'] = df['title'].str.replace('\\xa0','')\n",
    "df['title'] = df['title'].str.replace('\\u2027','')"
   ]
  },
  {
   "cell_type": "code",
   "execution_count": 88,
   "metadata": {},
   "outputs": [],
   "source": [
    "df.to_csv(f'C:/data/ht_news/keyword_{today_date}.csv',encoding='CP949',index=False)"
   ]
  },
  {
   "cell_type": "code",
   "execution_count": null,
   "metadata": {},
   "outputs": [],
   "source": []
  },
  {
   "cell_type": "markdown",
   "metadata": {},
   "source": [
    "중복 기사 제거 작업\n",
    "\n",
    "기존 뉴스 저장하는 튜플 or 리스트 필요\n",
    "\n",
    "추가로 "
   ]
  },
  {
   "cell_type": "code",
   "execution_count": 1,
   "metadata": {},
   "outputs": [],
   "source": [
    "from sklearn.feature_extraction.text import CountVectorizer"
   ]
  },
  {
   "cell_type": "code",
   "execution_count": null,
   "metadata": {},
   "outputs": [],
   "source": [
    "drop_list = []\n",
    "dup_list = []\n",
    "\n",
    "for row, title in enumerate(df.title) :\n",
    "    count=0\n",
    "        \n",
    "    title_split = re.sub(\"[^ㄱ-ㅎ ㅏ-ㅣ 가-힣| a-zA-Z0-9]\", \" \",title) # 특수문자 제거\n",
    "    title_split = re.split(' ', title_split) # 기사 제목을 띄어쓰기 단위로 구분\n",
    "    title_split = [ string for string in title_split if string != ''] #  리스트에 빈공간인 ''로 저장되는 list 삭제\n",
    "    \n",
    "    if row == 0:\n",
    "        dup_list.append(title_split)\n",
    "        continue\n",
    "    \n",
    "    \n",
    "    for k in dup_list :\n",
    "        if title_split.count(k)>=1 :\n",
    "            count +=1\n",
    "            if count>=2 :\n",
    "                count=0 \n",
    "                drop_list.append(row)\n",
    "                break\n",
    "    \n",
    "\n",
    "df.drop(drop_list,inplace=True)"
   ]
  },
  {
   "cell_type": "code",
   "execution_count": null,
   "metadata": {},
   "outputs": [],
   "source": []
  },
  {
   "cell_type": "code",
   "execution_count": 59,
   "metadata": {},
   "outputs": [
    {
     "data": {
      "text/plain": [
       "96"
      ]
     },
     "execution_count": 59,
     "metadata": {},
     "output_type": "execute_result"
    }
   ],
   "source": [
    "len(df)"
   ]
  },
  {
   "cell_type": "code",
   "execution_count": 38,
   "metadata": {},
   "outputs": [
    {
     "data": {
      "text/html": [
       "<div>\n",
       "<style scoped>\n",
       "    .dataframe tbody tr th:only-of-type {\n",
       "        vertical-align: middle;\n",
       "    }\n",
       "\n",
       "    .dataframe tbody tr th {\n",
       "        vertical-align: top;\n",
       "    }\n",
       "\n",
       "    .dataframe thead th {\n",
       "        text-align: right;\n",
       "    }\n",
       "</style>\n",
       "<table border=\"1\" class=\"dataframe\">\n",
       "  <thead>\n",
       "    <tr style=\"text-align: right;\">\n",
       "      <th></th>\n",
       "      <th>keyword</th>\n",
       "      <th>title</th>\n",
       "      <th>url</th>\n",
       "      <th>date</th>\n",
       "    </tr>\n",
       "  </thead>\n",
       "  <tbody>\n",
       "    <tr>\n",
       "      <th>0</th>\n",
       "      <td>현대차</td>\n",
       "      <td>현대차 그룹, 미래 자동차 기술 선도 나서…‘2020 R&amp;D 테크데이’ 개최</td>\n",
       "      <td>http://www.segye.com/content/html/2020/11/11/2...</td>\n",
       "      <td>2020-11-11 17:00</td>\n",
       "    </tr>\n",
       "    <tr>\n",
       "      <th>1</th>\n",
       "      <td>현대차</td>\n",
       "      <td>인도네시아 경찰대, 태권도 필수과목 채택…현대차 후원</td>\n",
       "      <td>http://yna.kr/AKR20201111137700104?did=1195m</td>\n",
       "      <td>2020-11-11 17:00</td>\n",
       "    </tr>\n",
       "    <tr>\n",
       "      <th>2</th>\n",
       "      <td>현대차</td>\n",
       "      <td>친환경차에 정부 R&amp;D 지원 절실...현대차, 美시장 선점 기회로</td>\n",
       "      <td>https://www.sedaily.com/NewsView/1ZAD8EV1BK</td>\n",
       "      <td>2020-11-11 18:00</td>\n",
       "    </tr>\n",
       "    <tr>\n",
       "      <th>3</th>\n",
       "      <td>현대차</td>\n",
       "      <td>현대차 노사, 비대면 슬기로운 집콕생활 지원</td>\n",
       "      <td>http://www.newsis.com/view/?id=NISX20201111_00...</td>\n",
       "      <td>2020-11-11 11:00</td>\n",
       "    </tr>\n",
       "    <tr>\n",
       "      <th>4</th>\n",
       "      <td>현대차</td>\n",
       "      <td>폴리텍대학 광주캠퍼스-현대차, 교육용 차량 수증식</td>\n",
       "      <td>http://www.kjdaily.com/read.php3?aid=160509047...</td>\n",
       "      <td>2020-11-11 20:00</td>\n",
       "    </tr>\n",
       "  </tbody>\n",
       "</table>\n",
       "</div>"
      ],
      "text/plain": [
       "  keyword                                       title  \\\n",
       "0     현대차  현대차 그룹, 미래 자동차 기술 선도 나서…‘2020 R&D 테크데이’ 개최   \n",
       "1     현대차               인도네시아 경찰대, 태권도 필수과목 채택…현대차 후원   \n",
       "2     현대차        친환경차에 정부 R&D 지원 절실...현대차, 美시장 선점 기회로   \n",
       "3     현대차                    현대차 노사, 비대면 슬기로운 집콕생활 지원   \n",
       "4     현대차                 폴리텍대학 광주캠퍼스-현대차, 교육용 차량 수증식   \n",
       "\n",
       "                                                 url              date  \n",
       "0  http://www.segye.com/content/html/2020/11/11/2...  2020-11-11 17:00  \n",
       "1       http://yna.kr/AKR20201111137700104?did=1195m  2020-11-11 17:00  \n",
       "2        https://www.sedaily.com/NewsView/1ZAD8EV1BK  2020-11-11 18:00  \n",
       "3  http://www.newsis.com/view/?id=NISX20201111_00...  2020-11-11 11:00  \n",
       "4  http://www.kjdaily.com/read.php3?aid=160509047...  2020-11-11 20:00  "
      ]
     },
     "execution_count": 38,
     "metadata": {},
     "output_type": "execute_result"
    }
   ],
   "source": [
    "df.head()"
   ]
  },
  {
   "cell_type": "markdown",
   "metadata": {},
   "source": [
    "### 일주일 단위 데이터 크롤링"
   ]
  },
  {
   "cell_type": "markdown",
   "metadata": {},
   "source": [
    "네이버 검색 양식 \n",
    "1일\n",
    "https://search.naver.com/search.naver?where=news&query={검색어}&sm=tab_opt&sort=0&photo=0&field={전체=0,제목=1}&reporter_article=&pd={1일=1,1주=4}&ds=&de=&docid=&nso=so%3Ar%2Cp%3A1d%2Ca%3{전체=Aall,제목=At}&mynews=0&refresh_start=0&related=0\n",
    "\n",
    "1주\n",
    "https://search.naver.com/search.naver?where=news&query={keyword}&sm=tab_opt&sort=0&photo=0&field={전체=0,제목=1}&reporter_article=&pd=1&ds={end_date}&de={start_date}&docid=&nso=so%3Ar%2Cp%3A1w%2Ca%3{전체=Aall,제목=At}&mynews=0&refresh_start=0&related=0"
   ]
  },
  {
   "cell_type": "code",
   "execution_count": 37,
   "metadata": {},
   "outputs": [],
   "source": [
    "title_list =[] # 제목을 저장하기 위한 list\n",
    "url_list = [] # URL을 저장하기 위한 list\n",
    "summary_list = [] # 날짜를 저장하기 위한 list\n",
    "date_list = []\n",
    "keyword_list = []\n",
    "keywords = ['현대차그룹' ,'현대자동차', '기아자동차' , '현대트랜시스','모비스-농구','현대위아',\n",
    "                   '현대로템','자율주행','전동화']\n",
    "for keyword in keywords:\n",
    "    for k in range(1,10) :\n",
    "        try:         \n",
    "            page = f'https://search.naver.com/search.naver?&where=news&query={keyword}&sm=tab_pge&sort=0&photo=0&field=1&reporter_article=&pd=1&ds=2020.10.30&de=2020.11.06&docid=&nso=so:r,p:1w,a:t&mynews=0&start={k*10+1}&refresh_start=0'\n",
    "            res = requests.get(page, headers={'User-Agent':\n",
    "                                      (\"Mozilla/5.0 (Windows NT 10.0; Win64; x64) \"\n",
    "                                       \"AppleWebKit/537.36 (KHTML, like Gecko) Chrome/86.0.4240.75 Safari/537.36\")},\n",
    "                       verify = False) \n",
    "            news_html = BeautifulSoup(res.text,'html.parser')\n",
    "            content = news_html.select(\".group_news\") # 기사 본문 저장되어 있는 html주소 복사\n",
    "            if not content:\n",
    "                continue\n",
    "\n",
    "            news_area = content[0].select('.news_area') # 기사가 저장되어 있는 링크 추출\n",
    "\n",
    "            for area in range(len(news_area)) :\n",
    "                title_content = news_area[area].select('a')\n",
    "\n",
    "                # title content 안의 attr은 dictionary 형태기때문에 has_key함수 바탕으로 title여부를 확인하여 리스트를 뽑아낸다\n",
    "                for i in title_content : \n",
    "                    if i.has_key('title') == True :\n",
    "                        title_list.append(i.attrs['title'])\n",
    "                    else : continue\n",
    "\n",
    "                date_content = news_area[area].find_all('span',{'class':'info'})\n",
    "\n",
    "                if len(date_content) ==2 :\n",
    "                    news_date = date_content[1].get_text()\n",
    "\n",
    "                else : news_date = date_content[0].get_text()\n",
    "\n",
    "                if '시간' in news_date : # 날짜가 n시간 전으로 표기될 경우 문자열 처리\n",
    "                    date_find = re.findall(r'\\d+', news_date) \n",
    "                    final_date = str(datetime.now() - timedelta(hours=int(date_find[0])))\n",
    "                    date_list.append(final_date)\n",
    "\n",
    "                elif '분' in news_date : # 날짜가 n분 전으로 표기될 경우 문자열 처리\n",
    "                    date_find = re.findall(r'\\d+', news_date)\n",
    "                    final_date = str(datetime.now() - timedelta(minutes=int(date_find[0])))\n",
    "                    date_list.append(final_date)\n",
    "\n",
    "                elif '일' in news_date: # 날짜가 n일 전으로 표기될 경우 문자열 처리\n",
    "                    date_find = re.findall(r'\\d+', news_date)\n",
    "                    final_date = str(datetime.now() - timedelta(days=int(date_find[0])))\n",
    "                    date_list.append(final_date)    \n",
    "\n",
    "                elif bool(re.search(r'\\d{3,4}.\\d{1,2}.\\d{2}',news_date)) == True : # yyyy.mm.dd로 표기될 경우 처리\n",
    "                    final_date = news_date.replace('.',\"-\")\n",
    "                    date_list.append(final_date)\n",
    "\n",
    "            url_content = content[0].find_all('a',{'class':'news_tit'})\n",
    "            for url in url_content :\n",
    "                url_list.append(url.attrs['href'])\n",
    "                keyword_list.append(keyword)\n",
    "        except : break"
   ]
  },
  {
   "cell_type": "code",
   "execution_count": 50,
   "metadata": {},
   "outputs": [
    {
     "data": {
      "text/html": [
       "<div>\n",
       "<style scoped>\n",
       "    .dataframe tbody tr th:only-of-type {\n",
       "        vertical-align: middle;\n",
       "    }\n",
       "\n",
       "    .dataframe tbody tr th {\n",
       "        vertical-align: top;\n",
       "    }\n",
       "\n",
       "    .dataframe thead th {\n",
       "        text-align: right;\n",
       "    }\n",
       "</style>\n",
       "<table border=\"1\" class=\"dataframe\">\n",
       "  <thead>\n",
       "    <tr style=\"text-align: right;\">\n",
       "      <th></th>\n",
       "      <th>keyword</th>\n",
       "      <th>title</th>\n",
       "      <th>url</th>\n",
       "      <th>date</th>\n",
       "    </tr>\n",
       "  </thead>\n",
       "  <tbody>\n",
       "    <tr>\n",
       "      <th>0</th>\n",
       "      <td>현대차그룹</td>\n",
       "      <td>정의선 현대차그룹 회장, “산업 격변 노사가 함께 헤쳐 나가야”</td>\n",
       "      <td>https://www.donga.com/news/article/all/2020110...</td>\n",
       "      <td>2020-11-03 14:00</td>\n",
       "    </tr>\n",
       "    <tr>\n",
       "      <th>1</th>\n",
       "      <td>현대차그룹</td>\n",
       "      <td>현대차그룹 후원 제로원, 창의인재 프로젝트 전시 열어</td>\n",
       "      <td>http://yna.kr/AKR20201103050600003?did=1195m</td>\n",
       "      <td>2020-11-03 14:00</td>\n",
       "    </tr>\n",
       "    <tr>\n",
       "      <th>2</th>\n",
       "      <td>현대차그룹</td>\n",
       "      <td>루크 동커볼케 현대차그룹 복귀…신설 'CCO' 맡아</td>\n",
       "      <td>http://www.inews24.com/view/1312797</td>\n",
       "      <td>2020-11-02 14:00</td>\n",
       "    </tr>\n",
       "    <tr>\n",
       "      <th>3</th>\n",
       "      <td>현대차그룹</td>\n",
       "      <td>현대자동차그룹, 제3회 중국 국제 수입박람회 참가</td>\n",
       "      <td>https://www.news1.kr/photos/view/?4467954</td>\n",
       "      <td>2020-11-06 14:00</td>\n",
       "    </tr>\n",
       "    <tr>\n",
       "      <th>4</th>\n",
       "      <td>현대차그룹</td>\n",
       "      <td>현대차그룹, 이제 정의선 시대</td>\n",
       "      <td>http://www.yonhapmidas.com/article/20110515264...</td>\n",
       "      <td>2020-11-05 16:00</td>\n",
       "    </tr>\n",
       "  </tbody>\n",
       "</table>\n",
       "</div>"
      ],
      "text/plain": [
       "  keyword                                title  \\\n",
       "0   현대차그룹  정의선 현대차그룹 회장, “산업 격변 노사가 함께 헤쳐 나가야”   \n",
       "1   현대차그룹        현대차그룹 후원 제로원, 창의인재 프로젝트 전시 열어   \n",
       "2   현대차그룹         루크 동커볼케 현대차그룹 복귀…신설 'CCO' 맡아   \n",
       "3   현대차그룹          현대자동차그룹, 제3회 중국 국제 수입박람회 참가   \n",
       "4   현대차그룹                     현대차그룹, 이제 정의선 시대   \n",
       "\n",
       "                                                 url              date  \n",
       "0  https://www.donga.com/news/article/all/2020110...  2020-11-03 14:00  \n",
       "1       http://yna.kr/AKR20201103050600003?did=1195m  2020-11-03 14:00  \n",
       "2                http://www.inews24.com/view/1312797  2020-11-02 14:00  \n",
       "3          https://www.news1.kr/photos/view/?4467954  2020-11-06 14:00  \n",
       "4  http://www.yonhapmidas.com/article/20110515264...  2020-11-05 16:00  "
      ]
     },
     "execution_count": 50,
     "metadata": {},
     "output_type": "execute_result"
    }
   ],
   "source": [
    "df = pd.DataFrame({'keyword':keyword_list, 'title':title_list,'url':url_list,'date':date_list})\n",
    "df['date'] = pd.to_datetime(df['date'], format='%Y-%m-%d %H:%M')\n",
    "df = df.sort_values(['date'],ascending=False)\n",
    "df['date'] = df['date'].astype(str)\n",
    "df['date'] = df['date'].str[:13] + \":00\" \n",
    "df = df.sort_index()\n",
    "df.drop_duplicates(subset=['title'], keep='first',inplace=True) # 기사 중 첫번째 기사만 남기고 중복 제거\n",
    "df.head()"
   ]
  },
  {
   "cell_type": "markdown",
   "metadata": {},
   "source": [
    "### 날짜별 추출"
   ]
  },
  {
   "cell_type": "code",
   "execution_count": 51,
   "metadata": {},
   "outputs": [
    {
     "data": {
      "text/html": [
       "<div>\n",
       "<style scoped>\n",
       "    .dataframe tbody tr th:only-of-type {\n",
       "        vertical-align: middle;\n",
       "    }\n",
       "\n",
       "    .dataframe tbody tr th {\n",
       "        vertical-align: top;\n",
       "    }\n",
       "\n",
       "    .dataframe thead th {\n",
       "        text-align: right;\n",
       "    }\n",
       "</style>\n",
       "<table border=\"1\" class=\"dataframe\">\n",
       "  <thead>\n",
       "    <tr style=\"text-align: right;\">\n",
       "      <th></th>\n",
       "      <th>keyword</th>\n",
       "      <th>title</th>\n",
       "      <th>url</th>\n",
       "      <th>date</th>\n",
       "      <th>ymd</th>\n",
       "    </tr>\n",
       "  </thead>\n",
       "  <tbody>\n",
       "    <tr>\n",
       "      <th>446</th>\n",
       "      <td>전동화</td>\n",
       "      <td>\"현대모비스, 전동화 부문 기대감 고조\"</td>\n",
       "      <td>https://www.asiatoday.co.kr/view.php?key=20201...</td>\n",
       "      <td>2020-10-30 14:00:00</td>\n",
       "      <td>2020-10-30</td>\n",
       "    </tr>\n",
       "    <tr>\n",
       "      <th>116</th>\n",
       "      <td>현대자동차</td>\n",
       "      <td>울산 현대자동차를 방문한 성윤모 산업통자원부 장관</td>\n",
       "      <td>http://www.newsis.com/view/?id=NISI20201030_00...</td>\n",
       "      <td>2020-10-30 14:00:00</td>\n",
       "      <td>2020-10-30</td>\n",
       "    </tr>\n",
       "    <tr>\n",
       "      <th>277</th>\n",
       "      <td>현대로템</td>\n",
       "      <td>의왕 ‘현대 로템 직원·인천 소방관’ 등 확진</td>\n",
       "      <td>http://news.kbs.co.kr/news/view.do?ncd=5037349...</td>\n",
       "      <td>2020-10-30 14:00:00</td>\n",
       "      <td>2020-10-30</td>\n",
       "    </tr>\n",
       "    <tr>\n",
       "      <th>278</th>\n",
       "      <td>현대로템</td>\n",
       "      <td>현대로템 무인전동차 터키 이스탄불서 운행 시작</td>\n",
       "      <td>http://www.segye.com/content/html/2020/10/29/2...</td>\n",
       "      <td>2020-10-30 14:00:00</td>\n",
       "      <td>2020-10-30</td>\n",
       "    </tr>\n",
       "    <tr>\n",
       "      <th>282</th>\n",
       "      <td>현대로템</td>\n",
       "      <td>현대로템, 터키 무인전동차 영업운행 시작…\"이스탄불 전동차 120량 개통\"</td>\n",
       "      <td>http://www.newsian.co.kr/news/articleView.html...</td>\n",
       "      <td>2020-10-30 14:00:00</td>\n",
       "      <td>2020-10-30</td>\n",
       "    </tr>\n",
       "  </tbody>\n",
       "</table>\n",
       "</div>"
      ],
      "text/plain": [
       "    keyword                                      title  \\\n",
       "446     전동화                     \"현대모비스, 전동화 부문 기대감 고조\"   \n",
       "116   현대자동차                울산 현대자동차를 방문한 성윤모 산업통자원부 장관   \n",
       "277    현대로템                  의왕 ‘현대 로템 직원·인천 소방관’ 등 확진   \n",
       "278    현대로템                  현대로템 무인전동차 터키 이스탄불서 운행 시작   \n",
       "282    현대로템  현대로템, 터키 무인전동차 영업운행 시작…\"이스탄불 전동차 120량 개통\"   \n",
       "\n",
       "                                                   url                date  \\\n",
       "446  https://www.asiatoday.co.kr/view.php?key=20201... 2020-10-30 14:00:00   \n",
       "116  http://www.newsis.com/view/?id=NISI20201030_00... 2020-10-30 14:00:00   \n",
       "277  http://news.kbs.co.kr/news/view.do?ncd=5037349... 2020-10-30 14:00:00   \n",
       "278  http://www.segye.com/content/html/2020/10/29/2... 2020-10-30 14:00:00   \n",
       "282  http://www.newsian.co.kr/news/articleView.html... 2020-10-30 14:00:00   \n",
       "\n",
       "            ymd  \n",
       "446  2020-10-30  \n",
       "116  2020-10-30  \n",
       "277  2020-10-30  \n",
       "278  2020-10-30  \n",
       "282  2020-10-30  "
      ]
     },
     "execution_count": 51,
     "metadata": {},
     "output_type": "execute_result"
    }
   ],
   "source": [
    "test = df.copy()\n",
    "test['ymd'] = test['date'].str[:10]\n",
    "test['date'] = pd.to_datetime(test['date'], format='%Y-%m-%d %H:%M')\n",
    "test = test.sort_values(['date'],ascending=True)\n",
    "test.head()"
   ]
  },
  {
   "cell_type": "code",
   "execution_count": 48,
   "metadata": {},
   "outputs": [],
   "source": [
    "ymd_list = test.ymd.unique().tolist()"
   ]
  },
  {
   "cell_type": "code",
   "execution_count": 69,
   "metadata": {
    "scrolled": true
   },
   "outputs": [
    {
     "data": {
      "text/plain": [
       "['2020-10-30',\n",
       " '2020-10-31',\n",
       " '2020-11-01',\n",
       " '2020-11-02',\n",
       " '2020-11-03',\n",
       " '2020-11-04',\n",
       " '2020-11-05',\n",
       " '2020-11-06']"
      ]
     },
     "execution_count": 69,
     "metadata": {},
     "output_type": "execute_result"
    }
   ],
   "source": [
    "ymd_list"
   ]
  },
  {
   "cell_type": "code",
   "execution_count": 74,
   "metadata": {},
   "outputs": [
    {
     "data": {
      "text/plain": [
       "['keyword', 'title', 'url', 'date']"
      ]
     },
     "execution_count": 74,
     "metadata": {},
     "output_type": "execute_result"
    }
   ],
   "source": [
    "data.columns.tolist()"
   ]
  },
  {
   "cell_type": "code",
   "execution_count": 80,
   "metadata": {},
   "outputs": [],
   "source": [
    "test['keyword'] = test['keyword'].apply(lambda x: x.replace('\\xa0','').replace('\\xa9','').replace('\\u2027','')) \n",
    "test['title'] = test['title'].apply(lambda x: x.replace('\\xa0','').replace('\\xa9','').replace('\\u2027','')) \n",
    "test['url'] = test['url'].apply(lambda x: x.replace('\\xa0','').replace('\\xa9','').replace('\\u2027','')) \n"
   ]
  },
  {
   "cell_type": "code",
   "execution_count": 81,
   "metadata": {},
   "outputs": [],
   "source": [
    "for i in ymd_list :\n",
    "    data = test[test['ymd']==i]\n",
    "    data.drop(['ymd'],axis=1,inplace=True)\n",
    "    data.to_csv(f'C:/data/{i}.csv',encoding='CP949',index=False)"
   ]
  },
  {
   "cell_type": "code",
   "execution_count": null,
   "metadata": {},
   "outputs": [],
   "source": [
    "ymd = ['d30','']"
   ]
  },
  {
   "cell_type": "code",
   "execution_count": 68,
   "metadata": {},
   "outputs": [],
   "source": [
    "for i in ymd_list :\n",
    "    globals()[f'{i}']= pd.read_csv(f'C:/data/{i}.csv',encoding='UTF-8')"
   ]
  },
  {
   "cell_type": "code",
   "execution_count": null,
   "metadata": {},
   "outputs": [],
   "source": []
  },
  {
   "cell_type": "code",
   "execution_count": 62,
   "metadata": {},
   "outputs": [
    {
     "data": {
      "image/png": "[encoded data removed]",
      "text/plain": [
       "<Figure size 1656x864 with 1 Axes>"
      ]
     },
     "metadata": {
      "needs_background": "light"
     },
     "output_type": "display_data"
    }
   ],
   "source": [
    "plt.figure(figsize=(23,12))\n",
    "ax=sns.countplot(x=\"ymd\", hue='keyword',data=test, palette='husl', order= ymd_list, hue_order=keywords)\n",
    "ax.tick_params(labelsize=33)\n",
    "# plt.title(\" 미세먼지 8단계 분류 COUNT\",size=25)\n",
    "plt.legend(fontsize=28, bbox_to_anchor=(1.03, 1.03))\n",
    "plt.xticks(rotation=45)\n",
    "plt.xlabel('')\n",
    "plt.ylabel('기사 건수', fontsize=35)\n",
    "plt.ylim([0,18])\n",
    "# plt.savefig(r'D:/pm/plot_count.png', format='png')\n",
    "plt.show()"
   ]
  },
  {
   "cell_type": "code",
   "execution_count": null,
   "metadata": {},
   "outputs": [],
   "source": []
  },
  {
   "cell_type": "code",
   "execution_count": 6,
   "metadata": {},
   "outputs": [],
   "source": [
    "keywords = ['현대차그룹' ,'현대자동차', '기아자동차' , '현대트랜시스','모비스-농구','현대위아',\n",
    "                   '현대로템','자율주행','전동화']\n",
    "set_list = ['hmg','hyundai','kia','transys','mobis','wia','rotem','auto','elec']\n",
    "for k,i in zip(set_list,keywords) :\n",
    "    globals()[f'{k}']= df[df['keyword']==i]"
   ]
  },
  {
   "cell_type": "code",
   "execution_count": null,
   "metadata": {},
   "outputs": [],
   "source": []
  },
  {
   "cell_type": "code",
   "execution_count": null,
   "metadata": {},
   "outputs": [],
   "source": [
    " "
   ]
  },
  {
   "cell_type": "code",
   "execution_count": null,
   "metadata": {},
   "outputs": [],
   "source": []
  },
  {
   "cell_type": "code",
   "execution_count": null,
   "metadata": {},
   "outputs": [],
   "source": []
  },
  {
   "cell_type": "markdown",
   "metadata": {},
   "source": [
    "검색어의 경우 기존의 재경본부에서 진행하는 현대차그룹, 현대자동차, 기아자동차, 현대트랜시스 네 가지의 검색어를 동일하게 진행하였습니다.\n",
    "검색어를 선정해서 크롤링을 진행할 수 있게 작성하였고, 다른 검색어가 들어갈 경우 ERROR 코드로  \n",
    "검색어 input data 가 입력값을 벗어났습니다. 다시 입력해주세요.문구가 뜨게 작성하였습니다"
   ]
  },
  {
   "cell_type": "markdown",
   "metadata": {},
   "source": [
    "## TEST"
   ]
  },
  {
   "cell_type": "code",
   "execution_count": null,
   "metadata": {},
   "outputs": [],
   "source": [
    "category = []\n",
    "defalut_category = ['현대차그룹' ,'현대자동차', '기아자동차' , '현대트랜시스','모비스-농구','현대위아',\n",
    "                   '현대로템','자율주행','자동차'] # 검색어 범주 지정\n",
    "def select_keyword():\n",
    "    while True:\n",
    "        search_keywords = input(\"\"\"\n",
    "        크롤링 할 수 있는 검색어는 다음과 같습니다.\n",
    "        ------------------------------------------------------------\n",
    "        '현대차그룹' , '현대자동차', '기아자동차' , '현대트랜시스', '모비스-농구', '현대위아', '현대로템'\n",
    "        '자율주행', '전동화'\n",
    "        ------------------------------------------------------------\n",
    "        크롤링 할 분야를 최소 한가지 이상 선택하여 입력해 주세요. 띄어쓰기로 구분합니다.\n",
    "        입력:\"\"\")\n",
    "\n",
    "        input_keyword = search_keywords.split()\n",
    "        is_keyword = True\n",
    "        for input_data in input_keyword:\n",
    "            if not input_data in defalut_category:\n",
    "                print('검색어' +input_data + \" 가 입력값을 벗어났습니다. 다시 입력해주세요.\")\n",
    "                is_keyword = False\n",
    "                break\n",
    "        if is_keyword is True:\n",
    "            break\n",
    "        \n",
    "    category.extend(input_keyword)\n",
    "    return input_keyword"
   ]
  },
  {
   "cell_type": "code",
   "execution_count": 11,
   "metadata": {},
   "outputs": [],
   "source": [
    "category = []\n",
    "def select_date():\n",
    "    while True:\n",
    "        start_date = input(\"\"\"\n",
    "        검색 시작 날짜를 설정해주세요.\n",
    "        --------------------------------------------------------------------------------\n",
    "        데이터의 형식은 yyyy.mm.dd 형식으로 입력해주세요 (ex) 2020.11.02\n",
    "        --------------------------------------------------------------------------------\n",
    "        입력:\"\"\")\n",
    "        is_date = True\n",
    "        if bool(re.search(r'\\d{3,4}.\\d{1,2}.\\d{2}',start_date)) == False :\n",
    "            print('날짜' +input_data + \" 가 입력값을 벗어났습니다. 다시 입력해주세요.\")\n",
    "            is_date = False\n",
    "        \n",
    "        if is_date is True:\n",
    "            break\n",
    "            \n",
    "    while True:\n",
    "        \n",
    "        end_date = input(\"\"\"\n",
    "        검색 종료 날짜를 설정해주세요.\n",
    "        --------------------------------------------------------------------------------\n",
    "        데이터의 형식은 yyyy.mm.dd 형식으로 입력해주세요 (ex) 2020.11.02\n",
    "        --------------------------------------------------------------------------------\n",
    "        입력:\"\"\")\n",
    "        \n",
    "        is_date = True\n",
    "        if bool(re.search(r'\\d{3,4}.\\d{1,2}.\\d{2}',start_date)) == False :\n",
    "            print('날짜' +input_data + \" 가 입력값을 벗어났습니다. 다시 입력해주세요.\")\n",
    "            is_date = False\n",
    "        \n",
    "        if is_date is True:\n",
    "            break\n",
    "    \n",
    "    return start_date, end_date"
   ]
  },
  {
   "cell_type": "code",
   "execution_count": 12,
   "metadata": {},
   "outputs": [
    {
     "name": "stdout",
     "output_type": "stream",
     "text": [
      "\n",
      "        검색 시작 날짜를 설정해주세요.\n",
      "        --------------------------------------------------------------------------------\n",
      "        데이터의 형식은 yyyy.mm.dd 형식으로 입력해주세요 (ex) 2020.11.02\n",
      "        --------------------------------------------------------------------------------\n",
      "        입력:2020.11.01\n",
      "\n",
      "        검색 종료 날짜를 설정해주세요.\n",
      "        --------------------------------------------------------------------------------\n",
      "        데이터의 형식은 yyyy.mm.dd 형식으로 입력해주세요 (ex) 2020.11.02\n",
      "        --------------------------------------------------------------------------------\n",
      "        입력:2020.11.06\n"
     ]
    },
    {
     "data": {
      "text/plain": [
       "('2020.11.01', '2020.11.06')"
      ]
     },
     "execution_count": 12,
     "metadata": {},
     "output_type": "execute_result"
    }
   ],
   "source": [
    "select_date()"
   ]
  },
  {
   "cell_type": "code",
   "execution_count": null,
   "metadata": {},
   "outputs": [],
   "source": [
    "title_list =[] # 제목을 저장하기 위한 list\n",
    "url_list = [] # URL을 저장하기 위한 list\n",
    "summary_list = [] # 날짜를 저장하기 위한 list\n",
    "\n",
    "def Crawl(data):\n",
    "    keywords = select_keyword()\n",
    "    for keyword in keywords:\n",
    "        page = f'https://search.naver.com/search.naver?where=news&sm=tab_jum&query={keyword}'\n",
    "        res = requests.get(page, headers={'User-Agent':\n",
    "                                  (\"Mozilla/5.0 (Windows NT 10.0; Win64; x64) \"\n",
    "                                   \"AppleWebKit/537.36 (KHTML, like Gecko) Chrome/86.0.4240.75 Safari/537.36\")},\n",
    "                   verify = False) \n",
    "        news_html = BeautifulSoup(res.text,'html.parser')\n",
    "        \n",
    "        content = news_html.select(\".type01\") # 기사 본문 저장되어 있는 html주소 복사\n",
    "\n",
    "\n",
    "        title_content = content[0].select('dt > a') # 기사가 저장되어 있는 링크 추출\n",
    "\n",
    "        for i in title_content :\n",
    "            title_list.append(i.attrs['title'])\n",
    "\n",
    "\n",
    "        url_content = content[0].select('dt > a')\n",
    "        for i in url_content :\n",
    "            url_list.append(i.attrs['href'])\n",
    "\n",
    "\n",
    "        summary_content = content[0].select('dl > dd')\n",
    "        for k in summary_content :\n",
    "            if str(k.attrs) == \"{'class': ['txt_inline']}\" :\n",
    "                continue\n",
    "\n",
    "            for target in k.find_all('span'): # 기사 본문에 추가로 저장되어 있는 각 class들 제거\n",
    "                target.extract()\n",
    "\n",
    "            for target in k.find_all('ul'): # 기사 본문에 추가로 저장되어 있는 각 class들 제거\n",
    "                target.extract()\n",
    "\n",
    "            for target in k.find_all('div'): # 기사 본문에 추가로 저장되어 있는 각 class들 제거\n",
    "                target.extract()\n",
    "\n",
    "            k = k.get_text().strip()\n",
    "\n",
    "            if not k  :\n",
    "                continue\n",
    "            summary_list.append(k)"
   ]
  },
  {
   "cell_type": "code",
   "execution_count": null,
   "metadata": {},
   "outputs": [],
   "source": [
    "def date_preprocessing(soup, date_class) :\n",
    "    date = soup.find_all(\"span\",{\"class\":bar})\n",
    "    # 날짜가 기록된 태그 저장\n",
    "    start_date = datetime.now() # 현재 날짜 저장\n",
    "\n",
    "    for j in date :\n",
    "        date_list = j.get_text() #날짜 추출\n",
    "\n",
    "        if '시간' in date_list : # 날짜가 n시간 전으로 표기될 경우 문자열 처리\n",
    "            date_find = re.findall(r'\\d+', date_list) \n",
    "            final_date = str(datetime.now() - timedelta(hours=int(date_find[0])))\n",
    "            total_date.append(final_date)\n",
    "\n",
    "        elif '분' in date_list : # 날짜가 n분 전으로 표기될 경우 문자열 처리\n",
    "            date_find = re.findall(r'\\d+', date_list)\n",
    "            final_date = str(datetime.now() - timedelta(minutes=int(date_find[0])))\n",
    "            total_date.append(final_date)\n",
    "\n",
    "        elif '일' in date_list: # 날짜가 n일 전으로 표기될 경우 문자열 처리\n",
    "            date_find = re.findall(r'\\d+', date_list)\n",
    "            final_date = str(datetime.now() - timedelta(days=int(date_find[0])))\n",
    "            total_date.append(final_date)    \n",
    "\n",
    "        elif bool(re.search(r'\\d{3,4}.\\d{1,2}.\\d{2}',date_list)) == True : # yyyy.mm.dd로 표기될 경우 처리\n",
    "            final_date = date_list.replace('.',\"-\")\n",
    "            total_date.append(final_date)"
   ]
  }
 ],
 "metadata": {
  "kernelspec": {
   "display_name": "news",
   "language": "python",
   "name": "news"
  },
  "language_info": {
   "codemirror_mode": {
    "name": "ipython",
    "version": 3
   },
   "file_extension": ".py",
   "mimetype": "text/x-python",
   "name": "python",
   "nbconvert_exporter": "python",
   "pygments_lexer": "ipython3",
   "version": "3.7.9"
  }
 },
 "nbformat": 4,
 "nbformat_minor": 4
}
