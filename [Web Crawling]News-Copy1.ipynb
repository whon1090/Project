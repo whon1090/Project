{
 "cells": [
  {
   "cell_type": "markdown",
   "metadata": {},
   "source": [
    "# Documentation  \n",
    "\n",
    "Anaconda 2019.07 버전의 python 3.7.4 defalut 값으로 진행  \n",
    "  \n",
    "Python = 3.7.4  \n",
    "Pandas = 0.25.1   \n",
    "Numpy = 1.16.5  \n",
    "urllib3 = 1.24.2  \n",
    "BeautifulSoup = 4.8.0  \n",
    "requests = 2.22.0   \n",
    "selenium = 3.141.0  "
   ]
  },
  {
   "cell_type": "code",
   "execution_count": 2,
   "metadata": {},
   "outputs": [],
   "source": [
    "#import module\n",
    "\n",
    "#python defalut module\n",
    "import time\n",
    "import re\n",
    "import os\n",
    "from datetime import datetime\n",
    "\n",
    "\n",
    "\n",
    "import pandas as pd\n",
    "import numpy as np\n",
    "import urllib3\n",
    "from bs4 import BeautifulSoup\n",
    "import requests\n",
    "import urllib.request\n",
    "\n",
    "import selenium\n",
    "\n",
    "from selenium import webdriver\n",
    "from selenium.webdriver.common.keys import Keys\n",
    "from selenium.webdriver.support.ui import Select\n",
    "\n",
    "import warnings\n",
    "warnings.filterwarnings(action='ignore')"
   ]
  },
  {
   "cell_type": "markdown",
   "metadata": {},
   "source": [
    "\n",
    "#### 다른 사이트의 경우 IT이외의 다른 분야의 기사가 많이 혼재하여 IT관련 뉴스가 가장 많은\n",
    "#### 네이버 뉴스 IT/과학 헤드라인\n",
    "#### ITWorld korea의 머신러닝, 클라우드, 빅데이터 파트\n",
    "#### ZDnet의 인공지능 파트에서 데이터를 추출할 예정입니다"
   ]
  },
  {
   "cell_type": "markdown",
   "metadata": {},
   "source": [
    "네이버 뉴스의 IT/과학 헤드라인을 먼저 실행중이며, 하나의 URL에서 전체 뉴스의 URL로 확장하는 작업중에 있습니다  \n",
    "  \n",
    "IT/과학 헤드라인의 헤드라인 더보기 전까지 기사의 제목과 URL을 추출후 DataFrame안에 저장하여 기록하고  \n",
    "  \n",
    "이후 저장한 URL에 개별 접속하여 기사의 본문을 가져와서 저장하는 형식으로 진행하였습니다"
   ]
  },
  {
   "cell_type": "code",
   "execution_count": 3,
   "metadata": {},
   "outputs": [
    {
     "data": {
      "text/html": [
       "<div>\n",
       "<style scoped>\n",
       "    .dataframe tbody tr th:only-of-type {\n",
       "        vertical-align: middle;\n",
       "    }\n",
       "\n",
       "    .dataframe tbody tr th {\n",
       "        vertical-align: top;\n",
       "    }\n",
       "\n",
       "    .dataframe thead th {\n",
       "        text-align: right;\n",
       "    }\n",
       "</style>\n",
       "<table border=\"1\" class=\"dataframe\">\n",
       "  <thead>\n",
       "    <tr style=\"text-align: right;\">\n",
       "      <th></th>\n",
       "      <th>title</th>\n",
       "      <th>url</th>\n",
       "      <th>date</th>\n",
       "    </tr>\n",
       "  </thead>\n",
       "  <tbody>\n",
       "    <tr>\n",
       "      <th>0</th>\n",
       "      <td>한달 늦게 시작된 ‘아이폰의 계절’…긴장하는 삼성</td>\n",
       "      <td>https://news.naver.com/main/read.nhn?mode=LSD&amp;...</td>\n",
       "      <td>2020-10-15</td>\n",
       "    </tr>\n",
       "    <tr>\n",
       "      <th>1</th>\n",
       "      <td>아이폰12 시리즈 95만 원부터 시작… 국내 사전예약은 언제?</td>\n",
       "      <td>https://news.naver.com/main/read.nhn?mode=LSD&amp;...</td>\n",
       "      <td>2020-10-15</td>\n",
       "    </tr>\n",
       "    <tr>\n",
       "      <th>2</th>\n",
       "      <td>‘호들갑’ 아이폰12 “5G 달린 맹탕?”…뭐가 새롭지? [IT선빵!]</td>\n",
       "      <td>https://news.naver.com/main/read.nhn?mode=LSD&amp;...</td>\n",
       "      <td>2020-10-15</td>\n",
       "    </tr>\n",
       "    <tr>\n",
       "      <th>3</th>\n",
       "      <td>'아이폰12' 23일 사전예약 시작···달라진 7가지는?</td>\n",
       "      <td>https://news.naver.com/main/read.nhn?mode=LSD&amp;...</td>\n",
       "      <td>2020-10-15</td>\n",
       "    </tr>\n",
       "    <tr>\n",
       "      <th>4</th>\n",
       "      <td>SK텔레콤, 오늘 오후 '모빌리티 분사' 결정…'AI동맹' 카카오 맞선다</td>\n",
       "      <td>https://news.naver.com/main/read.nhn?mode=LSD&amp;...</td>\n",
       "      <td>2020-10-15</td>\n",
       "    </tr>\n",
       "    <tr>\n",
       "      <th>5</th>\n",
       "      <td>SK텔레콤, 모빌리티 분사 '호재'...저가매수 기회-하나금투</td>\n",
       "      <td>https://news.naver.com/main/read.nhn?mode=LSD&amp;...</td>\n",
       "      <td>2020-10-15</td>\n",
       "    </tr>\n",
       "    <tr>\n",
       "      <th>6</th>\n",
       "      <td>SKT, 5G 네트워크 모세혈관 심는다</td>\n",
       "      <td>https://news.naver.com/main/read.nhn?mode=LSD&amp;...</td>\n",
       "      <td>2020-10-15</td>\n",
       "    </tr>\n",
       "    <tr>\n",
       "      <th>7</th>\n",
       "      <td>SK텔레콤 ‘5G망 모세혈관’ 고도화 나선다</td>\n",
       "      <td>https://news.naver.com/main/read.nhn?mode=LSD&amp;...</td>\n",
       "      <td>2020-10-15</td>\n",
       "    </tr>\n",
       "    <tr>\n",
       "      <th>8</th>\n",
       "      <td>기가지니가 입원환자 보살핀다…KT, AI 적용 스마트병원 구축</td>\n",
       "      <td>https://news.naver.com/main/read.nhn?mode=LSD&amp;...</td>\n",
       "      <td>2020-10-15</td>\n",
       "    </tr>\n",
       "    <tr>\n",
       "      <th>9</th>\n",
       "      <td>KT, 아이티아이테크놀로지와 AI스마트병원 사업 맞손</td>\n",
       "      <td>https://news.naver.com/main/read.nhn?mode=LSD&amp;...</td>\n",
       "      <td>2020-10-15</td>\n",
       "    </tr>\n",
       "  </tbody>\n",
       "</table>\n",
       "</div>"
      ],
      "text/plain": [
       "                                      title  \\\n",
       "0               한달 늦게 시작된 ‘아이폰의 계절’…긴장하는 삼성   \n",
       "1        아이폰12 시리즈 95만 원부터 시작… 국내 사전예약은 언제?   \n",
       "2   ‘호들갑’ 아이폰12 “5G 달린 맹탕?”…뭐가 새롭지? [IT선빵!]   \n",
       "3           '아이폰12' 23일 사전예약 시작···달라진 7가지는?   \n",
       "4  SK텔레콤, 오늘 오후 '모빌리티 분사' 결정…'AI동맹' 카카오 맞선다   \n",
       "5        SK텔레콤, 모빌리티 분사 '호재'...저가매수 기회-하나금투   \n",
       "6                     SKT, 5G 네트워크 모세혈관 심는다   \n",
       "7                  SK텔레콤 ‘5G망 모세혈관’ 고도화 나선다   \n",
       "8        기가지니가 입원환자 보살핀다…KT, AI 적용 스마트병원 구축   \n",
       "9             KT, 아이티아이테크놀로지와 AI스마트병원 사업 맞손   \n",
       "\n",
       "                                                 url        date  \n",
       "0  https://news.naver.com/main/read.nhn?mode=LSD&...  2020-10-15  \n",
       "1  https://news.naver.com/main/read.nhn?mode=LSD&...  2020-10-15  \n",
       "2  https://news.naver.com/main/read.nhn?mode=LSD&...  2020-10-15  \n",
       "3  https://news.naver.com/main/read.nhn?mode=LSD&...  2020-10-15  \n",
       "4  https://news.naver.com/main/read.nhn?mode=LSD&...  2020-10-15  \n",
       "5  https://news.naver.com/main/read.nhn?mode=LSD&...  2020-10-15  \n",
       "6  https://news.naver.com/main/read.nhn?mode=LSD&...  2020-10-15  \n",
       "7  https://news.naver.com/main/read.nhn?mode=LSD&...  2020-10-15  \n",
       "8  https://news.naver.com/main/read.nhn?mode=LSD&...  2020-10-15  \n",
       "9  https://news.naver.com/main/read.nhn?mode=LSD&...  2020-10-15  "
      ]
     },
     "execution_count": 3,
     "metadata": {},
     "output_type": "execute_result"
    }
   ],
   "source": [
    "news = 'https://news.naver.com/main/main.nhn?mode=LSD&mid=shm&sid1=105' ## IT/과학 헤드라인 뉴스  url\n",
    "\n",
    "res = requests.get(news, headers={'User-Agent':'Chrome/85.0.4183.121'},verify = False) \n",
    "# requests이용하여 뉴스 주소 Load, 네이버 크롬 차단 방지 위해 chrome version을 입력하고 뉴스 주소를 설정\n",
    "# SSL ERROR 방지를 위해 Verify False 설정\n",
    "soup = BeautifulSoup(res.text, \"html.parser\") # html기준으로 parsing\n",
    "\n",
    "title_list =[] # 제목을 저장하기 위한 list 생성\n",
    "url_list = [] #URL을 저장하기 위한 list 생성\n",
    "date_list = []\n",
    "\n",
    "results = soup.select(\"#main_content a\")  # 기사 제목과 URL이 모두 html main_content a에 저장되어 있어서 해당 부분을 select하여 추출\n",
    "\n",
    "\n",
    "# 제목, 링크 출력 ---------------------------(2)\n",
    "for result in results:\n",
    "    if result.string == None: # 값이 존재하지 않을 경우 해당 루프 건너 뜀\n",
    "        continue\n",
    "    \n",
    "    if result.attrs['href'] in ['#'] : # 헤드라인 더보기의 end code가 #이므로 #일 경우 loop문을 Break하여 종료함\n",
    "        break\n",
    "    \n",
    "    if result.attrs['href'].startswith('http') == False : \n",
    "        # 해당 href에서 url 코드가 http로 시작하지 않을경우 url이 아니라고 판단하여 해당 부분 skip\n",
    "        continue\n",
    "    \n",
    "\n",
    "    title_list.append(str.strip(result.string)) #기록된 기사 제목을 리스트에 추가\n",
    "    url_list.append(result.attrs['href']) #기록된 기사 URL을 리스트에 추가\n",
    "    date_list.append(datetime.today().strftime(\"%Y-%m-%d\"))\n",
    "\n",
    "\n",
    "df = pd.DataFrame({'title': title_list,'url':url_list, 'date':date_list}) # 기사제목과, URL을 dataframe에 임시 저장\n",
    "df['title'] = df.title.str.replace('\\\\',\"\") # 따옴표가  \\' 형태로 기록되어 해당 \\를 공란으로 대체\n",
    "df.head(10)"
   ]
  },
  {
   "cell_type": "code",
   "execution_count": 4,
   "metadata": {},
   "outputs": [
    {
     "data": {
      "text/html": [
       "<div>\n",
       "<style scoped>\n",
       "    .dataframe tbody tr th:only-of-type {\n",
       "        vertical-align: middle;\n",
       "    }\n",
       "\n",
       "    .dataframe tbody tr th {\n",
       "        vertical-align: top;\n",
       "    }\n",
       "\n",
       "    .dataframe thead th {\n",
       "        text-align: right;\n",
       "    }\n",
       "</style>\n",
       "<table border=\"1\" class=\"dataframe\">\n",
       "  <thead>\n",
       "    <tr style=\"text-align: right;\">\n",
       "      <th></th>\n",
       "      <th>title</th>\n",
       "      <th>url</th>\n",
       "      <th>date</th>\n",
       "    </tr>\n",
       "  </thead>\n",
       "  <tbody>\n",
       "    <tr>\n",
       "      <th>0</th>\n",
       "      <td>한달 늦게 시작된 ‘아이폰의 계절’…긴장하는 삼성</td>\n",
       "      <td>https://news.naver.com/main/read.nhn?mode=LSD&amp;...</td>\n",
       "      <td>2020-10-15</td>\n",
       "    </tr>\n",
       "    <tr>\n",
       "      <th>1</th>\n",
       "      <td>아이폰12 시리즈 95만 원부터 시작… 국내 사전예약은 언제?</td>\n",
       "      <td>https://news.naver.com/main/read.nhn?mode=LSD&amp;...</td>\n",
       "      <td>2020-10-15</td>\n",
       "    </tr>\n",
       "    <tr>\n",
       "      <th>2</th>\n",
       "      <td>‘호들갑’ 아이폰12 “5G 달린 맹탕?”…뭐가 새롭지? [IT선빵!]</td>\n",
       "      <td>https://news.naver.com/main/read.nhn?mode=LSD&amp;...</td>\n",
       "      <td>2020-10-15</td>\n",
       "    </tr>\n",
       "    <tr>\n",
       "      <th>3</th>\n",
       "      <td>'아이폰12' 23일 사전예약 시작···달라진 7가지는?</td>\n",
       "      <td>https://news.naver.com/main/read.nhn?mode=LSD&amp;...</td>\n",
       "      <td>2020-10-15</td>\n",
       "    </tr>\n",
       "    <tr>\n",
       "      <th>4</th>\n",
       "      <td>SK텔레콤, 오늘 오후 '모빌리티 분사' 결정…'AI동맹' 카카오 맞선다</td>\n",
       "      <td>https://news.naver.com/main/read.nhn?mode=LSD&amp;...</td>\n",
       "      <td>2020-10-15</td>\n",
       "    </tr>\n",
       "    <tr>\n",
       "      <th>5</th>\n",
       "      <td>SK텔레콤, 모빌리티 분사 '호재'...저가매수 기회-하나금투</td>\n",
       "      <td>https://news.naver.com/main/read.nhn?mode=LSD&amp;...</td>\n",
       "      <td>2020-10-15</td>\n",
       "    </tr>\n",
       "    <tr>\n",
       "      <th>6</th>\n",
       "      <td>SKT, 5G 네트워크 모세혈관 심는다</td>\n",
       "      <td>https://news.naver.com/main/read.nhn?mode=LSD&amp;...</td>\n",
       "      <td>2020-10-15</td>\n",
       "    </tr>\n",
       "    <tr>\n",
       "      <th>7</th>\n",
       "      <td>SK텔레콤 ‘5G망 모세혈관’ 고도화 나선다</td>\n",
       "      <td>https://news.naver.com/main/read.nhn?mode=LSD&amp;...</td>\n",
       "      <td>2020-10-15</td>\n",
       "    </tr>\n",
       "    <tr>\n",
       "      <th>8</th>\n",
       "      <td>기가지니가 입원환자 보살핀다…KT, AI 적용 스마트병원 구축</td>\n",
       "      <td>https://news.naver.com/main/read.nhn?mode=LSD&amp;...</td>\n",
       "      <td>2020-10-15</td>\n",
       "    </tr>\n",
       "    <tr>\n",
       "      <th>9</th>\n",
       "      <td>KT, 아이티아이테크놀로지와 AI스마트병원 사업 맞손</td>\n",
       "      <td>https://news.naver.com/main/read.nhn?mode=LSD&amp;...</td>\n",
       "      <td>2020-10-15</td>\n",
       "    </tr>\n",
       "    <tr>\n",
       "      <th>10</th>\n",
       "      <td>방송통신기업 M&amp;A;, 효율적 심사 위해 부처간 협력 강화한다</td>\n",
       "      <td>https://news.naver.com/main/read.nhn?mode=LSD&amp;...</td>\n",
       "      <td>2020-10-15</td>\n",
       "    </tr>\n",
       "    <tr>\n",
       "      <th>11</th>\n",
       "      <td>과기정통부·방통위·공정위, 방송통신 M&amp;A; 신속심사</td>\n",
       "      <td>https://news.naver.com/main/read.nhn?mode=LSD&amp;...</td>\n",
       "      <td>2020-10-15</td>\n",
       "    </tr>\n",
       "  </tbody>\n",
       "</table>\n",
       "</div>"
      ],
      "text/plain": [
       "                                       title  \\\n",
       "0                한달 늦게 시작된 ‘아이폰의 계절’…긴장하는 삼성   \n",
       "1         아이폰12 시리즈 95만 원부터 시작… 국내 사전예약은 언제?   \n",
       "2    ‘호들갑’ 아이폰12 “5G 달린 맹탕?”…뭐가 새롭지? [IT선빵!]   \n",
       "3            '아이폰12' 23일 사전예약 시작···달라진 7가지는?   \n",
       "4   SK텔레콤, 오늘 오후 '모빌리티 분사' 결정…'AI동맹' 카카오 맞선다   \n",
       "5         SK텔레콤, 모빌리티 분사 '호재'...저가매수 기회-하나금투   \n",
       "6                      SKT, 5G 네트워크 모세혈관 심는다   \n",
       "7                   SK텔레콤 ‘5G망 모세혈관’ 고도화 나선다   \n",
       "8         기가지니가 입원환자 보살핀다…KT, AI 적용 스마트병원 구축   \n",
       "9              KT, 아이티아이테크놀로지와 AI스마트병원 사업 맞손   \n",
       "10        방송통신기업 M&A;, 효율적 심사 위해 부처간 협력 강화한다   \n",
       "11             과기정통부·방통위·공정위, 방송통신 M&A; 신속심사   \n",
       "\n",
       "                                                  url        date  \n",
       "0   https://news.naver.com/main/read.nhn?mode=LSD&...  2020-10-15  \n",
       "1   https://news.naver.com/main/read.nhn?mode=LSD&...  2020-10-15  \n",
       "2   https://news.naver.com/main/read.nhn?mode=LSD&...  2020-10-15  \n",
       "3   https://news.naver.com/main/read.nhn?mode=LSD&...  2020-10-15  \n",
       "4   https://news.naver.com/main/read.nhn?mode=LSD&...  2020-10-15  \n",
       "5   https://news.naver.com/main/read.nhn?mode=LSD&...  2020-10-15  \n",
       "6   https://news.naver.com/main/read.nhn?mode=LSD&...  2020-10-15  \n",
       "7   https://news.naver.com/main/read.nhn?mode=LSD&...  2020-10-15  \n",
       "8   https://news.naver.com/main/read.nhn?mode=LSD&...  2020-10-15  \n",
       "9   https://news.naver.com/main/read.nhn?mode=LSD&...  2020-10-15  \n",
       "10  https://news.naver.com/main/read.nhn?mode=LSD&...  2020-10-15  \n",
       "11  https://news.naver.com/main/read.nhn?mode=LSD&...  2020-10-15  "
      ]
     },
     "execution_count": 4,
     "metadata": {},
     "output_type": "execute_result"
    }
   ],
   "source": [
    "df"
   ]
  },
  {
   "cell_type": "markdown",
   "metadata": {},
   "source": [
    "#### 헤드라인 뉴스안에는 전날에 생성된 헤드라인 뉴스도 포함되어 있기 때문에 전날의 뉴스를 저장 후 \n",
    "#### 오늘 기사와 비교하여 중복된 기사를 제거하는 작업이 필요합니다"
   ]
  },
  {
   "cell_type": "code",
   "execution_count": 5,
   "metadata": {},
   "outputs": [
    {
     "data": {
      "text/plain": [
       "datetime.timedelta(seconds=33825, microseconds=615415)"
      ]
     },
     "execution_count": 5,
     "metadata": {},
     "output_type": "execute_result"
    }
   ],
   "source": [
    "datetime.today()-datetime.strptime(df['date'][1], '%Y-%m-%d')"
   ]
  },
  {
   "cell_type": "code",
   "execution_count": 6,
   "metadata": {},
   "outputs": [
    {
     "data": {
      "text/plain": [
       "datetime.datetime(2020, 10, 15, 0, 0)"
      ]
     },
     "execution_count": 6,
     "metadata": {},
     "output_type": "execute_result"
    }
   ],
   "source": [
    "datetime.strptime(df['date'][1], '%Y-%m-%d')"
   ]
  },
  {
   "cell_type": "code",
   "execution_count": 7,
   "metadata": {},
   "outputs": [],
   "source": [
    "today = datetime.today().strftime(\"%Y-%m-%d\")\n",
    "test = pd.to_datetime(today, format='%Y-%m-%d')\n",
    "test2= pd.to_datetime(df['date'][1], format='%Y-%m-%d')"
   ]
  },
  {
   "cell_type": "code",
   "execution_count": 8,
   "metadata": {},
   "outputs": [
    {
     "data": {
      "text/plain": [
       "Timestamp('2020-10-15 00:00:00')"
      ]
     },
     "execution_count": 8,
     "metadata": {},
     "output_type": "execute_result"
    }
   ],
   "source": [
    "test2"
   ]
  },
  {
   "cell_type": "code",
   "execution_count": 47,
   "metadata": {},
   "outputs": [],
   "source": [
    "today = datetime.today().strftime(\"%Y-%m-%d\")\n",
    "today = datetime.strptime(today, '%Y-%m-%d')"
   ]
  },
  {
   "cell_type": "code",
   "execution_count": 14,
   "metadata": {},
   "outputs": [
    {
     "data": {
      "text/plain": [
       "0"
      ]
     },
     "execution_count": 14,
     "metadata": {},
     "output_type": "execute_result"
    }
   ],
   "source": [
    "a = str(test2-test)\n",
    "b = int(a[:1])\n",
    "b"
   ]
  },
  {
   "cell_type": "code",
   "execution_count": 63,
   "metadata": {},
   "outputs": [
    {
     "data": {
      "text/plain": [
       "'0 days 00:00:00'"
      ]
     },
     "execution_count": 63,
     "metadata": {},
     "output_type": "execute_result"
    }
   ],
   "source": [
    "str(test - test2)\n",
    "# pd.to_datetime(test - test2, format='%d')"
   ]
  },
  {
   "cell_type": "code",
   "execution_count": 50,
   "metadata": {},
   "outputs": [
    {
     "data": {
      "text/plain": [
       "datetime.timedelta(0)"
      ]
     },
     "execution_count": 50,
     "metadata": {},
     "output_type": "execute_result"
    }
   ],
   "source": [
    "a = today-datetime.strptime(df['date'][1], '%Y-%m-%d')\n",
    "a"
   ]
  },
  {
   "cell_type": "code",
   "execution_count": 54,
   "metadata": {},
   "outputs": [
    {
     "ename": "ValueError",
     "evalue": "time data '0:00:00' does not match format '%d' (match)",
     "output_type": "error",
     "traceback": [
      "\u001b[1;31m---------------------------------------------------------------------------\u001b[0m",
      "\u001b[1;31mTypeError\u001b[0m                                 Traceback (most recent call last)",
      "\u001b[1;32m~\\AppData\\Local\\Continuum\\anaconda3\\envs\\RSS\\lib\\site-packages\\pandas\\core\\tools\\datetimes.py\u001b[0m in \u001b[0;36m_convert_listlike_datetimes\u001b[1;34m(arg, format, name, tz, unit, errors, infer_datetime_format, dayfirst, yearfirst, exact)\u001b[0m\n\u001b[0;32m    449\u001b[0m             \u001b[1;32mtry\u001b[0m\u001b[1;33m:\u001b[0m\u001b[1;33m\u001b[0m\u001b[1;33m\u001b[0m\u001b[0m\n\u001b[1;32m--> 450\u001b[1;33m                 \u001b[0mvalues\u001b[0m\u001b[1;33m,\u001b[0m \u001b[0mtz\u001b[0m \u001b[1;33m=\u001b[0m \u001b[0mconversion\u001b[0m\u001b[1;33m.\u001b[0m\u001b[0mdatetime_to_datetime64\u001b[0m\u001b[1;33m(\u001b[0m\u001b[0marg\u001b[0m\u001b[1;33m)\u001b[0m\u001b[1;33m\u001b[0m\u001b[1;33m\u001b[0m\u001b[0m\n\u001b[0m\u001b[0;32m    451\u001b[0m                 \u001b[0mdta\u001b[0m \u001b[1;33m=\u001b[0m \u001b[0mDatetimeArray\u001b[0m\u001b[1;33m(\u001b[0m\u001b[0mvalues\u001b[0m\u001b[1;33m,\u001b[0m \u001b[0mdtype\u001b[0m\u001b[1;33m=\u001b[0m\u001b[0mtz_to_dtype\u001b[0m\u001b[1;33m(\u001b[0m\u001b[0mtz\u001b[0m\u001b[1;33m)\u001b[0m\u001b[1;33m)\u001b[0m\u001b[1;33m\u001b[0m\u001b[1;33m\u001b[0m\u001b[0m\n",
      "\u001b[1;32mpandas\\_libs\\tslibs\\conversion.pyx\u001b[0m in \u001b[0;36mpandas._libs.tslibs.conversion.datetime_to_datetime64\u001b[1;34m()\u001b[0m\n",
      "\u001b[1;31mTypeError\u001b[0m: Unrecognized value type: <class 'datetime.timedelta'>",
      "\nDuring handling of the above exception, another exception occurred:\n",
      "\u001b[1;31mValueError\u001b[0m                                Traceback (most recent call last)",
      "\u001b[1;32m<ipython-input-54-ca3d513fef45>\u001b[0m in \u001b[0;36m<module>\u001b[1;34m\u001b[0m\n\u001b[1;32m----> 1\u001b[1;33m \u001b[0mpd\u001b[0m\u001b[1;33m.\u001b[0m\u001b[0mto_datetime\u001b[0m\u001b[1;33m(\u001b[0m\u001b[0ma\u001b[0m\u001b[1;33m,\u001b[0m \u001b[0mformat\u001b[0m\u001b[1;33m=\u001b[0m\u001b[1;34m'%d'\u001b[0m\u001b[1;33m)\u001b[0m\u001b[1;33m\u001b[0m\u001b[1;33m\u001b[0m\u001b[0m\n\u001b[0m",
      "\u001b[1;32m~\\AppData\\Local\\Continuum\\anaconda3\\envs\\RSS\\lib\\site-packages\\pandas\\core\\tools\\datetimes.py\u001b[0m in \u001b[0;36mto_datetime\u001b[1;34m(arg, errors, dayfirst, yearfirst, utc, format, exact, unit, infer_datetime_format, origin, cache)\u001b[0m\n\u001b[0;32m    828\u001b[0m             \u001b[0mresult\u001b[0m \u001b[1;33m=\u001b[0m \u001b[0mconvert_listlike\u001b[0m\u001b[1;33m(\u001b[0m\u001b[0marg\u001b[0m\u001b[1;33m,\u001b[0m \u001b[0mformat\u001b[0m\u001b[1;33m)\u001b[0m\u001b[1;33m\u001b[0m\u001b[1;33m\u001b[0m\u001b[0m\n\u001b[0;32m    829\u001b[0m     \u001b[1;32melse\u001b[0m\u001b[1;33m:\u001b[0m\u001b[1;33m\u001b[0m\u001b[1;33m\u001b[0m\u001b[0m\n\u001b[1;32m--> 830\u001b[1;33m         \u001b[0mresult\u001b[0m \u001b[1;33m=\u001b[0m \u001b[0mconvert_listlike\u001b[0m\u001b[1;33m(\u001b[0m\u001b[0mnp\u001b[0m\u001b[1;33m.\u001b[0m\u001b[0marray\u001b[0m\u001b[1;33m(\u001b[0m\u001b[1;33m[\u001b[0m\u001b[0marg\u001b[0m\u001b[1;33m]\u001b[0m\u001b[1;33m)\u001b[0m\u001b[1;33m,\u001b[0m \u001b[0mformat\u001b[0m\u001b[1;33m)\u001b[0m\u001b[1;33m[\u001b[0m\u001b[1;36m0\u001b[0m\u001b[1;33m]\u001b[0m\u001b[1;33m\u001b[0m\u001b[1;33m\u001b[0m\u001b[0m\n\u001b[0m\u001b[0;32m    831\u001b[0m \u001b[1;33m\u001b[0m\u001b[0m\n\u001b[0;32m    832\u001b[0m     \u001b[1;32mreturn\u001b[0m \u001b[0mresult\u001b[0m\u001b[1;33m\u001b[0m\u001b[1;33m\u001b[0m\u001b[0m\n",
      "\u001b[1;32m~\\AppData\\Local\\Continuum\\anaconda3\\envs\\RSS\\lib\\site-packages\\pandas\\core\\tools\\datetimes.py\u001b[0m in \u001b[0;36m_convert_listlike_datetimes\u001b[1;34m(arg, format, name, tz, unit, errors, infer_datetime_format, dayfirst, yearfirst, exact)\u001b[0m\n\u001b[0;32m    452\u001b[0m                 \u001b[1;32mreturn\u001b[0m \u001b[0mDatetimeIndex\u001b[0m\u001b[1;33m.\u001b[0m\u001b[0m_simple_new\u001b[0m\u001b[1;33m(\u001b[0m\u001b[0mdta\u001b[0m\u001b[1;33m,\u001b[0m \u001b[0mname\u001b[0m\u001b[1;33m=\u001b[0m\u001b[0mname\u001b[0m\u001b[1;33m)\u001b[0m\u001b[1;33m\u001b[0m\u001b[1;33m\u001b[0m\u001b[0m\n\u001b[0;32m    453\u001b[0m             \u001b[1;32mexcept\u001b[0m \u001b[1;33m(\u001b[0m\u001b[0mValueError\u001b[0m\u001b[1;33m,\u001b[0m \u001b[0mTypeError\u001b[0m\u001b[1;33m)\u001b[0m\u001b[1;33m:\u001b[0m\u001b[1;33m\u001b[0m\u001b[1;33m\u001b[0m\u001b[0m\n\u001b[1;32m--> 454\u001b[1;33m                 \u001b[1;32mraise\u001b[0m \u001b[0me\u001b[0m\u001b[1;33m\u001b[0m\u001b[1;33m\u001b[0m\u001b[0m\n\u001b[0m\u001b[0;32m    455\u001b[0m \u001b[1;33m\u001b[0m\u001b[0m\n\u001b[0;32m    456\u001b[0m     \u001b[1;32mif\u001b[0m \u001b[0mresult\u001b[0m \u001b[1;32mis\u001b[0m \u001b[1;32mNone\u001b[0m\u001b[1;33m:\u001b[0m\u001b[1;33m\u001b[0m\u001b[1;33m\u001b[0m\u001b[0m\n",
      "\u001b[1;32m~\\AppData\\Local\\Continuum\\anaconda3\\envs\\RSS\\lib\\site-packages\\pandas\\core\\tools\\datetimes.py\u001b[0m in \u001b[0;36m_convert_listlike_datetimes\u001b[1;34m(arg, format, name, tz, unit, errors, infer_datetime_format, dayfirst, yearfirst, exact)\u001b[0m\n\u001b[0;32m    416\u001b[0m                 \u001b[1;32mtry\u001b[0m\u001b[1;33m:\u001b[0m\u001b[1;33m\u001b[0m\u001b[1;33m\u001b[0m\u001b[0m\n\u001b[0;32m    417\u001b[0m                     result, timezones = array_strptime(\n\u001b[1;32m--> 418\u001b[1;33m                         \u001b[0marg\u001b[0m\u001b[1;33m,\u001b[0m \u001b[0mformat\u001b[0m\u001b[1;33m,\u001b[0m \u001b[0mexact\u001b[0m\u001b[1;33m=\u001b[0m\u001b[0mexact\u001b[0m\u001b[1;33m,\u001b[0m \u001b[0merrors\u001b[0m\u001b[1;33m=\u001b[0m\u001b[0merrors\u001b[0m\u001b[1;33m\u001b[0m\u001b[1;33m\u001b[0m\u001b[0m\n\u001b[0m\u001b[0;32m    419\u001b[0m                     )\n\u001b[0;32m    420\u001b[0m                     \u001b[1;32mif\u001b[0m \u001b[1;34m\"%Z\"\u001b[0m \u001b[1;32min\u001b[0m \u001b[0mformat\u001b[0m \u001b[1;32mor\u001b[0m \u001b[1;34m\"%z\"\u001b[0m \u001b[1;32min\u001b[0m \u001b[0mformat\u001b[0m\u001b[1;33m:\u001b[0m\u001b[1;33m\u001b[0m\u001b[1;33m\u001b[0m\u001b[0m\n",
      "\u001b[1;32mpandas\\_libs\\tslibs\\strptime.pyx\u001b[0m in \u001b[0;36mpandas._libs.tslibs.strptime.array_strptime\u001b[1;34m()\u001b[0m\n",
      "\u001b[1;31mValueError\u001b[0m: time data '0:00:00' does not match format '%d' (match)"
     ]
    }
   ],
   "source": [
    "pd.to_datetime(a, format='%d')"
   ]
  },
  {
   "cell_type": "code",
   "execution_count": 53,
   "metadata": {},
   "outputs": [
    {
     "data": {
      "text/plain": [
       "'0:00:00'"
      ]
     },
     "execution_count": 53,
     "metadata": {},
     "output_type": "execute_result"
    }
   ],
   "source": [
    "pd.to_datetime(df['date'], format='%Y-%m-%d %H:%M')"
   ]
  },
  {
   "cell_type": "code",
   "execution_count": 16,
   "metadata": {},
   "outputs": [
    {
     "data": {
      "text/html": [
       "<div>\n",
       "<style scoped>\n",
       "    .dataframe tbody tr th:only-of-type {\n",
       "        vertical-align: middle;\n",
       "    }\n",
       "\n",
       "    .dataframe tbody tr th {\n",
       "        vertical-align: top;\n",
       "    }\n",
       "\n",
       "    .dataframe thead th {\n",
       "        text-align: right;\n",
       "    }\n",
       "</style>\n",
       "<table border=\"1\" class=\"dataframe\">\n",
       "  <thead>\n",
       "    <tr style=\"text-align: right;\">\n",
       "      <th></th>\n",
       "      <th>title</th>\n",
       "      <th>url</th>\n",
       "      <th>date</th>\n",
       "    </tr>\n",
       "  </thead>\n",
       "  <tbody>\n",
       "    <tr>\n",
       "      <th>0</th>\n",
       "      <td>한국산 '초미세 물방울'로 코로나19 잡는다</td>\n",
       "      <td>https://news.naver.com/main/read.nhn?mode=LSD&amp;...</td>\n",
       "      <td>2020-10-15</td>\n",
       "    </tr>\n",
       "    <tr>\n",
       "      <th>1</th>\n",
       "      <td>물방울로 코로나 잡는다…카이스트 ‘초미세 살균 분무’ 개발</td>\n",
       "      <td>https://news.naver.com/main/read.nhn?mode=LSD&amp;...</td>\n",
       "      <td>2020-10-15</td>\n",
       "    </tr>\n",
       "  </tbody>\n",
       "</table>\n",
       "</div>"
      ],
      "text/plain": [
       "                              title  \\\n",
       "0          한국산 '초미세 물방울'로 코로나19 잡는다   \n",
       "1  물방울로 코로나 잡는다…카이스트 ‘초미세 살균 분무’ 개발   \n",
       "\n",
       "                                                 url        date  \n",
       "0  https://news.naver.com/main/read.nhn?mode=LSD&...  2020-10-15  \n",
       "1  https://news.naver.com/main/read.nhn?mode=LSD&...  2020-10-15  "
      ]
     },
     "execution_count": 16,
     "metadata": {},
     "output_type": "execute_result"
    }
   ],
   "source": [
    "# 이전 뉴스 기사 제목 Load\n",
    "save_news = pd.read_csv('C:/driver/save_news.csv',encoding='CP949')\n",
    "save_news.head()"
   ]
  },
  {
   "cell_type": "code",
   "execution_count": 20,
   "metadata": {},
   "outputs": [
    {
     "ename": "TypeError",
     "evalue": "argument of type 'Timestamp' is not iterable",
     "output_type": "error",
     "traceback": [
      "\u001b[1;31m---------------------------------------------------------------------------\u001b[0m",
      "\u001b[1;31mTypeError\u001b[0m                                 Traceback (most recent call last)",
      "\u001b[1;32m<ipython-input-20-07ee763849ab>\u001b[0m in \u001b[0;36m<module>\u001b[1;34m\u001b[0m\n\u001b[0;32m     10\u001b[0m         \u001b[1;32mcontinue\u001b[0m\u001b[1;33m\u001b[0m\u001b[1;33m\u001b[0m\u001b[0m\n\u001b[0;32m     11\u001b[0m     \u001b[1;32mfor\u001b[0m \u001b[0mrow\u001b[0m\u001b[1;33m,\u001b[0m \u001b[0mnow_news\u001b[0m \u001b[1;32min\u001b[0m \u001b[0menumerate\u001b[0m\u001b[1;33m(\u001b[0m\u001b[0mdf\u001b[0m\u001b[1;33m.\u001b[0m\u001b[0mtitle\u001b[0m\u001b[1;33m)\u001b[0m \u001b[1;33m:\u001b[0m\u001b[1;33m\u001b[0m\u001b[1;33m\u001b[0m\u001b[0m\n\u001b[1;32m---> 12\u001b[1;33m         \u001b[1;32mif\u001b[0m \u001b[0mnow_news\u001b[0m \u001b[1;32min\u001b[0m \u001b[0mbefore_date\u001b[0m \u001b[1;33m:\u001b[0m\u001b[1;33m\u001b[0m\u001b[1;33m\u001b[0m\u001b[0m\n\u001b[0m\u001b[0;32m     13\u001b[0m             \u001b[0mbefore_list\u001b[0m\u001b[1;33m.\u001b[0m\u001b[0mappend\u001b[0m\u001b[1;33m(\u001b[0m\u001b[0mrow\u001b[0m\u001b[1;33m)\u001b[0m\u001b[1;33m\u001b[0m\u001b[1;33m\u001b[0m\u001b[0m\n\u001b[0;32m     14\u001b[0m \u001b[1;33m\u001b[0m\u001b[0m\n",
      "\u001b[1;31mTypeError\u001b[0m: argument of type 'Timestamp' is not iterable"
     ]
    }
   ],
   "source": [
    "today = datetime.today().strftime(\"%Y-%m-%d\")\n",
    "today = pd.to_datetime(today, format='%Y-%m-%d')\n",
    "before_list = []\n",
    "for row, before_date in enumerate(save_news.date) :\n",
    "    before_date = pd.to_datetime(before_date, format='%Y-%m-%d')\n",
    "    days= str(today-before_date)\n",
    "    days = int(days[:1])\n",
    "    if days >= 4 :\n",
    "        save_news = save_news.drop([row]).reset_index(drop=True)\n",
    "        continue\n",
    "        \n",
    "for row, now_news in enumerate(df.title) :\n",
    "    if now_news in before_date :\n",
    "        before_list.append(row)\n",
    "\n",
    "save_news.reset_index(drop=True)            \n",
    "if not before_list :\n",
    "    df.drop(before_list,inplace=True)"
   ]
  },
  {
   "cell_type": "code",
   "execution_count": 20,
   "metadata": {},
   "outputs": [],
   "source": [
    "# 데이터 저장\n",
    "# save_news = pd.concat([save_news,df]) # 이전 뉴스에 오늘자 뉴스 추가\n",
    "save_news.to_csv('C:/driver/save_news.csv',encoding='CP949',index=False) # 추가한 데이터 저장"
   ]
  },
  {
   "cell_type": "code",
   "execution_count": null,
   "metadata": {},
   "outputs": [],
   "source": []
  },
  {
   "cell_type": "markdown",
   "metadata": {},
   "source": [
    "### 헤드라인 뉴스 밑에 있는 기사들이 중복 추출되기때문에\n",
    "### 중복된 기사를 제거하는 작업이 필요하다고 판단하였습니다"
   ]
  },
  {
   "cell_type": "markdown",
   "metadata": {},
   "source": [
    "![title](그림/그림1.png)"
   ]
  },
  {
   "cell_type": "markdown",
   "metadata": {},
   "source": [
    "### 이를 위해 해당 중복된 뉴스의 tag를 찾아 제목을 기록하고 이와 똑같은 뉴스를 찾아 제거하엿습니다"
   ]
  },
  {
   "cell_type": "code",
   "execution_count": 7,
   "metadata": {},
   "outputs": [
    {
     "data": {
      "text/plain": [
       "['한달 늦게 시작된 ‘아이폰의 계절’…긴장하는 삼성',\n",
       " \"휴대폰 빼돌려 5500만원 챙긴 직원…'아이폰'만 고집한 이유는?\",\n",
       " '‘호들갑’ 아이폰12 “5G 달린 맹탕?”…뭐가 새롭지? [IT선빵!]',\n",
       " \"[핵잼 사이언스] 수염을 물에 담가 먹잇감 찾아…콩고서 '신종 물쥐' 발견\",\n",
       " '[핵잼 사이언스] 증강현실(AR) 고글 쓰고 훈련 받는 美 군견',\n",
       " \"[핵잼 사이언스] 완벽 보존된 2000년 전 남성의 '뇌세포' 확인\",\n",
       " \"[이슈IN] 첫 단추 꿴 '플랫폼 노동' 논의\",\n",
       " \"[이슈IN] 1인 유튜버 월급은 178만원?…콘텐츠가 '답'\",\n",
       " \"[이슈IN] '20배 빠른 5G'는 공수표…비싼 요금제로 '호갱'만 늘어\"]"
      ]
     },
     "execution_count": 7,
     "metadata": {},
     "output_type": "execute_result"
    }
   ],
   "source": [
    "# 중복된 기사 list 추출\n",
    "duplicate_list = []\n",
    "dup_title = soup.find_all(\"li\",{\"class\":\"cluster_item as_line\"})\n",
    "for dup in dup_title:\n",
    "    text = dup.a.get_text()\n",
    "    duplicate_list.append(text.replace('\\\\',\"\"))\n",
    "duplicate_list"
   ]
  },
  {
   "cell_type": "code",
   "execution_count": 9,
   "metadata": {},
   "outputs": [],
   "source": [
    "# 중복된 기사 제거\n",
    "title_row = []\n",
    "for row, title in enumerate(df['title']) :\n",
    "    if title in duplicate_list :\n",
    "        title_row.append(row)\n",
    "\n",
    "df.drop(title_row,inplace=True)\n",
    "df.drop([5,7,9,11],inplace=True)"
   ]
  },
  {
   "cell_type": "markdown",
   "metadata": {},
   "source": [
    "#### 위에 기사 제목과 비교하면 중복된 기사인 1,2,3 번의 뉴스가 제거된 것을 볼 수 있다\n",
    "\n",
    "하지만 5,7번 기사처럼 main topic으로 기록된 기사의 경우 중복제거가 되지 않았다.  \n",
    "해당 기사 중복 제거가 필요하다(1,2,3,5,7기사가 계속 중복)"
   ]
  },
  {
   "cell_type": "code",
   "execution_count": 10,
   "metadata": {},
   "outputs": [
    {
     "data": {
      "text/html": [
       "<div>\n",
       "<style scoped>\n",
       "    .dataframe tbody tr th:only-of-type {\n",
       "        vertical-align: middle;\n",
       "    }\n",
       "\n",
       "    .dataframe tbody tr th {\n",
       "        vertical-align: top;\n",
       "    }\n",
       "\n",
       "    .dataframe thead th {\n",
       "        text-align: right;\n",
       "    }\n",
       "</style>\n",
       "<table border=\"1\" class=\"dataframe\">\n",
       "  <thead>\n",
       "    <tr style=\"text-align: right;\">\n",
       "      <th></th>\n",
       "      <th>title</th>\n",
       "      <th>url</th>\n",
       "      <th>date</th>\n",
       "    </tr>\n",
       "  </thead>\n",
       "  <tbody>\n",
       "    <tr>\n",
       "      <th>0</th>\n",
       "      <td>아이폰12 시리즈 95만 원부터 시작… 국내 사전예약은 언제?</td>\n",
       "      <td>https://news.naver.com/main/read.nhn?mode=LSD&amp;...</td>\n",
       "      <td>2020-10-15</td>\n",
       "    </tr>\n",
       "    <tr>\n",
       "      <th>4</th>\n",
       "      <td>방송통신기업 M&amp;A;, 효율적 심사 위해 부처간 협력 강화한다</td>\n",
       "      <td>https://news.naver.com/main/read.nhn?mode=LSD&amp;...</td>\n",
       "      <td>2020-10-15</td>\n",
       "    </tr>\n",
       "    <tr>\n",
       "      <th>6</th>\n",
       "      <td>한국산 '초미세 물방울'로 코로나19 잡는다</td>\n",
       "      <td>https://news.naver.com/main/read.nhn?mode=LSD&amp;...</td>\n",
       "      <td>2020-10-15</td>\n",
       "    </tr>\n",
       "    <tr>\n",
       "      <th>8</th>\n",
       "      <td>KT, 4대 융합 AI 엔진으로 산업 AI 시장 정조준</td>\n",
       "      <td>https://news.naver.com/main/read.nhn?mode=LSD&amp;...</td>\n",
       "      <td>2020-10-15</td>\n",
       "    </tr>\n",
       "    <tr>\n",
       "      <th>10</th>\n",
       "      <td>소재연구에 데이터·AI 도입…시행착오 최소화하고 개발기간도 단축</td>\n",
       "      <td>https://news.naver.com/main/read.nhn?mode=LSD&amp;...</td>\n",
       "      <td>2020-10-15</td>\n",
       "    </tr>\n",
       "  </tbody>\n",
       "</table>\n",
       "</div>"
      ],
      "text/plain": [
       "                                  title  \\\n",
       "0    아이폰12 시리즈 95만 원부터 시작… 국내 사전예약은 언제?   \n",
       "4    방송통신기업 M&A;, 효율적 심사 위해 부처간 협력 강화한다   \n",
       "6              한국산 '초미세 물방울'로 코로나19 잡는다   \n",
       "8        KT, 4대 융합 AI 엔진으로 산업 AI 시장 정조준   \n",
       "10  소재연구에 데이터·AI 도입…시행착오 최소화하고 개발기간도 단축   \n",
       "\n",
       "                                                  url        date  \n",
       "0   https://news.naver.com/main/read.nhn?mode=LSD&...  2020-10-15  \n",
       "4   https://news.naver.com/main/read.nhn?mode=LSD&...  2020-10-15  \n",
       "6   https://news.naver.com/main/read.nhn?mode=LSD&...  2020-10-15  \n",
       "8   https://news.naver.com/main/read.nhn?mode=LSD&...  2020-10-15  \n",
       "10  https://news.naver.com/main/read.nhn?mode=LSD&...  2020-10-15  "
      ]
     },
     "execution_count": 10,
     "metadata": {},
     "output_type": "execute_result"
    }
   ],
   "source": [
    "df"
   ]
  },
  {
   "cell_type": "markdown",
   "metadata": {},
   "source": [
    "### 네이버 뉴스는 IT/과학이기 때문에 과학과 관련된 단어 리스트 추가를 통해\n",
    "### 과학과 관련된 뉴스를 제거해야합니다"
   ]
  },
  {
   "cell_type": "markdown",
   "metadata": {},
   "source": [
    "이를 위해 과학에 국한된 단어 리스트를 추가하여 기사 제목이나 본문에 해당 단어 빈도수가 높을 경우 제거\n",
    "\n",
    "또한 연재중인 특정 카테고리 '[]' 로 되어있는 리스트도 추가함\n"
   ]
  },
  {
   "cell_type": "code",
   "execution_count": 11,
   "metadata": {},
   "outputs": [],
   "source": [
    "df.reset_index(drop=True,inplace=True) # dataframe index 재설정"
   ]
  },
  {
   "cell_type": "code",
   "execution_count": 16,
   "metadata": {},
   "outputs": [],
   "source": [
    "science_list = ['노벨','노벨화학상','화학','과학자','후쿠시마','세포','방사능','방사선','세포','암',\n",
    "                '[이슈IN]','[슬기로운 소비생활]','[사이언스샷]','[핵잼 사이언스]','[사이언스카페]','[이덕환의 과학세상]',\n",
    "                '[사이언스]','[강석기의과학카페]','바이러스','미생물','가위', '세포의','코로나','코로나19','초미세',\n",
    "                '초미세먼지','유전자','유전자가위로','치료제','DNA','오염수','국감','세슘','원전','미세먼지'] # 10.12일자 과학 단어 list"
   ]
  },
  {
   "cell_type": "code",
   "execution_count": 17,
   "metadata": {},
   "outputs": [],
   "source": [
    "science_drop = []\n",
    "for row, science in enumerate(df.title) :\n",
    "    count=0\n",
    "    title_split = re.sub(\"[^ㄱ-ㅎ ㅏ-ㅣ 가-힣| a-zA-Z0-9]\", \" \",science) # 특수문자 제거\n",
    "    title_split = re.split(' ', title_split) # 기사 제목을 띄어쓰기 단위로 구분\n",
    "    title_split = [ string for string in title_split if string != ''] #  리스트에 빈공간인 ''로 저장되는 list 삭제\n",
    "    \n",
    "    for k in science_list :\n",
    "        if title_split.count(k)>=1 :\n",
    "            count +=1\n",
    "            if count>=2 :\n",
    "                count=0 \n",
    "                science_drop.append(row)\n",
    "                break\n",
    "science_drop\n",
    "df.drop(science_drop,inplace=True)"
   ]
  },
  {
   "cell_type": "code",
   "execution_count": 18,
   "metadata": {},
   "outputs": [
    {
     "data": {
      "text/html": [
       "<div>\n",
       "<style scoped>\n",
       "    .dataframe tbody tr th:only-of-type {\n",
       "        vertical-align: middle;\n",
       "    }\n",
       "\n",
       "    .dataframe tbody tr th {\n",
       "        vertical-align: top;\n",
       "    }\n",
       "\n",
       "    .dataframe thead th {\n",
       "        text-align: right;\n",
       "    }\n",
       "</style>\n",
       "<table border=\"1\" class=\"dataframe\">\n",
       "  <thead>\n",
       "    <tr style=\"text-align: right;\">\n",
       "      <th></th>\n",
       "      <th>title</th>\n",
       "      <th>url</th>\n",
       "      <th>date</th>\n",
       "    </tr>\n",
       "  </thead>\n",
       "  <tbody>\n",
       "    <tr>\n",
       "      <th>0</th>\n",
       "      <td>아이폰12 시리즈 95만 원부터 시작… 국내 사전예약은 언제?</td>\n",
       "      <td>https://news.naver.com/main/read.nhn?mode=LSD&amp;...</td>\n",
       "      <td>2020-10-15</td>\n",
       "    </tr>\n",
       "    <tr>\n",
       "      <th>1</th>\n",
       "      <td>방송통신기업 M&amp;A;, 효율적 심사 위해 부처간 협력 강화한다</td>\n",
       "      <td>https://news.naver.com/main/read.nhn?mode=LSD&amp;...</td>\n",
       "      <td>2020-10-15</td>\n",
       "    </tr>\n",
       "    <tr>\n",
       "      <th>3</th>\n",
       "      <td>KT, 4대 융합 AI 엔진으로 산업 AI 시장 정조준</td>\n",
       "      <td>https://news.naver.com/main/read.nhn?mode=LSD&amp;...</td>\n",
       "      <td>2020-10-15</td>\n",
       "    </tr>\n",
       "    <tr>\n",
       "      <th>4</th>\n",
       "      <td>소재연구에 데이터·AI 도입…시행착오 최소화하고 개발기간도 단축</td>\n",
       "      <td>https://news.naver.com/main/read.nhn?mode=LSD&amp;...</td>\n",
       "      <td>2020-10-15</td>\n",
       "    </tr>\n",
       "  </tbody>\n",
       "</table>\n",
       "</div>"
      ],
      "text/plain": [
       "                                 title  \\\n",
       "0   아이폰12 시리즈 95만 원부터 시작… 국내 사전예약은 언제?   \n",
       "1   방송통신기업 M&A;, 효율적 심사 위해 부처간 협력 강화한다   \n",
       "3       KT, 4대 융합 AI 엔진으로 산업 AI 시장 정조준   \n",
       "4  소재연구에 데이터·AI 도입…시행착오 최소화하고 개발기간도 단축   \n",
       "\n",
       "                                                 url        date  \n",
       "0  https://news.naver.com/main/read.nhn?mode=LSD&...  2020-10-15  \n",
       "1  https://news.naver.com/main/read.nhn?mode=LSD&...  2020-10-15  \n",
       "3  https://news.naver.com/main/read.nhn?mode=LSD&...  2020-10-15  \n",
       "4  https://news.naver.com/main/read.nhn?mode=LSD&...  2020-10-15  "
      ]
     },
     "execution_count": 18,
     "metadata": {},
     "output_type": "execute_result"
    }
   ],
   "source": [
    "df"
   ]
  },
  {
   "cell_type": "markdown",
   "metadata": {},
   "source": [
    "저장된 기사 중 하나의 URL에 접속하여 기사의 제목과 본문 추출하여 리스트로 저장하였습니다."
   ]
  },
  {
   "cell_type": "code",
   "execution_count": null,
   "metadata": {},
   "outputs": [],
   "source": [
    "news_url =df['url'].tolist()  ## 각 뉴스 URL 주소 입력\n",
    "article_list = [] # 뉴스 본문 저장 LIST 생성\n",
    "\n",
    "for page in news_url :\n",
    "    \n",
    "    responce = requests.get(page, headers={'User-Agent':'Chrome/85.0.4183.121'},verify = False) ## 뉴스 URL 주소 접속\n",
    "    news_html = BeautifulSoup(responce.text,'html.parser') # html 태그 기준으로 parsing\n",
    "    content = news_html.select(\"#articleBodyContents\") # 기사 본문 저장되어 있는 html주소 복사\n",
    "\n",
    "\n",
    "    news_content = content[0]\n",
    "\n",
    "\n",
    "    for target in news_content.find_all('script'): # 기사 본문에 추가로 저장되어 있는 각 class들 제거\n",
    "        target.extract()\n",
    "\n",
    "    for target in news_content.find_all('a'): # 기사 본문에 추가로 저장되어 있는 각 class들 제거\n",
    "        target.extract()\n",
    "\n",
    "    for target in news_content.find_all('div'): # 기사 본문에 추가로 저장되어 있는 각 class들 제거\n",
    "        target.extract()\n",
    "\n",
    "    for target in news_content.find_all('iframe'): # 기사 본문에 추가로 저장되어 있는 각 class들 제거\n",
    "        target.extract()\n",
    "\n",
    "\n",
    "    for target in news_content.find_all('strong'): # 기사 본문에 추가로 저장되어 있는 각 class들 제거\n",
    "        target.extract()\n",
    "\n",
    "\n",
    "    final_article = str(news_content).replace('&amp;apos;','\\'').replace('\\n','').replace('\\t','')\n",
    "    article_list.append(final_article)\n",
    "    time.sleep(10)\n",
    "\n",
    "final_title = df.title.tolist()"
   ]
  },
  {
   "cell_type": "markdown",
   "metadata": {},
   "source": [
    "### Selenium활용하여 Autoway에 자동 로그인 후 I.C.U 게시\n",
    "\n",
    "#### OTP 승인 없이 로그인 할 수 있는 ID를 받아 \n",
    "#### chrome driver를 실행 후 해당 모든 기사의 제목과 url을 입력할 수 있도록 할 예정입니다"
   ]
  },
  {
   "cell_type": "code",
   "execution_count": null,
   "metadata": {},
   "outputs": [],
   "source": [
    "path = \"C:/driver/chromedriver.exe\"    # 크롬드라이버 설치 경로 설정\n",
    "\n",
    "set_id = open(\"C:/driver/set_id.txt\", 'r').read() #id 입력\n",
    "set_pwd = open(\"C:/driver/pwd.txt\", 'r').read() # pwd 입력"
   ]
  },
  {
   "cell_type": "code",
   "execution_count": null,
   "metadata": {},
   "outputs": [],
   "source": [
    "# Selenium Load\n",
    "driver = webdriver.Chrome(path) # chrome driver load\n",
    "# site login\n",
    "driver.get('https://autoway.hyundai.net/') # 오토웨이 접속\n",
    "time.sleep(3)\n",
    "\n",
    "driver.find_element_by_xpath('//*[@id=\"form1\"]/div[3]/div[2]/div[3]/div/div[3]').click() # autoway접속하여 로그인창의 부품 선택\n",
    "\n",
    "driver.find_element_by_xpath('//*[@id=\"drpGroupCopList\"]/option[2]').click() # 부품의 현대트랜시스 선택\n",
    "\n",
    "\n",
    "log = driver.find_element_by_id(\"userID\") # 오토웨이 id 입력 주소\n",
    "log.send_keys(set_id) # id입력\n",
    "time.sleep(2)\n",
    "pwd = driver.find_element_by_id(\"password\") # 오토웨이 비밀번호 입력 주소\n",
    "pwd.send_keys(set_pwd) # pwd 입력\n",
    "time.sleep(8)\n",
    "driver.find_element_by_xpath('//*[@id=\"Login\"]').click() # 로그인 버튼 클릭\n",
    "time.sleep(8)\n",
    "\n",
    "driver.get('https://autoway.hyundai.net/board/H104/Lists/H10400357/TileListView.aspx') # 현대트랜시스 I.C.U주소 입력하여 접속\n",
    "time.sleep(8)\n",
    "driver.find_element_by_xpath('//*[@id=\"ctl00_ctl59_g_de894c14_b56d_4d4b_9c89_374a6c0455c1_Search_NewButton_New_ctl00_ctl59_g_de894c14_b56d_4d4b_9c89_374a6c0455c1_Search_NewButton\"]').click()\n",
    "time.sleep(4)\n",
    "\n",
    "\n",
    "# I.C.U 내부의 작성 버튼 클릭\n",
    "\n",
    "\n",
    "icu_title = driver.find_element_by_id(\"Title_fa564e0f-0c70-4ab9-b863-0177e6ddd247_$TextField\") # 제목란 클릭\n",
    "icu_title.send_keys(news_title) # 작성 제목에 기사 제목 입력\n",
    "time.sleep(2)\n",
    "\n",
    "\n",
    "# iframe 전환\n",
    "\n",
    "# 작성 게시글 내부의 inline frame(iframe) 2개의 web page가 삽입되어 있습니다.\n",
    "# 기사를 입력하기 위해서는 내부에 들어가서 작성해야 합니다.\n",
    "# 이를 위해 tag_name으로 iframe이 입력된 전체 리스트를 찾고 \n",
    "# 기사 제목을 입력할 수 있는 iframe[0] 내부의 두번째 iframe에 접속하여 기사 본문을 게시하는 코드를 작성하였습니다.\n",
    "\n",
    "iframes = driver.find_elements_by_tag_name('iframe') # 모든 iframe tage_name을 검색\n",
    "driver.switch_to.frame(iframes[0]) # 그 중 본문을 작성할 수 있는 첫번째 iframe 선택\n",
    "\n",
    "\n",
    "second_iframe = driver.find_elements_by_tag_name('iframe') # 본문에 접속하기 위해서는 iframe[0]내부의 iframe에 접속하여 작성해야됨\n",
    "driver.find_element_by_xpath('//*[@id=\"ue_dext5editorsource\"]/a').click() # I.C.U 본문작성 하위 태그의 HTML태그 클릭 \n",
    "# 이를 위해 2번째 iframe을 검색\n",
    "driver.switch_to.frame(second_iframe[0])  # 검색한 두 번째 iframe 접속\n",
    "icu_news = driver.find_element_by_id(\"dext_body\") # 해당 iframe 내의 기사를 입력할 수 있는 id = dext_body 검색\n",
    "icu_news.send_keys(final_article) # 해당 부분에 기사 내용 입력\n",
    "\n",
    "    \n",
    "driver.switch_to_default_content() # 해당 iframe에 벗어나 상위 웹페이지로 연결\n",
    "\n",
    "# 기사 최종 게시 클릭\n",
    "# driver.find_element_by_xpath('//*[@id=\"ctl00_ctl59_g_0005fe00_cee6_4765_9070_f77f554d027e_ctl00_ctl06_btnSave\"]').click()\n",
    "\n",
    "#샘플 테스트로 목록 클릭하여 빠져나오는 코드\n",
    "# driver.find_element_by_xpath('//*[@id=\"ctl00_ctl59_g_0005fe00_cee6_4765_9070_f77f554d027e_ctl00_ctl07_List_ctl00_ctl59_g_0005fe00_cee6_4765_9070_f77f554d027e_ctl00_ctl07\"]/span').click()\n",
    "\n"
   ]
  },
  {
   "cell_type": "code",
   "execution_count": null,
   "metadata": {},
   "outputs": [],
   "source": []
  },
  {
   "cell_type": "markdown",
   "metadata": {},
   "source": [
    "전체 URL로 확장 중"
   ]
  },
  {
   "cell_type": "code",
   "execution_count": 20,
   "metadata": {},
   "outputs": [
    {
     "data": {
      "text/plain": [
       "['<div class=\"_article_body_contents\" id=\"articleBodyContents\"><!-- 본문 내용 --><!-- TV플레이어 --><!-- // TV플레이어 --><span class=\"end_photo_org\"><img alt=\"\" src=\"https://imgnews.pstatic.net/image/119/2020/10/15/0002434819_001_20201015080117716.jpeg?type=w647\"><em class=\"img_desc\">ⓒ사진제공_국대폰</em></img></span>애플의 첫 5G 스마트폰 아이폰12 시리즈가 지난 14일(한국시간) ‘애플 스페셜 이벤트’를 통해 공개됐다. 이번 행사를 통해 공개된 아이폰12 시리즈는 아이폰12 미니, 아이폰12, 아이폰12 프로, 아이폰12 프로맥스로 총 4종으로 구성되었다. 지난 3년간 3가지 라인업으로만 출시했던 애플이 소형 모델인 아이폰12 미니를 추가한 모습이다.<br/><br/>모든 아이폰12 시리즈에는 애플이 설계한 새 모바일 AP(애플리케이션 프로세서)인 ‘A14 바이오닉 칩’이 적용됐다. 5나노미터(㎚) 공정으로 제조된 최초의 첫 칩셋으로, 에너지 효율은 높이고 성능은 끌어올렸다는 게 애플의 설명이다. 애플은 “기존A13 칩과 비교해 중앙처리장치(CPU), 그래픽처리장치(GPU) 성능이 50% 개선됐다”고 밝혔다.<br/><br/>개선된 성능만큼 가격 또한 소폭 상승한 것으로 보인다. 아이폰12 미니는 95만 원부터 시작되고 아이폰12의 경우 109만 원부터 시작된다. 전작인 아이폰11의 출고가가 99만 원이었던 것에 비하면 10만 원 가량 비싸졌다.<br/><br/>이처럼 아이폰12가 공개되자 국내 사전예약을 두고 많은 소비자들의 관심이 이어지고 있다. 1차 출시국에 포함된 한국은 23일부터 사전예약에 돌입하며 30일 정식 출시할 것으로 예상된다. 이에 80만 회원이 활동하는 온라인 스마트폰 공동구매 카페 ‘국대폰’은 고가의 프리미엄 사은품을 내걸고 사전예약을 진행한다고 밝혔다.<br/><br/>내용에 따르면 국대폰은 아이폰12 사전예약 알림 서비스를 진행하고 있는데 알림서비스를 신청한 모든 고객은 정식 사전예약 진행 시 무료 문자 알림서비스와 스타벅스 아메리카노 기프티콘을 받아볼 수 있다. 알림서비스를 받아본 뒤 아이폰12 시리즈를 개통까지 진행한 고객은 아이패드7, 에어팟 PRO, 애플워치4 등 다양한 고가의 프리미엄 사은품이 제공된다.<br/><br/>재고정리가 진행 중인 아이폰X, 아이폰XR, 아이폰7 등의 모델은 할부 부담 없이 저렴한 가격에 구입이 가능하고 비교적 최신 모델인 아이폰11과 아이폰SE2에도 높은 수준의 할인이 적용된다. 그 중에서도 아이폰SE2는 구입 시 에어팟2까지 받아볼 수 있다.<br/><br/>이밖에도 국대폰은 갤럭시노트9 10만 원대, 갤럭시S10 5G 8천 원대, 갤럭시S20 20만 원대, 갤럭시노트20 30만 원대 등 갤럭시 시리즈 특가 판매를 진행하고 있으며 최대 49만 원 현금 사은품을 제공하는 SK, KT, LG, LG헬로비전 인터넷 가입을 진행하고 있다.<br/><br/>자세한 내용은 네이버 카페 \\'국대폰\\'에서 확인할 수 있다.<br/><br/>데일리안 이현남 기자 (leehn123@dailian.co.kr)<br/><br/>ⓒ (주)데일리안 - 무단전재, 변형, 무단배포 금지<!-- // 본문 내용 --></div>',\n",
       " '<div class=\"_article_body_contents\" id=\"articleBodyContents\"><!-- 본문 내용 --><!-- TV플레이어 --><!-- // TV플레이어 --><table align=\"CENTER\" bgcolor=\"ffffff\" border=\"0\" cellpadding=\"0\" cellspacing=\"5\" width=\"500\"><tr><td bgcolor=\"ffffff\" style=\"PADDING-RIGHT: 2px; PADDING-LEFT: 2px; PADDING-BOTTOM: 2px; PADDING-TOP: 2px;\"><table bgcolor=\"ffffff\" border=\"0\" cellpadding=\"0\" cellspacing=\"5\"><tr><td><span class=\"end_photo_org\"><img alt=\"\" src=\"https://imgnews.pstatic.net/image/018/2020/10/14/0004759406_001_20201014170046050.jpg?type=w647\"/></span></td></tr><tr><td style=\"PADDING-BOTTOM: 0px; PADDING-LEFT: 0px; PADDING-RIGHT: 0px; FONT-FAMILY: 돋움,돋움체; COLOR: 595959; FONT-SIZE: 9pt !important; PADDING-TOP: 2px;\">(자료=과학기술정보통신부 제공)</td></tr></table></td></tr></table>[이데일리 이후섭 기자] 과학기술정보통신부와 방송통신위원회, 공정거래위원회는 14일 `디지털 미디어 생태계 발전을 위한 업무협약`을 체결했다.<br/><br/>이번 업무협약은 지난 6월 발표한 `디지털 미디어 생태계 발전방안`의 후속 조치로, 빠르게 변화하는 디지털 미디어 환경에 맞춰 국내 기업들의 자유로운 인수합병(M&amp;A;)을 통해 콘텐츠 차별화와 플랫폼 대형화를 적극 지원하기 위해 방송통신기업 M&amp;A; 심사를 소관하는 세 부처의 적극적인 상호 협력기반 구축을 위해 체결됐다.<br/><br/>현행 법령상 종합유선방송사업자 등 방송통신기업이 M&amp;A;를 하게 되는 경우 개별법령에 따라 각각 과기정통부(전기통신사업법, 방송법· IPTV법), 공정위(공정거래법)에 심사받아야 하며, 과기정통부의 기간 통신 부문 심사는 공정위의 협의가, 방송 부문 심사는 방통위의 사전동의 절차가 이뤄진 후에야 심사를 완료할 수 있다.<br/><br/>그러나 이러한 다부처·순차적 심사 절차는 방송통신기업의 M&amp;A; 절차 완료를 지연하고 사업자의 행정부담을 가중시켜 급변하는 미디어 시장에 적극적으로 대응하는데 한계가 있다는 지적이 있었다.<br/><br/>과기정통부와 방통위 및 공정위는 이러한 한계점을 개선하기 위해 △방송통신기업 M&amp;A; 심사에 대한 상호협력 기반 구축과 효율적인 심사방안 적극 모색 △심사일정 및 진행상황 공유 △심사 공통자료 공유 △신청서 접수 후 14일 내 관계기관 협의체 구성 등에 대한 내용을 담은 업무협약을 체결하고, 향후 방송통신기업 M&amp;A; 심사 시 성실히 이행하기로 약속했다.<br/><br/>정부는 “이번 협력이 방송통신기업의 신속한 M&amp;A; 완료에 기여해 국내 미디어 산업 발전에 긍정적인 영향을 미칠 수 있을 것으로 기대한다”고 밝혔다.<br/><br/>이후섭 (dlgntjq@edaily.co.kr)<br/><br/><br/><br/><br/><br/><p><br/>＜ⓒ종합 경제정보 미디어 이데일리 - 무단전재 &amp; 재배포 금지＞</p><!-- // 본문 내용 --></div>',\n",
       " '<div class=\"_article_body_contents\" id=\"articleBodyContents\"><!-- 본문 내용 --><!-- TV플레이어 --><!-- // TV플레이어 --><b><b>4대 AI 엔진 - 네트워크 AI, 기가트윈, 로보오퍼레이터, 머신닥터 등 공개</b><br/></b><br/><table align=\"center\" border=\"0\" class=\"image\" width=\"500px\"><tbody><tr><td> <span class=\"end_photo_org\"><img alt=\"\" src=\"https://imgnews.pstatic.net/image/022/2020/10/14/20201014520492_20201014170400130.jpg?type=w647\"/></span> </td></tr><tr><td style=\"text-align:left;word-break: break-all; word-wrap: break-word;width:500px;\">  KT 융합기술원장 홍경표 전무. KT 제공  </td></tr></tbody></table> <br/>  KT가 14일 ‘4대 융합 AI(인공지능)엔진’을 공개하며 이를 바탕으로 통신·제조·교통·물류 등 산업용 AI 시장을 공략하겠단 계획을 밝혔다.<br/> <br/>  KT의 4대 AI 엔진은 ‘네트워크 AI’, ‘기가트윈(Giga Twin)’, ‘로보오퍼레이터(Robo-Operator)’, ‘머신닥터(Machine Doctor)’등이다.<br/> <br/>  KT는 AI가 기업이 고객에게 제공하는 ‘B2C(Business to Customer)’ 서비스 중심에서 기업이 기업에게 솔루션을 제공하는 ‘B2B(Business to Business)’ 시장으로 확산하면서 비즈니스적인 기회는 기하급수적으로 늘어나고 있다고 분석했다.<br/> <br/>  KT는 4대 AI 엔진으로 일반 소비자에게 인공지능 TV, 스피커, 음성인식으로 익숙한 AI 기술을 이제는 다양한 산업 분야에 적용해 산업 전반의 변화를 주도한다는 계획이다.<br/> <br/> <br/> <br/>  KT는 고객이 문제를 확인하고 고객센터에 신고하지 않아도 AI가 먼저 확인해 스스로 문제를 해결할 수 있는 ‘자정능력’을 가진 네트워크를 만들기 위해 네트워크 AI 엔진을 개발했다고 이날 밝혔다.<br/> <br/>  네트워크 AI 엔진은 요약된 문구·문장으로 돼 있는 수만 가지의 장비 경보 패턴을 수학적으로 모델링해 학습했다. 정상 상태와 학습한 데이터가 얼마나 유사한지 비교하는 방식으로 인간 수준의 장애 예측 및 복구를 위한 조치사항을 도출해낸다.<br/> <br/>  KT는 특정 네트워크 장애에 대한 데이터를 구하기 어려울 경우 학습용 가상 데이터를 생성해 부족한 데이터를 확보한 후 학습량의 균형을 맞춰 네트워크 AI 엔진의 진단 결과 정확도를 개선했다.<br/> <br/>  KT는 네트워크 AI 엔진을 바탕으로 네트워크 특성에 따라 3가지 솔루션을 만들어 자사의 통신망에 적용했다. ‘닥터로렌(Dr. Lauren)’은 유선 네트워크, ‘닥터케이블(Dr. Cable)’은 외부 통신 시설(OSP)을, ‘닥터와이즈(Dr. WAIS)’는 LTE·5G와 같은 무선 네트워크를 책임진다.<br/> <br/>  기존에 사람의 경험, 역량에 의존 했다면 앞으로는 설계, 구축, 설정과 운용까지 지능화가 가능한 모든 네트워크 업무를 완벽한 AI 기술로 구현하는 것이 네트워크 AI 엔진의 진화 방향이라고 KT는 설명했다.<br/> <br/>  향후 KT는 네트워크 AI 엔진을 활용해 네트워크 AI 솔루션, 소프트웨어 정의 네트워킹(Software Defined Networking, SDN)등 이 통합된 새로운 B2B 플랫폼을 만들어 국내외 기업 전용 네트워크 및 솔루션 시장을 공략할 계획이다.<br/> <br/> <br/> <br/>  기가트윈은 자가진화 기능이 담긴 디지털트윈 AI 엔진이다. 실물과 가까운 시뮬레이션 모델을 만들고 실황과 가까운 예측 데이터를 제공해 최적화에 도움을 준다. 특히 적은 데이터로 초기 학습 모델을 빠르게 구축할 수 있고 이후 쌓이는 데이터를 가지고 강화 학습을 하는 등 스스로 진화한다. 최신 이슈를 지속적으로 반영할 수 있다는 장점을 갖고 있다.<br/> <br/>  기가트윈을 교통 분야에 적용하면 공간 모델을 만들어 전국의 실시간 도로 상황을 분석하는 것이 가능하다. 2시간 이후의 교통 흐름 변화를 정확도 88% 수준으로 예측해 낸다. KT는 이 엔진을 10개 광역단위 교차로의 교통 신호 제어 시스템에 적용해 신호 최적화를 시행하면 교통 정체의 약 20%를 개선할 수 있을 것으로 예상했다.<br/> <br/>  로보오퍼레이터는 설비제어에 특화된 AI 엔진으로 복잡한 설비 구조를 빠르게 학습해 목적에 맞는 최적화된 제어 솔루션을 제공해준다. 딥러닝이 설비들의 상호관계를 학습하고 설비의 가동·정지 시점과 설정 값 등을 빌딩 자동화 시스템에 전달해 에너지 절감 효과를 극대화한다.<br/> <br/>  이 AI 엔진은 다양한 설비(냉난방설비, 전력설비, 생산설비, 공정설비, 신재생설비 등)와 쉽게 연동된다는 장점이 있다. 현재 KT광화문빌딩 이스트, LS타워, 대전 세이브존 등 6개의 건물에 적용돼 실증사업을 진행 중이며 최대 18%의 냉난방용 에너지 절감 효과를 내고 있다.<br/> <br/>  머신 닥터는 사운드, 진동, 전류 등의 데이터를 분석하여 기계의 결함을 학습하고 어떤 부분을 고쳐야 할지 직접 진단해준다. 머신 닥터에는 고객의 설비 환경에 대해 스스로 학습하고 맞춤 형태로 조언해 주는 셀프러닝(Self-Learning) 기능이 탑재돼 있다.<br/> <br/>  기술이 발전됨에 따라 산업 현장의 시스템은 복잡·다양해 지고 환경 보호, 안전 강화 등 책임 증대로 많은 기업들이 부담을 느끼는 상황이다. 또한 전문가의 고령화로 기술 단절 발생, 숙련공 부족과 인건비 상승 및 시장 과열로 산업 현장의 비용절감 압박이 심화되고 있다.<br/> <br/>  KT는 비통신 산업과 AI 기술이 융합된 AI 엔진인 기가트윈, 로보오퍼레이터, 머신닥터가 이러한 산업 현장의 고충을 해결하고 새로운 산업 가치를 창출할 수 있다고 내다봤다.<br/> <br/> <br/> <br/>  KT는 4대 융합 AI 엔진을 기반으로 통신·비통신 산업 현장에 적용될 새로운 AI 기술과 솔루션을 더 빠르고 똑똑하게 개발하기 위해 ’KT브레인허브(KT Brain Hub)’를 14일 구축했다. KT브레인허브는 웹 페이지로 ‘AI 학습용 데이터’ 플랫폼이다.<br/> <br/>  AI 학습용 데이터는 AI 목적에 맞는 데이터를 AI 엔진이 학습할 수 있는 상태로 전처리 가공 과정을 거친 자료의 집합이다. AI가 인간과 유사하게 논리적인 판단과 결정을 하기 위한 기초로 이용된다. AI 학습용 데이터의 품질에 따라 AI 성능과 기술력이 결정되기 때문에 AI 분야의 핵심 요소 중 하나다.<br/> <br/>  KT브레인허브는 AI 학습용 데이터에 대한 정보를 공유하고 수집해 가공 데이터로 제공한다. KT브레인허브에는 네트워크 인프라, 에너지, 빌딩 설비, 음성 인식, 영상 인식 데이터 등 AI 학습 데이터가 저장돼 있다. 이미지, 비디오, 오디오, 텍스트 등 데이터 유형과 종류에 따라 분류돼 있어 AI 개발자가 원하는 데이터에 쉽게 접근 할 수 있다는 것이 이 플랫폼의 장점이다.<br/> <br/>  개발자가 AI 학습 데이터로 접근 시 자료의 수집, 가공 방법을 직관적으로 알 수 있고 해당 AI 학습 데이터를 다른 개발자가 이용한 연구 사례와 데이터 가공 노하우를 볼 수 있어 새로운 서비스를 기획하고 개발하는데 시행 착오를 최소화하는 것이 가능하다.<br/> <br/>  KT는 코로나 19 시대로 발생된 비대면, 언택트 문화가 개인 삶의 변화를 넘어 여러 산업의 일하는 방식을 바꾸고 있다고 설명하며, AI를 바탕으로 진행되는 ‘디지털 혁신(Digital Transformation)’이 이를 가속화할 것이라고 말했다.<br/> <br/>  아울러 네트워크 AI와 기가트윈, 로보오퍼레이터, 머신닥터는 기업 경영 상황에 실질적 도움을 줄 혁신을 위한 AI 기술이라 평하며, 통신·시설물관리·제조·교통·물류 등 여러 산업의 전문 역량을 강화하고 프로세스를 최적화해 이를 이용하는 기업의 신규 가치를 창출 할 수 있다고 KT는 확신했다.<br/> <br/>  KT 융합기술원장 홍경표 전무는 “KT는 음성인식 등의 인터페이스 AI 기술뿐 아니라 산업 현장에 특화된 융합 AI 엔진과 산업 별 데이터 자원 및 플랫폼을 가지고 있다”라며 “KT가 보유한 AI기술력을 발판으로 통신·비통신 산업의 생산성과 효율성을 높이고 더 나아가 최적의 의사결정을 지원하는 솔루션을 제공해 플랫폼 시장의 혁신을 이끌어 나갈 계획”이라고 말했다.<br/> <br/>  현화영 기자 hhy@segye.com <br/><br/><br/><br/>ⓒ 세상을 보는 눈, <b>세계일보</b><!-- // 본문 내용 --></div>',\n",
       " '<div class=\"_article_body_contents\" id=\"articleBodyContents\"><!-- 본문 내용 --><!-- TV플레이어 --><!-- // TV플레이어 --><table align=\"CENTER\" bgcolor=\"ffffff\" border=\"0\" cellpadding=\"0\" cellspacing=\"5\" width=\"500\"><tr><td bgcolor=\"ffffff\" style=\"PADDING-RIGHT: 2px; PADDING-LEFT: 2px; PADDING-BOTTOM: 2px; PADDING-TOP: 2px;\"><table bgcolor=\"ffffff\" border=\"0\" cellpadding=\"0\" cellspacing=\"5\"><tr><td><span class=\"end_photo_org\"><img alt=\"\" src=\"https://imgnews.pstatic.net/image/018/2020/10/14/0004759407_001_20201014170046823.jpg?type=w647\"/></span></td></tr><tr><td style=\"PADDING-BOTTOM: 0px; PADDING-LEFT: 0px; PADDING-RIGHT: 0px; FONT-FAMILY: 돋움,돋움체; COLOR: 595959; FONT-SIZE: 9pt !important; PADDING-TOP: 2px;\">(자료=과학기술정보통신부 제공)</td></tr></table></td></tr></table>[이데일리 이후섭 기자] 데이터·인공지능(AI)을 소재연구에 접목해 실험 및 이론에 의한 시행착오를 최소화하고, 신소재 개발기간을 단축하는 방안이 추진된다.<br/><br/>과학기술정보통신부는 제5차 소재·부품·장비 경쟁력강화위원회를 통해 `데이터 기반 소재연구 혁신허브 구축·활용방안`을 확정해 본격 추진한다고 14일 밝혔다.<br/><br/>이번 방안은 산발돼 있는 소재 연구데이터를 체계적·안정적으로 수집·관리할 수 있는 체계를 조기에 구축하고, 소재 연구개발(R&amp;D;)에 직접 활용하는 것에 주안점을 뒀다. 또 디지털 뉴딜 추경을 통해 확보한 재원 80억원을 시작으로 2027년까지 598억원을 투자해 연구데이터 수집·공유 플랫폼 구축에 착수할 계획이다.<br/><br/>우선 소재 연구데이터 수집·관리·활용 체계를 구축한다. 양질의 데이터를 확보하기 위해 2021년까지 `데이터 입력 표준템플릿`을 확립하고, AI가 학습 가능한 메타데이터 420만건을 확보할 계획이다. 관리·활용 체계 구축을 위해서는 대용량 데이터의 안정적 관리를 위한 소재 연구데이터 전용 초고성능컴퓨팅 환경을 2026년까지 구축하고, 수집된 데이터 및 AI를 소재연구에 활용해 신소재 탐색·설계부터 공정개발, 양산에 이르는 기간을 단축시키기 위한 △탐색·설계(개발기간 단축) △공정개발(간극해소) △측정·분석(신뢰성 제고) 등의 3대 서비스를 제공한다.<br/><br/>데이터 기반의 새로운 소재연구 활성화를 위한 기반도 조성한다. `국가 소재 연구데이터 센터`를 지정·운영해 데이터를 체계적으로 관리하고, 에너지·환경, 스마트·정보통신(IT), 구조(안전) 등 소재 응용분야별 특화센터도 배치한다. 또 데이터 수집·활용 체계가 성공적으로 안착할 수 있도록 정부 연구개발(R&amp;D;) 과제에 대한 데이터 등록 의무화, 데이터 계층에 따른 접근자격, 보안체계 등을 담은 가이드라인을 마련하고, 인력양성을 위해 대학(원)생, 소재 연구인력, 기업재직자 등 대상별 맞춤형 전문교육도 지원한다.<br/><br/>소재연구 혁신허브 및 3대 서비스를 소재 연구개발(R&amp;D;) 전주기에 활용해 신소재 개발 시간·비용을 절반으로 절감하는 선도사업도 추진한다. 소부장 품목(338개+a)과 연계한 대형 신규 R&amp;D;(중장기)와 시범과제(단기)를 병행해 조기에 성공모델을 창출할 계획이다.<br/><br/>최기영 과기정통부 장관은 “연구데이터는 소재연구 파이프라인에 혁신을 가져올 기폭제”라며 “데이터 활용을 통해 발광다이오드(LED), 탄소섬유를 잇는 신소재가 국내에서 확보되기를 기대한다”고 말했다.<br/><br/>이어 그는 “연구 패러다임을 바꾸는 과정에서 연구 현장과의 공감대 형성이 무엇보다도 중요하다”며 “개방·공유·협업의 연구환경 조성을 위해 긴 호흡으로 정책을 추진해 나가겠다”고 덧붙였다.<br/><br/>이후섭 (dlgntjq@edaily.co.kr)<br/><br/><br/><br/><br/><br/><p><br/>＜ⓒ종합 경제정보 미디어 이데일리 - 무단전재 &amp; 재배포 금지＞</p><!-- // 본문 내용 --></div>']"
      ]
     },
     "execution_count": 20,
     "metadata": {},
     "output_type": "execute_result"
    }
   ],
   "source": [
    "news_url =df['url'].tolist()  ## 각 뉴스 URL 주소 입력\n",
    "article_list = [] # 뉴스 본문 저장 LIST 생성\n",
    "\n",
    "for page in news_url :\n",
    "    \n",
    "    responce = requests.get(page, headers={'User-Agent':'Chrome/85.0.4183.121'},verify = False) ## 뉴스 URL 주소 접속\n",
    "    news_html = BeautifulSoup(responce.text,'html.parser') # html 태그 기준으로 parsing\n",
    "    content = news_html.select(\"#articleBodyContents\") # 기사 본문 저장되어 있는 html주소 복사\n",
    "\n",
    "\n",
    "    news_content = content[0]\n",
    "\n",
    "\n",
    "    for target in news_content.find_all('script'): # 기사 본문에 추가로 저장되어 있는 각 class들 제거\n",
    "        target.extract()\n",
    "\n",
    "    for target in news_content.find_all('a'): # 기사 본문에 추가로 저장되어 있는 각 class들 제거\n",
    "        target.extract()\n",
    "\n",
    "    for target in news_content.find_all('div'): # 기사 본문에 추가로 저장되어 있는 각 class들 제거\n",
    "        target.extract()\n",
    "\n",
    "    for target in news_content.find_all('iframe'): # 기사 본문에 추가로 저장되어 있는 각 class들 제거\n",
    "        target.extract()\n",
    "\n",
    "\n",
    "    for target in news_content.find_all('strong'): # 기사 본문에 추가로 저장되어 있는 각 class들 제거\n",
    "        target.extract()\n",
    "\n",
    "\n",
    "    final_article = str(news_content).replace('&amp;apos;','\\'').replace('\\n','').replace('\\t','')\n",
    "    article_list.append(final_article)\n",
    "    time.sleep(10)\n",
    "\n",
    "final_title = df.title.tolist()"
   ]
  },
  {
   "cell_type": "code",
   "execution_count": null,
   "metadata": {},
   "outputs": [],
   "source": []
  },
  {
   "cell_type": "markdown",
   "metadata": {},
   "source": [
    "셀레니움도 전체로 확장 작업 중"
   ]
  },
  {
   "cell_type": "code",
   "execution_count": 22,
   "metadata": {},
   "outputs": [],
   "source": [
    "path = \"C:/driver/chromedriver.exe\"    # 크롬드라이버 설치 경로 설정\n",
    "set_id = open(\"C:/driver/set_id.txt\", 'r').read() #id 입력\n",
    "set_pwd = open(\"C:/driver/pwd.txt\", 'r').read() # pwd 입력"
   ]
  },
  {
   "cell_type": "code",
   "execution_count": 23,
   "metadata": {
    "scrolled": true
   },
   "outputs": [],
   "source": [
    "# Selenium Load\n",
    "driver = webdriver.Chrome(path) # chrome driver load\n",
    "# site login\n",
    "driver.get('https://autoway.hyundai.net/') # 오토웨이 접속\n",
    "time.sleep(3)\n",
    "\n",
    "driver.find_element_by_xpath('//*[@id=\"form1\"]/div[3]/div[2]/div[3]/div/div[3]').click() # autoway접속하여 로그인창의 부품 선택\n",
    "\n",
    "driver.find_element_by_xpath('//*[@id=\"drpGroupCopList\"]/option[2]').click() # 부품의 현대트랜시스 선택\n",
    "\n",
    "\n",
    "log = driver.find_element_by_id(\"userID\") # 오토웨이 id 입력 주소\n",
    "log.send_keys(set_id) # id입력\n",
    "time.sleep(2)\n",
    "pwd = driver.find_element_by_id(\"password\") # 오토웨이 비밀번호 입력 주소\n",
    "pwd.send_keys(set_pwd) # pwd 입력\n",
    "time.sleep(8)\n",
    "driver.find_element_by_xpath('//*[@id=\"Login\"]').click() # 로그인 버튼 클릭\n",
    "time.sleep(10)\n",
    "\n",
    "driver.get('https://autoway.hyundai.net/board/H104/Lists/H10400357/TileListView.aspx') # 현대트랜시스 I.C.U주소 입력하여 접속\n",
    "time.sleep(8)\n",
    "\n",
    "for news_title, news_text in zip(final_title, article_list) :\n",
    "\n",
    "\n",
    "    driver.find_element_by_xpath('//*[@id=\"ctl00_ctl59_g_de894c14_b56d_4d4b_9c89_374a6c0455c1_Search_NewButton_New_ctl00_ctl59_g_de894c14_b56d_4d4b_9c89_374a6c0455c1_Search_NewButton\"]').click()\n",
    "    # I.C.U 내부의 작성 버튼 클릭\n",
    "    time.sleep(10)\n",
    "\n",
    "    icu_title = driver.find_element_by_id(\"Title_fa564e0f-0c70-4ab9-b863-0177e6ddd247_$TextField\") # 제목란 클릭\n",
    "    icu_title.send_keys(news_title) # 작성 제목에 기사 제목 입력\n",
    "    time.sleep(5)\n",
    "\n",
    "\n",
    "    # iframe 전환\n",
    "\n",
    "    # 작성 게시글 내부의 inline frame(iframe) 2개의 web page가 삽입되어 있습니다.\n",
    "    # 기사를 입력하기 위해서는 내부에 들어가서 작성해야 합니다.\n",
    "    # 이를 위해 tag_name으로 iframe이 입력된 전체 리스트를 찾고 \n",
    "    # 기사 제목을 입력할 수 있는 iframe[0] 내부의 두번째 iframe에 접속하여 기사 본문을 게시하는 코드를 작성하였습니다.\n",
    "\n",
    "    \n",
    "    iframes = driver.find_elements_by_tag_name('iframe') # 모든 iframe tage_name을 검색\n",
    "    driver.switch_to.frame(iframes[0]) # 그 중 본문을 작성할 수 있는 첫번째 iframe 선택\n",
    "\n",
    "\n",
    "    second_iframe = driver.find_elements_by_tag_name('iframe') # 본문에 접속하기 위해서는 iframe[0]내부의 iframe에 접속하여 작성해야됨\n",
    "    driver.find_element_by_xpath('//*[@id=\"ue_dext5editorsource\"]/a').click() # I.C.U 본문작성 하위 태그의 HTML태그 클릭 \n",
    "    # 이를 위해 2번째 iframe을 검색\n",
    "    driver.switch_to.frame(second_iframe[0])  # 검색한 두 번째 iframe 접속\n",
    "    icu_news = driver.find_element_by_id(\"dext_body\") # 해당 iframe 내의 기사를 입력할 수 있는 id = dext_body 검색\n",
    "    icu_news.send_keys(news_text) # 해당 부분에 기사 내용 입력\n",
    "\n",
    "    driver.switch_to_default_content() # 해당 iframe에 벗어나 상위 웹페이지로 연결\n",
    "    time.sleep(2)\n",
    "    # 기사 최종 게시 클릭\n",
    "    # driver.find_element_by_xpath('//*[@id=\"ctl00_ctl59_g_0005fe00_cee6_4765_9070_f77f554d027e_ctl00_ctl06_btnSave\"]').click()\n",
    "\n",
    "    #샘플 테스트로 목록 클릭하여 빠져나오는 코드\n",
    "    driver.find_element_by_xpath('//*[@id=\"ctl00_ctl59_g_0005fe00_cee6_4765_9070_f77f554d027e_ctl00_ctl07_List_ctl00_ctl59_g_0005fe00_cee6_4765_9070_f77f554d027e_ctl00_ctl07\"]/span').click()\n",
    "    time.sleep(3)\n"
   ]
  },
  {
   "cell_type": "code",
   "execution_count": 56,
   "metadata": {},
   "outputs": [],
   "source": [
    "from selenium.webdriver.common.keys import Keys\n",
    "\n"
   ]
  },
  {
   "cell_type": "code",
   "execution_count": 15,
   "metadata": {},
   "outputs": [],
   "source": [
    "path = \"C:/driver/chromedriver.exe\"    # 크롬드라이버 설치 경로 설정\n",
    "\n",
    "set_id = open(\"C:/driver/set_id.txt\", 'r').read() #id 입력\n",
    "set_pwd = open(\"C:/driver/pwd.txt\", 'r').read() # pwd 입력"
   ]
  },
  {
   "cell_type": "code",
   "execution_count": 290,
   "metadata": {},
   "outputs": [],
   "source": [
    "# Selenium Load\n",
    "driver = webdriver.Chrome(path) # chrome driver load\n",
    "# site login\n",
    "driver.get('https://autoway.hyundai.net/') # 오토웨이 접속\n",
    "time.sleep(3)\n",
    "\n",
    "driver.find_element_by_xpath('//*[@id=\"form1\"]/div[3]/div[2]/div[3]/div/div[3]').click() # autoway접속하여 로그인창의 부품 선택\n",
    "\n",
    "driver.find_element_by_xpath('//*[@id=\"drpGroupCopList\"]/option[2]').click() # 부품의 현대트랜시스 선택\n",
    "\n",
    "\n",
    "log = driver.find_element_by_id(\"userID\") # 오토웨이 id 입력 주소\n",
    "log.send_keys(set_id) # id입력\n",
    "time.sleep(2)\n",
    "pwd = driver.find_element_by_id(\"password\") # 오토웨이 비밀번호 입력 주소\n",
    "pwd.send_keys(set_pwd) # pwd 입력\n",
    "time.sleep(8)\n",
    "driver.find_element_by_xpath('//*[@id=\"Login\"]').click() # 로그인 버튼 클릭\n",
    "time.sleep(10)\n",
    "\n",
    "driver.get('https://autoway.hyundai.net/board/H104/Lists/H10400357/TileListView.aspx') # 현대트랜시스 I.C.U주소 입력하여 접속\n",
    "time.sleep(8)\n",
    "driver.find_element_by_xpath('//*[@id=\"ctl00_ctl59_g_de894c14_b56d_4d4b_9c89_374a6c0455c1_Search_NewButton_New_ctl00_ctl59_g_de894c14_b56d_4d4b_9c89_374a6c0455c1_Search_NewButton\"]').click()\n",
    "# I.C.U 내부의 작성 버튼 클릭\n",
    "time.sleep(8)\n",
    "\n",
    "# icu_title = driver.find_element_by_id(\"Title_fa564e0f-0c70-4ab9-b863-0177e6ddd247_$TextField\") # 제목란 클릭\n",
    "# icu_title.send_keys(news_title) # 작성 제목에 기사 제목 입력\n",
    "time.sleep(5)\n",
    "\n",
    "\n",
    "# iframe 전환\n",
    "\n",
    "# 작성 게시글 내부의 inline frame(iframe) 2개의 web page가 삽입되어 있습니다.\n",
    "# 기사를 입력하기 위해서는 내부에 들어가서 작성해야 합니다.\n",
    "# 이를 위해 tag_name으로 iframe이 입력된 전체 리스트를 찾고 \n",
    "# 기사 제목을 입력할 수 있는 iframe[0] 내부의 두번째 iframe에 접속하여 기사 본문을 게시하는 코드를 작성하였습니다.\n",
    "\n",
    "iframes = driver.find_elements_by_tag_name('iframe') # 모든 iframe tage_name을 검색\n",
    "driver.switch_to.frame(iframes[0]) # 그 중 본문을 작성할 수 있는 첫번째 iframe 선택\n",
    "\n",
    "\n",
    "second_iframe = driver.find_elements_by_tag_name('iframe') # 본문에 접속하기 위해서는 iframe[0]내부의 iframe에 접속하여 작성해야됨\n",
    "driver.find_element_by_xpath('//*[@id=\"ue_dext5editorsource\"]/a').click()\n",
    "# 이를 위해 2번째 iframe을 검색\n",
    "driver.switch_to.frame(second_iframe[0])  # 검색한 두 번째 iframe 접속\n",
    "icu_news = driver.find_element_by_id(\"dext_body\") # 해당 iframe 내의 기사를 입력할 수 있는 id = dext_body 검색\n",
    "# icu_news.send_keys(Keys.ENTER)\n",
    "# icu_news.send_keys(Keys.CONTROL,5)\n",
    "# icu_news.send_keys(Keys.TAB)\n",
    "# icu_news.send_keys(Keys.ENTER)\n",
    "# driver.find_element_by_xpath('//*[@id=\"ue_dext5editorsource\"]/a').click()\n",
    "icu_news.send_keys(test) # 해당 부분에 기사 내용 입력\n",
    "\n",
    "    \n",
    "driver.switch_to_default_content() # 해당 iframe에 벗어나 상위 웹페이지로 연결\n",
    "\n",
    "# 기사 최종 게시 클릭\n",
    "# driver.find_element_by_xpath('//*[@id=\"ctl00_ctl59_g_0005fe00_cee6_4765_9070_f77f554d027e_ctl00_ctl06_btnSave\"]').click()\n",
    "\n",
    "#샘플 테스트로 목록 클릭하여 빠져나오는 코드\n",
    "# driver.find_element_by_xpath('//*[@id=\"ctl00_ctl59_g_0005fe00_cee6_4765_9070_f77f554d027e_ctl00_ctl07_List_ctl00_ctl59_g_0005fe00_cee6_4765_9070_f77f554d027e_ctl00_ctl07\"]/span').click()\n",
    "\n"
   ]
  }
 ],
 "metadata": {
  "kernelspec": {
   "display_name": "Python 3",
   "language": "python",
   "name": "python3"
  },
  "language_info": {
   "codemirror_mode": {
    "name": "ipython",
    "version": 3
   },
   "file_extension": ".py",
   "mimetype": "text/x-python",
   "name": "python",
   "nbconvert_exporter": "python",
   "pygments_lexer": "ipython3",
   "version": "3.7.4"
  }
 },
 "nbformat": 4,
 "nbformat_minor": 2
}
