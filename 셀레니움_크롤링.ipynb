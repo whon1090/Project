{
 "cells": [
  {
   "cell_type": "code",
   "execution_count": 27,
   "metadata": {},
   "outputs": [],
   "source": [
    "# import module\n",
    "import pandas as pd\n",
    "import numpy as np\n",
    "from selenium import webdriver\n",
    "from selenium.webdriver.common.keys import Keys\n",
    "from selenium.webdriver.support.ui import Select\n",
    "import time\n",
    "import re\n",
    "path = \"D:/driver/chromedriver.exe\"    #ex. C:/downloads/chromedriver.exe"
   ]
  },
  {
   "cell_type": "code",
   "execution_count": 59,
   "metadata": {},
   "outputs": [],
   "source": [
    "pm_final = pd.read_csv('D:/data/pm_data_korea.csv', encoding='CP949')\n",
    "pm_final['지역'] = pm_final['지역'].str[:2] \n",
    "pm_final = pm_final[pm_final['지역'] == '인천']\n",
    "pm_final['주소'] =pm_final['주소'].apply(lambda x : re.split(r'\\(',x)[0])\n",
    "site_list = ['송해', '길상', '운서', '검단', '원당', '연희', '청라', '석남', '계산', '삼산', '부평',\n",
    "            '부평역', '송현', '신흥', '동춘', '송도', '숭의', '석바위', '구월동', '고잔', '논현']\n",
    "pm_final = pm_final[pm_final['측정소명'].isin(site_list)]\n",
    "pm_final['주소'] =pm_final['주소'].str.replace('남구','미추홀구')\n",
    "# 검색안되는 석바위 주안6동 근처 파출소로 임의로 변경\n",
    "pm_final['주소'] =pm_final['주소'].str.replace('주안6동','석암파출소')\n",
    "incheon_list =pm_final['주소'].unique().tolist()"
   ]
  },
  {
   "cell_type": "code",
   "execution_count": 60,
   "metadata": {},
   "outputs": [
    {
     "data": {
      "text/plain": [
       "['신흥',\n",
       " '구월동',\n",
       " '숭의',\n",
       " '석바위',\n",
       " '부평역',\n",
       " '부평',\n",
       " '연희',\n",
       " '검단',\n",
       " '계산',\n",
       " '고잔',\n",
       " '석남',\n",
       " '송해',\n",
       " '동춘',\n",
       " '운서',\n",
       " '송현',\n",
       " '논현',\n",
       " '원당',\n",
       " '청라',\n",
       " '송도']"
      ]
     },
     "execution_count": 60,
     "metadata": {},
     "output_type": "execute_result"
    }
   ],
   "source": [
    "pm_final['측정소명'].unique().tolist()"
   ]
  },
  {
   "cell_type": "code",
   "execution_count": 65,
   "metadata": {},
   "outputs": [
    {
     "data": {
      "text/plain": [
       "22"
      ]
     },
     "execution_count": 65,
     "metadata": {},
     "output_type": "execute_result"
    }
   ],
   "source": [
    "len(incheon_list)"
   ]
  },
  {
   "cell_type": "code",
   "execution_count": 66,
   "metadata": {
    "scrolled": true
   },
   "outputs": [
    {
     "name": "stderr",
     "output_type": "stream",
     "text": [
      "C:\\Anaconda3\\lib\\site-packages\\ipykernel_launcher.py:11: DeprecationWarning: use driver.switch_to.window instead\n",
      "  # This is added back by InteractiveShellApp.init_path()\n",
      "C:\\Anaconda3\\lib\\site-packages\\selenium\\webdriver\\remote\\webdriver.py:1149: UserWarning: Only 'current' window is supported for W3C compatibile browsers.\n",
      "  warnings.warn(\"Only 'current' window is supported for W3C compatibile browsers.\")\n",
      "C:\\Anaconda3\\lib\\site-packages\\ipykernel_launcher.py:25: DeprecationWarning: use driver.switch_to.window instead\n"
     ]
    }
   ],
   "source": [
    "# Selenium Load\n",
    "driver = webdriver.Chrome(path)\n",
    "# site connect\n",
    "driver.get('https://www.airkorea.or.kr/web/realSearch?pMENU_NO=97')\n",
    "\n",
    "for i in incheon_list:\n",
    "    driver.find_element_by_xpath('//*[@id=\"s_condition_input3\"]').click()\n",
    "    driver.implicitly_wait(10)\n",
    "\n",
    "    #chrome switch\n",
    "    driver.switch_to_window(driver.window_handles[1])\n",
    "    driver.get_window_position(driver.window_handles[1])\n",
    "    driver.implicitly_wait(10)\n",
    "\n",
    "    # site select\n",
    "    driver.find_element_by_xpath('//*[@id=\"keyword\"]').send_keys(i)\n",
    "    driver.find_element_by_xpath('//*[@id=\"serarchContentBox\"]/fieldset/span/input[2]').click()\n",
    "    time.sleep(3)\n",
    "    driver.find_element_by_xpath('//*[@id=\"roadAddrDiv1\"]/b').click()\n",
    "    time.sleep(5)\n",
    "    driver.find_element_by_xpath('//*[@id=\"resultData\"]/div/a').click()\n",
    "    time.sleep(3)\n",
    "\n",
    "    #chrome switch\n",
    "    driver.switch_to_window(driver.window_handles[0])\n",
    "    driver.get_window_position(driver.window_handles[0])\n",
    "\n",
    "    #측정자료 조회 날짜 설정(5월1일 ~6월30일)\n",
    "    driver.find_element_by_xpath('//*[@id=\"cont_body\"]/form[2]/div[1]/a').click()\n",
    "    time.sleep(10)\n",
    "    driver.find_element_by_xpath('//*[@id=\"from_date\"]').click()\n",
    "    time.sleep(1)\n",
    "    driver.find_element_by_xpath('//*[@id=\"ui-datepicker-div\"]/div[1]/div/select[2]/option[5]').click()\n",
    "    time.sleep(1)\n",
    "    driver.find_element_by_xpath('//*[@id=\"ui-datepicker-div\"]/table/tbody/tr[1]/td[4]/a').click()\n",
    "    time.sleep(10)\n",
    "    driver.find_element_by_xpath('//*[@id=\"to_date\"]').click()\n",
    "    time.sleep(2)\n",
    "    driver.find_element_by_xpath('//*[@id=\"ui-datepicker-div\"]/div[1]/div/select[2]/option[6]').click()\n",
    "    driver.find_element_by_xpath('//*[@id=\"ui-datepicker-div\"]/table/tbody/tr[6]/td[1]/a').click()\n",
    "    time.sleep(4)\n",
    "    driver.find_element_by_xpath('//*[@id=\"to_date_hour\"]/option[24]').click()\n",
    "    #검색 버튼 클릭\n",
    "    driver.find_element_by_xpath('//*[@id=\"tab1\"]/div[1]/a[1]').click()\n",
    "    time.sleep(4)\n",
    "\n",
    "    #Save file\n",
    "    driver.find_element_by_xpath('//*[@id=\"tab1\"]/div[1]/a[3]').click()\n",
    "    time.sleep(10)\n",
    "    \n",
    "    #측정자료 조회 날짜 설정(7월1일 ~8월30일)\n",
    "    driver.find_element_by_xpath('//*[@id=\"from_date\"]').click()\n",
    "    time.sleep(1)\n",
    "    driver.find_element_by_xpath('//*[@id=\"ui-datepicker-div\"]/div[1]/div/select[2]/option[7]').click()\n",
    "    time.sleep(1)\n",
    "    driver.find_element_by_xpath('//*[@id=\"ui-datepicker-div\"]/table/tbody/tr[1]/td[2]/a').click()\n",
    "    time.sleep(10)\n",
    "    driver.find_element_by_xpath('//*[@id=\"to_date\"]').click()\n",
    "    time.sleep(2)\n",
    "    driver.find_element_by_xpath('//*[@id=\"ui-datepicker-div\"]/div[1]/div/select[2]/option[8]').click()\n",
    "    driver.find_element_by_xpath('//*[@id=\"ui-datepicker-div\"]/table/tbody/tr[3]/td[4]/a').click()\n",
    "    time.sleep(4)\n",
    "    driver.find_element_by_xpath('//*[@id=\"to_date_hour\"]/option[24]').click()\n",
    "    #검색 버튼 클릭\n",
    "    driver.find_element_by_xpath('//*[@id=\"tab1\"]/div[1]/a[1]').click()\n",
    "    time.sleep(5)\n",
    "\n",
    "    #Save file\n",
    "    driver.find_element_by_xpath('//*[@id=\"tab1\"]/div[1]/a[3]').click()\n",
    "    time.sleep(10)"
   ]
  },
  {
   "cell_type": "code",
   "execution_count": 69,
   "metadata": {},
   "outputs": [
    {
     "name": "stderr",
     "output_type": "stream",
     "text": [
      "C:\\Anaconda3\\lib\\site-packages\\IPython\\core\\interactiveshell.py:3058: DtypeWarning: Columns (1,2,3,4,5,6,7,11,12) have mixed types. Specify dtype option on import or set low_memory=False.\n",
      "  interactivity=interactivity, compiler=compiler, result=result)\n"
     ]
    }
   ],
   "source": [
    "pm_chungnam = pd.read_csv('D:/data/pm_data_korea.csv', encoding='CP949')\n",
    "pm_chungnam['주소'] =pm_chungnam['주소'].apply(lambda x : re.split(r'\\(',x)[0])\n",
    "pm_chungnam = pm_chungnam[pm_chungnam['측정소명']=='송산면']\n",
    "chungnam_list =pm_chungnam['주소'].unique().tolist()\n"
   ]
  },
  {
   "cell_type": "code",
   "execution_count": 70,
   "metadata": {},
   "outputs": [
    {
     "data": {
      "text/plain": [
       "['충남 당진시 송산면 유곡로 342-27']"
      ]
     },
     "execution_count": 70,
     "metadata": {},
     "output_type": "execute_result"
    }
   ],
   "source": [
    "chungnam_list"
   ]
  },
  {
   "cell_type": "code",
   "execution_count": 71,
   "metadata": {},
   "outputs": [
    {
     "name": "stderr",
     "output_type": "stream",
     "text": [
      "C:\\Anaconda3\\lib\\site-packages\\ipykernel_launcher.py:10: DeprecationWarning: use driver.switch_to.window instead\n",
      "  # Remove the CWD from sys.path while we load stuff.\n",
      "C:\\Anaconda3\\lib\\site-packages\\selenium\\webdriver\\remote\\webdriver.py:1149: UserWarning: Only 'current' window is supported for W3C compatibile browsers.\n",
      "  warnings.warn(\"Only 'current' window is supported for W3C compatibile browsers.\")\n",
      "C:\\Anaconda3\\lib\\site-packages\\ipykernel_launcher.py:24: DeprecationWarning: use driver.switch_to.window instead\n"
     ]
    }
   ],
   "source": [
    "# Selenium Load\n",
    "driver = webdriver.Chrome(path)\n",
    "# site connect\n",
    "driver.get('https://www.airkorea.or.kr/web/realSearch?pMENU_NO=97')\n",
    "\n",
    "driver.find_element_by_xpath('//*[@id=\"s_condition_input3\"]').click()\n",
    "driver.implicitly_wait(10)\n",
    "\n",
    "#chrome switch\n",
    "driver.switch_to_window(driver.window_handles[1])\n",
    "driver.get_window_position(driver.window_handles[1])\n",
    "driver.implicitly_wait(10)\n",
    "\n",
    "# site select\n",
    "driver.find_element_by_xpath('//*[@id=\"keyword\"]').send_keys('충남 당진시 송산면 유곡로 342-27')\n",
    "driver.find_element_by_xpath('//*[@id=\"serarchContentBox\"]/fieldset/span/input[2]').click()\n",
    "time.sleep(3)\n",
    "driver.find_element_by_xpath('//*[@id=\"roadAddrDiv1\"]/b').click()\n",
    "time.sleep(5)\n",
    "driver.find_element_by_xpath('//*[@id=\"resultData\"]/div/a').click()\n",
    "time.sleep(3)\n",
    "\n",
    "#chrome switch\n",
    "driver.switch_to_window(driver.window_handles[0])\n",
    "driver.get_window_position(driver.window_handles[0])\n",
    "\n",
    "#측정자료 조회 날짜 설정(5월1일 ~6월30일)\n",
    "driver.find_element_by_xpath('//*[@id=\"cont_body\"]/form[2]/div[1]/a').click()\n",
    "time.sleep(10)\n",
    "driver.find_element_by_xpath('//*[@id=\"from_date\"]').click()\n",
    "time.sleep(1)\n",
    "driver.find_element_by_xpath('//*[@id=\"ui-datepicker-div\"]/div[1]/div/select[2]/option[5]').click()\n",
    "time.sleep(1)\n",
    "driver.find_element_by_xpath('//*[@id=\"ui-datepicker-div\"]/table/tbody/tr[1]/td[4]/a').click()\n",
    "time.sleep(10)\n",
    "driver.find_element_by_xpath('//*[@id=\"to_date\"]').click()\n",
    "time.sleep(2)\n",
    "driver.find_element_by_xpath('//*[@id=\"ui-datepicker-div\"]/div[1]/div/select[2]/option[6]').click()\n",
    "driver.find_element_by_xpath('//*[@id=\"ui-datepicker-div\"]/table/tbody/tr[6]/td[1]/a').click()\n",
    "time.sleep(4)\n",
    "driver.find_element_by_xpath('//*[@id=\"to_date_hour\"]/option[24]').click()\n",
    "#검색 버튼 클릭\n",
    "driver.find_element_by_xpath('//*[@id=\"tab1\"]/div[1]/a[1]').click()\n",
    "time.sleep(4)\n",
    "\n",
    "#Save file\n",
    "driver.find_element_by_xpath('//*[@id=\"tab1\"]/div[1]/a[3]').click()\n",
    "time.sleep(10)\n",
    "\n",
    "#측정자료 조회 날짜 설정(7월1일 ~8월30일)\n",
    "driver.find_element_by_xpath('//*[@id=\"from_date\"]').click()\n",
    "time.sleep(1)\n",
    "driver.find_element_by_xpath('//*[@id=\"ui-datepicker-div\"]/div[1]/div/select[2]/option[7]').click()\n",
    "time.sleep(1)\n",
    "driver.find_element_by_xpath('//*[@id=\"ui-datepicker-div\"]/table/tbody/tr[1]/td[2]/a').click()\n",
    "time.sleep(10)\n",
    "driver.find_element_by_xpath('//*[@id=\"to_date\"]').click()\n",
    "time.sleep(2)\n",
    "driver.find_element_by_xpath('//*[@id=\"ui-datepicker-div\"]/div[1]/div/select[2]/option[8]').click()\n",
    "driver.find_element_by_xpath('//*[@id=\"ui-datepicker-div\"]/table/tbody/tr[3]/td[4]/a').click()\n",
    "time.sleep(4)\n",
    "driver.find_element_by_xpath('//*[@id=\"to_date_hour\"]/option[24]').click()\n",
    "#검색 버튼 클릭\n",
    "driver.find_element_by_xpath('//*[@id=\"tab1\"]/div[1]/a[1]').click()\n",
    "time.sleep(5)\n",
    "\n",
    "#Save file\n",
    "driver.find_element_by_xpath('//*[@id=\"tab1\"]/div[1]/a[3]').click()\n",
    "time.sleep(10)"
   ]
  },
  {
   "cell_type": "code",
   "execution_count": null,
   "metadata": {},
   "outputs": [],
   "source": []
  },
  {
   "cell_type": "code",
   "execution_count": 48,
   "metadata": {},
   "outputs": [],
   "source": [
    "# Selenium Load\n",
    "driver = webdriver.Chrome(path)\n",
    "driver.implicitly_wait(3)\n",
    "# webdriver start\n",
    "driver.get('http://www.road.re.kr/itms/itms_01.asp?main_no=11&sub_no=1')\n",
    "driver.implicitly_wait(10)\n",
    "\n",
    "# 고속도로 select 48\n",
    "for i in range(1,49) :\n",
    "    driver.find_element_by_xpath('//*[@id=\"search\"]/table/tbody/tr/td[4]/label/select').click()\n",
    "    time.sleep(5)\n",
    "    driver.find_element_by_xpath(f'//*[@id=\"search\"]/table/tbody/tr/td[4]/label/select/option[{i}]').click()\n",
    "    time.sleep(5)\n",
    "    driver.find_element_by_xpath('//*[@id=\"data_table\"]/table[2]/tbody/tr/td[2]/a/img').click()\n",
    "    time.sleep(5)"
   ]
  },
  {
   "cell_type": "code",
   "execution_count": 51,
   "metadata": {},
   "outputs": [],
   "source": [
    "# Selenium Load\n",
    "driver = webdriver.Chrome(path)\n",
    "driver.implicitly_wait(3)\n",
    "# webdriver start\n",
    "driver.get('http://www.road.re.kr/itms/itms_01_1.asp?main_no=11&sub_no=2')\n",
    "driver.implicitly_wait(10)\n",
    "\n",
    "# 일반도로 select 48\n",
    "for i in range(1,52) :\n",
    "    driver.find_element_by_xpath('//*[@id=\"search\"]/table/tbody/tr/td[4]/label/select').click()\n",
    "    driver.find_element_by_xpath(f'//*[@id=\"search\"]/table/tbody/tr/td[4]/label/select/option[{i}]').click()\n",
    "    time.sleep(5)\n",
    "    driver.find_element_by_xpath('//*[@id=\"data_table\"]/table[2]/tbody/tr/td[2]/a/img').click()\n",
    "    time.sleep(3)"
   ]
  },
  {
   "cell_type": "code",
   "execution_count": 3,
   "metadata": {},
   "outputs": [],
   "source": [
    "# webdriver close\n",
    "driver.close()"
   ]
  },
  {
   "cell_type": "code",
   "execution_count": null,
   "metadata": {},
   "outputs": [],
   "source": []
  },
  {
   "cell_type": "code",
   "execution_count": null,
   "metadata": {},
   "outputs": [],
   "source": []
  },
  {
   "cell_type": "code",
   "execution_count": null,
   "metadata": {},
   "outputs": [],
   "source": []
  }
 ],
 "metadata": {
  "kernelspec": {
   "display_name": "Python 3",
   "language": "python",
   "name": "python3"
  },
  "language_info": {
   "codemirror_mode": {
    "name": "ipython",
    "version": 3
   },
   "file_extension": ".py",
   "mimetype": "text/x-python",
   "name": "python",
   "nbconvert_exporter": "python",
   "pygments_lexer": "ipython3",
   "version": "3.7.4"
  }
 },
 "nbformat": 4,
 "nbformat_minor": 2
}
