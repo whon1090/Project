{
 "cells": [
  {
   "cell_type": "code",
   "execution_count": 1,
   "metadata": {},
   "outputs": [],
   "source": [
    "# import module\n",
    "import pandas as pd\n",
    "import numpy as np\n",
    "import os\n",
    "from datetime import datetime\n",
    "import datetime\n",
    "from pandas import Series,DataFrame\n",
    "from math import *\n",
    "import glob\n",
    "import matplotlib.pyplot as plt\n",
    "import matplotlib as mpl\n",
    "import seaborn as sns\n",
    "from statsmodels.stats.outliers_influence import variance_inflation_factor\n",
    "from statsmodels.regression.linear_model import OLS\n",
    "import statsmodels.formula.api as sm\n",
    "import time\n",
    "import random\n",
    "import warnings\n",
    "\n",
    "warnings.filterwarnings(action='ignore')\n",
    "%matplotlib inline\n",
    "\n",
    "font_name = mpl.font_manager.FontProperties(fname='C:/Windows/Fonts/malgunbd.ttf').get_name()\n",
    "mpl.rc('font', family=font_name)\n",
    "mpl.rcParams['axes.unicode_minus'] = False\n",
    "\n",
    "## sklearn\n",
    "from sklearn import linear_model\n",
    "from sklearn.base import BaseEstimator, TransformerMixin, RegressorMixin, clone\n",
    "from sklearn.feature_selection import SelectFromModel\n",
    "from sklearn.ensemble import (GradientBoostingRegressor, GradientBoostingClassifier, RandomForestRegressor, VotingClassifier, VotingRegressor)\n",
    "from sklearn.linear_model import *\n",
    "from sklearn.metrics import *\n",
    "from sklearn.metrics import roc_curve, auc\n",
    "from sklearn.model_selection import *\n",
    "from sklearn.kernel_ridge import KernelRidge\n",
    "from sklearn.svm import SVR\n",
    "from sklearn.pipeline import make_pipeline, make_union\n",
    "from sklearn.preprocessing import StandardScaler\n",
    "from sklearn.preprocessing import RobustScaler\n",
    "from sklearn.preprocessing import LabelEncoder\n",
    "from sklearn.preprocessing import MultiLabelBinarizer\n",
    "from sklearn.feature_extraction.text import TfidfVectorizer\n",
    "\n",
    "#LightGBM\n",
    "from lightgbm import LGBMClassifier, LGBMRegressor\n",
    "\n",
    "\n",
    "# xgboost\n",
    "from xgboost import XGBClassifier\n",
    "from xgboost import XGBRegressor\n",
    "from xgboost import plot_importance\n",
    "import xgboost as xgb\n",
    "\n",
    "# randomforest\n",
    "from sklearn.ensemble import RandomForestClassifier\n",
    "\n",
    "# MLP\n",
    "from sklearn.neural_network import MLPClassifier\n",
    "\n"
   ]
  },
  {
   "cell_type": "markdown",
   "metadata": {},
   "source": [
    "# Load Sihwa Data (2017.11.01~2019.06.30)"
   ]
  },
  {
   "cell_type": "code",
   "execution_count": 2,
   "metadata": {},
   "outputs": [],
   "source": [
    "df = pd.read_csv('D:/data/row_sihwa.csv',encoding='CP949')"
   ]
  },
  {
   "cell_type": "code",
   "execution_count": 3,
   "metadata": {},
   "outputs": [
    {
     "data": {
      "text/plain": [
       "site                 0\n",
       "date                 0\n",
       "so2                566\n",
       "co                 487\n",
       "o3                 448\n",
       "no2                439\n",
       "pm10               672\n",
       "pm25              8002\n",
       "weather            403\n",
       "wind_speed         351\n",
       "wind_direction     351\n",
       "rain_yn            384\n",
       "humid              333\n",
       "dtype: int64"
      ]
     },
     "execution_count": 3,
     "metadata": {},
     "output_type": "execute_result"
    }
   ],
   "source": [
    "# preprocessing\n",
    "df.drop('Unnamed: 0',axis=1,inplace=True)\n",
    "df = df[['site', 'date', 'so2', 'co', 'o3', 'no2', 'pm10', 'pm25', 'weather',\n",
    "       'wind_speed', 'wind_direction', 'rain_yn', 'humid']]\n",
    "df = df.iloc[:, [0,1,2,3,4,5,6,7,8,9,10,11,12]]\n",
    "df.loc[df['weather'] <= -30, 'weather' ] = np.float(\"nan\")\n",
    "df.isnull().sum()"
   ]
  },
  {
   "cell_type": "code",
   "execution_count": 4,
   "metadata": {},
   "outputs": [],
   "source": [
    "## 파생변수 ymd, md, month, season ,weekday 추가\n",
    "def date_split(df) :\n",
    "    df['date'] = pd.to_datetime(df['date'], format='%Y-%m-%d %H:%M')\n",
    "    df['ymd'] = [d.date() for d in df['date']]\n",
    "    df['month'] = [d.month for d in df['date']]\n",
    "    df['time'] = [d.time() for d in df['date']]\n",
    "    df['time'] = df['time'].apply(lambda x: x.strftime('%H'))\n",
    "    df['md'] = df['ymd'].apply(lambda x: x.strftime('%m-%d'))\n",
    "    df['weekday'] =df['date'].apply(lambda x: x.strftime('%A'))\n",
    "def season(x):\n",
    "    if '05-31'>= x>='03-01':\n",
    "        return('봄')\n",
    "    elif '11-30' >= x >= '09-01':\n",
    "        return('가을')\n",
    "    elif '08-31' >=x >= '06-01':\n",
    "        return('여름')\n",
    "    else: return('겨울')\n"
   ]
  },
  {
   "cell_type": "code",
   "execution_count": 17,
   "metadata": {},
   "outputs": [],
   "source": [
    "# modeling Definition\n",
    "def average_modeling(models) :\n",
    "    for i,m in enumerate(models):\n",
    "        print(i, m.__class__)\n",
    "        m.fit(x_train, y_train)\n",
    "\n",
    "    models = sorted(models, key=lambda m: mean_squared_error(y_test, m.predict(x_test)))\n",
    "\n",
    "\n",
    "    y_preds = np.array([m.predict(x_test) for m in models]).T\n",
    "    y_preds_mean = y_preds.mean(axis=1)\n",
    "    df_predict = pd.DataFrame({'Actual': y_test, 'Predicted': y_preds_mean})\n",
    "    print(\"RMSE : {:.3f}\".format((mean_squared_error(y_test, y_preds_mean))**0.5))\n",
    "\n",
    "    y_pred_log = np.array([m.predict(x_test) for m in models]).T.dot(\n",
    "    np.linspace(1.0, 0.0, len(models))/sum(np.linspace(1.0, 0.0, len(models))))\n",
    "    df_predict = pd.DataFrame({'Actual': y_test, 'Predicted': y_pred_log})\n",
    "    print(\"RMSE : {:.3f}\".format((mean_squared_error(y_test, y_pred_log))**0.5))"
   ]
  },
  {
   "cell_type": "code",
   "execution_count": 6,
   "metadata": {},
   "outputs": [],
   "source": [
    "date_split(df)\n",
    "df = df.dropna()\n",
    "df['season'] = df['md'].apply(season)\n",
    "df = df[df['site']=='시화산단']\n",
    "# df['PM_categorical'] = df['pm25'].apply(categorical_PM)"
   ]
  },
  {
   "cell_type": "code",
   "execution_count": 7,
   "metadata": {
    "scrolled": true
   },
   "outputs": [],
   "source": [
    "# backup \n",
    "test= df.copy()\n",
    "test2 = df.copy()\n",
    "#data drop\n",
    "df.drop(['date','site','md','ymd'],axis=1,inplace=True)\n",
    "df = df.reset_index(drop=True)"
   ]
  },
  {
   "cell_type": "markdown",
   "metadata": {},
   "source": [
    "## time, weekday 변수 추가"
   ]
  },
  {
   "cell_type": "code",
   "execution_count": 8,
   "metadata": {},
   "outputs": [],
   "source": [
    "#weekday 포함\n",
    "data = df.copy()\n",
    "random.seed(100)\n",
    "\n",
    "## x, y setting\n",
    "X = data.drop([\"pm25\",'pm10','time'], axis=1)\n",
    "Y = data[\"pm25\"]\n",
    "\n",
    "# one-hot encoding\n",
    "# object 변수만 해당\n",
    "for i in [\"season\",\"weekday\"]:\n",
    "    X[i] = pd.get_dummies(X[i])\n",
    "# trian / test split 0.8/ 0.2\n",
    "x_train, x_test, y_train, y_test = train_test_split(X, Y, test_size=0.2, random_state=0)"
   ]
  },
  {
   "cell_type": "code",
   "execution_count": 9,
   "metadata": {},
   "outputs": [
    {
     "name": "stdout",
     "output_type": "stream",
     "text": [
      "RMSE :  12.647916107667129\n"
     ]
    }
   ],
   "source": [
    "# Xgboost\n",
    "model = XGBRegressor(objective='reg:squarederror',random_state =5)\n",
    "\n",
    "# model.fit(x_train, y_train, sample_weight = class_weights)\n",
    "model.fit(x_train, y_train)\n",
    "\n",
    "## Prediction\n",
    "y_pred = model.predict(x_test)\n",
    "\n",
    "# each data predict\n",
    "df_predict = pd.DataFrame({'Actual': y_test, 'Predicted': y_pred})\n",
    "## 확인\n",
    "print(\"RMSE : \",(mean_squared_error(y_test, y_pred))**0.5)\n",
    "# df_predict.to_csv('D:/data/xgb_predict.csv',encoding='CP949')"
   ]
  },
  {
   "cell_type": "code",
   "execution_count": 10,
   "metadata": {},
   "outputs": [],
   "source": [
    "# time weekday all add\n",
    "data = df.copy()\n",
    "random.seed(100)\n",
    "\n",
    "## x, y setting\n",
    "X = data.drop([\"pm25\",'pm10'], axis=1)\n",
    "Y = data[\"pm25\"]\n",
    "\n",
    "# one-hot encoding\n",
    "# object 변수만 해당\n",
    "for i in [\"season\",\"weekday\",'time']:\n",
    "    X[i] = pd.get_dummies(X[i])\n",
    "# trian / test split 0.8/ 0.2\n",
    "x_train, x_test, y_train, y_test = train_test_split(X, Y, test_size=0.2, random_state=0)"
   ]
  },
  {
   "cell_type": "code",
   "execution_count": 11,
   "metadata": {},
   "outputs": [
    {
     "name": "stdout",
     "output_type": "stream",
     "text": [
      "RMSE :  12.628342874724686\n"
     ]
    }
   ],
   "source": [
    "# Xgboost\n",
    "model = XGBRegressor(objective='reg:squarederror',random_state =5)\n",
    "\n",
    "# model.fit(x_train, y_train, sample_weight = class_weights)\n",
    "model.fit(x_train, y_train)\n",
    "\n",
    "## Prediction\n",
    "y_pred = model.predict(x_test)\n",
    "\n",
    "# each data predict\n",
    "df_predict = pd.DataFrame({'Actual': y_test, 'Predicted': y_pred})\n",
    "## 확인\n",
    "print(\"RMSE : \",(mean_squared_error(y_test, y_pred))**0.5)\n",
    "# df_predict.to_csv('D:/data/xgb_predict.csv',encoding='CP949')"
   ]
  },
  {
   "cell_type": "code",
   "execution_count": 12,
   "metadata": {},
   "outputs": [],
   "source": [
    "#time 포함\n",
    "data = df.copy()\n",
    "random.seed(100)\n",
    "\n",
    "## x, y setting\n",
    "X = data.drop([\"pm25\",'pm10','weekday'], axis=1)\n",
    "Y = data[\"pm25\"]\n",
    "\n",
    "# one-hot encoding\n",
    "# object 변수만 해당\n",
    "for i in [\"season\",\"time\"]:\n",
    "    X[i] = pd.get_dummies(X[i])\n",
    "# trian / test split 0.8/ 0.2\n",
    "x_train, x_test, y_train, y_test = train_test_split(X, Y, test_size=0.2, random_state=0)"
   ]
  },
  {
   "cell_type": "code",
   "execution_count": 13,
   "metadata": {},
   "outputs": [
    {
     "name": "stdout",
     "output_type": "stream",
     "text": [
      "RMSE :  12.593761985979421\n"
     ]
    }
   ],
   "source": [
    "# Xgboost\n",
    "model = XGBRegressor(objective='reg:squarederror',random_state =5)\n",
    "\n",
    "# model.fit(x_train, y_train, sample_weight = class_weights)\n",
    "model.fit(x_train, y_train)\n",
    "\n",
    "## Prediction\n",
    "y_pred = model.predict(x_test)\n",
    "\n",
    "# each data predict\n",
    "df_predict = pd.DataFrame({'Actual': y_test, 'Predicted': y_pred})\n",
    "## 확인\n",
    "print(\"RMSE : \",(mean_squared_error(y_test, y_pred))**0.5)\n",
    "# df_predict.to_csv('D:/data/xgb_predict.csv',encoding='CP949')"
   ]
  },
  {
   "cell_type": "code",
   "execution_count": 14,
   "metadata": {
    "scrolled": false
   },
   "outputs": [
    {
     "data": {
      "text/plain": [
       "Text(0, 0.5, '실제값')"
      ]
     },
     "execution_count": 14,
     "metadata": {},
     "output_type": "execute_result"
    },
    {
     "data": {
      "image/png": "[encoded data removed]",
      "text/plain": [
       "<Figure size 1656x864 with 1 Axes>"
      ]
     },
     "metadata": {
      "needs_background": "light"
     },
     "output_type": "display_data"
    }
   ],
   "source": [
    "fit = np.polyfit(df_predict['Predicted'], df_predict['Actual'],1)\n",
    "fit_fn = np.poly1d(fit)\n",
    "plt.figure(figsize=(23,12))\n",
    "plt.plot(df_predict['Predicted'], df_predict['Actual'],'o')\n",
    "plt.plot(df_predict['Predicted'], fit_fn(df_predict['Predicted']), 'r')\n",
    "plt.tick_params(labelsize=30)\n",
    "plt.xlabel('예측값',size=30)\n",
    "plt.ylabel('실제값',size=36)"
   ]
  },
  {
   "cell_type": "code",
   "execution_count": 15,
   "metadata": {},
   "outputs": [
    {
     "name": "stdout",
     "output_type": "stream",
     "text": [
      "max_depth :  1 \n",
      " 테스트 RMSE : 15.755\n",
      "max_depth :  2 \n",
      " 테스트 RMSE : 13.617\n",
      "max_depth :  4 \n",
      " 테스트 RMSE : 12.109\n",
      "max_depth :  6 \n",
      " 테스트 RMSE : 11.683\n",
      "max_depth :  8 \n",
      " 테스트 RMSE : 11.424\n",
      "max_depth :  10 \n",
      " 테스트 RMSE : 11.671\n",
      "max_depth :  12 \n",
      " 테스트 RMSE : 11.816\n",
      "max_depth :  15 \n",
      " 테스트 RMSE : 12.070\n"
     ]
    }
   ],
   "source": [
    "max_depth = [1, 2, 4, 6, 8, 10, 12, 15]\n",
    "for depth in max_depth:\n",
    "    model = XGBRegressor(max_depth= depth, n_jobs=-1, objective='reg:squarederror',random_state =5)\n",
    "    model.fit(x_train, y_train)\n",
    "    y_pred = model.predict(x_test)\n",
    "    print(\"max_depth : \", depth,'\\n' ,\"테스트 RMSE : {:.3f}\".format((mean_squared_error(y_test, y_pred))**0.5))"
   ]
  },
  {
   "cell_type": "code",
   "execution_count": 16,
   "metadata": {},
   "outputs": [
    {
     "name": "stdout",
     "output_type": "stream",
     "text": [
      "n_estimators :  1 \n",
      "RMSE :  38.58819038660614\n",
      "n_estimators :  2 \n",
      "RMSE :  35.50199744860875\n",
      "n_estimators :  4 \n",
      "RMSE :  30.381343289682526\n",
      "n_estimators :  8 \n",
      "RMSE :  23.386227372216208\n",
      "n_estimators :  16 \n",
      "RMSE :  17.02702416195843\n",
      "n_estimators :  32 \n",
      "RMSE :  14.087336227029331\n",
      "n_estimators :  64 \n",
      "RMSE :  12.989108794362537\n",
      "n_estimators :  100 \n",
      "RMSE :  12.593761985979421\n",
      "n_estimators :  200 \n",
      "RMSE :  12.163362518027075\n",
      "n_estimators :  500 \n",
      "RMSE :  11.795105052482295\n",
      "n_estimators :  1000 \n",
      "RMSE :  11.715242538389841\n"
     ]
    }
   ],
   "source": [
    "n_estimators = [1, 2, 4, 8, 16, 32, 64, 100, 200,500,1000]\n",
    "for estimator in n_estimators:\n",
    "    model = XGBRegressor(n_estimators=estimator, n_jobs=-1, objective='reg:squarederror',random_state =5)\n",
    "    model.fit(x_train, y_train)\n",
    "    y_pred = model.predict(x_test)\n",
    "    print(\"n_estimators : \", estimator,'\\n' \"RMSE : \", (mean_squared_error(y_test, y_pred))**0.5)"
   ]
  },
  {
   "cell_type": "code",
   "execution_count": 17,
   "metadata": {},
   "outputs": [
    {
     "name": "stdout",
     "output_type": "stream",
     "text": [
      "GridSearchCV 최적의 파라미터 :  {'max_depth': 8, 'min_child_weight': 1.0555555555555556, 'subsample': 0.6}\n",
      "GridSearchCV 최고 정확도 :  0.7819619618628754\n",
      "RMSE : 11.7152\n"
     ]
    }
   ],
   "source": [
    "# 저녁에 돌려보기 (11월 19일)\n",
    "# param = {'max_depth': [4,6,8,10,12,15],\n",
    "#          'subsample': [0.6, 0.8, 1.0],\n",
    "#          'min_child_weight' : list(np.linspace(1, 1.5, 10))\n",
    "# }\n",
    "# # Xgboost\n",
    "# model = XGBRegressor(objective='reg:squarederror', random_state=5)\n",
    "\n",
    "# xgb_model = GridSearchCV(model, param_grid = param, cv = 3)\n",
    "# xgb_model.fit(x_train, y_train)\n",
    "\n",
    "# print(\"GridSearchCV 최적의 파라미터 : \", xgb_model.best_params_)\n",
    "# print(\"GridSearchCV 최고 정확도 : \", xgb_model.best_score_)\n",
    "\n",
    "# best_model = xgb_model.best_estimator_\n",
    "\n",
    "# pred = best_model.predict(x_test)\n",
    "# print(\"RMSE : {0:.4f}\".format((mean_squared_error(y_test, y_pred))**0.5))"
   ]
  },
  {
   "cell_type": "code",
   "execution_count": 18,
   "metadata": {
    "scrolled": true
   },
   "outputs": [
    {
     "name": "stdout",
     "output_type": "stream",
     "text": [
      "GridSearchCV 최적의 파라미터 :  {'max_depth': 6, 'min_child_weight': 1.1111111111111112, 'n_estimator': 50, 'subsample': 0.75}\n",
      "GridSearchCV 최고 정확도 :  0.7820802550920694\n",
      "RMSE : 11.6398\n"
     ]
    }
   ],
   "source": [
    "# xgb gridsearch\n",
    "# param = {'max_depth': [6, 8, 10, 12, 15],\n",
    "#          'n_estimator' : [50, 100, 200, 500, 1000, 2000],\n",
    "#          'min_child_weight' : list(np.linspace(1, 2, 10)),\n",
    "#          'subsample' : list(np.linspace(0, 1, 5))\n",
    "# }\n",
    "# # Xgboost\n",
    "# model = XGBRegressor(objective='reg:squarederror',random_state =5)\n",
    "\n",
    "# xgb_model = GridSearchCV(model, param_grid = param, cv = 3)\n",
    "# xgb_model.fit(x_train, y_train)\n",
    "\n",
    "# print(\"GridSearchCV 최적의 파라미터 : \", xgb_model.best_params_)\n",
    "# print(\"GridSearchCV 최고 정확도 : \", xgb_model.best_score_)\n",
    "\n",
    "# best_model = xgb_model.best_estimator_\n",
    "\n",
    "# y_pred = best_model.predict(x_test)\n",
    "# print(\"RMSE : {0:.4f}\".format((mean_squared_error(y_test, y_pred))**0.5)) "
   ]
  },
  {
   "cell_type": "code",
   "execution_count": 19,
   "metadata": {},
   "outputs": [
    {
     "name": "stdout",
     "output_type": "stream",
     "text": [
      "GridSearchCV 최적의 파라미터 :  {'alpha': 0.0001}\n",
      "GridSearchCV 최고 정확도 :  0.5833661202074596\n",
      "RMSE : 16.5027\n"
     ]
    }
   ],
   "source": [
    "# lasso gridsearch\n",
    "lasso_param = {'alpha' : list(np.linspace(0.0001, 0.9, 50))}\n",
    "# lasso\n",
    "model = Lasso()\n",
    "\n",
    "lasso_model = GridSearchCV(model, param_grid = lasso_param, cv = 5)\n",
    "lasso_model.fit(x_train, y_train)\n",
    "\n",
    "print(\"GridSearchCV 최적의 파라미터 : \", lasso_model.best_params_)\n",
    "print(\"GridSearchCV 최고 정확도 : \", lasso_model.best_score_)\n",
    "\n",
    "best_model = lasso_model.best_estimator_\n",
    "\n",
    "y_pred = best_model.predict(x_test)\n",
    "print(\"RMSE : {0:.4f}\".format((mean_squared_error(y_test, y_pred))**0.5))"
   ]
  },
  {
   "cell_type": "code",
   "execution_count": 20,
   "metadata": {},
   "outputs": [
    {
     "name": "stdout",
     "output_type": "stream",
     "text": [
      "GridSearchCV 최적의 파라미터 :  {'alpha': 0.0001}\n",
      "GridSearchCV 최고 정확도 :  0.5833664568947498\n",
      "RMSE : 16.5027\n"
     ]
    }
   ],
   "source": [
    "# Ridge gridsearch\n",
    "ridge_param = {'alpha' : list(np.linspace(0.0001, 1, 100))}\n",
    "# lasso\n",
    "model = Ridge()\n",
    "\n",
    "ridge_model = GridSearchCV(model, param_grid = lasso_param, cv = 5)\n",
    "ridge_model.fit(x_train, y_train)\n",
    "\n",
    "print(\"GridSearchCV 최적의 파라미터 : \", ridge_model.best_params_)\n",
    "print(\"GridSearchCV 최고 정확도 : \", ridge_model.best_score_)\n",
    "\n",
    "best_model = lasso_model.best_estimator_\n",
    "\n",
    "y_pred = best_model.predict(x_test)\n",
    "print(\"RMSE : {0:.4f}\".format((mean_squared_error(y_test, y_pred))**0.5))"
   ]
  },
  {
   "cell_type": "code",
   "execution_count": 42,
   "metadata": {},
   "outputs": [
    {
     "name": "stdout",
     "output_type": "stream",
     "text": [
      "RandomizedSearchCV 최적의 파라미터 :  {'subsample': 0.8333333333333333, 'n_estimator': 340, 'min_child_weight': 2.928571428571429, 'max_depth': 9}\n",
      "RandomizedSearchCV 최고 RMSE :  0.7825921448138624\n",
      "RMSE : 11.3229\n"
     ]
    }
   ],
   "source": [
    "# Random Search CV (xgb)\n",
    "param = {'max_depth': list(range(4, 25)),\n",
    "         'n_estimator' : list(range(10, 2000, 30)),\n",
    "         'min_child_weight' : list(np.linspace(1, 10, 15)),\n",
    "         'subsample' : list(np.linspace(0, 1, 7))\n",
    "}\n",
    "# Xgboost\n",
    "model = XGBRegressor(objective='reg:squarederror',random_state =5)\n",
    "\n",
    "xgb_model = RandomizedSearchCV(estimator= model, param_distributions = param, cv = 3)\n",
    "xgb_model.fit(x_train, y_train)\n",
    "\n",
    "print(\"RandomizedSearchCV 최적의 파라미터 : \", xgb_model.best_params_)\n",
    "print(\"RandomizedSearchCV 최고 정확도 : \", xgb_model.best_score_)\n",
    "\n",
    "best_model = xgb_model.best_estimator_\n",
    "\n",
    "y_pred = best_model.predict(x_test)\n",
    "print(\"RMSE : {0:.4f}\".format((mean_squared_error(y_test, y_pred))**0.5)) "
   ]
  },
  {
   "cell_type": "code",
   "execution_count": 45,
   "metadata": {},
   "outputs": [
    {
     "name": "stdout",
     "output_type": "stream",
     "text": [
      "RandomizedSearchCV 최적의 파라미터 :  {'subsample': 0.5, 'n_estimator': 940, 'min_child_weight': 5.5, 'max_depth': 10, 'learning_rate': 0.06896551724137931}\n",
      "RandomizedSearchCV 최고 정확도 :  0.7820066586126643\n",
      "RMSE : 11.2622\n"
     ]
    }
   ],
   "source": [
    "# Random Search CV (xgb)\n",
    "param = {'max_depth': list(range(4, 25)),\n",
    "         'learning_rate' : list(np.linspace(0, 1, 30)),\n",
    "         'n_estimator' : list(range(10, 2000, 30)),\n",
    "         'min_child_weight' : list(np.linspace(1, 10, 15)),\n",
    "         'subsample' : list(np.linspace(0, 1, 7))\n",
    "}\n",
    "# Xgboost\n",
    "model = XGBRegressor(objective='reg:squarederror',random_state =5)\n",
    "\n",
    "xgb_model = RandomizedSearchCV(estimator= model, param_distributions = param, cv = 3)\n",
    "xgb_model.fit(x_train, y_train)\n",
    "\n",
    "print(\"RandomizedSearchCV 최적의 파라미터 : \", xgb_model.best_params_)\n",
    "print(\"RandomizedSearchCV 최고 정확도 : \", xgb_model.best_score_)\n",
    "\n",
    "best_model = xgb_model.best_estimator_\n",
    "\n",
    "y_pred = best_model.predict(x_test)\n",
    "print(\"RMSE : {0:.4f}\".format((mean_squared_error(y_test, y_pred))**0.5)) "
   ]
  },
  {
   "cell_type": "code",
   "execution_count": 48,
   "metadata": {},
   "outputs": [
    {
     "name": "stdout",
     "output_type": "stream",
     "text": [
      "RandomizedSearchCV 최적의 파라미터 :  {'num_leaves': 69, 'n_estimator': 910, 'max_depth': 9, 'learning_rate': 0.06896551724137931, 'bagging_fraction': 0.8578947368421053}\n",
      "RandomizedSearchCV 최고 정확도 :  0.7786388242286454\n",
      "RMSE : 11.5258\n"
     ]
    }
   ],
   "source": [
    "# Random Search CV (lgbm)\n",
    "param = {'max_depth': list(range(4, 25)),\n",
    "         'learning_rate' : list(np.linspace(0, 1, 30)),\n",
    "         'n_estimator' : list(range(10, 2000, 30)),\n",
    "         'num_leaves' : list(range(5, 100)),\n",
    "         'bagging_fraction' : list(np.linspace(0.1,1,20))\n",
    "}\n",
    "# LightGBM\n",
    "model = LGBMRegressor(random_state =5)\n",
    "lgbm_model = RandomizedSearchCV(estimator= model, param_distributions = param, cv = 3)\n",
    "lgbm_model.fit(x_train, y_train)\n",
    "\n",
    "print(\"RandomizedSearchCV 최적의 파라미터 : \", lgbm_model.best_params_)\n",
    "print(\"RandomizedSearchCV 최고 정확도 : \", lgbm_model.best_score_)\n",
    "\n",
    "best_model = lgbm_model.best_estimator_\n",
    "\n",
    "y_pred = best_model.predict(x_test)\n",
    "print(\"RMSE : {0:.4f}\".format((mean_squared_error(y_test, y_pred))**0.5)) "
   ]
  },
  {
   "cell_type": "code",
   "execution_count": null,
   "metadata": {},
   "outputs": [],
   "source": [
    "param_list = {\"n_estimators\": list(range(10, 100, 10)),\n",
    "              \"max_depth\": [4, 8, 12, 16],\n",
    "              \"max_features\": [3, 5, 7, 9],\n",
    "              \"min_samples_split\": [3, 5, 7, 9]}\n",
    "\n",
    "rf_model = RandomForestClassifier(random_state = 777)\n",
    "\n",
    "rf_random_search = RandomizedSearchCV(\n",
    "        estimator=rf_model,\n",
    "        param_distributions = param_list,\n",
    "        n_iter = 10,\n",
    "        cv = 5,\n",
    "        scoring = make_scorer(accuracy_score))\n",
    "\n",
    "rf_random_search.fit(X_train, y_train)"
   ]
  },
  {
   "cell_type": "markdown",
   "metadata": {},
   "source": [
    "# Average Ensemble"
   ]
  },
  {
   "cell_type": "markdown",
   "metadata": {},
   "source": [
    "### Row average Ensemble"
   ]
  },
  {
   "cell_type": "code",
   "execution_count": null,
   "metadata": {},
   "outputs": [],
   "source": [
    "# compare row model & self tunning model\n",
    "data = df.copy()\n",
    "random.seed(100)\n",
    "## x, y setting\n",
    "X = data.drop([\"pm25\",'pm10','weekday'], axis=1)\n",
    "Y = data[\"pm25\"]\n",
    "\n",
    "# one-hot encoding\n",
    "# object 변수만 해당\n",
    "for i in [\"season\", \"time\"]:\n",
    "    X[i] = pd.get_dummies(X[i])\n",
    "# trian / test split 0.8/ 0.2\n",
    "x_train, x_test, y_train, y_test = train_test_split(X, Y, test_size=0.2, random_state=0)"
   ]
  },
  {
   "cell_type": "code",
   "execution_count": 21,
   "metadata": {},
   "outputs": [
    {
     "name": "stdout",
     "output_type": "stream",
     "text": [
      "RMSE :  12.558366159897577\n"
     ]
    }
   ],
   "source": [
    "model = RandomForestRegressor(random_state =5)\n",
    "model.fit(x_train, y_train)\n",
    "y_pred = model.predict(x_test)\n",
    "# each data predict\n",
    "df_predict = pd.DataFrame({'Actual': y_test, 'Predicted': y_pred})\n",
    "## 확인\n",
    "print(\"RMSE : \", (mean_squared_error(y_test, y_pred))**0.5)"
   ]
  },
  {
   "cell_type": "code",
   "execution_count": 25,
   "metadata": {},
   "outputs": [
    {
     "name": "stdout",
     "output_type": "stream",
     "text": [
      "0 <class 'sklearn.ensemble.forest.RandomForestRegressor'>\n",
      "RMSE : 12.558\n",
      "RMSE : 12.558\n"
     ]
    }
   ],
   "source": [
    "models = [RandomForestRegressor(random_state =5) ]\n",
    "\n",
    "average_modeling(models)\n"
   ]
  },
  {
   "cell_type": "code",
   "execution_count": 23,
   "metadata": {},
   "outputs": [
    {
     "data": {
      "text/plain": [
       "array([56.8, 75. , 55.7, ..., 33.6, 17.7, 45.2])"
      ]
     },
     "execution_count": 23,
     "metadata": {},
     "output_type": "execute_result"
    }
   ],
   "source": [
    "y_preds_mean"
   ]
  },
  {
   "cell_type": "code",
   "execution_count": 24,
   "metadata": {},
   "outputs": [
    {
     "name": "stdout",
     "output_type": "stream",
     "text": [
      "0 <class 'sklearn.ensemble.forest.RandomForestRegressor'>\n",
      "1 <class 'sklearn.linear_model.coordinate_descent.Lasso'>\n",
      "2 <class 'sklearn.kernel_ridge.KernelRidge'>\n",
      "3 <class 'sklearn.ensemble.gradient_boosting.GradientBoostingRegressor'>\n",
      "4 <class 'xgboost.sklearn.XGBRegressor'>\n",
      "RMSE : 13.457\n",
      "RMSE : 12.294\n"
     ]
    }
   ],
   "source": [
    "models = [RandomForestRegressor(random_state =5) ]\n",
    "models +=[Lasso(random_state =5)]\n",
    "models +=[KernelRidge()]\n",
    "models +=[GradientBoostingRegressor(random_state =5)]\n",
    "models +=[XGBRegressor(objective='reg:squarederror',random_state =5)]\n",
    "\n",
    "average_modeling(models)"
   ]
  },
  {
   "cell_type": "code",
   "execution_count": 23,
   "metadata": {},
   "outputs": [
    {
     "name": "stdout",
     "output_type": "stream",
     "text": [
      "0 <class 'sklearn.ensemble.forest.RandomForestRegressor'>\n",
      "1 <class 'sklearn.linear_model.coordinate_descent.Lasso'>\n",
      "2 <class 'sklearn.kernel_ridge.KernelRidge'>\n",
      "3 <class 'sklearn.svm.classes.SVR'>\n",
      "4 <class 'sklearn.ensemble.gradient_boosting.GradientBoostingRegressor'>\n",
      "5 <class 'xgboost.sklearn.XGBRegressor'>\n",
      "RMSE : 14.420\n",
      "RMSE : 12.574\n"
     ]
    }
   ],
   "source": [
    "models = [RandomForestRegressor(random_state =5) ]\n",
    "models +=[Lasso(random_state =5)]\n",
    "models +=[KernelRidge()]\n",
    "models += [SVR(kernel='rbf', C=1.0, epsilon=0.05)]\n",
    "models +=[GradientBoostingRegressor(random_state =5)]\n",
    "models +=[XGBRegressor(objective='reg:squarederror',random_state =5)]\n",
    "\n",
    "average_modeling(models)"
   ]
  },
  {
   "cell_type": "code",
   "execution_count": 22,
   "metadata": {},
   "outputs": [
    {
     "name": "stdout",
     "output_type": "stream",
     "text": [
      "0 <class 'sklearn.ensemble.forest.RandomForestRegressor'>\n",
      "1 <class 'sklearn.ensemble.gradient_boosting.GradientBoostingRegressor'>\n",
      "2 <class 'xgboost.sklearn.XGBRegressor'>\n",
      "RMSE : 12.176\n",
      "RMSE : 12.162\n"
     ]
    }
   ],
   "source": [
    "#del lasso kernel ridge\n",
    "\n",
    "models = [RandomForestRegressor(random_state =5) ]\n",
    "models +=[GradientBoostingRegressor(random_state =5)]\n",
    "models +=[XGBRegressor(objective='reg:squarederror',random_state =5)]\n",
    "\n",
    "average_modeling(models)"
   ]
  },
  {
   "cell_type": "code",
   "execution_count": 21,
   "metadata": {},
   "outputs": [
    {
     "name": "stdout",
     "output_type": "stream",
     "text": [
      "0 <class 'sklearn.ensemble.forest.RandomForestRegressor'>\n",
      "1 <class 'sklearn.linear_model.ridge.Ridge'>\n",
      "2 <class 'sklearn.linear_model.coordinate_descent.ElasticNet'>\n",
      "3 <class 'sklearn.ensemble.gradient_boosting.GradientBoostingRegressor'>\n",
      "4 <class 'xgboost.sklearn.XGBRegressor'>\n",
      "RMSE : 13.648\n",
      "RMSE : 12.267\n"
     ]
    }
   ],
   "source": [
    "# ridge elasticnet add\n",
    "models = []\n",
    "models += [RandomForestRegressor(random_state =5)]\n",
    "models += [Ridge(random_state=5)]\n",
    "models +=[ElasticNet(random_state =5)]\n",
    "models +=[GradientBoostingRegressor(random_state =5)]\n",
    "models +=[XGBRegressor(objective='reg:squarederror',random_state =5)]\n",
    "\n",
    "average_modeling(models)"
   ]
  },
  {
   "cell_type": "code",
   "execution_count": 30,
   "metadata": {},
   "outputs": [
    {
     "name": "stdout",
     "output_type": "stream",
     "text": [
      "0 <class 'sklearn.ensemble.forest.RandomForestRegressor'>\n",
      "1 <class 'sklearn.ensemble.forest.RandomForestRegressor'>\n",
      "2 <class 'sklearn.ensemble.forest.RandomForestRegressor'>\n",
      "3 <class 'sklearn.ensemble.forest.RandomForestRegressor'>\n",
      "4 <class 'sklearn.ensemble.gradient_boosting.GradientBoostingRegressor'>\n",
      "5 <class 'xgboost.sklearn.XGBRegressor'>\n",
      "6 <class 'xgboost.sklearn.XGBRegressor'>\n",
      "7 <class 'xgboost.sklearn.XGBRegressor'>\n",
      "8 <class 'xgboost.sklearn.XGBRegressor'>\n",
      "RMSE : 11.857\n",
      "RMSE : 11.651\n"
     ]
    }
   ],
   "source": [
    "# hyper parameter tunning\n",
    "models = [RandomForestRegressor(n_estimators=n, random_state =5) for n in [ 30, 50, 100, 200]]\n",
    "models+=[GradientBoostingRegressor(random_state =5)]\n",
    "models +=[XGBRegressor(n_estimators=n, objective='reg:squarederror',random_state =5) for n in [50, 100, 200, 500]]\n",
    "\n",
    "average_modeling(models)"
   ]
  },
  {
   "cell_type": "code",
   "execution_count": 20,
   "metadata": {},
   "outputs": [
    {
     "name": "stdout",
     "output_type": "stream",
     "text": [
      "0 <class 'sklearn.ensemble.forest.RandomForestRegressor'>\n",
      "1 <class 'sklearn.ensemble.forest.RandomForestRegressor'>\n",
      "2 <class 'sklearn.ensemble.forest.RandomForestRegressor'>\n",
      "3 <class 'sklearn.ensemble.forest.RandomForestRegressor'>\n",
      "4 <class 'sklearn.ensemble.gradient_boosting.GradientBoostingRegressor'>\n",
      "5 <class 'xgboost.sklearn.XGBRegressor'>\n",
      "6 <class 'xgboost.sklearn.XGBRegressor'>\n",
      "7 <class 'xgboost.sklearn.XGBRegressor'>\n",
      "8 <class 'xgboost.sklearn.XGBRegressor'>\n",
      "9 <class 'xgboost.sklearn.XGBRegressor'>\n",
      "10 <class 'xgboost.sklearn.XGBRegressor'>\n",
      "RMSE : 11.382\n",
      "RMSE : 11.342\n"
     ]
    }
   ],
   "source": [
    "# hyper parameter tunning\n",
    "models = [RandomForestRegressor(n_estimators=n, random_state =5) for n in [ 30, 50, 100, 200]]\n",
    "models+=[GradientBoostingRegressor(random_state =5)]\n",
    "models +=[XGBRegressor(max_depth= 8,\n",
    "                       objective='reg:squarederror',\n",
    "                       min_child_weight=1.111, n_estimator= n, subsample=0.6, random_state =5) for n in [30,50,100,200,500,1000]]\n",
    "\n",
    "average_modeling(models)"
   ]
  },
  {
   "cell_type": "code",
   "execution_count": 19,
   "metadata": {},
   "outputs": [
    {
     "name": "stdout",
     "output_type": "stream",
     "text": [
      "0 <class 'sklearn.ensemble.forest.RandomForestRegressor'>\n",
      "1 <class 'sklearn.ensemble.forest.RandomForestRegressor'>\n",
      "2 <class 'sklearn.ensemble.forest.RandomForestRegressor'>\n",
      "3 <class 'sklearn.ensemble.forest.RandomForestRegressor'>\n",
      "4 <class 'sklearn.ensemble.gradient_boosting.GradientBoostingRegressor'>\n",
      "5 <class 'sklearn.kernel_ridge.KernelRidge'>\n",
      "6 <class 'sklearn.kernel_ridge.KernelRidge'>\n",
      "7 <class 'xgboost.sklearn.XGBRegressor'>\n",
      "8 <class 'xgboost.sklearn.XGBRegressor'>\n",
      "9 <class 'xgboost.sklearn.XGBRegressor'>\n",
      "10 <class 'xgboost.sklearn.XGBRegressor'>\n",
      "11 <class 'xgboost.sklearn.XGBRegressor'>\n",
      "12 <class 'xgboost.sklearn.XGBRegressor'>\n",
      "RMSE : 11.312\n",
      "RMSE : 11.331\n"
     ]
    }
   ],
   "source": [
    "# hyper parameter tunning\n",
    "models = [RandomForestRegressor(n_estimators=n, random_state =5) for n in [ 30, 50, 100, 200]]\n",
    "models+=[GradientBoostingRegressor(random_state =5)]\n",
    "models+=[KernelRidge(alpha=0.6, kernel='polynomial', degree=i, coef0=2.5) for i in range(3,5)]\n",
    "models +=[XGBRegressor(max_depth= 8,\n",
    "                       objective='reg:squarederror',\n",
    "                       min_child_weight=1.111, n_estimator= n, subsample=0.6, random_state =5) for n in [30,50,100,200,500,1000]]\n",
    "\n",
    "average_modeling(models)"
   ]
  },
  {
   "cell_type": "code",
   "execution_count": 18,
   "metadata": {},
   "outputs": [
    {
     "name": "stdout",
     "output_type": "stream",
     "text": [
      "0 <class 'sklearn.ensemble.forest.RandomForestRegressor'>\n",
      "1 <class 'sklearn.ensemble.forest.RandomForestRegressor'>\n",
      "2 <class 'sklearn.ensemble.forest.RandomForestRegressor'>\n",
      "3 <class 'sklearn.ensemble.forest.RandomForestRegressor'>\n",
      "4 <class 'sklearn.ensemble.gradient_boosting.GradientBoostingRegressor'>\n",
      "5 <class 'sklearn.linear_model.least_angle.LassoLarsCV'>\n",
      "6 <class 'sklearn.kernel_ridge.KernelRidge'>\n",
      "7 <class 'sklearn.kernel_ridge.KernelRidge'>\n",
      "8 <class 'xgboost.sklearn.XGBRegressor'>\n",
      "9 <class 'xgboost.sklearn.XGBRegressor'>\n",
      "10 <class 'xgboost.sklearn.XGBRegressor'>\n",
      "11 <class 'xgboost.sklearn.XGBRegressor'>\n",
      "12 <class 'xgboost.sklearn.XGBRegressor'>\n",
      "13 <class 'xgboost.sklearn.XGBRegressor'>\n",
      "RMSE : 11.400\n",
      "RMSE : 11.291\n"
     ]
    }
   ],
   "source": [
    "# hyper parameter tunning\n",
    "models = [RandomForestRegressor(n_estimators=n, random_state =5) for n in [ 30, 50, 100, 200]]\n",
    "models+=[GradientBoostingRegressor(random_state =5)]\n",
    "models+=[LassoLarsCV()]\n",
    "models+=[KernelRidge(alpha=0.6, kernel='polynomial', degree=i, coef0=2.5) for i in range(3,5)]\n",
    "models +=[XGBRegressor(max_depth= 8,\n",
    "                       objective='reg:squarederror',\n",
    "                       min_child_weight=1.111, n_estimator= n, subsample=0.75, random_state =5) for n in [30,50,100,200,500,1000]]\n",
    "\n",
    "average_modeling(models)"
   ]
  },
  {
   "cell_type": "code",
   "execution_count": 26,
   "metadata": {},
   "outputs": [
    {
     "name": "stdout",
     "output_type": "stream",
     "text": [
      "0 <class 'sklearn.ensemble.forest.RandomForestRegressor'>\n",
      "1 <class 'sklearn.ensemble.forest.RandomForestRegressor'>\n",
      "2 <class 'sklearn.ensemble.forest.RandomForestRegressor'>\n",
      "3 <class 'sklearn.ensemble.forest.RandomForestRegressor'>\n",
      "4 <class 'sklearn.linear_model.ridge.Ridge'>\n",
      "5 <class 'sklearn.linear_model.coordinate_descent.Lasso'>\n",
      "6 <class 'sklearn.linear_model.coordinate_descent.ElasticNet'>\n",
      "7 <class 'sklearn.linear_model.coordinate_descent.ElasticNet'>\n",
      "8 <class 'sklearn.linear_model.coordinate_descent.ElasticNet'>\n",
      "9 <class 'sklearn.kernel_ridge.KernelRidge'>\n",
      "10 <class 'sklearn.kernel_ridge.KernelRidge'>\n",
      "11 <class 'sklearn.kernel_ridge.KernelRidge'>\n",
      "12 <class 'sklearn.ensemble.gradient_boosting.GradientBoostingRegressor'>\n",
      "13 <class 'xgboost.sklearn.XGBRegressor'>\n",
      "RMSE : 12.877\n",
      "RMSE : 11.751\n"
     ]
    }
   ],
   "source": [
    "# model tunning add\n",
    "models = [RandomForestRegressor(n_estimators=n,random_state =5) for n in [30, 50, 100, 200]]\n",
    "models += [Ridge(alpha=0.05,random_state =5)]\n",
    "models +=[Lasso(alpha =0.3,random_state =5)]\n",
    "models +=[ElasticNet(alpha=n ,random_state =5) for n in [0.005,0.05,0.03]]\n",
    "models +=[KernelRidge(alpha=0.6, kernel='polynomial', degree=i, coef0=2.5) for i in range(2,5)]\n",
    "models +=[GradientBoostingRegressor()]\n",
    "models +=[XGBRegressor(objective='reg:squarederror', max_depth=10, min_child_weight=1.388, subsample=0.6,random_state =5)]\n",
    "\n",
    "average_modeling(models)"
   ]
  },
  {
   "cell_type": "code",
   "execution_count": 27,
   "metadata": {},
   "outputs": [
    {
     "name": "stdout",
     "output_type": "stream",
     "text": [
      "0 <class 'sklearn.ensemble.forest.RandomForestRegressor'>\n",
      "1 <class 'sklearn.ensemble.forest.RandomForestRegressor'>\n",
      "2 <class 'sklearn.ensemble.forest.RandomForestRegressor'>\n",
      "3 <class 'sklearn.ensemble.forest.RandomForestRegressor'>\n",
      "4 <class 'sklearn.linear_model.least_angle.LassoLarsCV'>\n",
      "5 <class 'sklearn.kernel_ridge.KernelRidge'>\n",
      "6 <class 'sklearn.kernel_ridge.KernelRidge'>\n",
      "7 <class 'sklearn.kernel_ridge.KernelRidge'>\n",
      "8 <class 'sklearn.ensemble.gradient_boosting.GradientBoostingRegressor'>\n",
      "9 <class 'sklearn.ensemble.gradient_boosting.GradientBoostingRegressor'>\n",
      "10 <class 'xgboost.sklearn.XGBRegressor'>\n",
      "[10:40:45] WARNING: src/objective/regression_obj.cu:152: reg:linear is now deprecated in favor of reg:squarederror.\n",
      "11 <class 'xgboost.sklearn.XGBRegressor'>\n",
      "[10:40:45] WARNING: src/objective/regression_obj.cu:152: reg:linear is now deprecated in favor of reg:squarederror.\n",
      "12 <class 'xgboost.sklearn.XGBRegressor'>\n",
      "[10:40:46] WARNING: src/objective/regression_obj.cu:152: reg:linear is now deprecated in favor of reg:squarederror.\n",
      "13 <class 'xgboost.sklearn.XGBRegressor'>\n",
      "[10:40:48] WARNING: src/objective/regression_obj.cu:152: reg:linear is now deprecated in favor of reg:squarederror.\n",
      "RMSE : 11.431\n",
      "RMSE : 11.213\n"
     ]
    }
   ],
   "source": [
    "# hyper parameter tunning\n",
    "models = [RandomForestRegressor(n_estimators=n,random_state =5) for n in [50, 100, 200, 600]]\n",
    "models+=[LassoLarsCV()]\n",
    "models+=[KernelRidge(alpha=0.6, kernel='polynomial', degree=i, coef0=2.5) for i in range(2,5)]\n",
    "models+=[GradientBoostingRegressor(n_estimators=n_e, learning_rate=0.05,\n",
    "                                   max_depth=4, max_features='sqrt',\n",
    "                                   min_samples_leaf=15, min_samples_split=10, \n",
    "                                   loss='huber', random_state =5) for n_e in [3000, 5000]]\n",
    "models+=[XGBRegressor(max_depth=10,n_estimators=n, random_state =5) for n in [50, 100,200,400]]\n",
    "\n",
    "average_modeling(models)"
   ]
  },
  {
   "cell_type": "code",
   "execution_count": 28,
   "metadata": {},
   "outputs": [
    {
     "name": "stdout",
     "output_type": "stream",
     "text": [
      "0 <class 'sklearn.ensemble.forest.RandomForestRegressor'>\n",
      "1 <class 'sklearn.ensemble.forest.RandomForestRegressor'>\n",
      "2 <class 'sklearn.ensemble.forest.RandomForestRegressor'>\n",
      "3 <class 'sklearn.ensemble.forest.RandomForestRegressor'>\n",
      "4 <class 'sklearn.ensemble.gradient_boosting.GradientBoostingRegressor'>\n",
      "5 <class 'sklearn.linear_model.least_angle.LassoLarsCV'>\n",
      "6 <class 'sklearn.kernel_ridge.KernelRidge'>\n",
      "7 <class 'sklearn.kernel_ridge.KernelRidge'>\n",
      "8 <class 'xgboost.sklearn.XGBRegressor'>\n",
      "9 <class 'xgboost.sklearn.XGBRegressor'>\n",
      "10 <class 'xgboost.sklearn.XGBRegressor'>\n",
      "11 <class 'xgboost.sklearn.XGBRegressor'>\n",
      "12 <class 'xgboost.sklearn.XGBRegressor'>\n",
      "13 <class 'xgboost.sklearn.XGBRegressor'>\n",
      "RMSE : 11.400\n",
      "RMSE : 11.291\n"
     ]
    }
   ],
   "source": [
    "# hyper parameter tunning\n",
    "models = [RandomForestRegressor(n_estimators=n, random_state =5) for n in [ 30, 50, 100, 200]]\n",
    "models+=[GradientBoostingRegressor(random_state =5)]\n",
    "models+=[LassoLarsCV()]\n",
    "models+=[KernelRidge(alpha=0.6, kernel='polynomial', degree=i, coef0=2.5) for i in range(3,5)]\n",
    "models +=[XGBRegressor(max_depth= 8,\n",
    "                       objective='reg:squarederror',\n",
    "                       min_child_weight=1.111, n_estimator= n, subsample=0.75, random_state =5) for n in [30,50,100,200,500,1000]]\n",
    "\n",
    "average_modeling(models)"
   ]
  },
  {
   "cell_type": "code",
   "execution_count": 29,
   "metadata": {},
   "outputs": [
    {
     "name": "stdout",
     "output_type": "stream",
     "text": [
      "0 <class 'sklearn.ensemble.forest.RandomForestRegressor'>\n",
      "1 <class 'sklearn.ensemble.forest.RandomForestRegressor'>\n",
      "2 <class 'sklearn.ensemble.forest.RandomForestRegressor'>\n",
      "3 <class 'sklearn.ensemble.forest.RandomForestRegressor'>\n",
      "4 <class 'sklearn.linear_model.least_angle.LassoLarsCV'>\n",
      "5 <class 'sklearn.kernel_ridge.KernelRidge'>\n",
      "6 <class 'sklearn.kernel_ridge.KernelRidge'>\n",
      "7 <class 'sklearn.kernel_ridge.KernelRidge'>\n",
      "8 <class 'sklearn.ensemble.gradient_boosting.GradientBoostingRegressor'>\n",
      "9 <class 'sklearn.ensemble.gradient_boosting.GradientBoostingRegressor'>\n",
      "10 <class 'sklearn.ensemble.gradient_boosting.GradientBoostingRegressor'>\n",
      "11 <class 'sklearn.ensemble.gradient_boosting.GradientBoostingRegressor'>\n",
      "12 <class 'xgboost.sklearn.XGBRegressor'>\n",
      "[10:57:26] WARNING: src/objective/regression_obj.cu:152: reg:linear is now deprecated in favor of reg:squarederror.\n",
      "13 <class 'xgboost.sklearn.XGBRegressor'>\n",
      "[10:57:26] WARNING: src/objective/regression_obj.cu:152: reg:linear is now deprecated in favor of reg:squarederror.\n",
      "14 <class 'xgboost.sklearn.XGBRegressor'>\n",
      "[10:57:27] WARNING: src/objective/regression_obj.cu:152: reg:linear is now deprecated in favor of reg:squarederror.\n",
      "15 <class 'xgboost.sklearn.XGBRegressor'>\n",
      "[10:57:29] WARNING: src/objective/regression_obj.cu:152: reg:linear is now deprecated in favor of reg:squarederror.\n",
      "16 <class 'lightgbm.sklearn.LGBMRegressor'>\n",
      "17 <class 'lightgbm.sklearn.LGBMRegressor'>\n",
      "18 <class 'lightgbm.sklearn.LGBMRegressor'>\n",
      "19 <class 'lightgbm.sklearn.LGBMRegressor'>\n",
      "RMSE : 11.185\n",
      "RMSE : 11.009\n"
     ]
    }
   ],
   "source": [
    "# add lightGBM\n",
    "models = [RandomForestRegressor(n_estimators=n,random_state =5) for n in [50, 100, 200, 600]]\n",
    "models+=[LassoLarsCV()]\n",
    "models+=[KernelRidge(alpha=0.6, kernel='polynomial', degree=i, coef0=2.5) for i in range(2,5)]\n",
    "models+=[GradientBoostingRegressor(n_estimators=n_e, learning_rate=0.05,\n",
    "                                   max_depth=15, max_features='sqrt',objective='reg:squarederror',\n",
    "                                   min_samples_leaf=15, min_samples_split=10, \n",
    "                                   random_state =5) for n_e in [500,1000,3000, 5000]]\n",
    "models+=[XGBRegressor(max_depth=10,n_estimators=n, random_state =5) for n in [50, 100,200,400]]\n",
    "models += [LGBMRegressor( n_estimators=n,colsample_bytree=0.9497036, subsample=0.8715623, max_depth=8,\n",
    "            reg_alpha=0.041545473,\n",
    "            reg_lambda=0.0735294,\n",
    "            min_split_gain=0.0222415,\n",
    "            min_child_weight=39.3259775, random_state=5)for n in [50,100,500,1000]]\n",
    "\n",
    "average_modeling(models)"
   ]
  },
  {
   "cell_type": "code",
   "execution_count": 30,
   "metadata": {},
   "outputs": [
    {
     "name": "stdout",
     "output_type": "stream",
     "text": [
      "0 <class 'sklearn.ensemble.forest.RandomForestRegressor'>\n",
      "1 <class 'sklearn.ensemble.forest.RandomForestRegressor'>\n",
      "2 <class 'sklearn.ensemble.forest.RandomForestRegressor'>\n",
      "3 <class 'sklearn.ensemble.forest.RandomForestRegressor'>\n",
      "4 <class 'sklearn.linear_model.least_angle.LassoLarsCV'>\n",
      "5 <class 'sklearn.kernel_ridge.KernelRidge'>\n",
      "6 <class 'sklearn.kernel_ridge.KernelRidge'>\n",
      "7 <class 'sklearn.kernel_ridge.KernelRidge'>\n",
      "8 <class 'sklearn.ensemble.gradient_boosting.GradientBoostingRegressor'>\n",
      "9 <class 'sklearn.ensemble.gradient_boosting.GradientBoostingRegressor'>\n",
      "10 <class 'xgboost.sklearn.XGBRegressor'>\n",
      "[11:05:57] WARNING: src/objective/regression_obj.cu:152: reg:linear is now deprecated in favor of reg:squarederror.\n",
      "11 <class 'xgboost.sklearn.XGBRegressor'>\n",
      "[11:05:58] WARNING: src/objective/regression_obj.cu:152: reg:linear is now deprecated in favor of reg:squarederror.\n",
      "12 <class 'xgboost.sklearn.XGBRegressor'>\n",
      "[11:05:59] WARNING: src/objective/regression_obj.cu:152: reg:linear is now deprecated in favor of reg:squarederror.\n",
      "13 <class 'xgboost.sklearn.XGBRegressor'>\n",
      "[11:06:01] WARNING: src/objective/regression_obj.cu:152: reg:linear is now deprecated in favor of reg:squarederror.\n",
      "14 <class 'lightgbm.sklearn.LGBMRegressor'>\n",
      "15 <class 'lightgbm.sklearn.LGBMRegressor'>\n",
      "16 <class 'lightgbm.sklearn.LGBMRegressor'>\n",
      "17 <class 'lightgbm.sklearn.LGBMRegressor'>\n",
      "RMSE : 11.313\n",
      "RMSE : 11.148\n"
     ]
    }
   ],
   "source": [
    "# add lightGBM\n",
    "models = [RandomForestRegressor(n_estimators=n,random_state =5) for n in [50, 100, 200, 600]]\n",
    "models+=[LassoLarsCV()]\n",
    "models+=[KernelRidge(alpha=0.6, kernel='polynomial', degree=i, coef0=2.5) for i in range(2,5)]\n",
    "models+=[GradientBoostingRegressor(n_estimators=n_e, learning_rate=0.05,\n",
    "                                   max_depth=4, max_features='sqrt',objective='reg:squarederror',\n",
    "                                   min_samples_leaf=15, min_samples_split=10, \n",
    "                                   loss='huber', random_state =5) for n_e in [3000, 5000]]\n",
    "models+=[XGBRegressor(max_depth=10,n_estimators=n, random_state =5) for n in [50, 100,200,400]]\n",
    "models += [LGBMRegressor( n_estimators=n, max_depth=8, random_state=5)for n in [50,100,500,1000]]\n",
    "\n",
    "average_modeling(models)"
   ]
  },
  {
   "cell_type": "code",
   "execution_count": 31,
   "metadata": {},
   "outputs": [
    {
     "name": "stdout",
     "output_type": "stream",
     "text": [
      "0 <class 'sklearn.ensemble.forest.RandomForestRegressor'>\n",
      "1 <class 'sklearn.ensemble.forest.RandomForestRegressor'>\n",
      "2 <class 'sklearn.ensemble.forest.RandomForestRegressor'>\n",
      "3 <class 'sklearn.ensemble.forest.RandomForestRegressor'>\n",
      "4 <class 'sklearn.linear_model.least_angle.LassoLarsCV'>\n",
      "5 <class 'sklearn.kernel_ridge.KernelRidge'>\n",
      "6 <class 'sklearn.kernel_ridge.KernelRidge'>\n",
      "7 <class 'sklearn.kernel_ridge.KernelRidge'>\n",
      "8 <class 'sklearn.ensemble.gradient_boosting.GradientBoostingRegressor'>\n",
      "9 <class 'sklearn.ensemble.gradient_boosting.GradientBoostingRegressor'>\n",
      "10 <class 'xgboost.sklearn.XGBRegressor'>\n",
      "11 <class 'xgboost.sklearn.XGBRegressor'>\n",
      "12 <class 'xgboost.sklearn.XGBRegressor'>\n",
      "13 <class 'xgboost.sklearn.XGBRegressor'>\n",
      "14 <class 'lightgbm.sklearn.LGBMRegressor'>\n",
      "15 <class 'lightgbm.sklearn.LGBMRegressor'>\n",
      "16 <class 'lightgbm.sklearn.LGBMRegressor'>\n",
      "17 <class 'lightgbm.sklearn.LGBMRegressor'>\n",
      "RMSE : 11.244\n",
      "RMSE : 11.089\n"
     ]
    }
   ],
   "source": [
    "# add lightGBM\n",
    "models = [RandomForestRegressor(n_estimators=n,random_state =5) for n in [50, 100, 200, 600]]\n",
    "models+=[LassoLarsCV()]\n",
    "models+=[KernelRidge(alpha=0.6, kernel='polynomial', degree=i, coef0=2.5) for i in range(2,5)]\n",
    "models+=[GradientBoostingRegressor(n_estimators=n_e, learning_rate=0.05,\n",
    "                                   max_depth=4, min_samples_leaf=15, min_samples_split=10, \n",
    "                                   random_state =5) for n_e in [3000, 5000]]\n",
    "models+=[XGBRegressor(max_depth= 10, objective='reg:squarederror', min_child_weight=1.111, \n",
    "                      n_estimator= n, subsample=0.75, random_state =5) for n in [50, 100,200,400]]\n",
    "models += [LGBMRegressor( n_estimators=n, max_depth=8, random_state=5)for n in [50,100,500,1000]]\n",
    "\n",
    "average_modeling(models)"
   ]
  },
  {
   "cell_type": "markdown",
   "metadata": {},
   "source": [
    "# RF(Classifier, Regressor)"
   ]
  },
  {
   "cell_type": "code",
   "execution_count": 40,
   "metadata": {},
   "outputs": [
    {
     "name": "stdout",
     "output_type": "stream",
     "text": [
      "RMSE :  18.675731700403457\n"
     ]
    }
   ],
   "source": [
    "# randomforest\n",
    "data = df.copy()\n",
    "random.seed(100)\n",
    "## x, y setting\n",
    "X = data.drop([\"pm25\",'pm10','weekday'], axis=1)\n",
    "Y = data[\"pm25\"]\n",
    "\n",
    "# one-hot encoding\n",
    "# object 변수만 해당\n",
    "for i in [\"season\", \"time\"]:\n",
    "    X[i] = pd.get_dummies(X[i])\n",
    "# trian / test split 0.8/ 0.2\n",
    "x_train, x_test, y_train, y_test = train_test_split(X, Y, test_size=0.2, random_state=0)\n",
    "\n",
    "model = RandomForestClassifier(random_state =5)\n",
    "model.fit(x_train, y_train)\n",
    "y_pred = model.predict(x_test)\n",
    "# each data predict\n",
    "df_predict = pd.DataFrame({'Actual': y_test, 'Predicted': y_pred})\n",
    "## 확인\n",
    "print(\"RMSE : \", (mean_squared_error(y_test, y_pred))**0.5)"
   ]
  },
  {
   "cell_type": "code",
   "execution_count": 41,
   "metadata": {},
   "outputs": [
    {
     "data": {
      "text/plain": [
       "Text(0, 0.5, '실제값')"
      ]
     },
     "execution_count": 41,
     "metadata": {},
     "output_type": "execute_result"
    },
    {
     "data": {
      "image/png": "[encoded data removed]",
      "text/plain": [
       "<Figure size 1656x864 with 1 Axes>"
      ]
     },
     "metadata": {
      "needs_background": "light"
     },
     "output_type": "display_data"
    }
   ],
   "source": [
    "fit = np.polyfit(df_predict['Predicted'], df_predict['Actual'],1)\n",
    "fit_fn = np.poly1d(fit)\n",
    "plt.figure(figsize=(23,12))\n",
    "plt.plot(df_predict['Predicted'], df_predict['Actual'],'o')\n",
    "plt.plot(df_predict['Predicted'], fit_fn(df_predict['Predicted']), 'r')\n",
    "plt.tick_params(labelsize=30)\n",
    "plt.xlabel('예측값',size=30)\n",
    "plt.ylabel('실제값',size=36)"
   ]
  },
  {
   "cell_type": "code",
   "execution_count": 42,
   "metadata": {},
   "outputs": [
    {
     "name": "stdout",
     "output_type": "stream",
     "text": [
      "RMSE :  13.234968603642168\n"
     ]
    }
   ],
   "source": [
    "# randomforest tuning\n",
    "data = df.copy()\n",
    "random.seed(100)\n",
    "## x, y setting\n",
    "X = data.drop([\"pm25\",'pm10'], axis=1)\n",
    "Y = data[\"pm25\"]\n",
    "\n",
    "# one-hot encoding\n",
    "# object 변수만 해당\n",
    "for i in [\"season\", \"weekday\"]:\n",
    "    X[i] = pd.get_dummies(X[i])\n",
    "# trian / test split 0.8/ 0.2\n",
    "x_train, x_test, y_train, y_test = train_test_split(X, Y, test_size=0.2, random_state=0)\n",
    "model = RandomForestClassifier(max_depth= 15,\n",
    "                               max_features= 'auto',\n",
    "                               n_estimators= 1000,\n",
    "                               n_jobs= 1)\n",
    "# model = RandomForestClassifier()\n",
    "model.fit(x_train, y_train)\n",
    "y_pred = model.predict(x_test)\n",
    "y_pred_prob = model.predict_proba(x_test)\n",
    "y_pred_prob_df = pd.DataFrame(y_pred_prob, columns=model.classes_)\n",
    "\n",
    "# each data predict\n",
    "df_predict = pd.DataFrame({'Actual': y_test, 'Predicted': y_pred})\n",
    "## 확인\n",
    "print(\"RMSE : \", (mean_squared_error(y_test, y_pred))**0.5)"
   ]
  },
  {
   "cell_type": "markdown",
   "metadata": {},
   "source": [
    "# LR"
   ]
  },
  {
   "cell_type": "code",
   "execution_count": 45,
   "metadata": {},
   "outputs": [
    {
     "name": "stdout",
     "output_type": "stream",
     "text": [
      "-31.011628488943558\n",
      "[ 1.26811134e+02  5.94507335e+01  3.66794196e+02  5.04193804e+02\n",
      "  2.59739862e-02 -2.93187760e-01  2.44399728e-02 -3.54597269e-01\n",
      "  1.31942883e-01 -5.46077585e-01 -2.12370390e-01 -1.41923352e+00\n",
      " -3.46628084e+00]\n",
      "RMSE :  16.465048263121783\n"
     ]
    }
   ],
   "source": [
    "# Linear Regression\n",
    "data = df.copy()\n",
    "random.seed(100)\n",
    "## x, y setting\n",
    "X = data.drop([\"pm25\",'pm10'], axis=1)\n",
    "Y = data[\"pm25\"]\n",
    "regressor = LinearRegression()  \n",
    "regressor.fit(x_train, y_train)\n",
    "\n",
    "print(regressor.intercept_)\n",
    "# For retrieving the slope:\n",
    "\n",
    "print(regressor.coef_)\n",
    "y_pred=regressor.predict(x_test)  \n",
    "print(\"RMSE : \", (mean_squared_error(y_test, y_pred))**0.5)\n",
    "\n",
    "df_predict = pd.DataFrame({'Actual': y_test, 'Predicted': y_pred})\n"
   ]
  },
  {
   "cell_type": "code",
   "execution_count": 46,
   "metadata": {},
   "outputs": [
    {
     "data": {
      "text/html": [
       "<table class=\"simpletable\">\n",
       "<caption>OLS Regression Results</caption>\n",
       "<tr>\n",
       "  <th>Dep. Variable:</th>          <td>pm25</td>       <th>  R-squared:         </th> <td>   0.591</td> \n",
       "</tr>\n",
       "<tr>\n",
       "  <th>Model:</th>                   <td>OLS</td>       <th>  Adj. R-squared:    </th> <td>   0.591</td> \n",
       "</tr>\n",
       "<tr>\n",
       "  <th>Method:</th>             <td>Least Squares</td>  <th>  F-statistic:       </th> <td>   1590.</td> \n",
       "</tr>\n",
       "<tr>\n",
       "  <th>Date:</th>             <td>Mon, 25 Nov 2019</td> <th>  Prob (F-statistic):</th>  <td>  0.00</td>  \n",
       "</tr>\n",
       "<tr>\n",
       "  <th>Time:</th>                 <td>15:09:47</td>     <th>  Log-Likelihood:    </th> <td> -55716.</td> \n",
       "</tr>\n",
       "<tr>\n",
       "  <th>No. Observations:</th>      <td> 13196</td>      <th>  AIC:               </th> <td>1.115e+05</td>\n",
       "</tr>\n",
       "<tr>\n",
       "  <th>Df Residuals:</th>          <td> 13183</td>      <th>  BIC:               </th> <td>1.116e+05</td>\n",
       "</tr>\n",
       "<tr>\n",
       "  <th>Df Model:</th>              <td>    12</td>      <th>                     </th>     <td> </td>    \n",
       "</tr>\n",
       "<tr>\n",
       "  <th>Covariance Type:</th>      <td>nonrobust</td>    <th>                     </th>     <td> </td>    \n",
       "</tr>\n",
       "</table>\n",
       "<table class=\"simpletable\">\n",
       "<tr>\n",
       "         <td></td>           <th>coef</th>     <th>std err</th>      <th>t</th>      <th>P>|t|</th>  <th>[0.025</th>    <th>0.975]</th>  \n",
       "</tr>\n",
       "<tr>\n",
       "  <th>Intercept</th>      <td>  -36.0403</td> <td>    1.179</td> <td>  -30.575</td> <td> 0.000</td> <td>  -38.351</td> <td>  -33.730</td>\n",
       "</tr>\n",
       "<tr>\n",
       "  <th>season[T.겨울]</th>   <td>    3.0083</td> <td>    0.525</td> <td>    5.730</td> <td> 0.000</td> <td>    1.979</td> <td>    4.037</td>\n",
       "</tr>\n",
       "<tr>\n",
       "  <th>season[T.봄]</th>    <td>    8.5083</td> <td>    0.554</td> <td>   15.366</td> <td> 0.000</td> <td>    7.423</td> <td>    9.594</td>\n",
       "</tr>\n",
       "<tr>\n",
       "  <th>season[T.여름]</th>   <td>    1.9457</td> <td>    0.523</td> <td>    3.722</td> <td> 0.000</td> <td>    0.921</td> <td>    2.970</td>\n",
       "</tr>\n",
       "<tr>\n",
       "  <th>so2</th>            <td>  114.9536</td> <td>   14.225</td> <td>    8.081</td> <td> 0.000</td> <td>   87.071</td> <td>  142.836</td>\n",
       "</tr>\n",
       "<tr>\n",
       "  <th>co</th>             <td>   62.6720</td> <td>    1.062</td> <td>   59.001</td> <td> 0.000</td> <td>   60.590</td> <td>   64.754</td>\n",
       "</tr>\n",
       "<tr>\n",
       "  <th>o3</th>             <td>  299.8826</td> <td>   11.007</td> <td>   27.245</td> <td> 0.000</td> <td>  278.307</td> <td>  321.458</td>\n",
       "</tr>\n",
       "<tr>\n",
       "  <th>no2</th>            <td>  404.9199</td> <td>   16.973</td> <td>   23.857</td> <td> 0.000</td> <td>  371.651</td> <td>  438.189</td>\n",
       "</tr>\n",
       "<tr>\n",
       "  <th>wind_speed</th>     <td>   -0.4430</td> <td>    0.124</td> <td>   -3.582</td> <td> 0.000</td> <td>   -0.685</td> <td>   -0.201</td>\n",
       "</tr>\n",
       "<tr>\n",
       "  <th>wind_direction</th> <td>    0.0237</td> <td>    0.001</td> <td>   15.930</td> <td> 0.000</td> <td>    0.021</td> <td>    0.027</td>\n",
       "</tr>\n",
       "<tr>\n",
       "  <th>rain_yn</th>        <td>   -0.3901</td> <td>    0.093</td> <td>   -4.178</td> <td> 0.000</td> <td>   -0.573</td> <td>   -0.207</td>\n",
       "</tr>\n",
       "<tr>\n",
       "  <th>humid</th>          <td>    0.1324</td> <td>    0.009</td> <td>   14.439</td> <td> 0.000</td> <td>    0.114</td> <td>    0.150</td>\n",
       "</tr>\n",
       "<tr>\n",
       "  <th>month</th>          <td>   -0.3170</td> <td>    0.053</td> <td>   -6.028</td> <td> 0.000</td> <td>   -0.420</td> <td>   -0.214</td>\n",
       "</tr>\n",
       "</table>\n",
       "<table class=\"simpletable\">\n",
       "<tr>\n",
       "  <th>Omnibus:</th>       <td>2576.106</td> <th>  Durbin-Watson:     </th> <td>   0.511</td> \n",
       "</tr>\n",
       "<tr>\n",
       "  <th>Prob(Omnibus):</th>  <td> 0.000</td>  <th>  Jarque-Bera (JB):  </th> <td>11293.512</td>\n",
       "</tr>\n",
       "<tr>\n",
       "  <th>Skew:</th>           <td> 0.897</td>  <th>  Prob(JB):          </th> <td>    0.00</td> \n",
       "</tr>\n",
       "<tr>\n",
       "  <th>Kurtosis:</th>       <td> 7.162</td>  <th>  Cond. No.          </th> <td>2.87e+04</td> \n",
       "</tr>\n",
       "</table><br/><br/>Warnings:<br/>[1] Standard Errors assume that the covariance matrix of the errors is correctly specified.<br/>[2] The condition number is large, 2.87e+04. This might indicate that there are<br/>strong multicollinearity or other numerical problems."
      ],
      "text/plain": [
       "<class 'statsmodels.iolib.summary.Summary'>\n",
       "\"\"\"\n",
       "                            OLS Regression Results                            \n",
       "==============================================================================\n",
       "Dep. Variable:                   pm25   R-squared:                       0.591\n",
       "Model:                            OLS   Adj. R-squared:                  0.591\n",
       "Method:                 Least Squares   F-statistic:                     1590.\n",
       "Date:                Mon, 25 Nov 2019   Prob (F-statistic):               0.00\n",
       "Time:                        15:09:47   Log-Likelihood:                -55716.\n",
       "No. Observations:               13196   AIC:                         1.115e+05\n",
       "Df Residuals:                   13183   BIC:                         1.116e+05\n",
       "Df Model:                          12                                         \n",
       "Covariance Type:            nonrobust                                         \n",
       "==================================================================================\n",
       "                     coef    std err          t      P>|t|      [0.025      0.975]\n",
       "----------------------------------------------------------------------------------\n",
       "Intercept        -36.0403      1.179    -30.575      0.000     -38.351     -33.730\n",
       "season[T.겨울]       3.0083      0.525      5.730      0.000       1.979       4.037\n",
       "season[T.봄]        8.5083      0.554     15.366      0.000       7.423       9.594\n",
       "season[T.여름]       1.9457      0.523      3.722      0.000       0.921       2.970\n",
       "so2              114.9536     14.225      8.081      0.000      87.071     142.836\n",
       "co                62.6720      1.062     59.001      0.000      60.590      64.754\n",
       "o3               299.8826     11.007     27.245      0.000     278.307     321.458\n",
       "no2              404.9199     16.973     23.857      0.000     371.651     438.189\n",
       "wind_speed        -0.4430      0.124     -3.582      0.000      -0.685      -0.201\n",
       "wind_direction     0.0237      0.001     15.930      0.000       0.021       0.027\n",
       "rain_yn           -0.3901      0.093     -4.178      0.000      -0.573      -0.207\n",
       "humid              0.1324      0.009     14.439      0.000       0.114       0.150\n",
       "month             -0.3170      0.053     -6.028      0.000      -0.420      -0.214\n",
       "==============================================================================\n",
       "Omnibus:                     2576.106   Durbin-Watson:                   0.511\n",
       "Prob(Omnibus):                  0.000   Jarque-Bera (JB):            11293.512\n",
       "Skew:                           0.897   Prob(JB):                         0.00\n",
       "Kurtosis:                       7.162   Cond. No.                     2.87e+04\n",
       "==============================================================================\n",
       "\n",
       "Warnings:\n",
       "[1] Standard Errors assume that the covariance matrix of the errors is correctly specified.\n",
       "[2] The condition number is large, 2.87e+04. This might indicate that there are\n",
       "strong multicollinearity or other numerical problems.\n",
       "\"\"\""
      ]
     },
     "execution_count": 46,
     "metadata": {},
     "output_type": "execute_result"
    }
   ],
   "source": [
    "result = sm.ols(formula = 'pm25~so2+co+o3+no2+wind_speed+wind_direction+rain_yn+humid+month+season', data = df).fit()\n",
    "result.summary()"
   ]
  },
  {
   "cell_type": "code",
   "execution_count": 47,
   "metadata": {},
   "outputs": [
    {
     "data": {
      "text/plain": [
       "Text(0, 0.5, '실제값')"
      ]
     },
     "execution_count": 47,
     "metadata": {},
     "output_type": "execute_result"
    },
    {
     "data": {
      "image/png": "[encoded data removed]",
      "text/plain": [
       "<Figure size 1656x864 with 1 Axes>"
      ]
     },
     "metadata": {
      "needs_background": "light"
     },
     "output_type": "display_data"
    }
   ],
   "source": [
    "fit = np.polyfit(df_predict['Predicted'], df_predict['Actual'],1)\n",
    "fit_fn = np.poly1d(fit)\n",
    "plt.figure(figsize=(23,12))\n",
    "plt.plot(df_predict['Predicted'], df_predict['Actual'],'o')\n",
    "plt.plot(df_predict['Predicted'], fit_fn(df_predict['Predicted']), 'r')\n",
    "plt.tick_params(labelsize=30)\n",
    "plt.xlabel('예측값',size=30)\n",
    "plt.ylabel('실제값',size=36)"
   ]
  },
  {
   "cell_type": "code",
   "execution_count": 48,
   "metadata": {},
   "outputs": [
    {
     "data": {
      "text/html": [
       "<div>\n",
       "<style scoped>\n",
       "    .dataframe tbody tr th:only-of-type {\n",
       "        vertical-align: middle;\n",
       "    }\n",
       "\n",
       "    .dataframe tbody tr th {\n",
       "        vertical-align: top;\n",
       "    }\n",
       "\n",
       "    .dataframe thead th {\n",
       "        text-align: right;\n",
       "    }\n",
       "</style>\n",
       "<table border=\"1\" class=\"dataframe\">\n",
       "  <thead>\n",
       "    <tr style=\"text-align: right;\">\n",
       "      <th></th>\n",
       "      <th>so2</th>\n",
       "      <th>co</th>\n",
       "      <th>o3</th>\n",
       "      <th>no2</th>\n",
       "      <th>pm10</th>\n",
       "      <th>pm25</th>\n",
       "      <th>weather</th>\n",
       "      <th>wind_speed</th>\n",
       "      <th>wind_direction</th>\n",
       "      <th>rain_yn</th>\n",
       "      <th>humid</th>\n",
       "      <th>month</th>\n",
       "      <th>time</th>\n",
       "      <th>weekday</th>\n",
       "      <th>season</th>\n",
       "    </tr>\n",
       "  </thead>\n",
       "  <tbody>\n",
       "    <tr>\n",
       "      <td>0</td>\n",
       "      <td>0.110</td>\n",
       "      <td>0.5</td>\n",
       "      <td>0.039</td>\n",
       "      <td>0.017</td>\n",
       "      <td>34.0</td>\n",
       "      <td>18.0</td>\n",
       "      <td>8.5</td>\n",
       "      <td>0.0</td>\n",
       "      <td>0.0</td>\n",
       "      <td>0.0</td>\n",
       "      <td>88.0</td>\n",
       "      <td>11</td>\n",
       "      <td>00</td>\n",
       "      <td>Wednesday</td>\n",
       "      <td>가을</td>\n",
       "    </tr>\n",
       "    <tr>\n",
       "      <td>1</td>\n",
       "      <td>0.024</td>\n",
       "      <td>0.5</td>\n",
       "      <td>0.024</td>\n",
       "      <td>0.025</td>\n",
       "      <td>47.0</td>\n",
       "      <td>31.0</td>\n",
       "      <td>10.5</td>\n",
       "      <td>1.0</td>\n",
       "      <td>192.1</td>\n",
       "      <td>0.0</td>\n",
       "      <td>85.7</td>\n",
       "      <td>11</td>\n",
       "      <td>01</td>\n",
       "      <td>Wednesday</td>\n",
       "      <td>가을</td>\n",
       "    </tr>\n",
       "    <tr>\n",
       "      <td>2</td>\n",
       "      <td>0.012</td>\n",
       "      <td>0.5</td>\n",
       "      <td>0.014</td>\n",
       "      <td>0.032</td>\n",
       "      <td>54.0</td>\n",
       "      <td>38.0</td>\n",
       "      <td>11.1</td>\n",
       "      <td>1.9</td>\n",
       "      <td>208.6</td>\n",
       "      <td>0.0</td>\n",
       "      <td>80.7</td>\n",
       "      <td>11</td>\n",
       "      <td>02</td>\n",
       "      <td>Wednesday</td>\n",
       "      <td>가을</td>\n",
       "    </tr>\n",
       "    <tr>\n",
       "      <td>3</td>\n",
       "      <td>0.008</td>\n",
       "      <td>0.5</td>\n",
       "      <td>0.014</td>\n",
       "      <td>0.030</td>\n",
       "      <td>65.0</td>\n",
       "      <td>51.0</td>\n",
       "      <td>11.1</td>\n",
       "      <td>1.6</td>\n",
       "      <td>210.8</td>\n",
       "      <td>0.0</td>\n",
       "      <td>80.4</td>\n",
       "      <td>11</td>\n",
       "      <td>03</td>\n",
       "      <td>Wednesday</td>\n",
       "      <td>가을</td>\n",
       "    </tr>\n",
       "    <tr>\n",
       "      <td>4</td>\n",
       "      <td>0.015</td>\n",
       "      <td>0.5</td>\n",
       "      <td>0.028</td>\n",
       "      <td>0.032</td>\n",
       "      <td>48.0</td>\n",
       "      <td>49.0</td>\n",
       "      <td>17.6</td>\n",
       "      <td>2.4</td>\n",
       "      <td>218.8</td>\n",
       "      <td>0.0</td>\n",
       "      <td>65.6</td>\n",
       "      <td>11</td>\n",
       "      <td>12</td>\n",
       "      <td>Wednesday</td>\n",
       "      <td>가을</td>\n",
       "    </tr>\n",
       "  </tbody>\n",
       "</table>\n",
       "</div>"
      ],
      "text/plain": [
       "     so2   co     o3    no2  pm10  pm25  weather  wind_speed  wind_direction  \\\n",
       "0  0.110  0.5  0.039  0.017  34.0  18.0      8.5         0.0             0.0   \n",
       "1  0.024  0.5  0.024  0.025  47.0  31.0     10.5         1.0           192.1   \n",
       "2  0.012  0.5  0.014  0.032  54.0  38.0     11.1         1.9           208.6   \n",
       "3  0.008  0.5  0.014  0.030  65.0  51.0     11.1         1.6           210.8   \n",
       "4  0.015  0.5  0.028  0.032  48.0  49.0     17.6         2.4           218.8   \n",
       "\n",
       "   rain_yn  humid  month time    weekday season  \n",
       "0      0.0   88.0     11   00  Wednesday     가을  \n",
       "1      0.0   85.7     11   01  Wednesday     가을  \n",
       "2      0.0   80.7     11   02  Wednesday     가을  \n",
       "3      0.0   80.4     11   03  Wednesday     가을  \n",
       "4      0.0   65.6     11   12  Wednesday     가을  "
      ]
     },
     "execution_count": 48,
     "metadata": {},
     "output_type": "execute_result"
    }
   ],
   "source": [
    "df.head()"
   ]
  },
  {
   "cell_type": "code",
   "execution_count": 49,
   "metadata": {},
   "outputs": [
    {
     "name": "stdout",
     "output_type": "stream",
     "text": [
      "RMSE :  17.136673491620172\n"
     ]
    }
   ],
   "source": [
    "test = test.drop(['date','md','time','site'],axis=1).reset_index(drop=True)\n",
    "test_list = test['ymd'].unique().tolist()\n",
    "for dummy in [\"season\", \"weekday\"]:\n",
    "    test[dummy] = pd.get_dummies(test[dummy])\n",
    "df_rmse = pd.DataFrame()\n",
    "for i in range(len(test_list)):\n",
    "    if i == len(test_list)-2:\n",
    "        break\n",
    "    else :\n",
    "        train = test[test['ymd']==test_list[i]]\n",
    "        testing = test[test['ymd']==test_list[i+1]]\n",
    "        train.drop(['ymd'],axis=1,inplace=True)\n",
    "        testing.drop(['ymd'],axis=1,inplace=True)\n",
    "        x_train = train.drop([\"pm25\"], axis=1)\n",
    "        y_train = train['pm25']\n",
    "        x_test = testing.drop([\"pm25\"], axis=1)\n",
    "        y_test = testing['pm25']\n",
    "        # Xgboost\n",
    "        model = XGBRegressor(objective='reg:squarederror',random_state =5)\n",
    "\n",
    "        # model.fit(x_train, y_train, sample_weight = class_weights)\n",
    "        model.fit(x_train, y_train)\n",
    "        y_pred = model.predict(x_test)\n",
    "        df_predict = pd.DataFrame({'Actual': y_test, 'Predicted': y_pred})\n",
    "        df_rmse = pd.concat([df_rmse,df_predict])\n",
    "print(\"RMSE : \",(mean_squared_error(df_rmse['Actual'], df_rmse['Predicted']))**0.5)"
   ]
  },
  {
   "cell_type": "code",
   "execution_count": 50,
   "metadata": {},
   "outputs": [
    {
     "name": "stdout",
     "output_type": "stream",
     "text": [
      "RMSE :  17.0607652845231\n"
     ]
    }
   ],
   "source": [
    "test_list = test['ymd'].unique().tolist()\n",
    "for dummy in [\"season\", \"weekday\"]:\n",
    "    test[dummy] = pd.get_dummies(test[dummy])\n",
    "df_rmse = pd.DataFrame()\n",
    "for i in range(len(test_list)):\n",
    "    if i == len(test_list)-2:\n",
    "        break\n",
    "    else :\n",
    "        train = test[test['ymd']==test_list[i]]\n",
    "        testing = test[test['ymd']==test_list[i+1]]\n",
    "        train.drop(['ymd'],axis=1,inplace=True)\n",
    "        testing.drop(['ymd'],axis=1,inplace=True)\n",
    "        x_train = train.drop([\"pm25\"], axis=1)\n",
    "        y_train = train['pm25']\n",
    "        x_test = testing.drop([\"pm25\"], axis=1)\n",
    "        y_test = testing['pm25']\n",
    "        # Xgboost\n",
    "        model = RandomForestRegressor(random_state =5)\n",
    "\n",
    "        # model.fit(x_train, y_train, sample_weight = class_weights)\n",
    "        model.fit(x_train, y_train)\n",
    "        y_pred = model.predict(x_test)\n",
    "        df_predict = pd.DataFrame({'Actual': y_test, 'Predicted': y_pred})\n",
    "        df_rmse = pd.concat([df_rmse,df_predict])\n",
    "print(\"RMSE : \",(mean_squared_error(df_rmse['Actual'], df_rmse['Predicted']))**0.5)"
   ]
  },
  {
   "cell_type": "code",
   "execution_count": 51,
   "metadata": {},
   "outputs": [
    {
     "data": {
      "text/html": [
       "<div>\n",
       "<style scoped>\n",
       "    .dataframe tbody tr th:only-of-type {\n",
       "        vertical-align: middle;\n",
       "    }\n",
       "\n",
       "    .dataframe tbody tr th {\n",
       "        vertical-align: top;\n",
       "    }\n",
       "\n",
       "    .dataframe thead th {\n",
       "        text-align: right;\n",
       "    }\n",
       "</style>\n",
       "<table border=\"1\" class=\"dataframe\">\n",
       "  <thead>\n",
       "    <tr style=\"text-align: right;\">\n",
       "      <th></th>\n",
       "      <th>site</th>\n",
       "      <th>date</th>\n",
       "      <th>so2</th>\n",
       "      <th>co</th>\n",
       "      <th>o3</th>\n",
       "      <th>no2</th>\n",
       "      <th>pm10</th>\n",
       "      <th>pm25</th>\n",
       "      <th>weather</th>\n",
       "      <th>wind_speed</th>\n",
       "      <th>wind_direction</th>\n",
       "      <th>rain_yn</th>\n",
       "      <th>humid</th>\n",
       "      <th>ymd</th>\n",
       "      <th>month</th>\n",
       "      <th>time</th>\n",
       "      <th>md</th>\n",
       "      <th>weekday</th>\n",
       "      <th>season</th>\n",
       "    </tr>\n",
       "  </thead>\n",
       "  <tbody>\n",
       "    <tr>\n",
       "      <td>7296</td>\n",
       "      <td>시화산단</td>\n",
       "      <td>2017-11-01 00:00:00</td>\n",
       "      <td>0.110</td>\n",
       "      <td>0.5</td>\n",
       "      <td>0.039</td>\n",
       "      <td>0.017</td>\n",
       "      <td>34.0</td>\n",
       "      <td>18.0</td>\n",
       "      <td>8.5</td>\n",
       "      <td>0.0</td>\n",
       "      <td>0.0</td>\n",
       "      <td>0.0</td>\n",
       "      <td>88.0</td>\n",
       "      <td>2017-11-01</td>\n",
       "      <td>11</td>\n",
       "      <td>00</td>\n",
       "      <td>11-01</td>\n",
       "      <td>Wednesday</td>\n",
       "      <td>가을</td>\n",
       "    </tr>\n",
       "    <tr>\n",
       "      <td>7297</td>\n",
       "      <td>시화산단</td>\n",
       "      <td>2017-11-01 01:00:00</td>\n",
       "      <td>0.024</td>\n",
       "      <td>0.5</td>\n",
       "      <td>0.024</td>\n",
       "      <td>0.025</td>\n",
       "      <td>47.0</td>\n",
       "      <td>31.0</td>\n",
       "      <td>10.5</td>\n",
       "      <td>1.0</td>\n",
       "      <td>192.1</td>\n",
       "      <td>0.0</td>\n",
       "      <td>85.7</td>\n",
       "      <td>2017-11-01</td>\n",
       "      <td>11</td>\n",
       "      <td>01</td>\n",
       "      <td>11-01</td>\n",
       "      <td>Wednesday</td>\n",
       "      <td>가을</td>\n",
       "    </tr>\n",
       "    <tr>\n",
       "      <td>7298</td>\n",
       "      <td>시화산단</td>\n",
       "      <td>2017-11-01 02:00:00</td>\n",
       "      <td>0.012</td>\n",
       "      <td>0.5</td>\n",
       "      <td>0.014</td>\n",
       "      <td>0.032</td>\n",
       "      <td>54.0</td>\n",
       "      <td>38.0</td>\n",
       "      <td>11.1</td>\n",
       "      <td>1.9</td>\n",
       "      <td>208.6</td>\n",
       "      <td>0.0</td>\n",
       "      <td>80.7</td>\n",
       "      <td>2017-11-01</td>\n",
       "      <td>11</td>\n",
       "      <td>02</td>\n",
       "      <td>11-01</td>\n",
       "      <td>Wednesday</td>\n",
       "      <td>가을</td>\n",
       "    </tr>\n",
       "    <tr>\n",
       "      <td>7299</td>\n",
       "      <td>시화산단</td>\n",
       "      <td>2017-11-01 03:00:00</td>\n",
       "      <td>0.008</td>\n",
       "      <td>0.5</td>\n",
       "      <td>0.014</td>\n",
       "      <td>0.030</td>\n",
       "      <td>65.0</td>\n",
       "      <td>51.0</td>\n",
       "      <td>11.1</td>\n",
       "      <td>1.6</td>\n",
       "      <td>210.8</td>\n",
       "      <td>0.0</td>\n",
       "      <td>80.4</td>\n",
       "      <td>2017-11-01</td>\n",
       "      <td>11</td>\n",
       "      <td>03</td>\n",
       "      <td>11-01</td>\n",
       "      <td>Wednesday</td>\n",
       "      <td>가을</td>\n",
       "    </tr>\n",
       "    <tr>\n",
       "      <td>7308</td>\n",
       "      <td>시화산단</td>\n",
       "      <td>2017-11-01 12:00:00</td>\n",
       "      <td>0.015</td>\n",
       "      <td>0.5</td>\n",
       "      <td>0.028</td>\n",
       "      <td>0.032</td>\n",
       "      <td>48.0</td>\n",
       "      <td>49.0</td>\n",
       "      <td>17.6</td>\n",
       "      <td>2.4</td>\n",
       "      <td>218.8</td>\n",
       "      <td>0.0</td>\n",
       "      <td>65.6</td>\n",
       "      <td>2017-11-01</td>\n",
       "      <td>11</td>\n",
       "      <td>12</td>\n",
       "      <td>11-01</td>\n",
       "      <td>Wednesday</td>\n",
       "      <td>가을</td>\n",
       "    </tr>\n",
       "  </tbody>\n",
       "</table>\n",
       "</div>"
      ],
      "text/plain": [
       "      site                date    so2   co     o3    no2  pm10  pm25  weather  \\\n",
       "7296  시화산단 2017-11-01 00:00:00  0.110  0.5  0.039  0.017  34.0  18.0      8.5   \n",
       "7297  시화산단 2017-11-01 01:00:00  0.024  0.5  0.024  0.025  47.0  31.0     10.5   \n",
       "7298  시화산단 2017-11-01 02:00:00  0.012  0.5  0.014  0.032  54.0  38.0     11.1   \n",
       "7299  시화산단 2017-11-01 03:00:00  0.008  0.5  0.014  0.030  65.0  51.0     11.1   \n",
       "7308  시화산단 2017-11-01 12:00:00  0.015  0.5  0.028  0.032  48.0  49.0     17.6   \n",
       "\n",
       "      wind_speed  wind_direction  rain_yn  humid         ymd  month time  \\\n",
       "7296         0.0             0.0      0.0   88.0  2017-11-01     11   00   \n",
       "7297         1.0           192.1      0.0   85.7  2017-11-01     11   01   \n",
       "7298         1.9           208.6      0.0   80.7  2017-11-01     11   02   \n",
       "7299         1.6           210.8      0.0   80.4  2017-11-01     11   03   \n",
       "7308         2.4           218.8      0.0   65.6  2017-11-01     11   12   \n",
       "\n",
       "         md    weekday season  \n",
       "7296  11-01  Wednesday     가을  \n",
       "7297  11-01  Wednesday     가을  \n",
       "7298  11-01  Wednesday     가을  \n",
       "7299  11-01  Wednesday     가을  \n",
       "7308  11-01  Wednesday     가을  "
      ]
     },
     "execution_count": 51,
     "metadata": {},
     "output_type": "execute_result"
    }
   ],
   "source": [
    "test2.head()"
   ]
  },
  {
   "cell_type": "code",
   "execution_count": 52,
   "metadata": {},
   "outputs": [
    {
     "name": "stdout",
     "output_type": "stream",
     "text": [
      "RMSE :  13.092644648015058\n"
     ]
    }
   ],
   "source": [
    "# year, month 구하기\n",
    "# 위의 식과 동일하지만 조건문으로 \n",
    "test2['date'] = test2['date'].astype(str)\n",
    "test2['ym'] = test2['date'].str[:7]\n",
    "test2.drop(['date','site','ymd','md','time'],axis=1,inplace=True)\n",
    "\n",
    "for dummy in [\"season\", \"weekday\"]:\n",
    "    test2[dummy] = pd.get_dummies(test2[dummy])\n",
    "\n",
    "test_ym = test2['ym'].unique().tolist()\n",
    "\n",
    "month_rmse = pd.DataFrame()\n",
    "for i in range(len(test_ym)):\n",
    "    if i == len(test_ym)-2:\n",
    "        break\n",
    "\n",
    "    else :\n",
    "        train = test2[test2['ym']==test_ym[i]]\n",
    "        testing = test2[test2['ym']==test_ym[i+1]]\n",
    "        train.drop(['ym'],axis=1,inplace=True)\n",
    "        testing.drop(['ym'],axis=1,inplace=True)\n",
    "\n",
    "        x_train = train.drop([\"pm25\"], axis=1)\n",
    "        y_train = train['pm25']\n",
    "        x_test = testing.drop([\"pm25\"], axis=1)\n",
    "        y_test = testing['pm25']\n",
    "        # Xgboost\n",
    "        model = XGBRegressor(objective='reg:squarederror',random_state =5)\n",
    "\n",
    "        # model.fit(x_train, y_train, sample_weight = class_weights)\n",
    "        model.fit(x_train, y_train)\n",
    "        y_pred = model.predict(x_test)\n",
    "        df_predict = pd.DataFrame({'Actual': y_test, 'Predicted': y_pred})\n",
    "        month_rmse = pd.concat([month_rmse,df_predict])\n",
    "print(\"RMSE : \",(mean_squared_error(month_rmse['Actual'], month_rmse['Predicted']))**0.5)"
   ]
  },
  {
   "cell_type": "code",
   "execution_count": 53,
   "metadata": {},
   "outputs": [
    {
     "name": "stdout",
     "output_type": "stream",
     "text": [
      "RMSE :  13.092644648015058\n"
     ]
    }
   ],
   "source": [
    "# year, month 구하기\n",
    "# 위의 식과 동일하지만 조건문으로 \n",
    "\n",
    "for dummy in [\"season\", \"weekday\"]:\n",
    "    test2[dummy] = pd.get_dummies(test2[dummy])\n",
    "\n",
    "test_ym = test2['ym'].unique().tolist()\n",
    "\n",
    "month_rmse = pd.DataFrame()\n",
    "for i in range(len(test_ym)):\n",
    "    if i == len(test_ym)-2:\n",
    "        break\n",
    "\n",
    "    else :\n",
    "        train = test2[test2['ym']==test_ym[i]]\n",
    "        testing = test2[test2['ym']==test_ym[i+1]]\n",
    "        train.drop(['ym'],axis=1,inplace=True)\n",
    "        testing.drop(['ym'],axis=1,inplace=True)\n",
    "\n",
    "        x_train = train.drop([\"pm25\"], axis=1)\n",
    "        y_train = train['pm25']\n",
    "        x_test = testing.drop([\"pm25\"], axis=1)\n",
    "        y_test = testing['pm25']\n",
    "        # Xgboost\n",
    "        model = XGBRegressor(objective='reg:squarederror',random_state =5)\n",
    "\n",
    "        # model.fit(x_train, y_train, sample_weight = class_weights)\n",
    "        model.fit(x_train, y_train)\n",
    "        y_pred = model.predict(x_test)\n",
    "        df_predict = pd.DataFrame({'Actual': y_test, 'Predicted': y_pred})\n",
    "        month_rmse = pd.concat([month_rmse,df_predict])\n",
    "print(\"RMSE : \",(mean_squared_error(month_rmse['Actual'], month_rmse['Predicted']))**0.5)"
   ]
  },
  {
   "cell_type": "markdown",
   "metadata": {},
   "source": [
    "# 범주형 모델링"
   ]
  },
  {
   "cell_type": "code",
   "execution_count": 32,
   "metadata": {},
   "outputs": [],
   "source": [
    "df = pd.read_csv('D:/data/row_sihwa.csv',encoding='CP949')"
   ]
  },
  {
   "cell_type": "code",
   "execution_count": 33,
   "metadata": {},
   "outputs": [
    {
     "data": {
      "text/plain": [
       "site                 0\n",
       "date                 0\n",
       "so2                566\n",
       "co                 487\n",
       "o3                 448\n",
       "no2                439\n",
       "pm10               672\n",
       "pm25              8002\n",
       "weather            403\n",
       "wind_speed         351\n",
       "wind_direction     351\n",
       "rain_yn            384\n",
       "humid              333\n",
       "dtype: int64"
      ]
     },
     "execution_count": 33,
     "metadata": {},
     "output_type": "execute_result"
    }
   ],
   "source": [
    "# preprocessing\n",
    "df.drop('Unnamed: 0',axis=1,inplace=True)\n",
    "df = df[['site', 'date', 'so2', 'co', 'o3', 'no2', 'pm10', 'pm25', 'weather',\n",
    "       'wind_speed', 'wind_direction', 'rain_yn', 'humid']]\n",
    "df = df.iloc[:, [0,1,2,3,4,5,6,7,8,9,10,11,12]]\n",
    "df.loc[df['weather'] <= -30, 'weather' ] = np.float(\"nan\")\n",
    "df.isnull().sum()"
   ]
  },
  {
   "cell_type": "code",
   "execution_count": 34,
   "metadata": {},
   "outputs": [],
   "source": [
    "## EDA 위한 파생변수 ymd, md, month, season ,weekday, pm categori 추가\n",
    "def date_split(df) :\n",
    "    df['date'] = pd.to_datetime(df['date'], format='%Y-%m-%d %H:%M')\n",
    "    df['ymd'] = [d.date() for d in df['date']]\n",
    "    df['month'] = [d.month for d in df['date']]\n",
    "    df['time'] = [d.time() for d in df['date']]\n",
    "    df['time'] = df['time'].apply(lambda x: x.strftime('%H'))\n",
    "    df['md'] = df['ymd'].apply(lambda x: x.strftime('%m-%d'))\n",
    "    df['weekday'] =df['date'].apply(lambda x: x.strftime('%A'))\n",
    "def season(x):\n",
    "    if '05-31'>= x>='03-01':\n",
    "        return('봄')\n",
    "    elif '11-30' >= x >= '09-01':\n",
    "        return('가을')\n",
    "    elif '08-31' >=x >= '06-01':\n",
    "        return('여름')\n",
    "    else: return('겨울')\n",
    "\n",
    "def categorical_PM(x):\n",
    "    if 8>= x>=0:\n",
    "        return('0')\n",
    "    elif 15 >= x >= 9 :\n",
    "        return('1')\n",
    "    elif 20 >=x >= 16:\n",
    "        return('2')\n",
    "    elif 25 >=x >= 21:\n",
    "        return('3')\n",
    "    elif 37 >=x >= 26:\n",
    "        return('4')\n",
    "    elif 50 >=x >= 38:\n",
    "        return('5')\n",
    "    elif 75 >=x >= 51:\n",
    "        return('6')\n",
    "    else: return('7') "
   ]
  },
  {
   "cell_type": "code",
   "execution_count": 35,
   "metadata": {},
   "outputs": [],
   "source": [
    "# categorical modeling definition\n",
    "\n",
    "def categorical_modeling(models):\n",
    "    votingC = VotingClassifier(estimators=[(f'{m}' , m) for m in models], voting='hard')\n",
    " \n",
    "    votingC = votingC.fit(x_train, y_train)\n",
    "\n",
    "    #예측 진행\n",
    "    y_pred = votingC.predict(x_test) \n",
    "\n",
    "    # ACC, F1-score check\n",
    "    print(\"ACC : \", accuracy_score(y_test, y_pred))\n",
    "    print(\"f1-score : \", f1_score(y_test, y_pred, average='macro'))"
   ]
  },
  {
   "cell_type": "code",
   "execution_count": 36,
   "metadata": {},
   "outputs": [],
   "source": [
    "date_split(df)\n",
    "df = df.dropna()\n",
    "df['season'] = df['md'].apply(season)\n",
    "df['PM_categorical'] = df['pm25'].apply(categorical_PM)\n",
    "# df['PM_categorical'] = df['PM_categorical'].astype('int')\n",
    "df['PM_categorical'] = df['PM_categorical'].astype('category')"
   ]
  },
  {
   "cell_type": "code",
   "execution_count": 37,
   "metadata": {},
   "outputs": [],
   "source": [
    "df = df[df['site']=='시화산단']\n",
    "df.drop(['date','site','md','ymd'],axis=1,inplace=True)\n",
    "df = df.reset_index(drop=True)"
   ]
  },
  {
   "cell_type": "code",
   "execution_count": 38,
   "metadata": {},
   "outputs": [],
   "source": [
    "data = df.copy()\n",
    "random.seed(100)\n",
    "\n",
    "## x, y setting\n",
    "X = data.drop([\"pm25\",'pm10','PM_categorical'], axis=1)\n",
    "Y = data[\"PM_categorical\"]\n",
    "\n",
    "# one-hot encoding\n",
    "# object 변수만 해당\n",
    "for i in [\"season\", \"weekday\",'time']:\n",
    "    X[i] = pd.get_dummies(X[i])\n",
    "# trian / test split 0.8/ 0.2\n",
    "x_train, x_test, y_train, y_test = train_test_split(X, Y, test_size=0.2, random_state=0,stratify=Y)"
   ]
  },
  {
   "cell_type": "code",
   "execution_count": 16,
   "metadata": {},
   "outputs": [
    {
     "name": "stdout",
     "output_type": "stream",
     "text": [
      "ACC : 0.358\n",
      "f1-score :  0.28395688108042444\n"
     ]
    }
   ],
   "source": [
    "#mlp\n",
    "\n",
    "model = MLPClassifier()\n",
    "model.fit(x_train, y_train)\n",
    "\n",
    "## Prediction\n",
    "y_pred = model.predict(x_test)\n",
    "y_pred_prob = model.predict_proba(x_test)\n",
    "y_pred_prob_df = pd.DataFrame(y_pred_prob, columns=model.classes_)\n",
    "\n",
    "# each data predict\n",
    "df_predict = pd.DataFrame({'Actual': y_test, 'Predicted': y_pred})\n",
    "\n",
    "## check ACC, F1-score\n",
    "print(\"ACC : \", accuracy_score(y_test, y_pred))\n",
    "print(\"f1-score : \", f1_score(y_test, y_pred, average='macro'))"
   ]
  },
  {
   "cell_type": "code",
   "execution_count": 60,
   "metadata": {},
   "outputs": [
    {
     "name": "stdout",
     "output_type": "stream",
     "text": [
      "ACC : 0.423\n",
      "f1-score :  0.4005046919453577\n",
      "                변수       중요도\n",
      "1               co  0.306599\n",
      "0              so2  0.148200\n",
      "9            month  0.078902\n",
      "3              no2  0.077103\n",
      "4          weather  0.067093\n",
      "12          season  0.057460\n",
      "2               o3  0.057402\n",
      "6   wind_direction  0.055460\n",
      "8            humid  0.045062\n",
      "11         weekday  0.038776\n",
      "5       wind_speed  0.035248\n",
      "10            time  0.017721\n",
      "7          rain_yn  0.014975\n"
     ]
    }
   ],
   "source": [
    "# Xgboost \n",
    "model = XGBClassifier(objective ='multi:softprob', random_state= 5)\n",
    "\n",
    "# model.fit(x_train, y_train, sample_weight = class_weights)\n",
    "model.fit(x_train, y_train)\n",
    "\n",
    "## Prediction\n",
    "y_pred = model.predict(x_test)\n",
    "y_pred_prob = model.predict_proba(x_test)\n",
    "y_pred_prob_df = pd.DataFrame(y_pred_prob, columns=model.classes_)\n",
    "\n",
    "# each data predict\n",
    "df_predict = pd.DataFrame({'Actual': y_test, 'Predicted': y_pred})\n",
    "## 중요도 확인\n",
    "importance = list(model.feature_importances_)\n",
    "col_nm = list(X.columns)\n",
    "\n",
    "## check ACC, F1-score\n",
    "print(\"ACC : \", accuracy_score(y_test, y_pred))\n",
    "print(\"f1-score : \", f1_score(y_test, y_pred, average='macro'))\n",
    "\n"
   ]
  },
  {
   "cell_type": "code",
   "execution_count": 61,
   "metadata": {},
   "outputs": [
    {
     "name": "stdout",
     "output_type": "stream",
     "text": [
      "ACC :  0.43333333333333335\n",
      "f1-score :  0.44724307881134717\n"
     ]
    }
   ],
   "source": [
    "# RandomForest\n",
    "model = RandomForestClassifier(random_state= 5)\n",
    "\n",
    "# model.fit(x_train, y_train, sample_weight = class_weights)\n",
    "model.fit(x_train, y_train)\n",
    "\n",
    "## Prediction\n",
    "y_pred = model.predict(x_test)\n",
    "y_pred_prob = model.predict_proba(x_test)\n",
    "y_pred_prob_df = pd.DataFrame(y_pred_prob, columns=model.classes_)\n",
    "\n",
    "# each data predict\n",
    "df_predict = pd.DataFrame({'Actual': y_test, 'Predicted': y_pred})\n",
    "## 중요도 확인\n",
    "col_nm = list(X.columns)\n",
    "# col_nm = list(x_train.columns)\n",
    "\n",
    "## check ACC, F1-score\n",
    "print(\"ACC : \", accuracy_score(y_test, y_pred))\n",
    "print(\"f1-score : \", f1_score(y_test, y_pred, average='macro'))"
   ]
  },
  {
   "cell_type": "code",
   "execution_count": 62,
   "metadata": {},
   "outputs": [
    {
     "name": "stdout",
     "output_type": "stream",
     "text": [
      "ACC :  0.325\n",
      "f1-score :  0.24605022157254525\n"
     ]
    }
   ],
   "source": [
    "# Logistic\n",
    "model = LogisticRegression(random_state= 5)\n",
    "\n",
    "# model.fit(x_train, y_train, sample_weight = class_weights)\n",
    "model.fit(x_train, y_train)\n",
    "\n",
    "## Prediction\n",
    "y_pred = model.predict(x_test)\n",
    "y_pred_prob = model.predict_proba(x_test)\n",
    "y_pred_prob_df = pd.DataFrame(y_pred_prob)\n",
    "\n",
    "# each data predict\n",
    "df_predict = pd.DataFrame({'Actual': y_test, 'Predicted': y_pred})\n",
    "## check importance\n",
    "col_nm = list(X.columns)\n",
    "\n",
    "## check ACC, F1-score\n",
    "print(\"ACC : \", accuracy_score(y_test, y_pred))\n",
    "print(\"f1-score : \", f1_score(y_test, y_pred, average='macro'))"
   ]
  },
  {
   "cell_type": "code",
   "execution_count": 40,
   "metadata": {},
   "outputs": [
    {
     "name": "stdout",
     "output_type": "stream",
     "text": [
      "ACC :  0.46704545454545454\n",
      "f1-score :  0.4695013230172903\n"
     ]
    }
   ],
   "source": [
    "# average model voting\n",
    "\n",
    "RFmodels = RandomForestClassifier(random_state =5) \n",
    "GBmodels =GradientBoostingClassifier(random_state =5)\n",
    "XGBmodels =XGBClassifier(random_state =5)\n",
    "\n",
    "categorical_modeling(models)"
   ]
  },
  {
   "cell_type": "code",
   "execution_count": 39,
   "metadata": {},
   "outputs": [
    {
     "name": "stdout",
     "output_type": "stream",
     "text": [
      "ACC :  0.46704545454545454\n",
      "f1-score :  0.4695013230172903\n"
     ]
    }
   ],
   "source": [
    "# parameter tunning\n",
    "\n",
    "models = [RandomForestClassifier(n_estimators=n, random_state =5) for n in [ 30, 50, 100, 200]]\n",
    "models+=[GradientBoostingClassifier(random_state =5)]\n",
    "models +=[XGBClassifier(max_depth= 8,\n",
    "                       objective='multi:softprob',\n",
    "                       min_child_weight=1.111, n_estimator= n, subsample=0.75, random_state =5) for n in [30,50,100,200,500,1000]]\n",
    "\n",
    "categorical_modeling(models)"
   ]
  },
  {
   "cell_type": "code",
   "execution_count": 41,
   "metadata": {},
   "outputs": [
    {
     "name": "stdout",
     "output_type": "stream",
     "text": [
      "ACC :  0.4799242424242424\n",
      "f1-score :  0.48305245716619716\n"
     ]
    }
   ],
   "source": [
    "# hyper parameter tunning\\\n",
    "models = []\n",
    "models += [RandomForestClassifier(n_estimators=n,random_state =5) for n in [50, 100, 200, 600]]\n",
    "# models+=[LassoLarsCV()]\n",
    "# models+=[KernelRidge(alpha=0.6, kernel='sigmoid', degree=i, coef0=2.5) for i in range(2,5)]\n",
    "models+=[GradientBoostingClassifier(n_estimators=n_e, learning_rate=0.05,\n",
    "                                   max_depth=4, min_samples_leaf=15, min_samples_split=10, \n",
    "                                   random_state =5) for n_e in [1000, 2000]]\n",
    "models+=[XGBClassifier(max_depth=10, objective='multi:softprob', n_estimators=n, subsample=0.75,random_state =5)\n",
    "         for n in [50, 100,200,400]]\n",
    "\n",
    "\n",
    "categorical_modeling(models)"
   ]
  },
  {
   "cell_type": "code",
   "execution_count": 42,
   "metadata": {},
   "outputs": [
    {
     "name": "stdout",
     "output_type": "stream",
     "text": [
      "ACC :  0.4738636363636364\n",
      "f1-score :  0.47565072301748135\n"
     ]
    }
   ],
   "source": [
    "# hyper parameter tunning\\\n",
    "models = []\n",
    "models += [RandomForestClassifier(n_estimators=n,random_state =5) for n in [50, 100, 200, 600]]\n",
    "models+=[GradientBoostingClassifier(n_estimators=n_e, learning_rate=0.05,\n",
    "                                   max_depth=4, min_samples_leaf=15, min_samples_split=10, \n",
    "                                   random_state =5) for n_e in [1000, 2000]]\n",
    "models+=[XGBClassifier(max_depth=10, objective='multi:softprob', n_estimators=n, subsample=0.75,random_state =5)\n",
    "         for n in [50, 100,200,400]]\n",
    "\n",
    "models += [LGBMClassifier( n_estimators=n,colsample_bytree=0.9497036, subsample=0.8715623, max_depth=8,\n",
    "            reg_alpha=0.041545473,\n",
    "            reg_lambda=0.0735294,\n",
    "            min_split_gain=0.0222415,\n",
    "            min_child_weight=39.3259775)for n in [50,100,500,1000]]\n",
    "\n",
    "categorical_modeling(models)"
   ]
  },
  {
   "cell_type": "code",
   "execution_count": 43,
   "metadata": {},
   "outputs": [
    {
     "name": "stdout",
     "output_type": "stream",
     "text": [
      "ACC :  0.49015151515151517\n",
      "f1-score :  0.49169295524120715\n"
     ]
    }
   ],
   "source": [
    "# add lightGBM\n",
    "models = [RandomForestClassifier(n_estimators=n,random_state =5) for n in [50, 100, 200, 600]]\n",
    "models+=[GradientBoostingClassifier(n_estimators=n_e, learning_rate=0.05,\n",
    "                                   max_depth=4, max_features='sqrt',\n",
    "                                   min_samples_leaf=15, min_samples_split=10, \n",
    "                                   random_state =5) for n_e in [3000, 5000]]\n",
    "models+=[XGBClassifier(max_depth=10,n_estimators=n, random_state =5) for n in [50, 100,200,400]]\n",
    "models += [LGBMClassifier( n_estimators=n, max_depth=10, random_state=5)for n in [50,100,500,1000]]\n",
    "\n",
    "categorical_modeling(models)"
   ]
  },
  {
   "cell_type": "code",
   "execution_count": 44,
   "metadata": {},
   "outputs": [
    {
     "name": "stdout",
     "output_type": "stream",
     "text": [
      "ACC :  0.49015151515151517\n",
      "f1-score :  0.4920023993305499\n"
     ]
    }
   ],
   "source": [
    "# add lightGBM\n",
    "models = [RandomForestClassifier(n_estimators=n,random_state =5) for n in [50, 100, 200, 600]]\n",
    "models+=[GradientBoostingClassifier(n_estimators=n_e, learning_rate=0.05,\n",
    "                                   max_depth=4, max_features='sqrt',\n",
    "                                   min_samples_leaf=15, min_samples_split=10, \n",
    "                                   random_state =5) for n_e in [3000, 5000]]\n",
    "models+=[XGBClassifier(max_depth=10,n_estimators=n, random_state =5) for n in [50, 100,200,400]]\n",
    "models += [LGBMClassifier( n_estimators=n, max_depth=8, reg_alpha=0.041545473,\n",
    "            reg_lambda=0.0735294,\n",
    "            random_state=5)for n in [50,100,500,1000]]\n",
    "\n",
    "categorical_modeling(models)"
   ]
  },
  {
   "cell_type": "code",
   "execution_count": 56,
   "metadata": {},
   "outputs": [
    {
     "name": "stdout",
     "output_type": "stream",
     "text": [
      "RandomizedSearchCV 최적의 파라미터 :  {'subsample': 0.3333333333333333, 'n_estimator': 1750, 'min_child_weight': 2.928571428571429, 'max_depth': 23, 'learning_rate': 0.06896551724137931}\n",
      "RandomizedSearchCV 최고 정확도 :  0.45102311481621826\n",
      "ACC :  0.4602272727272727\n"
     ]
    }
   ],
   "source": [
    "# Random Search CV (xgb)\n",
    "param = {'max_depth': list(range(4, 25)),\n",
    "         'learning_rate' : list(np.linspace(0, 1, 30)),\n",
    "         'n_estimator' : list(range(10, 2000, 30)),\n",
    "         'min_child_weight' : list(np.linspace(1, 10, 15)),\n",
    "         'subsample' : list(np.linspace(0, 1, 7))\n",
    "}\n",
    "# Xgboost\n",
    "model = XGBClassifier(objective='multi:softprob',random_state =5)\n",
    "\n",
    "xgb_model = RandomizedSearchCV(estimator= model, param_distributions = param, cv = 3)\n",
    "xgb_model.fit(x_train, y_train)\n",
    "\n",
    "print(\"RandomizedSearchCV 최적의 파라미터 : \", xgb_model.best_params_)\n",
    "print(\"RandomizedSearchCV 최고 정확도 : \", xgb_model.best_score_)\n",
    "\n",
    "best_model = xgb_model.best_estimator_\n",
    "\n",
    "y_pred = best_model.predict(x_test)\n",
    "print(\"ACC : \", accuracy_score(y_test, y_pred))"
   ]
  },
  {
   "cell_type": "code",
   "execution_count": 57,
   "metadata": {},
   "outputs": [
    {
     "name": "stdout",
     "output_type": "stream",
     "text": [
      "RandomizedSearchCV 최적의 파라미터 :  {'num_leaves': 43, 'n_estimator': 370, 'max_depth': 21, 'learning_rate': 0.10344827586206896, 'bagging_fraction': 0.8105263157894737}\n",
      "RandomizedSearchCV 최고 정확도 :  0.45367563471011746\n",
      "ACC :  0.4693181818181818\n"
     ]
    }
   ],
   "source": [
    "# Random Search CV (lgbm)\n",
    "param = {'max_depth': list(range(4, 25)),\n",
    "         'learning_rate' : list(np.linspace(0, 1, 30)),\n",
    "         'n_estimator' : list(range(10, 2000, 30)),\n",
    "         'num_leaves' : list(range(5, 100)),\n",
    "         'bagging_fraction' : list(np.linspace(0.1,1,20))\n",
    "}\n",
    "# LightGBM\n",
    "model = LGBMClassifier(objective='multi:softprob',random_state =5)\n",
    "\n",
    "lgbm_model = RandomizedSearchCV(estimator= model, param_distributions = param, cv = 3)\n",
    "lgbm_model.fit(x_train, y_train)\n",
    "\n",
    "print(\"RandomizedSearchCV 최적의 파라미터 : \", lgbm_model.best_params_)\n",
    "print(\"RandomizedSearchCV 최고 정확도 : \", lgbm_model.best_score_)\n",
    "\n",
    "best_model = lgbm_model.best_estimator_\n",
    "\n",
    "y_pred = best_model.predict(x_test)\n",
    "print(\"ACC : \", accuracy_score(y_test, y_pred))"
   ]
  },
  {
   "cell_type": "markdown",
   "metadata": {},
   "source": [
    "# Window Moving 이용하여 파생변수 추가 (PM10, PM2.5) "
   ]
  },
  {
   "cell_type": "code",
   "execution_count": 4,
   "metadata": {},
   "outputs": [],
   "source": [
    "df = pd.read_csv('D:/data/row_sihwa.csv',encoding='CP949')"
   ]
  },
  {
   "cell_type": "code",
   "execution_count": 5,
   "metadata": {},
   "outputs": [
    {
     "data": {
      "text/plain": [
       "site                 0\n",
       "date                 0\n",
       "so2                566\n",
       "co                 487\n",
       "o3                 448\n",
       "no2                439\n",
       "pm10               672\n",
       "pm25              8002\n",
       "weather            403\n",
       "wind_speed         351\n",
       "wind_direction     351\n",
       "rain_yn            384\n",
       "humid              333\n",
       "dtype: int64"
      ]
     },
     "execution_count": 5,
     "metadata": {},
     "output_type": "execute_result"
    }
   ],
   "source": [
    "# preprocessing\n",
    "df.drop('Unnamed: 0',axis=1,inplace=True)\n",
    "df = df[['site', 'date', 'so2', 'co', 'o3', 'no2', 'pm10', 'pm25', 'weather',\n",
    "       'wind_speed', 'wind_direction', 'rain_yn', 'humid']]\n",
    "df = df.iloc[:, [0,1,2,3,4,5,6,7,8,9,10,11,12]]\n",
    "df.loc[df['weather'] <= -30, 'weather' ] = np.float(\"nan\")\n",
    "df.isnull().sum()"
   ]
  },
  {
   "cell_type": "code",
   "execution_count": 6,
   "metadata": {},
   "outputs": [],
   "source": [
    "## EDA 위한 파생변수 ymd, md, month, season ,weekday, pm categori 추가\n",
    "def date_split(df) :\n",
    "    df['date'] = pd.to_datetime(df['date'], format='%Y-%m-%d %H:%M')\n",
    "    df['ymd'] = [d.date() for d in df['date']]\n",
    "    df['month'] = [d.month for d in df['date']]\n",
    "    df['time'] = [d.time() for d in df['date']]\n",
    "    df['time'] = df['time'].apply(lambda x: x.strftime('%H'))\n",
    "    df['md'] = df['ymd'].apply(lambda x: x.strftime('%m-%d'))\n",
    "    df['weekday'] =df['date'].apply(lambda x: x.strftime('%A'))\n",
    "def season(x):\n",
    "    if '05-31'>= x>='03-01':\n",
    "        return('봄')\n",
    "    elif '11-30' >= x >= '09-01':\n",
    "        return('가을')\n",
    "    elif '08-31' >=x >= '06-01':\n",
    "        return('여름')\n",
    "    else: return('겨울')"
   ]
  },
  {
   "cell_type": "code",
   "execution_count": 7,
   "metadata": {},
   "outputs": [],
   "source": [
    "date_split(df)\n",
    "df = df.dropna()\n",
    "df['season'] = df['md'].apply(season)\n",
    "df = df[df['site']=='시화산단']"
   ]
  },
  {
   "cell_type": "code",
   "execution_count": 8,
   "metadata": {},
   "outputs": [],
   "source": [
    "df = df[df['site']=='시화산단']\n",
    "df.drop(['date','site','md','ymd'],axis=1,inplace=True)\n",
    "df = df.reset_index(drop=True)"
   ]
  },
  {
   "cell_type": "code",
   "execution_count": 35,
   "metadata": {},
   "outputs": [],
   "source": [
    "#Rolling pm10 window= 24\n",
    "data = df.copy()\n",
    "data['pm10_window_24'] = data['pm10'].rolling(window=24).mean()\n",
    "# rolling 하며 생긴 na 값 제거\n",
    "data.dropna(inplace=True)\n",
    "random.seed(5)\n",
    "\n",
    "## x, y setting\n",
    "X = data.drop([\"pm25\",'pm10','weekday'], axis=1)\n",
    "Y = data[\"pm25\"]\n",
    "\n",
    "# one-hot encoding\n",
    "# object 변수만 해당\n",
    "for i in [\"season\",\"time\"]:\n",
    "    X[i] = pd.get_dummies(X[i])\n",
    "# trian / test split 0.8/ 0.2\n",
    "x_train, x_test, y_train, y_test = train_test_split(X, Y, test_size=0.2, random_state=0)"
   ]
  },
  {
   "cell_type": "code",
   "execution_count": 36,
   "metadata": {},
   "outputs": [
    {
     "name": "stdout",
     "output_type": "stream",
     "text": [
      "0 <class 'sklearn.ensemble.forest.RandomForestRegressor'>\n",
      "1 <class 'sklearn.ensemble.forest.RandomForestRegressor'>\n",
      "2 <class 'sklearn.ensemble.forest.RandomForestRegressor'>\n",
      "3 <class 'sklearn.ensemble.forest.RandomForestRegressor'>\n",
      "4 <class 'sklearn.ensemble.gradient_boosting.GradientBoostingRegressor'>\n",
      "5 <class 'sklearn.kernel_ridge.KernelRidge'>\n",
      "6 <class 'sklearn.kernel_ridge.KernelRidge'>\n",
      "7 <class 'xgboost.sklearn.XGBRegressor'>\n",
      "8 <class 'xgboost.sklearn.XGBRegressor'>\n",
      "9 <class 'xgboost.sklearn.XGBRegressor'>\n",
      "10 <class 'xgboost.sklearn.XGBRegressor'>\n",
      "11 <class 'xgboost.sklearn.XGBRegressor'>\n",
      "12 <class 'xgboost.sklearn.XGBRegressor'>\n",
      "RMSE : 11.009\n",
      "RMSE : 11.012\n"
     ]
    }
   ],
   "source": [
    "# hyper parameter tunning\n",
    "models = []\n",
    "models = [RandomForestRegressor(n_estimators=n, random_state =5) for n in [ 30, 50, 100, 200]]\n",
    "models+=[GradientBoostingRegressor(random_state =5)]\n",
    "models+=[KernelRidge(alpha=0.6, kernel='polynomial', degree=i, coef0=2.5) for i in range(3,5)]\n",
    "models +=[XGBRegressor(max_depth= 8,\n",
    "                       objective='reg:squarederror',\n",
    "                       min_child_weight=1.111, n_estimator= n, subsample=0.6, random_state =5) for n in [30,50,100,200,500,1000]]\n",
    "\n",
    "average_modeling(models)"
   ]
  },
  {
   "cell_type": "code",
   "execution_count": 38,
   "metadata": {},
   "outputs": [
    {
     "data": {
      "text/plain": [
       "Text(0, 0.5, '실제값')"
      ]
     },
     "execution_count": 38,
     "metadata": {},
     "output_type": "execute_result"
    },
    {
     "data": {
      "image/png": "[encoded data removed]",
      "text/plain": [
       "<Figure size 1656x864 with 1 Axes>"
      ]
     },
     "metadata": {
      "needs_background": "light"
     },
     "output_type": "display_data"
    }
   ],
   "source": [
    "fit = np.polyfit(df_pred['Predicted'], df_pred['Actual'],1)\n",
    "fit_fn = np.poly1d(fit)\n",
    "plt.figure(figsize=(23,12))\n",
    "plt.plot(df_pred['Predicted'], df_pred['Actual'],'o')\n",
    "plt.plot(df_pred['Predicted'], fit_fn(df_pred['Predicted']), 'r')\n",
    "plt.tick_params(labelsize=30)\n",
    "plt.xlabel('예측값',size=30)\n",
    "plt.ylabel('실제값',size=36)"
   ]
  },
  {
   "cell_type": "code",
   "execution_count": 9,
   "metadata": {},
   "outputs": [],
   "source": [
    "#Rolling pm2.5 window= 24\n",
    "data = df.copy()\n",
    "data['pm25_window_24'] = data['pm25'].rolling(window=24).mean()\n",
    "# rolling 하며 생긴 na 값 제거\n",
    "data.dropna(inplace=True)\n",
    "random.seed(5)\n",
    "\n",
    "## x, y setting\n",
    "X = data.drop([\"pm25\",'pm10','weekday'], axis=1)\n",
    "Y = data[\"pm25\"]\n",
    "\n",
    "# one-hot encoding\n",
    "# object 변수만 해당\n",
    "for i in [\"season\",\"time\"]:\n",
    "    X[i] = pd.get_dummies(X[i])\n",
    "# trian / test split 0.8/ 0.2\n",
    "x_train, x_test, y_train, y_test = train_test_split(X, Y, test_size=0.2, random_state=0)"
   ]
  },
  {
   "cell_type": "code",
   "execution_count": 10,
   "metadata": {
    "scrolled": true
   },
   "outputs": [
    {
     "name": "stdout",
     "output_type": "stream",
     "text": [
      "0 <class 'sklearn.ensemble.forest.RandomForestRegressor'>\n",
      "1 <class 'sklearn.ensemble.forest.RandomForestRegressor'>\n",
      "2 <class 'sklearn.ensemble.forest.RandomForestRegressor'>\n",
      "3 <class 'sklearn.ensemble.forest.RandomForestRegressor'>\n",
      "4 <class 'sklearn.ensemble.gradient_boosting.GradientBoostingRegressor'>\n",
      "5 <class 'sklearn.kernel_ridge.KernelRidge'>\n",
      "6 <class 'sklearn.kernel_ridge.KernelRidge'>\n",
      "7 <class 'xgboost.sklearn.XGBRegressor'>\n",
      "8 <class 'xgboost.sklearn.XGBRegressor'>\n",
      "9 <class 'xgboost.sklearn.XGBRegressor'>\n",
      "10 <class 'xgboost.sklearn.XGBRegressor'>\n",
      "11 <class 'xgboost.sklearn.XGBRegressor'>\n",
      "12 <class 'xgboost.sklearn.XGBRegressor'>\n",
      "RMSE : 10.698\n",
      "RMSE : 10.714\n"
     ]
    }
   ],
   "source": [
    "# hyper parameter tunning\n",
    "models = []\n",
    "models = [RandomForestRegressor(n_estimators=n, random_state =5) for n in [ 30, 50, 100, 200]]\n",
    "models+=[GradientBoostingRegressor(random_state =5)]\n",
    "models+=[KernelRidge(alpha=0.6, kernel='polynomial', degree=i, coef0=2.5) for i in range(3,5)]\n",
    "models +=[XGBRegressor(max_depth= 8,\n",
    "                       objective='reg:squarederror',\n",
    "                       min_child_weight=1.111, n_estimator= n, subsample=0.6, random_state =5) for n in [30,50,100,200,500,1000]]\n",
    "\n",
    "average_modeling(models)"
   ]
  },
  {
   "cell_type": "code",
   "execution_count": 11,
   "metadata": {},
   "outputs": [
    {
     "data": {
      "text/plain": [
       "Text(0, 0.5, '실제값')"
      ]
     },
     "execution_count": 11,
     "metadata": {},
     "output_type": "execute_result"
    },
    {
     "data": {
      "image/png": "[encoded data removed]",
      "text/plain": [
       "<Figure size 1656x864 with 1 Axes>"
      ]
     },
     "metadata": {
      "needs_background": "light"
     },
     "output_type": "display_data"
    }
   ],
   "source": [
    "fit = np.polyfit(df_pred['Predicted'], df_pred['Actual'],1)\n",
    "fit_fn = np.poly1d(fit)\n",
    "plt.figure(figsize=(23,12))\n",
    "plt.plot(df_pred['Predicted'], df_pred['Actual'],'o')\n",
    "plt.plot(df_pred['Predicted'], fit_fn(df_pred['Predicted']), 'r')\n",
    "plt.tick_params(labelsize=30)\n",
    "plt.xlabel('예측값',size=30)\n",
    "plt.ylabel('실제값',size=36)"
   ]
  },
  {
   "cell_type": "code",
   "execution_count": 12,
   "metadata": {},
   "outputs": [],
   "source": [
    "#Rolling pm10, pm2.5 window= 24\n",
    "data = df.copy()\n",
    "data['pm10_window_24'] = data['pm10'].rolling(window=24).mean()\n",
    "data['pm25_window_24'] = data['pm25'].rolling(window=24).mean()\n",
    "# rolling 하며 생긴 na 값 제거\n",
    "data.dropna(inplace=True)\n",
    "random.seed(5)\n",
    "\n",
    "## x, y setting\n",
    "X = data.drop([\"pm25\",'pm10','weekday'], axis=1)\n",
    "Y = data[\"pm25\"]\n",
    "\n",
    "# one-hot encoding\n",
    "# object 변수만 해당\n",
    "for i in [\"season\",\"time\"]:\n",
    "    X[i] = pd.get_dummies(X[i])\n",
    "# trian / test split 0.8/ 0.2\n",
    "x_train, x_test, y_train, y_test = train_test_split(X, Y, test_size=0.2, random_state=0)"
   ]
  },
  {
   "cell_type": "code",
   "execution_count": 13,
   "metadata": {
    "scrolled": true
   },
   "outputs": [
    {
     "name": "stdout",
     "output_type": "stream",
     "text": [
      "0 <class 'sklearn.ensemble.forest.RandomForestRegressor'>\n",
      "1 <class 'sklearn.ensemble.forest.RandomForestRegressor'>\n",
      "2 <class 'sklearn.ensemble.forest.RandomForestRegressor'>\n",
      "3 <class 'sklearn.ensemble.forest.RandomForestRegressor'>\n",
      "4 <class 'sklearn.ensemble.gradient_boosting.GradientBoostingRegressor'>\n",
      "5 <class 'sklearn.kernel_ridge.KernelRidge'>\n",
      "6 <class 'sklearn.kernel_ridge.KernelRidge'>\n",
      "7 <class 'xgboost.sklearn.XGBRegressor'>\n",
      "8 <class 'xgboost.sklearn.XGBRegressor'>\n",
      "9 <class 'xgboost.sklearn.XGBRegressor'>\n",
      "10 <class 'xgboost.sklearn.XGBRegressor'>\n",
      "11 <class 'xgboost.sklearn.XGBRegressor'>\n",
      "12 <class 'xgboost.sklearn.XGBRegressor'>\n",
      "RMSE : 10.532\n",
      "RMSE : 10.601\n"
     ]
    }
   ],
   "source": [
    "# hyper parameter tunning\n",
    "models = []\n",
    "models = [RandomForestRegressor(n_estimators=n, random_state =5) for n in [ 30, 50, 100, 200]]\n",
    "models+=[GradientBoostingRegressor(random_state =5)]\n",
    "models+=[KernelRidge(alpha=0.6, kernel='polynomial', degree=i, coef0=2.5) for i in range(3,5)]\n",
    "models +=[XGBRegressor(max_depth= 8,\n",
    "                       objective='reg:squarederror',\n",
    "                       min_child_weight=1.111, n_estimator= n, subsample=0.6, random_state =5) for n in [30,50,100,200,500,1000]]\n",
    "\n",
    "average_modeling(models)"
   ]
  },
  {
   "cell_type": "code",
   "execution_count": 14,
   "metadata": {},
   "outputs": [
    {
     "data": {
      "text/plain": [
       "Text(0, 0.5, '실제값')"
      ]
     },
     "execution_count": 14,
     "metadata": {},
     "output_type": "execute_result"
    },
    {
     "data": {
      "image/png": "[encoded data removed]",
      "text/plain": [
       "<Figure size 1656x864 with 1 Axes>"
      ]
     },
     "metadata": {
      "needs_background": "light"
     },
     "output_type": "display_data"
    }
   ],
   "source": [
    "fit = np.polyfit(df_pred['Predicted'], df_pred['Actual'],1)\n",
    "fit_fn = np.poly1d(fit)\n",
    "plt.figure(figsize=(23,12))\n",
    "plt.plot(df_pred['Predicted'], df_pred['Actual'],'o')\n",
    "plt.plot(df_pred['Predicted'], fit_fn(df_pred['Predicted']), 'r')\n",
    "plt.tick_params(labelsize=30)\n",
    "plt.xlabel('예측값',size=30)\n",
    "plt.ylabel('실제값',size=36)"
   ]
  },
  {
   "cell_type": "markdown",
   "metadata": {},
   "source": [
    "# Window Moving 범주형 데이터 측정"
   ]
  },
  {
   "cell_type": "code",
   "execution_count": 2,
   "metadata": {},
   "outputs": [],
   "source": [
    "df = pd.read_csv('D:/data/row_sihwa.csv',encoding='CP949')"
   ]
  },
  {
   "cell_type": "code",
   "execution_count": 3,
   "metadata": {},
   "outputs": [
    {
     "data": {
      "text/plain": [
       "site                 0\n",
       "date                 0\n",
       "so2                566\n",
       "co                 487\n",
       "o3                 448\n",
       "no2                439\n",
       "pm10               672\n",
       "pm25              8002\n",
       "weather            403\n",
       "wind_speed         351\n",
       "wind_direction     351\n",
       "rain_yn            384\n",
       "humid              333\n",
       "dtype: int64"
      ]
     },
     "execution_count": 3,
     "metadata": {},
     "output_type": "execute_result"
    }
   ],
   "source": [
    "# preprocessing\n",
    "df.drop('Unnamed: 0',axis=1,inplace=True)\n",
    "df = df[['site', 'date', 'so2', 'co', 'o3', 'no2', 'pm10', 'pm25', 'weather',\n",
    "       'wind_speed', 'wind_direction', 'rain_yn', 'humid']]\n",
    "df = df.iloc[:, [0,1,2,3,4,5,6,7,8,9,10,11,12]]\n",
    "df.loc[df['weather'] <= -30, 'weather' ] = np.float(\"nan\")\n",
    "df.isnull().sum()"
   ]
  },
  {
   "cell_type": "code",
   "execution_count": 4,
   "metadata": {},
   "outputs": [],
   "source": [
    "## EDA 위한 파생변수 ymd, md, month, season ,weekday, pm categori 추가\n",
    "def date_split(df) :\n",
    "    df['date'] = pd.to_datetime(df['date'], format='%Y-%m-%d %H:%M')\n",
    "    df['ymd'] = [d.date() for d in df['date']]\n",
    "    df['month'] = [d.month for d in df['date']]\n",
    "    df['time'] = [d.time() for d in df['date']]\n",
    "    df['time'] = df['time'].apply(lambda x: x.strftime('%H'))\n",
    "    df['md'] = df['ymd'].apply(lambda x: x.strftime('%m-%d'))\n",
    "    df['weekday'] =df['date'].apply(lambda x: x.strftime('%A'))\n",
    "def season(x):\n",
    "    if '05-31'>= x>='03-01':\n",
    "        return('봄')\n",
    "    elif '11-30' >= x >= '09-01':\n",
    "        return('가을')\n",
    "    elif '08-31' >=x >= '06-01':\n",
    "        return('여름')\n",
    "    else: return('겨울')\n",
    "\n",
    "def categorical_PM(x):\n",
    "    if 8>= x>=0:\n",
    "        return('0')\n",
    "    elif 15 >= x >= 9 :\n",
    "        return('1')\n",
    "    elif 20 >=x >= 16:\n",
    "        return('2')\n",
    "    elif 25 >=x >= 21:\n",
    "        return('3')\n",
    "    elif 37 >=x >= 26:\n",
    "        return('4')\n",
    "    elif 50 >=x >= 38:\n",
    "        return('5')\n",
    "    elif 75 >=x >= 51:\n",
    "        return('6')\n",
    "    else: return('7') "
   ]
  },
  {
   "cell_type": "code",
   "execution_count": 8,
   "metadata": {},
   "outputs": [],
   "source": [
    "# categorical modeling definition\n",
    "\n",
    "def categorical_modeling(models):\n",
    "    votingC = VotingClassifier(estimators=[(f'{m}' , m) for m in models], voting='hard')\n",
    " \n",
    "    votingC = votingC.fit(x_train, y_train)\n",
    "\n",
    "    #예측 진행\n",
    "    y_pred = votingC.predict(x_test) \n",
    "\n",
    "    # ACC, F1-score check\n",
    "    print(\"ACC : \", accuracy_score(y_test, y_pred))\n",
    "    print(\"f1-score : \", f1_score(y_test, y_pred, average='macro'))"
   ]
  },
  {
   "cell_type": "code",
   "execution_count": 5,
   "metadata": {},
   "outputs": [],
   "source": [
    "date_split(df)\n",
    "df = df.dropna()\n",
    "df['season'] = df['md'].apply(season)\n",
    "df['PM_categorical'] = df['pm25'].apply(categorical_PM)\n",
    "df['PM_categorical'] = df['PM_categorical'].astype('category')\n",
    "df = df[df['site']=='시화산단']\n",
    "df.drop(['date','site','md','ymd'],axis=1,inplace=True)\n",
    "df = df.reset_index(drop=True)"
   ]
  },
  {
   "cell_type": "code",
   "execution_count": 6,
   "metadata": {},
   "outputs": [],
   "source": [
    "#Rolling pm10, pm2.5 window= 24\n",
    "data = df.copy()\n",
    "data['pm10_window_24'] = data['pm10'].rolling(window=24).mean()\n",
    "data['pm25_window_24'] = data['pm25'].rolling(window=24).mean()\n",
    "# rolling 하며 생긴 na 값 제거\n",
    "data.dropna(inplace=True)\n",
    "random.seed(5)\n",
    "\n",
    "## x, y setting\n",
    "X = data.drop([\"pm25\",'pm10','PM_categorical'], axis=1)\n",
    "Y = data[\"PM_categorical\"]\n",
    "\n",
    "# one-hot encoding\n",
    "# object 변수만 해당\n",
    "for i in [\"season\", \"weekday\",'time']:\n",
    "    X[i] = pd.get_dummies(X[i])\n",
    "# trian / test split 0.8/ 0.2\n",
    "x_train, x_test, y_train, y_test = train_test_split(X, Y, test_size=0.2, random_state=0,stratify=Y)"
   ]
  },
  {
   "cell_type": "code",
   "execution_count": 9,
   "metadata": {},
   "outputs": [
    {
     "name": "stdout",
     "output_type": "stream",
     "text": [
      "ACC :  0.5476280834914611\n",
      "f1-score :  0.5535114968780477\n"
     ]
    }
   ],
   "source": [
    "# add lightGBM\n",
    "models = [RandomForestClassifier(n_estimators=n,random_state =5) for n in [50, 100, 200, 600]]\n",
    "models+=[GradientBoostingClassifier(n_estimators=n_e, learning_rate=0.05,\n",
    "                                   max_depth=4, max_features='sqrt',\n",
    "                                   min_samples_leaf=15, min_samples_split=10, \n",
    "                                   random_state =5) for n_e in [3000, 5000]]\n",
    "models+=[XGBClassifier(max_depth=10,n_estimators=n, random_state =5) for n in [50, 100,200,400]]\n",
    "models += [LGBMClassifier( n_estimators=n, max_depth=8, reg_alpha=0.041545473,\n",
    "            reg_lambda=0.0735294,\n",
    "            random_state=5)for n in [50,100,500,1000]]\n",
    "\n",
    "categorical_modeling(models)"
   ]
  },
  {
   "cell_type": "code",
   "execution_count": 18,
   "metadata": {},
   "outputs": [],
   "source": [
    "#Rolling pm10, pm2.5 window= 6\n",
    "data = df.copy()\n",
    "data['pm10_window_24'] = data['pm10'].rolling(window=6).mean()\n",
    "data['pm25_window_24'] = data['pm25'].rolling(window=6).mean()\n",
    "# rolling 하며 생긴 na 값 제거\n",
    "data.dropna(inplace=True)\n",
    "random.seed(5)\n",
    "\n",
    "## x, y setting\n",
    "X = data.drop([\"pm25\",'pm10','PM_categorical'], axis=1)\n",
    "Y = data[\"PM_categorical\"]\n",
    "\n",
    "# one-hot encoding\n",
    "# object 변수만 해당\n",
    "for i in [\"season\", \"weekday\",'time']:\n",
    "    X[i] = pd.get_dummies(X[i])\n",
    "# trian / test split 0.8/ 0.2\n",
    "x_train, x_test, y_train, y_test = train_test_split(X, Y, test_size=0.2, random_state=0,stratify=Y)"
   ]
  },
  {
   "cell_type": "code",
   "execution_count": 19,
   "metadata": {},
   "outputs": [
    {
     "name": "stdout",
     "output_type": "stream",
     "text": [
      "ACC :  0.5759757483895415\n",
      "f1-score :  0.5852071808106069\n"
     ]
    }
   ],
   "source": [
    "# add lightGBM\n",
    "models = [RandomForestClassifier(n_estimators=n,random_state =5) for n in [50, 100, 200, 600]]\n",
    "models+=[GradientBoostingClassifier(n_estimators=n_e, learning_rate=0.05,\n",
    "                                   max_depth=4, max_features='sqrt',\n",
    "                                   min_samples_leaf=15, min_samples_split=10, \n",
    "                                   random_state =5) for n_e in [3000, 5000]]\n",
    "models+=[XGBClassifier(max_depth=10,n_estimators=n, random_state =5) for n in [50, 100,200,400]]\n",
    "models += [LGBMClassifier( n_estimators=n, max_depth=8, reg_alpha=0.041545473,\n",
    "            reg_lambda=0.0735294,\n",
    "            random_state=5)for n in [50,100,500,1000]]\n",
    "\n",
    "categorical_modeling(models)"
   ]
  },
  {
   "cell_type": "code",
   "execution_count": 21,
   "metadata": {},
   "outputs": [
    {
     "name": "stdout",
     "output_type": "stream",
     "text": [
      "0 <class 'sklearn.ensemble.forest.RandomForestClassifier'>\n",
      "1 <class 'sklearn.ensemble.forest.RandomForestClassifier'>\n",
      "2 <class 'sklearn.ensemble.forest.RandomForestClassifier'>\n",
      "3 <class 'sklearn.ensemble.forest.RandomForestClassifier'>\n",
      "4 <class 'sklearn.ensemble.gradient_boosting.GradientBoostingClassifier'>\n",
      "5 <class 'sklearn.ensemble.gradient_boosting.GradientBoostingClassifier'>\n",
      "6 <class 'xgboost.sklearn.XGBClassifier'>\n",
      "7 <class 'xgboost.sklearn.XGBClassifier'>\n",
      "8 <class 'xgboost.sklearn.XGBClassifier'>\n",
      "9 <class 'xgboost.sklearn.XGBClassifier'>\n",
      "10 <class 'lightgbm.sklearn.LGBMClassifier'>\n",
      "11 <class 'lightgbm.sklearn.LGBMClassifier'>\n",
      "12 <class 'lightgbm.sklearn.LGBMClassifier'>\n",
      "13 <class 'lightgbm.sklearn.LGBMClassifier'>\n"
     ]
    },
    {
     "data": {
      "text/plain": [
       "[RandomForestClassifier(bootstrap=True, class_weight=None, criterion='gini',\n",
       "                        max_depth=None, max_features='auto', max_leaf_nodes=None,\n",
       "                        min_impurity_decrease=0.0, min_impurity_split=None,\n",
       "                        min_samples_leaf=1, min_samples_split=2,\n",
       "                        min_weight_fraction_leaf=0.0, n_estimators=600,\n",
       "                        n_jobs=None, oob_score=False, random_state=5, verbose=0,\n",
       "                        warm_start=False),\n",
       " RandomForestClassifier(bootstrap=True, class_weight=None, criterion='gini',\n",
       "                        max_depth=None, max_features='auto', max_leaf_nodes=None,\n",
       "                        min_impurity_decrease=0.0, min_impurity_split=None,\n",
       "                        min_samples_leaf=1, min_samples_split=2,\n",
       "                        min_weight_fraction_leaf=0.0, n_estimators=100,\n",
       "                        n_jobs=None, oob_score=False, random_state=5, verbose=0,\n",
       "                        warm_start=False),\n",
       " XGBClassifier(base_score=0.5, booster='gbtree', colsample_bylevel=1,\n",
       "               colsample_bynode=1, colsample_bytree=1, gamma=0,\n",
       "               learning_rate=0.1, max_delta_step=0, max_depth=10,\n",
       "               min_child_weight=1, missing=None, n_estimators=200, n_jobs=1,\n",
       "               nthread=None, objective='multi:softprob', random_state=5,\n",
       "               reg_alpha=0, reg_lambda=1, scale_pos_weight=1, seed=None,\n",
       "               silent=None, subsample=1, verbosity=1),\n",
       " XGBClassifier(base_score=0.5, booster='gbtree', colsample_bylevel=1,\n",
       "               colsample_bynode=1, colsample_bytree=1, gamma=0,\n",
       "               learning_rate=0.1, max_delta_step=0, max_depth=10,\n",
       "               min_child_weight=1, missing=None, n_estimators=400, n_jobs=1,\n",
       "               nthread=None, objective='multi:softprob', random_state=5,\n",
       "               reg_alpha=0, reg_lambda=1, scale_pos_weight=1, seed=None,\n",
       "               silent=None, subsample=1, verbosity=1),\n",
       " RandomForestClassifier(bootstrap=True, class_weight=None, criterion='gini',\n",
       "                        max_depth=None, max_features='auto', max_leaf_nodes=None,\n",
       "                        min_impurity_decrease=0.0, min_impurity_split=None,\n",
       "                        min_samples_leaf=1, min_samples_split=2,\n",
       "                        min_weight_fraction_leaf=0.0, n_estimators=200,\n",
       "                        n_jobs=None, oob_score=False, random_state=5, verbose=0,\n",
       "                        warm_start=False),\n",
       " RandomForestClassifier(bootstrap=True, class_weight=None, criterion='gini',\n",
       "                        max_depth=None, max_features='auto', max_leaf_nodes=None,\n",
       "                        min_impurity_decrease=0.0, min_impurity_split=None,\n",
       "                        min_samples_leaf=1, min_samples_split=2,\n",
       "                        min_weight_fraction_leaf=0.0, n_estimators=50,\n",
       "                        n_jobs=None, oob_score=False, random_state=5, verbose=0,\n",
       "                        warm_start=False),\n",
       " LGBMClassifier(boosting_type='gbdt', class_weight=None, colsample_bytree=1.0,\n",
       "                importance_type='split', learning_rate=0.1, max_depth=8,\n",
       "                min_child_samples=20, min_child_weight=0.001, min_split_gain=0.0,\n",
       "                n_estimators=1000, n_jobs=-1, num_leaves=31, objective=None,\n",
       "                random_state=5, reg_alpha=0.041545473, reg_lambda=0.0735294,\n",
       "                silent=True, subsample=1.0, subsample_for_bin=200000,\n",
       "                subsample_freq=0),\n",
       " XGBClassifier(base_score=0.5, booster='gbtree', colsample_bylevel=1,\n",
       "               colsample_bynode=1, colsample_bytree=1, gamma=0,\n",
       "               learning_rate=0.1, max_delta_step=0, max_depth=10,\n",
       "               min_child_weight=1, missing=None, n_estimators=100, n_jobs=1,\n",
       "               nthread=None, objective='multi:softprob', random_state=5,\n",
       "               reg_alpha=0, reg_lambda=1, scale_pos_weight=1, seed=None,\n",
       "               silent=None, subsample=1, verbosity=1),\n",
       " GradientBoostingClassifier(criterion='friedman_mse', init=None,\n",
       "                            learning_rate=0.05, loss='deviance', max_depth=4,\n",
       "                            max_features='sqrt', max_leaf_nodes=None,\n",
       "                            min_impurity_decrease=0.0, min_impurity_split=None,\n",
       "                            min_samples_leaf=15, min_samples_split=10,\n",
       "                            min_weight_fraction_leaf=0.0, n_estimators=3000,\n",
       "                            n_iter_no_change=None, presort='auto',\n",
       "                            random_state=5, subsample=1.0, tol=0.0001,\n",
       "                            validation_fraction=0.1, verbose=0,\n",
       "                            warm_start=False),\n",
       " XGBClassifier(base_score=0.5, booster='gbtree', colsample_bylevel=1,\n",
       "               colsample_bynode=1, colsample_bytree=1, gamma=0,\n",
       "               learning_rate=0.1, max_delta_step=0, max_depth=10,\n",
       "               min_child_weight=1, missing=None, n_estimators=50, n_jobs=1,\n",
       "               nthread=None, objective='multi:softprob', random_state=5,\n",
       "               reg_alpha=0, reg_lambda=1, scale_pos_weight=1, seed=None,\n",
       "               silent=None, subsample=1, verbosity=1),\n",
       " LGBMClassifier(boosting_type='gbdt', class_weight=None, colsample_bytree=1.0,\n",
       "                importance_type='split', learning_rate=0.1, max_depth=8,\n",
       "                min_child_samples=20, min_child_weight=0.001, min_split_gain=0.0,\n",
       "                n_estimators=500, n_jobs=-1, num_leaves=31, objective=None,\n",
       "                random_state=5, reg_alpha=0.041545473, reg_lambda=0.0735294,\n",
       "                silent=True, subsample=1.0, subsample_for_bin=200000,\n",
       "                subsample_freq=0),\n",
       " LGBMClassifier(boosting_type='gbdt', class_weight=None, colsample_bytree=1.0,\n",
       "                importance_type='split', learning_rate=0.1, max_depth=8,\n",
       "                min_child_samples=20, min_child_weight=0.001, min_split_gain=0.0,\n",
       "                n_estimators=100, n_jobs=-1, num_leaves=31, objective=None,\n",
       "                random_state=5, reg_alpha=0.041545473, reg_lambda=0.0735294,\n",
       "                silent=True, subsample=1.0, subsample_for_bin=200000,\n",
       "                subsample_freq=0),\n",
       " GradientBoostingClassifier(criterion='friedman_mse', init=None,\n",
       "                            learning_rate=0.05, loss='deviance', max_depth=4,\n",
       "                            max_features='sqrt', max_leaf_nodes=None,\n",
       "                            min_impurity_decrease=0.0, min_impurity_split=None,\n",
       "                            min_samples_leaf=15, min_samples_split=10,\n",
       "                            min_weight_fraction_leaf=0.0, n_estimators=5000,\n",
       "                            n_iter_no_change=None, presort='auto',\n",
       "                            random_state=5, subsample=1.0, tol=0.0001,\n",
       "                            validation_fraction=0.1, verbose=0,\n",
       "                            warm_start=False),\n",
       " LGBMClassifier(boosting_type='gbdt', class_weight=None, colsample_bytree=1.0,\n",
       "                importance_type='split', learning_rate=0.1, max_depth=8,\n",
       "                min_child_samples=20, min_child_weight=0.001, min_split_gain=0.0,\n",
       "                n_estimators=50, n_jobs=-1, num_leaves=31, objective=None,\n",
       "                random_state=5, reg_alpha=0.041545473, reg_lambda=0.0735294,\n",
       "                silent=True, subsample=1.0, subsample_for_bin=200000,\n",
       "                subsample_freq=0)]"
      ]
     },
     "execution_count": 21,
     "metadata": {},
     "output_type": "execute_result"
    }
   ],
   "source": [
    "#check top 10 modeling\n",
    "\n",
    "for i,m in enumerate(models):\n",
    "    print(i, m.__class__)\n",
    "    m.fit(x_train, y_train)\n",
    "models = sorted(models, key=lambda m: accuracy_score(y_test, m.predict(x_test)),reverse= True)\n",
    "models"
   ]
  },
  {
   "cell_type": "code",
   "execution_count": 23,
   "metadata": {
    "scrolled": true
   },
   "outputs": [
    {
     "name": "stdout",
     "output_type": "stream",
     "text": [
      "ACC :  0.4893939393939394\n",
      "f1-score :  0.49387781925641283\n"
     ]
    }
   ],
   "source": [
    "models = models[0:10]\n",
    "categorical_modeling(models)"
   ]
  },
  {
   "cell_type": "code",
   "execution_count": 13,
   "metadata": {},
   "outputs": [],
   "source": [
    "xgb_param = {'subsample': 0.3333333333333333, 'n_estimator': 1750, \n",
    "             'min_child_weight': 2.928571428571429, 'max_depth': 23, 'learning_rate': 0.06896551724137931}\n",
    "\n",
    "lgb_param = {'num_leaves': 43, 'n_estimator': 370, 'max_depth': 21, 'learning_rate': 0.10344827586206896, \n",
    "             'bagging_fraction': 0.8105263157894737}"
   ]
  },
  {
   "cell_type": "code",
   "execution_count": 16,
   "metadata": {},
   "outputs": [
    {
     "name": "stdout",
     "output_type": "stream",
     "text": [
      "ACC :  0.4871212121212121\n",
      "f1-score :  0.49137190788830487\n"
     ]
    }
   ],
   "source": [
    "# add lightGBM\n",
    "models = [RandomForestClassifier(n_estimators=n,random_state =5) for n in [50, 100, 200, 600]]\n",
    "models+=[XGBClassifier(subsample= 0.3333333333333333, n_estimator= 1750, \n",
    "             min_child_weight= 2.928571428571429, max_depth= 23, learning_rate= 0.06896551724137931, random_state =5) ]\n",
    "models += [LGBMClassifier(num_leaves = 43, n_estimator= 370, max_depth= 21, learning_rate =0.10344827586206896, \n",
    "             bagging_fraction= 0.8105263157894737, random_state=5)]\n",
    "models+=[GradientBoostingClassifier(n_estimators=n_e, learning_rate=0.05,\n",
    "                                   max_depth=4, max_features='sqrt',\n",
    "                                   min_samples_leaf=15, min_samples_split=10, \n",
    "                                   random_state =5) for n_e in [3000, 5000]]\n",
    "\n",
    "categorical_modeling(models)"
   ]
  },
  {
   "cell_type": "code",
   "execution_count": null,
   "metadata": {},
   "outputs": [],
   "source": [
    "# add lightGBM\n",
    "models = [RandomForestClassifier(n_estimators=n,random_state =5) for n in [50, 100, 200, 600]]\n",
    "models+=[GradientBoostingClassifier(n_estimators=n_e, learning_rate=0.05,\n",
    "                                   max_depth=4, max_features='sqrt',\n",
    "                                   min_samples_leaf=15, min_samples_split=10, \n",
    "                                   random_state =5) for n_e in [3000, 5000]]\n",
    "models+=[XGBClassifier(max_depth=10,n_estimators=n, random_state =5) for n in [50, 100,200,400]]\n",
    "models += [LGBMClassifier( n_estimators=n, max_depth=10, random_state=5)for n in [50,100,500,1000]]\n",
    "\n",
    "categorical_modeling(models)"
   ]
  },
  {
   "cell_type": "code",
   "execution_count": 20,
   "metadata": {},
   "outputs": [],
   "source": [
    "#Rolling pm10, pm2.5 window= 360\n",
    "data = df.copy()\n",
    "data['pm10_window_24'] = data['pm10'].rolling(window=360).mean()\n",
    "data['pm25_window_24'] = data['pm25'].rolling(window=360).mean()\n",
    "# rolling 하며 생긴 na 값 제거\n",
    "data.dropna(inplace=True)\n",
    "random.seed(5)\n",
    "\n",
    "## x, y setting\n",
    "X = data.drop([\"pm25\",'pm10','PM_categorical'], axis=1)\n",
    "Y = data[\"PM_categorical\"]\n",
    "\n",
    "# one-hot encoding\n",
    "# object 변수만 해당\n",
    "for i in [\"season\", \"weekday\",'time']:\n",
    "    X[i] = pd.get_dummies(X[i])\n",
    "# trian / test split 0.8/ 0.2\n",
    "x_train, x_test, y_train, y_test = train_test_split(X, Y, test_size=0.2, random_state=0,stratify=Y)"
   ]
  },
  {
   "cell_type": "code",
   "execution_count": 21,
   "metadata": {},
   "outputs": [
    {
     "name": "stdout",
     "output_type": "stream",
     "text": [
      "ACC :  0.5381619937694704\n",
      "f1-score :  0.5430236711020411\n"
     ]
    }
   ],
   "source": [
    "# add lightGBM\n",
    "models = [RandomForestClassifier(n_estimators=n,random_state =5) for n in [50, 100, 200, 600]]\n",
    "models+=[GradientBoostingClassifier(n_estimators=n_e, learning_rate=0.05,\n",
    "                                   max_depth=4, max_features='sqrt',\n",
    "                                   min_samples_leaf=15, min_samples_split=10, \n",
    "                                   random_state =5) for n_e in [3000, 5000]]\n",
    "models+=[XGBClassifier(max_depth=10,n_estimators=n, random_state =5) for n in [50, 100,200,400]]\n",
    "models += [LGBMClassifier( n_estimators=n, max_depth=8, reg_alpha=0.041545473,\n",
    "            reg_lambda=0.0735294,\n",
    "            random_state=5)for n in [50,100,500,1000]]\n",
    "\n",
    "categorical_modeling(models)"
   ]
  },
  {
   "cell_type": "code",
   "execution_count": 16,
   "metadata": {},
   "outputs": [],
   "source": [
    "#Rolling pm10, pm2.5 window= 720\n",
    "data = df.copy()\n",
    "data['pm10_window_24'] = data['pm10'].rolling(window=720).mean()\n",
    "data['pm25_window_24'] = data['pm25'].rolling(window=720).mean()\n",
    "# rolling 하며 생긴 na 값 제거\n",
    "data.dropna(inplace=True)\n",
    "random.seed(5)\n",
    "\n",
    "## x, y setting\n",
    "X = data.drop([\"pm25\",'pm10','PM_categorical'], axis=1)\n",
    "Y = data[\"PM_categorical\"]\n",
    "\n",
    "# one-hot encoding\n",
    "# object 변수만 해당\n",
    "for i in [\"season\", \"weekday\",'time']:\n",
    "    X[i] = pd.get_dummies(X[i])\n",
    "# trian / test split 0.8/ 0.2\n",
    "x_train, x_test, y_train, y_test = train_test_split(X, Y, test_size=0.2, random_state=0,stratify=Y)"
   ]
  },
  {
   "cell_type": "code",
   "execution_count": 17,
   "metadata": {},
   "outputs": [
    {
     "name": "stdout",
     "output_type": "stream",
     "text": [
      "ACC :  0.53125\n",
      "f1-score :  0.5393645130610237\n"
     ]
    }
   ],
   "source": [
    "# add lightGBM\n",
    "models = [RandomForestClassifier(n_estimators=n,random_state =5) for n in [50, 100, 200, 600]]\n",
    "models+=[GradientBoostingClassifier(n_estimators=n_e, learning_rate=0.05,\n",
    "                                   max_depth=4, max_features='sqrt',\n",
    "                                   min_samples_leaf=15, min_samples_split=10, \n",
    "                                   random_state =5) for n_e in [3000, 5000]]\n",
    "models+=[XGBClassifier(max_depth=10,n_estimators=n, random_state =5) for n in [50, 100,200,400]]\n",
    "models += [LGBMClassifier( n_estimators=n, max_depth=8, reg_alpha=0.041545473,\n",
    "            reg_lambda=0.0735294,\n",
    "            random_state=5)for n in [50,100,500,1000]]\n",
    "\n",
    "categorical_modeling(models)"
   ]
  },
  {
   "cell_type": "code",
   "execution_count": 6,
   "metadata": {},
   "outputs": [],
   "source": [
    "#Rolling pm2.5 window= 6\n",
    "data = df.copy()\n",
    "data['pm25_window_24'] = data['pm25'].rolling(window=6).mean()\n",
    "# rolling 하며 생긴 na 값 제거\n",
    "data.dropna(inplace=True)\n",
    "random.seed(5)\n",
    "\n",
    "## x, y setting\n",
    "X = data.drop([\"pm25\",'pm10','PM_categorical'], axis=1)\n",
    "Y = data[\"PM_categorical\"]\n",
    "\n",
    "# one-hot encoding\n",
    "# object 변수만 해당\n",
    "for i in [\"season\", \"weekday\",'time']:\n",
    "    X[i] = pd.get_dummies(X[i])\n",
    "# trian / test split 0.8/ 0.2\n",
    "x_train, x_test, y_train, y_test = train_test_split(X, Y, test_size=0.2, random_state=0,stratify=Y)"
   ]
  },
  {
   "cell_type": "code",
   "execution_count": 7,
   "metadata": {},
   "outputs": [
    {
     "name": "stdout",
     "output_type": "stream",
     "text": [
      "ACC :  0.5740810913224706\n",
      "f1-score :  0.5830367989971448\n"
     ]
    }
   ],
   "source": [
    "# add lightGBM\n",
    "models = [RandomForestClassifier(n_estimators=n,random_state =5) for n in [50, 100, 200, 600]]\n",
    "models+=[GradientBoostingClassifier(n_estimators=n_e, learning_rate=0.05,\n",
    "                                   max_depth=4, max_features='sqrt',\n",
    "                                   min_samples_leaf=15, min_samples_split=10, \n",
    "                                   random_state =5) for n_e in [3000, 5000]]\n",
    "models+=[XGBClassifier(max_depth=10,n_estimators=n, random_state =5) for n in [50, 100,200,400]]\n",
    "models += [LGBMClassifier( n_estimators=n, max_depth=8, reg_alpha=0.041545473,\n",
    "            reg_lambda=0.0735294,\n",
    "            random_state=5)for n in [50,100,500,1000]]\n",
    "\n",
    "categorical_modeling(models)"
   ]
  },
  {
   "cell_type": "code",
   "execution_count": 34,
   "metadata": {},
   "outputs": [
    {
     "name": "stdout",
     "output_type": "stream",
     "text": [
      "ACC :  0.5476280834914611\n",
      "f1-score :  0.5535114968780477\n"
     ]
    }
   ],
   "source": [
    "# add lightGBM\n",
    "models = [RandomForestClassifier(n_estimators=n,random_state =5) for n in [50, 100, 200, 600]]\n",
    "models+=[GradientBoostingClassifier(n_estimators=n_e, learning_rate=0.05,\n",
    "                                   max_depth=4, max_features='sqrt',\n",
    "                                   min_samples_leaf=15, min_samples_split=10, \n",
    "                                   random_state =5) for n_e in [3000, 5000]]\n",
    "# models += [RandomForestClassifier(n_estimators=770, min_samples_split=3, max_depth=17,random_state =5)]\n",
    "models+=[XGBClassifier(max_depth=10,n_estimators=n, random_state =5) for n in [50, 100,200,400]]\n",
    "models += [LGBMClassifier( n_estimators=n, max_depth=8, reg_alpha=0.041545473,\n",
    "            reg_lambda=0.0735294,\n",
    "            random_state=5)for n in [50,100,500,1000]]\n",
    "\n",
    "categorical_modeling(models)"
   ]
  },
  {
   "cell_type": "code",
   "execution_count": 32,
   "metadata": {},
   "outputs": [
    {
     "name": "stdout",
     "output_type": "stream",
     "text": [
      "ACC :  0.5313092979127134\n",
      "f1-score :  0.5402539389813801\n"
     ]
    }
   ],
   "source": [
    "# parameter tunning\n",
    "models = [RandomForestClassifier(n_estimators=n,random_state =5) for n in [50, 100, 200, 600]]\n",
    "# models = [RandomForestClassifier(n_estimators=770, min_samples_split=3, max_depth=17,random_state =5)]\n",
    "models=[GradientBoostingClassifier(n_estimators=n_e, learning_rate=0.05,\n",
    "                                   max_depth=4, max_features='sqrt',\n",
    "                                   min_samples_leaf=15, min_samples_split=10, \n",
    "                                   random_state =5) for n_e in [3000, 5000]]\n",
    "# models+=[XGBClassifier(max_depth=10,n_estimators=n, random_state =5) for n in [50, 100,200,400]]\n",
    "models+=[XGBClassifier(subsample= 0.3333333333333333, n_estimator= 1750, \n",
    "             min_child_weight= 2.928571428571429, max_depth= 23, learning_rate= 0.06896551724137931, random_state =5) ]\n",
    "# models += [LGBMClassifier( n_estimators=n, max_depth=8, reg_alpha=0.041545473,\n",
    "#             reg_lambda=0.0735294,\n",
    "#             random_state=5)for n in [50,100,500,1000]]\n",
    "models += [LGBMClassifier(num_leaves= 43, n_estimator= 370, max_depth= 21, learning_rate= 0.10344827586206896, \n",
    "             bagging_fraction= 0.8105263157894737)]\n",
    "\n",
    "categorical_modeling(models)"
   ]
  },
  {
   "cell_type": "code",
   "execution_count": 29,
   "metadata": {},
   "outputs": [
    {
     "name": "stdout",
     "output_type": "stream",
     "text": [
      "RandomizedSearchCV 최적의 파라미터 :  {'subsample': 1.0, 'n_estimator': 1510, 'min_child_weight': 15.0, 'max_depth': 7, 'learning_rate': 0.24137931034482757, 'gamma': 0.0, 'colsample_bytree': 0.9357142857142858}\n",
      "RandomizedSearchCV 최고 정확도 :  0.49221863731258303\n",
      "ACC :  0.5119544592030361\n",
      "f1-score :  0.5191013578454415\n"
     ]
    }
   ],
   "source": [
    "# Random Search CV (XGB)\n",
    "param = {'max_depth': list(range(4, 25)),\n",
    "         'learning_rate' : list(np.linspace(0, 1, 30)),\n",
    "         'gamma' : list(np.linspace(0,10,5)),\n",
    "         'n_estimator' : list(range(10, 3000, 50)),\n",
    "         'min_child_weight' : list(np.linspace(1, 15, 20)),\n",
    "         'subsample' : list(np.linspace(0, 1, 10)),\n",
    "         'colsample_bytree' : list(np.linspace(0.1,1,15))\n",
    "}\n",
    "# Xgboost\n",
    "model = XGBClassifier(objective='multi:softprob',random_state =5)\n",
    "\n",
    "xgb_model = RandomizedSearchCV(estimator= model, param_distributions = param, cv = 5)\n",
    "xgb_model.fit(x_train, y_train)\n",
    "\n",
    "print(\"RandomizedSearchCV 최적의 파라미터 : \", xgb_model.best_params_)\n",
    "print(\"RandomizedSearchCV 최고 정확도 : \", xgb_model.best_score_)\n",
    "\n",
    "best_model = xgb_model.best_estimator_\n",
    "\n",
    "y_pred = best_model.predict(x_test)\n",
    "print(\"ACC : \", accuracy_score(y_test, y_pred))\n",
    "print(\"f1-score : \", f1_score(y_test, y_pred, average='macro'))"
   ]
  },
  {
   "cell_type": "code",
   "execution_count": 30,
   "metadata": {},
   "outputs": [
    {
     "name": "stdout",
     "output_type": "stream",
     "text": [
      "RandomizedSearchCV 최적의 파라미터 :  {'n_estimators': 1210, 'min_samples_split': 5, 'max_depth': 24}\n",
      "RandomizedSearchCV 최고 정확도 :  0.5293224520781932\n",
      "ACC :  0.5525616698292221\n",
      "f1-score :  0.5581427632555604\n"
     ]
    }
   ],
   "source": [
    "# Random Search CV (RF)\n",
    "param = {'max_depth': list(range(4, 25)),\n",
    "         \"n_estimators\" : list(range(10, 3000, 30)),\n",
    "         'min_samples_split' : list(range(2,10))\n",
    "}\n",
    "# Xgboost\n",
    "model = RandomForestClassifier(random_state =5)\n",
    "\n",
    "rf_model = RandomizedSearchCV(estimator= model, param_distributions = param, cv = 5)\n",
    "rf_model.fit(x_train, y_train)\n",
    "\n",
    "print(\"RandomizedSearchCV 최적의 파라미터 : \", rf_model.best_params_)\n",
    "print(\"RandomizedSearchCV 최고 정확도 : \", rf_model.best_score_)\n",
    "\n",
    "best_model = rf_model.best_estimator_\n",
    "\n",
    "y_pred = best_model.predict(x_test)\n",
    "print(\"ACC : \", accuracy_score(y_test, y_pred))\n",
    "print(\"f1-score : \", f1_score(y_test, y_pred, average='macro'))"
   ]
  },
  {
   "cell_type": "code",
   "execution_count": 31,
   "metadata": {},
   "outputs": [
    {
     "name": "stdout",
     "output_type": "stream",
     "text": [
      "RandomizedSearchCV 최적의 파라미터 :  {'num_leaves': 20, 'n_estimator': 360, 'max_depth': 15, 'learning_rate': 0.5172413793103449, 'bagging_fraction': 0.667}\n",
      "RandomizedSearchCV 최고 정확도 :  0.49819700132852535\n",
      "ACC :  0.5203036053130929\n",
      "f1-score :  0.5327145151630901\n"
     ]
    }
   ],
   "source": [
    "# Random Search CV (LGBM)\n",
    "param = {'max_depth': list(range(4, 25)),\n",
    "         'learning_rate' : list(np.linspace(0, 1, 30)),\n",
    "         'num_leaves' : list(range(1,50)),\n",
    "         'n_estimator' : list(range(10, 3000, 50)),\n",
    "         'bagging_fraction' : list(np.linspace(0.001, 1, 10))\n",
    "}\n",
    "# LightGBM\n",
    "model = LGBMClassifier(random_state =5)\n",
    "\n",
    "lgb_model = RandomizedSearchCV(estimator= model, param_distributions = param, cv = 5)\n",
    "lgb_model.fit(x_train, y_train)\n",
    "\n",
    "print(\"RandomizedSearchCV 최적의 파라미터 : \", lgb_model.best_params_)\n",
    "print(\"RandomizedSearchCV 최고 정확도 : \", lgb_model.best_score_)\n",
    "\n",
    "best_model = lgb_model.best_estimator_\n",
    "\n",
    "y_pred = best_model.predict(x_test)\n",
    "print(\"ACC : \", accuracy_score(y_test, y_pred))\n",
    "print(\"f1-score : \", f1_score(y_test, y_pred, average='macro'))"
   ]
  },
  {
   "cell_type": "code",
   "execution_count": null,
   "metadata": {},
   "outputs": [],
   "source": [
    "#blending and stacking\n",
    "\n"
   ]
  },
  {
   "cell_type": "code",
   "execution_count": null,
   "metadata": {},
   "outputs": [],
   "source": []
  },
  {
   "cell_type": "code",
   "execution_count": null,
   "metadata": {},
   "outputs": [],
   "source": []
  }
 ],
 "metadata": {
  "kernelspec": {
   "display_name": "Python 3",
   "language": "python",
   "name": "python3"
  },
  "language_info": {
   "codemirror_mode": {
    "name": "ipython",
    "version": 3
   },
   "file_extension": ".py",
   "mimetype": "text/x-python",
   "name": "python",
   "nbconvert_exporter": "python",
   "pygments_lexer": "ipython3",
   "version": "3.7.4"
  }
 },
 "nbformat": 4,
 "nbformat_minor": 2
}
