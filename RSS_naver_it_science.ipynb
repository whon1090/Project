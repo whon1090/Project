{
 "cells": [
  {
   "cell_type": "markdown",
   "metadata": {},
   "source": [
    "# Documentation  \n",
    "\n",
    "Anaconda 2019.07 버전의 python 3.7.4 defalut 값으로 진행  \n",
    "  \n",
    "Python = 3.7.4  \n",
    "Pandas = 0.25.1   \n",
    "Numpy = 1.16.5  \n",
    "urllib3 = 1.24.2  \n",
    "BeautifulSoup = 4.8.0  \n",
    "requests = 2.22.0   "
   ]
  },
  {
   "cell_type": "code",
   "execution_count": 1,
   "metadata": {},
   "outputs": [],
   "source": [
    "#import module\n",
    "\n",
    "import pandas as pd\n",
    "import numpy as np\n",
    "import time\n",
    "import re\n",
    "import os\n",
    "import datetime as dt\n",
    "\n",
    "import urllib3\n",
    "from bs4 import BeautifulSoup\n",
    "import requests\n",
    "\n",
    "import selenium\n",
    "\n",
    "from selenium import webdriver\n",
    "from selenium.webdriver.common.keys import Keys\n",
    "from selenium.webdriver.support.ui import Select\n",
    "\n",
    "import warnings\n",
    "warnings.filterwarnings(action='ignore')"
   ]
  },
  {
   "cell_type": "markdown",
   "metadata": {},
   "source": [
    "\n",
    "### 다른 사이트의 경우 IT이외의 다른 분야의 기사가 많이 혼재하여 선제적으로  \n",
    "### 네이버 뉴스 IT/과학의 헤드라인, ITWorld korea의 머신러닝, 클라우드, 빅데이터 파트,  ZDnet의 인공지능 파트에서\n",
    "### 데이터 추출 예정\n",
    "\n",
    "IT/과학 헤드라인의 헤드라인 더보기 전까지 기사의 제목과 URL을 추출후 DataFrame안에 저장하여 기록  \n",
    "이후 저장한 URL에 개별 접속하여 기사의 본문을 가져와서 저장하는 형식으로 진행\n"
   ]
  },
  {
   "cell_type": "code",
   "execution_count": 2,
   "metadata": {},
   "outputs": [
    {
     "data": {
      "text/html": [
       "<div>\n",
       "<style scoped>\n",
       "    .dataframe tbody tr th:only-of-type {\n",
       "        vertical-align: middle;\n",
       "    }\n",
       "\n",
       "    .dataframe tbody tr th {\n",
       "        vertical-align: top;\n",
       "    }\n",
       "\n",
       "    .dataframe thead th {\n",
       "        text-align: right;\n",
       "    }\n",
       "</style>\n",
       "<table border=\"1\" class=\"dataframe\">\n",
       "  <thead>\n",
       "    <tr style=\"text-align: right;\">\n",
       "      <th></th>\n",
       "      <th>title</th>\n",
       "      <th>url</th>\n",
       "    </tr>\n",
       "  </thead>\n",
       "  <tbody>\n",
       "    <tr>\n",
       "      <th>0</th>\n",
       "      <td>네이버쇼핑 2% 수수료 논란…네이버 \"검색노출 대가, 판매 수수료 아니다\"</td>\n",
       "      <td>https://news.naver.com/main/read.nhn?mode=LSD&amp;...</td>\n",
       "    </tr>\n",
       "    <tr>\n",
       "      <th>1</th>\n",
       "      <td>네이버 \"스마트스토어 수수료 업계 최저…네이버쇼핑 입점 필수 아냐\"</td>\n",
       "      <td>https://news.naver.com/main/read.nhn?mode=LSD&amp;...</td>\n",
       "    </tr>\n",
       "    <tr>\n",
       "      <th>2</th>\n",
       "      <td>네이버, 스마트스토어 횡포 사실과 달라..‘검색 의존성 적다’ 반박</td>\n",
       "      <td>https://news.naver.com/main/read.nhn?mode=LSD&amp;...</td>\n",
       "    </tr>\n",
       "    <tr>\n",
       "      <th>3</th>\n",
       "      <td>네이버 \"스마트스토어 고액 수수료·고정비, 사실 아냐\"</td>\n",
       "      <td>https://news.naver.com/main/read.nhn?mode=LSD&amp;...</td>\n",
       "    </tr>\n",
       "    <tr>\n",
       "      <th>4</th>\n",
       "      <td>방통위, '국제 방송 축제'서 '한국 집중 조명' 기회 살린다</td>\n",
       "      <td>https://news.naver.com/main/read.nhn?mode=LSD&amp;...</td>\n",
       "    </tr>\n",
       "    <tr>\n",
       "      <th>5</th>\n",
       "      <td>'펭수·스카이캐슬·복면가왕' 성공사례 세계에 알린다</td>\n",
       "      <td>https://news.naver.com/main/read.nhn?mode=LSD&amp;...</td>\n",
       "    </tr>\n",
       "    <tr>\n",
       "      <th>6</th>\n",
       "      <td>고화질 영상 삼성 vs 첫 5G폰 애플…'10월 대전' 승자는</td>\n",
       "      <td>https://news.naver.com/main/read.nhn?mode=LSD&amp;...</td>\n",
       "    </tr>\n",
       "    <tr>\n",
       "      <th>7</th>\n",
       "      <td>애플 아이폰12, 비싸지고 많아진다</td>\n",
       "      <td>https://news.naver.com/main/read.nhn?mode=LSD&amp;...</td>\n",
       "    </tr>\n",
       "    <tr>\n",
       "      <th>8</th>\n",
       "      <td>\"올 들어 韓 5G폰 가격, 30% 가까이 내려\"</td>\n",
       "      <td>https://news.naver.com/main/read.nhn?mode=LSD&amp;...</td>\n",
       "    </tr>\n",
       "    <tr>\n",
       "      <th>9</th>\n",
       "      <td>5G 스마트폰 평균가 30% 가량 하락... \"내년엔 20만원대 등장\"</td>\n",
       "      <td>https://news.naver.com/main/read.nhn?mode=LSD&amp;...</td>\n",
       "    </tr>\n",
       "  </tbody>\n",
       "</table>\n",
       "</div>"
      ],
      "text/plain": [
       "                                       title  \\\n",
       "0  네이버쇼핑 2% 수수료 논란…네이버 \"검색노출 대가, 판매 수수료 아니다\"   \n",
       "1      네이버 \"스마트스토어 수수료 업계 최저…네이버쇼핑 입점 필수 아냐\"   \n",
       "2      네이버, 스마트스토어 횡포 사실과 달라..‘검색 의존성 적다’ 반박   \n",
       "3             네이버 \"스마트스토어 고액 수수료·고정비, 사실 아냐\"   \n",
       "4         방통위, '국제 방송 축제'서 '한국 집중 조명' 기회 살린다   \n",
       "5               '펭수·스카이캐슬·복면가왕' 성공사례 세계에 알린다   \n",
       "6         고화질 영상 삼성 vs 첫 5G폰 애플…'10월 대전' 승자는   \n",
       "7                        애플 아이폰12, 비싸지고 많아진다   \n",
       "8                \"올 들어 韓 5G폰 가격, 30% 가까이 내려\"   \n",
       "9    5G 스마트폰 평균가 30% 가량 하락... \"내년엔 20만원대 등장\"   \n",
       "\n",
       "                                                 url  \n",
       "0  https://news.naver.com/main/read.nhn?mode=LSD&...  \n",
       "1  https://news.naver.com/main/read.nhn?mode=LSD&...  \n",
       "2  https://news.naver.com/main/read.nhn?mode=LSD&...  \n",
       "3  https://news.naver.com/main/read.nhn?mode=LSD&...  \n",
       "4  https://news.naver.com/main/read.nhn?mode=LSD&...  \n",
       "5  https://news.naver.com/main/read.nhn?mode=LSD&...  \n",
       "6  https://news.naver.com/main/read.nhn?mode=LSD&...  \n",
       "7  https://news.naver.com/main/read.nhn?mode=LSD&...  \n",
       "8  https://news.naver.com/main/read.nhn?mode=LSD&...  \n",
       "9  https://news.naver.com/main/read.nhn?mode=LSD&...  "
      ]
     },
     "execution_count": 2,
     "metadata": {},
     "output_type": "execute_result"
    }
   ],
   "source": [
    "news = 'https://news.naver.com/main/main.nhn?mode=LSD&mid=shm&sid1=105' ## IT/과학 헤드라인 뉴스  url\n",
    "\n",
    "res = requests.get(news, headers={'User-Agent':'Chrome/85.0.4183.121'},verify = False) \n",
    "# requests이용하여 뉴스 주소 Load, 네이버 크롬 차단 방지 위해 chrome version을 입력하고 뉴스 주소를 설정\n",
    "# SSL ERROR 방지를 위해 Verify False 설정\n",
    "soup = BeautifulSoup(res.text, \"html.parser\") # html기준으로 parsing\n",
    "\n",
    "title_list =[] # 제목을 저장하기 위한 list 생성\n",
    "url_list = [] #URL을 저장하기 위한 list 생성\n",
    "\n",
    "results = soup.select(\"#main_content a\")  # 기사 제목과 URL이 모두 html main_content a에 저장되어 있어서 해당 부분을 select하여 추출\n",
    "\n",
    "\n",
    "# 제목, 링크 출력 ---------------------------(2)\n",
    "for result in results:\n",
    "    if result.string == None: # 값이 존재하지 않을 경우 해당 루프 건너 뜀\n",
    "        continue\n",
    "    \n",
    "    if result.attrs['href'] in ['#'] : # 헤드라인 더보기의 end code가 #이므로 #일 경우 loop문을 Break하여 종료함\n",
    "        break\n",
    "    \n",
    "    if result.attrs['href'].startswith('http') == False : \n",
    "        # 해당 href에서 url 코드가 http로 시작하지 않을경우 url이 아니라고 판단하여 해당 부분 skip\n",
    "        continue\n",
    "    \n",
    "\n",
    "    title_list.append(str.strip(result.string)) #기록된 기사 제목을 리스트에 추가\n",
    "    url_list.append(result.attrs['href']) #기록된 기사 URL을 리스트에 추가\n",
    "\n",
    "\n",
    "df = pd.DataFrame({'title': title_list,'url':url_list}) # 기사제목과, URL을 dataframe에 임시 저장\n",
    "df['title'] = df.title.str.replace('\\\\',\"\") # 따옴표가  &apos 형태로 기록되어 해당 문자를 따옴표로 대체\n",
    "df.head(10)"
   ]
  },
  {
   "cell_type": "markdown",
   "metadata": {},
   "source": [
    "### 네이버 뉴스는 IT/과학이기 때문에 과학과 관련된 단어 리스트 추가를 통해\n",
    "### 과학과 관련된 뉴스를 최대한 제거하는 작업이 필요하다고 판단된다\n",
    "\n",
    "이를 위해 과학에 국한된 단어 리스트를 추가하여 기사 제목이나 본문에 해당 단어 빈도수가 높을 경우 제거\n",
    "\n",
    "science_list = ['노벨','노벨화학상','화학','과학자'] # 10.08일자 과학 단어 list\n",
    "\n",
    "샘플 코드로서 저장된 URL중 하나에 접속하여 해당 기사의 제목과 본문 추출\n"
   ]
  },
  {
   "cell_type": "code",
   "execution_count": 3,
   "metadata": {},
   "outputs": [],
   "source": [
    "science_list = ['노벨','노벨화학상','화학','과학자'] # 10.08일자 과학 단어 list"
   ]
  },
  {
   "cell_type": "markdown",
   "metadata": {},
   "source": [
    "샘플 코드로서 저장된 URL중 하나에 접속하여 해당 기사의 제목과 본문 추출"
   ]
  },
  {
   "cell_type": "code",
   "execution_count": 4,
   "metadata": {},
   "outputs": [
    {
     "data": {
      "text/plain": [
       "<div class=\"_article_body_contents\" id=\"articleBodyContents\">\n",
       "<!-- 본문 내용 -->\n",
       "<!-- TV플레이어 -->\n",
       "<!-- // TV플레이어 -->\n",
       "\n",
       "\n",
       "\n",
       "<strong>7일 국회 과방위 과기정통부 국정감사서 '구글 수수료 30%' 관련 정부 대책 마련 촉구</strong>\n",
       "\n",
       "[더팩트│최수진 기자] 국회에서 구글의 수수료 30% 정책에 대한 우려의 목소리가 나왔다. 정부가 적극적으로 나서서 글로벌 IT 공룡의 갑질을 막아야 한다는 주장이다.\n",
       "\n",
       "7일 국회 과학기술방송통신위원회(과방위)의 과기정통부 국정감사에서 한준호 더불어민주당 의원은 \"세계에서 두 번째로 큰 인터넷 시장인 인도에서 150개 스타트업 기업들이 비공식적으로 연합해 구글의 인앱결제 정책을 2022년 4월까지 연기했다\"며 \"인도에서는 구글이 무릎을 꿇은 것이다. 구글플레이 마켓 규모로 보면 인도 시장보다 국내 시장이 크다. 우리도 정부 차원에서 스타트업들과 함께 인도 사례를 참고해서 구글과 협상해야 한다\"고 말했다.\n",
       "\n",
       "이어 \"정부에서 믿음을 줘야 한다\"며 \"엔씨소프트 같은 경우도 왜 참고인 출석을 안 했겠냐. 구글의 눈치를 보는 것이다. 기업이 눈치를 보지 않도록 정부가 우리 스타트업과 기업들을 보살펴주고 방패가 될 필요가 있다\"고 덧붙였다.\n",
       "\n",
       "앞서 구글은 지난 9월 온라인 간담회를 열고, 내년부터 플레이스토어에 등록된 모든 앱 및 콘텐츠에 일괄적으로 30%의 수수료를 부과한다고 밝혔다. 이와 함께 인앱결제(IAP)도 강제한다. 신규 앱은 내년 1월 20일부터 적용되며, 기존 앱은 내년 10월부터 변경된다.\n",
       "\n",
       "문제는 구글의 결정을 따르지 않는 업체가 플레이스토어에서 퇴출당할 가능성이 존재한다는 점이다. 이에 국감에서도 관련된 우려를 표명했다.\n",
       "\n",
       "\n",
       "\n",
       "홍정민 더불어민주당 의원 역시 \"보통 규제라고 하면 시장이나 정부를 보는 입장에 따라 찬반이 갈리는데 구글 사안에 대해서는 모두 한목소리를 내고 있다\"며 \"정부가 나서서 공정거래법, 전기통신사업법 등 적용해 규제해주길 바라고 있다. 정부가 개입을 안 하면 스타트업같이 취약한 경우는 앱 생태계 자체가 무너질 수 있는 중대한 사안\"이라고 강조했다.\n",
       "\n",
       "이어 그는 \"스타트업을 비롯해 인터넷 콘텐츠 업계에서는 구글의 인앱결제 강행에 대해 국회와 정부의 개입을 강력히 요구하고 있다\"며 \"구글의 시장지배적 지위 때문에 신원이 드러나는 것을 두려워하고 있다. 그래서 국감 증인 신청도 어려운 상황이다. 공개적으로 비판하거나 협상을 요청해 기업의 신분이 드러나면 구글로부터 불이익을 당할까 두려워하는 것이다. 구글 인앱결제 강제는 스타트업이 감당할 수 없는 수준이다. 정치권이 제 역할을 다해야 할 시점\"이라고 강조했다.\n",
       "\n",
       "이에 최기영 과기정통부 장관은 \"구글 인앱결제와 관련해 우리 기업이 입을 피해에 대한 실태조사를 이달 말까지 완료할 계획\"이라며 \" 불공정한 상황에서 선의의 피해자가 생기지 않아야 한다. 그런 관점에서 최대한 좋은 결과를 낼 수 있도록 하겠다\"고 밝혔다.\n",
       "\n",
       "jinny0618@tf.co.kr\n",
       "\n",
       "\n",
       "\n",
       "\n",
       "\n",
       "\n",
       "저작권자 ⓒ 특종에 강한 더팩트 &amp; tf.co.kr 무단 전재 및 재배포 금지\n",
       "\t<!-- // 본문 내용 -->\n",
       "</div>"
      ]
     },
     "execution_count": 4,
     "metadata": {},
     "output_type": "execute_result"
    }
   ],
   "source": [
    "url =' https://news.naver.com/main/read.nhn?mode=LSD&mid=shm&sid1=105&oid=629&aid=0000045669'\n",
    "title_list2 =[]\n",
    "news_list2 = []\n",
    "\n",
    "\n",
    "responce = requests.get(url, headers={'User-Agent':'Chrome/85.0.4183.121'},verify = False) \n",
    "news = BeautifulSoup(responce.text,'html.parser')\n",
    "content = news.select(\"#articleBodyContents\")\n",
    "\n",
    "\n",
    "news_content = content[0]\n",
    "\n",
    "for target in news_content.find_all('script'):\n",
    "    target.extract()\n",
    "\n",
    "for target in news_content.find_all('a'):\n",
    "    target.extract()\n",
    "\n",
    "for target in news_content.find_all('span'):\n",
    "    target.extract()\n",
    "\n",
    "for target in news_content.find_all('div'):\n",
    "    target.extract()\n",
    "    \n",
    "for target in news_content.find_all('iframe'):\n",
    "    target.extract()\n",
    "\n",
    "    \n",
    "for target in news_content.find_all('br'):\n",
    "    target.replace_with(\"\\n\")    \n",
    "\n",
    "    \n",
    "news_content\n"
   ]
  },
  {
   "cell_type": "markdown",
   "metadata": {},
   "source": [
    "해당 내용을 Text로 전환, 기사와 유사하게 하기 위해 Selenium 사용시 '\\n'일 경우 enter를 입력하게 하여 기사 붙여넣기 할 예정\n"
   ]
  },
  {
   "cell_type": "code",
   "execution_count": 7,
   "metadata": {},
   "outputs": [
    {
     "data": {
      "text/plain": [
       "'\\n\\n\\n\\n\\n\\n\\n7일 국회 과방위 과기정통부 국정감사서 구글 수수료 30% 관련 정부 대책 마련 촉구\\n\\n[더팩트│최수진 기자] 국회에서 구글의 수수료 30% 정책에 대한 우려의 목소리가 나왔다. 정부가 적극적으로 나서서 글로벌 IT 공룡의 갑질을 막아야 한다는 주장이다.\\n\\n7일 국회 과학기술방송통신위원회(과방위)의 과기정통부 국정감사에서 한준호 더불어민주당 의원은 \"세계에서 두 번째로 큰 인터넷 시장인 인도에서 150개 스타트업 기업들이 비공식적으로 연합해 구글의 인앱결제 정책을 2022년 4월까지 연기했다\"며 \"인도에서는 구글이 무릎을 꿇은 것이다. 구글플레이 마켓 규모로 보면 인도 시장보다 국내 시장이 크다. 우리도 정부 차원에서 스타트업들과 함께 인도 사례를 참고해서 구글과 협상해야 한다\"고 말했다.\\n\\n이어 \"정부에서 믿음을 줘야 한다\"며 \"엔씨소프트 같은 경우도 왜 참고인 출석을 안 했겠냐. 구글의 눈치를 보는 것이다. 기업이 눈치를 보지 않도록 정부가 우리 스타트업과 기업들을 보살펴주고 방패가 될 필요가 있다\"고 덧붙였다.\\n\\n앞서 구글은 지난 9월 온라인 간담회를 열고, 내년부터 플레이스토어에 등록된 모든 앱 및 콘텐츠에 일괄적으로 30%의 수수료를 부과한다고 밝혔다. 이와 함께 인앱결제(IAP)도 강제한다. 신규 앱은 내년 1월 20일부터 적용되며, 기존 앱은 내년 10월부터 변경된다.\\n\\n문제는 구글의 결정을 따르지 않는 업체가 플레이스토어에서 퇴출당할 가능성이 존재한다는 점이다. 이에 국감에서도 관련된 우려를 표명했다.\\n\\n\\n\\n홍정민 더불어민주당 의원 역시 \"보통 규제라고 하면 시장이나 정부를 보는 입장에 따라 찬반이 갈리는데 구글 사안에 대해서는 모두 한목소리를 내고 있다\"며 \"정부가 나서서 공정거래법, 전기통신사업법 등 적용해 규제해주길 바라고 있다. 정부가 개입을 안 하면 스타트업같이 취약한 경우는 앱 생태계 자체가 무너질 수 있는 중대한 사안\"이라고 강조했다.\\n\\n이어 그는 \"스타트업을 비롯해 인터넷 콘텐츠 업계에서는 구글의 인앱결제 강행에 대해 국회와 정부의 개입을 강력히 요구하고 있다\"며 \"구글의 시장지배적 지위 때문에 신원이 드러나는 것을 두려워하고 있다. 그래서 국감 증인 신청도 어려운 상황이다. 공개적으로 비판하거나 협상을 요청해 기업의 신분이 드러나면 구글로부터 불이익을 당할까 두려워하는 것이다. 구글 인앱결제 강제는 스타트업이 감당할 수 없는 수준이다. 정치권이 제 역할을 다해야 할 시점\"이라고 강조했다.\\n\\n이에 최기영 과기정통부 장관은 \"구글 인앱결제와 관련해 우리 기업이 입을 피해에 대한 실태조사를 이달 말까지 완료할 계획\"이라며 \" 불공정한 상황에서 선의의 피해자가 생기지 않아야 한다. 그런 관점에서 최대한 좋은 결과를 낼 수 있도록 하겠다\"고 밝혔다.\\n\\njinny0618@tf.co.kr\\n\\n\\n\\n\\n\\n\\n저작권자 ⓒ 특종에 강한 더팩트 & tf.co.kr 무단 전재 및 재배포 금지\\n\\n'"
      ]
     },
     "execution_count": 7,
     "metadata": {},
     "output_type": "execute_result"
    }
   ],
   "source": [
    "news_text = news_content.get_text()\n",
    "news_text = news_text.replace(\"\\t\", \"\").replace('\\'','')\n",
    "news_text\n"
   ]
  },
  {
   "cell_type": "code",
   "execution_count": 8,
   "metadata": {},
   "outputs": [
    {
     "data": {
      "text/plain": [
       "[<li class=\"cluster_item as_line\">\n",
       " <div class=\"cluster_text\">\n",
       " <div class=\"cluster_text_info _rcount\" data-comment=\"{gno:'news092,0002201563',params:{sid1:'105'},nclicks:'cmt.count','type':'sectionHomeCluster'}\">\n",
       " <div class=\"cluster_text_press\">ZDNet Korea</div>\n",
       " </div>\n",
       " <a class=\"cluster_text_headline nclicks(cls_sci.clsart)\" href=\"https://news.naver.com/main/read.nhn?mode=LSD&amp;mid=shm&amp;sid1=105&amp;oid=092&amp;aid=0002201563\">네이버 \"스마트스토어 수수료 업계 최저…네이버쇼핑 입점 필수 아냐\"</a>\n",
       " </div>\n",
       " </li>, <li class=\"cluster_item as_line\">\n",
       " <div class=\"cluster_text\">\n",
       " <div class=\"cluster_text_info _rcount\" data-comment=\"{gno:'news018,0004756685',params:{sid1:'105'},nclicks:'cmt.count','type':'sectionHomeCluster'}\">\n",
       " <div class=\"cluster_text_press\">이데일리</div>\n",
       " </div>\n",
       " <a class=\"cluster_text_headline nclicks(cls_sci.clsart)\" href=\"https://news.naver.com/main/read.nhn?mode=LSD&amp;mid=shm&amp;sid1=105&amp;oid=018&amp;aid=0004756685\">네이버, 스마트스토어 횡포 사실과 달라..‘검색 의존성 적다’ 반박</a>\n",
       " </div>\n",
       " </li>, <li class=\"cluster_item as_line\">\n",
       " <div class=\"cluster_text\">\n",
       " <div class=\"cluster_text_info _rcount\" data-comment=\"{gno:'news293,0000031262',params:{sid1:'105'},nclicks:'cmt.count','type':'sectionHomeCluster'}\">\n",
       " <div class=\"cluster_text_press\">블로터</div>\n",
       " </div>\n",
       " <a class=\"cluster_text_headline nclicks(cls_sci.clsart)\" href=\"https://news.naver.com/main/read.nhn?mode=LSD&amp;mid=shm&amp;sid1=105&amp;oid=293&amp;aid=0000031262\">네이버 \"스마트스토어 고액 수수료·고정비, 사실 아냐\"</a>\n",
       " </div>\n",
       " </li>, <li class=\"cluster_item as_line\">\n",
       " <div class=\"cluster_text\">\n",
       " <div class=\"cluster_text_info _rcount\" data-comment=\"{gno:'news138,0002092470',params:{sid1:'105'},nclicks:'cmt.count'}\">\n",
       " <div class=\"cluster_text_press\">디지털데일리</div>\n",
       " </div>\n",
       " <a class=\"cluster_text_headline\" href=\"https://news.naver.com/main/read.nhn?mode=LSD&amp;mid=shm&amp;sid1=105&amp;oid=138&amp;aid=0002092470\">[슬기로운 소비생활] 침침한 '집콕' 생활, 눈 피로 덜어줄 조명 구매 방법</a>\n",
       " </div>\n",
       " </li>, <li class=\"cluster_item as_line\">\n",
       " <div class=\"cluster_text\">\n",
       " <div class=\"cluster_text_info _rcount\" data-comment=\"{gno:'news138,0002092282',params:{sid1:'105'},nclicks:'cmt.count'}\">\n",
       " <div class=\"cluster_text_press\">디지털데일리</div>\n",
       " </div>\n",
       " <a class=\"cluster_text_headline\" href=\"https://news.naver.com/main/read.nhn?mode=LSD&amp;mid=shm&amp;sid1=105&amp;oid=138&amp;aid=0002092282\">[슬기로운 소비생활] '같은 모양, 다른 가격'…무선청소기 고르고 있다면</a>\n",
       " </div>\n",
       " </li>, <li class=\"cluster_item as_line\">\n",
       " <div class=\"cluster_text\">\n",
       " <div class=\"cluster_text_info _rcount\" data-comment=\"{gno:'news138,0002091909',params:{sid1:'105'},nclicks:'cmt.count'}\">\n",
       " <div class=\"cluster_text_press\">디지털데일리</div>\n",
       " </div>\n",
       " <a class=\"cluster_text_headline\" href=\"https://news.naver.com/main/read.nhn?mode=LSD&amp;mid=shm&amp;sid1=105&amp;oid=138&amp;aid=0002091909\">[슬기로운 소비생활] 65인치 사이니지, 이거 TV인가요?</a>\n",
       " </div>\n",
       " </li>, <li class=\"cluster_item as_line\">\n",
       " <div class=\"cluster_text\">\n",
       " <div class=\"cluster_text_info _rcount\" data-comment=\"{gno:'news011,0003803601',params:{sid1:'105'},nclicks:'cmt.count'}\">\n",
       " <div class=\"cluster_text_press\">서울경제</div>\n",
       " </div>\n",
       " <a class=\"cluster_text_headline\" href=\"https://news.naver.com/main/read.nhn?mode=LSD&amp;mid=shm&amp;sid1=105&amp;oid=011&amp;aid=0003803601\">\"8년 기다렸다\" '사이버펑크 2077'에 설레는 PC 업계[오지현의 하드캐리]</a>\n",
       " </div>\n",
       " </li>, <li class=\"cluster_item as_line\">\n",
       " <div class=\"cluster_text\">\n",
       " <div class=\"cluster_text_info _rcount\" data-comment=\"{gno:'news011,0003800113',params:{sid1:'105'},nclicks:'cmt.count'}\">\n",
       " <div class=\"cluster_text_press\">서울경제</div>\n",
       " </div>\n",
       " <a class=\"cluster_text_headline\" href=\"https://news.naver.com/main/read.nhn?mode=LSD&amp;mid=shm&amp;sid1=105&amp;oid=011&amp;aid=0003800113\">모바일 게임이 대세? 2020년은 콘솔 부활의 해![오지현의 하드캐리]</a>\n",
       " </div>\n",
       " </li>, <li class=\"cluster_item as_line\">\n",
       " <div class=\"cluster_text\">\n",
       " <div class=\"cluster_text_info _rcount\" data-comment=\"{gno:'news011,0003796880',params:{sid1:'105'},nclicks:'cmt.count'}\">\n",
       " <div class=\"cluster_text_press\">서울경제</div>\n",
       " </div>\n",
       " <a class=\"cluster_text_headline\" href=\"https://news.naver.com/main/read.nhn?mode=LSD&amp;mid=shm&amp;sid1=105&amp;oid=011&amp;aid=0003796880\">운영자가 최대 리스크? '슈퍼계정' 사태로 돌아본 GM 흑역사[오지현의 하드캐리]</a>\n",
       " </div>\n",
       " </li>]"
      ]
     },
     "execution_count": 8,
     "metadata": {},
     "output_type": "execute_result"
    }
   ],
   "source": [
    "# test\n",
    "\n",
    "test = soup.find_all(\"li\",{\"class\":\"cluster_item as_line\"})\n",
    "test"
   ]
  },
  {
   "cell_type": "markdown",
   "metadata": {},
   "source": [
    "### Selenium활용하여 Autoway에 자동 로그인"
   ]
  },
  {
   "cell_type": "code",
   "execution_count": null,
   "metadata": {},
   "outputs": [],
   "source": [
    "path = \"D:/chromedriver.exe\"    # 크롬드라이버 설치 경로 설정"
   ]
  },
  {
   "cell_type": "code",
   "execution_count": null,
   "metadata": {},
   "outputs": [],
   "source": [
    "set_id = \"\" #id 입력\n",
    "pwd = \"\" # pwd 입력"
   ]
  },
  {
   "cell_type": "code",
   "execution_count": null,
   "metadata": {},
   "outputs": [],
   "source": [
    "# Selenium Load\n",
    "driver = webdriver.Chrome(path)\n",
    "# site connect\n",
    "driver.get('https://autoway.hyundai.net/')\n",
    "\n",
    "driver.find_element_by_xpath('//*[@id=\"form1\"]/div[3]/div[2]').click()\n",
    "driver.find_element_by_xpath('//*[@id=\"drpGroupCopList\"]').click()\n",
    "driver.find_element_by_xpath('//*[@id=\"drpGroupCopList\"]/option[2]').click()\n",
    "\n",
    "\n",
    "log = driver.find_element_by_id(\"userID\")\n",
    "log.send_keys(set_id)\n",
    "time.sleep(3)\n",
    "pwd = driver.find_element_by_id(\"password\")\n",
    "pwd.send_keys(pwd)\n",
    "driver.find_element_by_xpath('//*[@id=\"Login\"]').click()\n",
    "time.sleep(10)"
   ]
  },
  {
   "cell_type": "code",
   "execution_count": null,
   "metadata": {},
   "outputs": [],
   "source": []
  },
  {
   "cell_type": "code",
   "execution_count": null,
   "metadata": {},
   "outputs": [],
   "source": []
  }
 ],
 "metadata": {
  "kernelspec": {
   "display_name": "Python 3",
   "language": "python",
   "name": "python3"
  },
  "language_info": {
   "codemirror_mode": {
    "name": "ipython",
    "version": 3
   },
   "file_extension": ".py",
   "mimetype": "text/x-python",
   "name": "python",
   "nbconvert_exporter": "python",
   "pygments_lexer": "ipython3",
   "version": "3.7.5"
  }
 },
 "nbformat": 4,
 "nbformat_minor": 2
}
