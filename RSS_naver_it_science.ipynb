{
 "cells": [
  {
   "cell_type": "markdown",
   "metadata": {},
   "source": [
    "# Documentation  \n",
    "\n",
    "Anaconda 2019.07 버전의 python 3.7.4 defalut 값으로 진행  \n",
    "  \n",
    "Python = 3.7.4  \n",
    "Pandas = 0.25.1   \n",
    "Numpy = 1.16.5  \n",
    "urllib3 = 1.24.2  \n",
    "BeautifulSoup = 4.8.0  \n",
    "requests = 2.22.0   \n",
    "selenium = 3.141.0  \n",
    "pyautogui = 0.9.52  \n",
    "pillow = 7.2.0"
   ]
  },
  {
   "cell_type": "code",
   "execution_count": 20,
   "metadata": {},
   "outputs": [],
   "source": [
    "#import module\n",
    "\n",
    "import pandas as pd\n",
    "import numpy as np\n",
    "import time\n",
    "import re\n",
    "import os\n",
    "import datetime as dt\n",
    "\n",
    "import urllib3\n",
    "from bs4 import BeautifulSoup\n",
    "import requests\n",
    "import urllib.request\n",
    "\n",
    "import selenium\n",
    "\n",
    "from selenium import webdriver\n",
    "from selenium.webdriver.common.keys import Keys\n",
    "from selenium.webdriver.support.ui import Select\n",
    "from selenium.webdriver.support.ui import WebDriverWait\n",
    "\n",
    "import warnings\n",
    "warnings.filterwarnings(action='ignore')"
   ]
  },
  {
   "cell_type": "markdown",
   "metadata": {},
   "source": [
    "\n",
    "### 다른 사이트의 경우 IT이외의 다른 분야의 기사가 많이 혼재하여 선제적으로 IT관련 뉴스가 가장 많은\n",
    "### 네이버 뉴스 IT/과학 헤드라인\n",
    "### ITWorld korea의 머신러닝, 클라우드, 빅데이터 파트\n",
    "### ZDnet의 인공지능 파트에서 데이터를 추출할 예정입니다"
   ]
  },
  {
   "cell_type": "markdown",
   "metadata": {},
   "source": [
    "#### 현재는 네이버 뉴스의 IT/과학 헤드라인을 먼저 실행중이며, 하나의 URL에서 전체 뉴스의 URL로 확장하는 작업중에 있습니다  \n",
    "#### IT/과학 헤드라인의 헤드라인 더보기 전까지 기사의 제목과 URL을 추출후 DataFrame안에 저장하여 기록하고  \n",
    "#### 이후 저장한 URL에 개별 접속하여 기사의 본문을 가져와서 저장하는 형식으로 진행하였습니다"
   ]
  },
  {
   "cell_type": "code",
   "execution_count": 21,
   "metadata": {},
   "outputs": [
    {
     "data": {
      "text/html": [
       "<div>\n",
       "<style scoped>\n",
       "    .dataframe tbody tr th:only-of-type {\n",
       "        vertical-align: middle;\n",
       "    }\n",
       "\n",
       "    .dataframe tbody tr th {\n",
       "        vertical-align: top;\n",
       "    }\n",
       "\n",
       "    .dataframe thead th {\n",
       "        text-align: right;\n",
       "    }\n",
       "</style>\n",
       "<table border=\"1\" class=\"dataframe\">\n",
       "  <thead>\n",
       "    <tr style=\"text-align: right;\">\n",
       "      <th></th>\n",
       "      <th>title</th>\n",
       "      <th>url</th>\n",
       "    </tr>\n",
       "  </thead>\n",
       "  <tbody>\n",
       "    <tr>\n",
       "      <th>0</th>\n",
       "      <td>아이폰12, 14일 새벽 공개…관전 포인트는</td>\n",
       "      <td>https://news.naver.com/main/read.nhn?mode=LSD&amp;...</td>\n",
       "    </tr>\n",
       "    <tr>\n",
       "      <th>1</th>\n",
       "      <td>내일 새벽 '아이폰12' 공개…디자인·색상·가격 총정리</td>\n",
       "      <td>https://news.naver.com/main/read.nhn?mode=LSD&amp;...</td>\n",
       "    </tr>\n",
       "    <tr>\n",
       "      <th>2</th>\n",
       "      <td>아이폰12, 내일 새벽 공개…‘슈퍼 사이클’ 유발할까</td>\n",
       "      <td>https://news.naver.com/main/read.nhn?mode=LSD&amp;...</td>\n",
       "    </tr>\n",
       "    <tr>\n",
       "      <th>3</th>\n",
       "      <td>이통사 '아이폰12' 출시 채비... '사전예약 알림' 개시</td>\n",
       "      <td>https://news.naver.com/main/read.nhn?mode=LSD&amp;...</td>\n",
       "    </tr>\n",
       "    <tr>\n",
       "      <th>4</th>\n",
       "      <td>유전자가위로 바이오디젤 만드는 미생물 능력 ↑</td>\n",
       "      <td>https://news.naver.com/main/read.nhn?mode=LSD&amp;...</td>\n",
       "    </tr>\n",
       "    <tr>\n",
       "      <th>5</th>\n",
       "      <td>버려지는 택배 박스로 디젤 연료 만든다</td>\n",
       "      <td>https://news.naver.com/main/read.nhn?mode=LSD&amp;...</td>\n",
       "    </tr>\n",
       "    <tr>\n",
       "      <th>6</th>\n",
       "      <td>디지털뉴딜 2.2만여개 'AI 데이터 가공 일자리 정보' 한눈에</td>\n",
       "      <td>https://news.naver.com/main/read.nhn?mode=LSD&amp;...</td>\n",
       "    </tr>\n",
       "    <tr>\n",
       "      <th>7</th>\n",
       "      <td>과기정통부·NIA \"AI 데이터 다루는 기업들 정보, 한눈에 보세요\"</td>\n",
       "      <td>https://news.naver.com/main/read.nhn?mode=LSD&amp;...</td>\n",
       "    </tr>\n",
       "    <tr>\n",
       "      <th>8</th>\n",
       "      <td>[TF현장] KT, 네이버·카카오와 겨룬다…웹툰 사업 강화 박차</td>\n",
       "      <td>https://news.naver.com/main/read.nhn?mode=LSD&amp;...</td>\n",
       "    </tr>\n",
       "    <tr>\n",
       "      <th>9</th>\n",
       "      <td>KT가 웹소설 제작에 100억원 투자하는 이유는</td>\n",
       "      <td>https://news.naver.com/main/read.nhn?mode=LSD&amp;...</td>\n",
       "    </tr>\n",
       "  </tbody>\n",
       "</table>\n",
       "</div>"
      ],
      "text/plain": [
       "                                    title  \\\n",
       "0                아이폰12, 14일 새벽 공개…관전 포인트는   \n",
       "1          내일 새벽 '아이폰12' 공개…디자인·색상·가격 총정리   \n",
       "2           아이폰12, 내일 새벽 공개…‘슈퍼 사이클’ 유발할까   \n",
       "3       이통사 '아이폰12' 출시 채비... '사전예약 알림' 개시   \n",
       "4               유전자가위로 바이오디젤 만드는 미생물 능력 ↑   \n",
       "5                   버려지는 택배 박스로 디젤 연료 만든다   \n",
       "6     디지털뉴딜 2.2만여개 'AI 데이터 가공 일자리 정보' 한눈에   \n",
       "7  과기정통부·NIA \"AI 데이터 다루는 기업들 정보, 한눈에 보세요\"   \n",
       "8     [TF현장] KT, 네이버·카카오와 겨룬다…웹툰 사업 강화 박차   \n",
       "9              KT가 웹소설 제작에 100억원 투자하는 이유는   \n",
       "\n",
       "                                                 url  \n",
       "0  https://news.naver.com/main/read.nhn?mode=LSD&...  \n",
       "1  https://news.naver.com/main/read.nhn?mode=LSD&...  \n",
       "2  https://news.naver.com/main/read.nhn?mode=LSD&...  \n",
       "3  https://news.naver.com/main/read.nhn?mode=LSD&...  \n",
       "4  https://news.naver.com/main/read.nhn?mode=LSD&...  \n",
       "5  https://news.naver.com/main/read.nhn?mode=LSD&...  \n",
       "6  https://news.naver.com/main/read.nhn?mode=LSD&...  \n",
       "7  https://news.naver.com/main/read.nhn?mode=LSD&...  \n",
       "8  https://news.naver.com/main/read.nhn?mode=LSD&...  \n",
       "9  https://news.naver.com/main/read.nhn?mode=LSD&...  "
      ]
     },
     "execution_count": 21,
     "metadata": {},
     "output_type": "execute_result"
    }
   ],
   "source": [
    "news = 'https://news.naver.com/main/main.nhn?mode=LSD&mid=shm&sid1=105' ## IT/과학 헤드라인 뉴스  url\n",
    "\n",
    "res = requests.get(news, headers={'User-Agent':'Chrome/85.0.4183.121'},verify = False) \n",
    "# requests이용하여 뉴스 주소 Load, 네이버 크롬 차단 방지 위해 chrome version을 입력하고 뉴스 주소를 설정\n",
    "# SSL ERROR 방지를 위해 Verify False 설정\n",
    "soup = BeautifulSoup(res.text, \"html.parser\") # html기준으로 parsing\n",
    "\n",
    "title_list =[] # 제목을 저장하기 위한 list 생성\n",
    "url_list = [] #URL을 저장하기 위한 list 생성\n",
    "\n",
    "results = soup.select(\"#main_content a\")  # 기사 제목과 URL이 모두 html main_content a에 저장되어 있어서 해당 부분을 select하여 추출\n",
    "\n",
    "\n",
    "# 제목, 링크 출력 ---------------------------(2)\n",
    "for result in results:\n",
    "    if result.string == None: # 값이 존재하지 않을 경우 해당 루프 건너 뜀\n",
    "        continue\n",
    "    \n",
    "    if result.attrs['href'] in ['#'] : # 헤드라인 더보기의 end code가 #이므로 #일 경우 loop문을 Break하여 종료함\n",
    "        break\n",
    "    \n",
    "    if result.attrs['href'].startswith('http') == False : \n",
    "        # 해당 href에서 url 코드가 http로 시작하지 않을경우 url이 아니라고 판단하여 해당 부분 skip\n",
    "        continue\n",
    "    \n",
    "\n",
    "    title_list.append(str.strip(result.string)) #기록된 기사 제목을 리스트에 추가\n",
    "    url_list.append(result.attrs['href']) #기록된 기사 URL을 리스트에 추가\n",
    "\n",
    "\n",
    "df = pd.DataFrame({'title': title_list,'url':url_list}) # 기사제목과, URL을 dataframe에 임시 저장\n",
    "df['title'] = df.title.str.replace('\\\\',\"\") # 따옴표가  \\' 형태로 기록되어 해당 \\를 공란으로 대체\n",
    "df.head(10)"
   ]
  },
  {
   "cell_type": "markdown",
   "metadata": {},
   "source": [
    "#### 헤드라인 뉴스는 전날에 생성된 헤드라인 뉴스도 포함되어 있기 때문에 뉴스를 저장 후 \n",
    "#### 전날의 기사와 비교하여 중복된 기사를 제거하는 작업이 필요하다"
   ]
  },
  {
   "cell_type": "code",
   "execution_count": 22,
   "metadata": {},
   "outputs": [],
   "source": [
    "# 이전 뉴스 기사 제목 Load\n",
    "save_news_title = pd.read_csv('C:/driver/save_news_title.csv',encoding='UTF-8')"
   ]
  },
  {
   "cell_type": "code",
   "execution_count": 23,
   "metadata": {},
   "outputs": [],
   "source": [
    "before_list = []\n",
    "for before_news in save_news_title.title :\n",
    "    if len(save_news_title) >= 20 :\n",
    "        save_news_title.drop([0,1,2,3,4],inplace=True).reset_index(drop=True)\n",
    "        continue\n",
    "    for row, now_news in enumerate(df.title) :\n",
    "        if now_news in before_news :\n",
    "            before_list.append(row)\n",
    "\n",
    "            \n",
    "if not before_list :\n",
    "    df.drop(before_list,inplace=True)"
   ]
  },
  {
   "cell_type": "code",
   "execution_count": 24,
   "metadata": {},
   "outputs": [],
   "source": [
    "# 데이터 저장\n",
    "save_news_title = pd.concat([save_news_title,df]) # 이전 뉴스에 오늘자 뉴스 추가\n",
    "save_news_title.to_csv('C:/driver/save_news_title.csv',encoding='UTF-8',index=False) # 추가한 데이터 저장"
   ]
  },
  {
   "cell_type": "code",
   "execution_count": null,
   "metadata": {},
   "outputs": [],
   "source": []
  },
  {
   "cell_type": "markdown",
   "metadata": {},
   "source": [
    "### 중복된 기사를 제거하기 위해 헤드라인 뉴스 밑에 있는 중복된 기사를 제거하는 작업이 필요하다\n",
    "\n",
    "이를 위해 해당 중복된 뉴스의 tag를 찾아 제목을 기록하고 이와 똑같은 뉴스를 찾아 제거한다"
   ]
  },
  {
   "cell_type": "code",
   "execution_count": 25,
   "metadata": {},
   "outputs": [
    {
     "data": {
      "text/plain": [
       "[\"내일 새벽 '아이폰12' 공개…디자인·색상·가격 총정리\",\n",
       " '아이폰12, 내일 새벽 공개…‘슈퍼 사이클’ 유발할까',\n",
       " \"이통사 '아이폰12' 출시 채비... '사전예약 알림' 개시\",\n",
       " '[핵잼 사이언스] 증강현실(AR) 고글 쓰고 훈련 받는 美 군견',\n",
       " \"[핵잼 사이언스] 완벽 보존된 2000년 전 남성의 '뇌세포' 확인\",\n",
       " \"[핵잼 사이언스] 단거리 달리기 속도의 비밀 '큰 엉덩이 근육'에 있다\",\n",
       " \"[이슈IN] '20배 빠른 5G'는 공수표…비싼 요금제로 '호갱'만 늘어\",\n",
       " \"[이슈IN] 국위선양으로 입영연기? 변수는 '기준'\",\n",
       " '[이슈IN] \"만지고 싶어?\"…게임 \\'아이들프린세스\\' 선정성 논란 휩싸여']"
      ]
     },
     "execution_count": 25,
     "metadata": {},
     "output_type": "execute_result"
    }
   ],
   "source": [
    "# 중복된 기사 list 추출\n",
    "duplicate_list = []\n",
    "dup_title = soup.find_all(\"li\",{\"class\":\"cluster_item as_line\"})\n",
    "for dup in dup_title:\n",
    "    text = dup.a.get_text()\n",
    "    duplicate_list.append(text.replace('\\\\',\"\"))\n",
    "duplicate_list"
   ]
  },
  {
   "cell_type": "code",
   "execution_count": 26,
   "metadata": {},
   "outputs": [
    {
     "data": {
      "text/html": [
       "<div>\n",
       "<style scoped>\n",
       "    .dataframe tbody tr th:only-of-type {\n",
       "        vertical-align: middle;\n",
       "    }\n",
       "\n",
       "    .dataframe tbody tr th {\n",
       "        vertical-align: top;\n",
       "    }\n",
       "\n",
       "    .dataframe thead th {\n",
       "        text-align: right;\n",
       "    }\n",
       "</style>\n",
       "<table border=\"1\" class=\"dataframe\">\n",
       "  <thead>\n",
       "    <tr style=\"text-align: right;\">\n",
       "      <th></th>\n",
       "      <th>title</th>\n",
       "      <th>url</th>\n",
       "    </tr>\n",
       "  </thead>\n",
       "  <tbody>\n",
       "    <tr>\n",
       "      <th>0</th>\n",
       "      <td>아이폰12, 14일 새벽 공개…관전 포인트는</td>\n",
       "      <td>https://news.naver.com/main/read.nhn?mode=LSD&amp;...</td>\n",
       "    </tr>\n",
       "    <tr>\n",
       "      <th>1</th>\n",
       "      <td>내일 새벽 '아이폰12' 공개…디자인·색상·가격 총정리</td>\n",
       "      <td>https://news.naver.com/main/read.nhn?mode=LSD&amp;...</td>\n",
       "    </tr>\n",
       "    <tr>\n",
       "      <th>2</th>\n",
       "      <td>아이폰12, 내일 새벽 공개…‘슈퍼 사이클’ 유발할까</td>\n",
       "      <td>https://news.naver.com/main/read.nhn?mode=LSD&amp;...</td>\n",
       "    </tr>\n",
       "    <tr>\n",
       "      <th>3</th>\n",
       "      <td>이통사 '아이폰12' 출시 채비... '사전예약 알림' 개시</td>\n",
       "      <td>https://news.naver.com/main/read.nhn?mode=LSD&amp;...</td>\n",
       "    </tr>\n",
       "    <tr>\n",
       "      <th>4</th>\n",
       "      <td>유전자가위로 바이오디젤 만드는 미생물 능력 ↑</td>\n",
       "      <td>https://news.naver.com/main/read.nhn?mode=LSD&amp;...</td>\n",
       "    </tr>\n",
       "    <tr>\n",
       "      <th>5</th>\n",
       "      <td>버려지는 택배 박스로 디젤 연료 만든다</td>\n",
       "      <td>https://news.naver.com/main/read.nhn?mode=LSD&amp;...</td>\n",
       "    </tr>\n",
       "    <tr>\n",
       "      <th>6</th>\n",
       "      <td>디지털뉴딜 2.2만여개 'AI 데이터 가공 일자리 정보' 한눈에</td>\n",
       "      <td>https://news.naver.com/main/read.nhn?mode=LSD&amp;...</td>\n",
       "    </tr>\n",
       "    <tr>\n",
       "      <th>7</th>\n",
       "      <td>과기정통부·NIA \"AI 데이터 다루는 기업들 정보, 한눈에 보세요\"</td>\n",
       "      <td>https://news.naver.com/main/read.nhn?mode=LSD&amp;...</td>\n",
       "    </tr>\n",
       "    <tr>\n",
       "      <th>8</th>\n",
       "      <td>[TF현장] KT, 네이버·카카오와 겨룬다…웹툰 사업 강화 박차</td>\n",
       "      <td>https://news.naver.com/main/read.nhn?mode=LSD&amp;...</td>\n",
       "    </tr>\n",
       "    <tr>\n",
       "      <th>9</th>\n",
       "      <td>KT가 웹소설 제작에 100억원 투자하는 이유는</td>\n",
       "      <td>https://news.naver.com/main/read.nhn?mode=LSD&amp;...</td>\n",
       "    </tr>\n",
       "    <tr>\n",
       "      <th>10</th>\n",
       "      <td>로봇이 스스로 학습해 임무까지 수행한다</td>\n",
       "      <td>https://news.naver.com/main/read.nhn?mode=LSD&amp;...</td>\n",
       "    </tr>\n",
       "    <tr>\n",
       "      <th>11</th>\n",
       "      <td>사물이 스스로 판단해 행동한다, '액션브레인' 개발</td>\n",
       "      <td>https://news.naver.com/main/read.nhn?mode=LSD&amp;...</td>\n",
       "    </tr>\n",
       "  </tbody>\n",
       "</table>\n",
       "</div>"
      ],
      "text/plain": [
       "                                     title  \\\n",
       "0                 아이폰12, 14일 새벽 공개…관전 포인트는   \n",
       "1           내일 새벽 '아이폰12' 공개…디자인·색상·가격 총정리   \n",
       "2            아이폰12, 내일 새벽 공개…‘슈퍼 사이클’ 유발할까   \n",
       "3        이통사 '아이폰12' 출시 채비... '사전예약 알림' 개시   \n",
       "4                유전자가위로 바이오디젤 만드는 미생물 능력 ↑   \n",
       "5                    버려지는 택배 박스로 디젤 연료 만든다   \n",
       "6      디지털뉴딜 2.2만여개 'AI 데이터 가공 일자리 정보' 한눈에   \n",
       "7   과기정통부·NIA \"AI 데이터 다루는 기업들 정보, 한눈에 보세요\"   \n",
       "8      [TF현장] KT, 네이버·카카오와 겨룬다…웹툰 사업 강화 박차   \n",
       "9               KT가 웹소설 제작에 100억원 투자하는 이유는   \n",
       "10                   로봇이 스스로 학습해 임무까지 수행한다   \n",
       "11            사물이 스스로 판단해 행동한다, '액션브레인' 개발   \n",
       "\n",
       "                                                  url  \n",
       "0   https://news.naver.com/main/read.nhn?mode=LSD&...  \n",
       "1   https://news.naver.com/main/read.nhn?mode=LSD&...  \n",
       "2   https://news.naver.com/main/read.nhn?mode=LSD&...  \n",
       "3   https://news.naver.com/main/read.nhn?mode=LSD&...  \n",
       "4   https://news.naver.com/main/read.nhn?mode=LSD&...  \n",
       "5   https://news.naver.com/main/read.nhn?mode=LSD&...  \n",
       "6   https://news.naver.com/main/read.nhn?mode=LSD&...  \n",
       "7   https://news.naver.com/main/read.nhn?mode=LSD&...  \n",
       "8   https://news.naver.com/main/read.nhn?mode=LSD&...  \n",
       "9   https://news.naver.com/main/read.nhn?mode=LSD&...  \n",
       "10  https://news.naver.com/main/read.nhn?mode=LSD&...  \n",
       "11  https://news.naver.com/main/read.nhn?mode=LSD&...  "
      ]
     },
     "execution_count": 26,
     "metadata": {},
     "output_type": "execute_result"
    }
   ],
   "source": [
    "df"
   ]
  },
  {
   "cell_type": "code",
   "execution_count": 27,
   "metadata": {},
   "outputs": [],
   "source": [
    "# 중복된 기사 제거\n",
    "title_row = []\n",
    "for row, title in enumerate(df['title']) :\n",
    "    if title in duplicate_list :\n",
    "        title_row.append(row)\n",
    "\n",
    "df.drop(title_row,inplace=True)\n",
    "df.drop([5,7,9,11],inplace=True)"
   ]
  },
  {
   "cell_type": "markdown",
   "metadata": {},
   "source": [
    "#### 위에 기사 제목과 비교하면 중복된 기사인 1,2,3 번의 뉴스가 제거된 것을 볼 수 있다\n",
    "\n",
    "하지만 5,7번 기사처럼 main topic으로 기록된 기사의 경우 중복제거가 되지 않았다.  \n",
    "해당 기사 중복 제거가 필요하다(1,2,3,5,7기사가 계속 중복)"
   ]
  },
  {
   "cell_type": "code",
   "execution_count": 28,
   "metadata": {},
   "outputs": [
    {
     "data": {
      "text/html": [
       "<div>\n",
       "<style scoped>\n",
       "    .dataframe tbody tr th:only-of-type {\n",
       "        vertical-align: middle;\n",
       "    }\n",
       "\n",
       "    .dataframe tbody tr th {\n",
       "        vertical-align: top;\n",
       "    }\n",
       "\n",
       "    .dataframe thead th {\n",
       "        text-align: right;\n",
       "    }\n",
       "</style>\n",
       "<table border=\"1\" class=\"dataframe\">\n",
       "  <thead>\n",
       "    <tr style=\"text-align: right;\">\n",
       "      <th></th>\n",
       "      <th>title</th>\n",
       "      <th>url</th>\n",
       "    </tr>\n",
       "  </thead>\n",
       "  <tbody>\n",
       "    <tr>\n",
       "      <th>0</th>\n",
       "      <td>아이폰12, 14일 새벽 공개…관전 포인트는</td>\n",
       "      <td>https://news.naver.com/main/read.nhn?mode=LSD&amp;...</td>\n",
       "    </tr>\n",
       "    <tr>\n",
       "      <th>4</th>\n",
       "      <td>유전자가위로 바이오디젤 만드는 미생물 능력 ↑</td>\n",
       "      <td>https://news.naver.com/main/read.nhn?mode=LSD&amp;...</td>\n",
       "    </tr>\n",
       "    <tr>\n",
       "      <th>6</th>\n",
       "      <td>디지털뉴딜 2.2만여개 'AI 데이터 가공 일자리 정보' 한눈에</td>\n",
       "      <td>https://news.naver.com/main/read.nhn?mode=LSD&amp;...</td>\n",
       "    </tr>\n",
       "    <tr>\n",
       "      <th>8</th>\n",
       "      <td>[TF현장] KT, 네이버·카카오와 겨룬다…웹툰 사업 강화 박차</td>\n",
       "      <td>https://news.naver.com/main/read.nhn?mode=LSD&amp;...</td>\n",
       "    </tr>\n",
       "    <tr>\n",
       "      <th>10</th>\n",
       "      <td>로봇이 스스로 학습해 임무까지 수행한다</td>\n",
       "      <td>https://news.naver.com/main/read.nhn?mode=LSD&amp;...</td>\n",
       "    </tr>\n",
       "  </tbody>\n",
       "</table>\n",
       "</div>"
      ],
      "text/plain": [
       "                                  title  \\\n",
       "0              아이폰12, 14일 새벽 공개…관전 포인트는   \n",
       "4             유전자가위로 바이오디젤 만드는 미생물 능력 ↑   \n",
       "6   디지털뉴딜 2.2만여개 'AI 데이터 가공 일자리 정보' 한눈에   \n",
       "8   [TF현장] KT, 네이버·카카오와 겨룬다…웹툰 사업 강화 박차   \n",
       "10                로봇이 스스로 학습해 임무까지 수행한다   \n",
       "\n",
       "                                                  url  \n",
       "0   https://news.naver.com/main/read.nhn?mode=LSD&...  \n",
       "4   https://news.naver.com/main/read.nhn?mode=LSD&...  \n",
       "6   https://news.naver.com/main/read.nhn?mode=LSD&...  \n",
       "8   https://news.naver.com/main/read.nhn?mode=LSD&...  \n",
       "10  https://news.naver.com/main/read.nhn?mode=LSD&...  "
      ]
     },
     "execution_count": 28,
     "metadata": {},
     "output_type": "execute_result"
    }
   ],
   "source": [
    "df"
   ]
  },
  {
   "cell_type": "code",
   "execution_count": 67,
   "metadata": {},
   "outputs": [
    {
     "data": {
      "text/plain": [
       "['https://news.naver.com/main/read.nhn?mode=LSD&mid=shm&sid1=105&oid=092&aid=0002201756',\n",
       " 'https://news.naver.com/main/read.nhn?mode=LSD&mid=shm&sid1=105&oid=003&aid=0010122959',\n",
       " 'https://news.naver.com/main/read.nhn?mode=LSD&mid=shm&sid1=105&oid=629&aid=0000046478',\n",
       " 'https://news.naver.com/main/read.nhn?mode=LSD&mid=shm&sid1=105&oid=584&aid=0000010902']"
      ]
     },
     "execution_count": 67,
     "metadata": {},
     "output_type": "execute_result"
    }
   ],
   "source": [
    "df.url.tolist()"
   ]
  },
  {
   "cell_type": "markdown",
   "metadata": {},
   "source": [
    "### 네이버 뉴스는 IT/과학이기 때문에 과학과 관련된 단어 리스트 추가를 통해\n",
    "### 과학과 관련된 뉴스를 최대한 제거하는 작업이 필요하다고 판단"
   ]
  },
  {
   "cell_type": "markdown",
   "metadata": {},
   "source": [
    "이를 위해 과학에 국한된 단어 리스트를 추가하여 기사 제목이나 본문에 해당 단어 빈도수가 높을 경우 제거\n",
    "\n",
    "또한 연재중인 특정 카테고리 '[]' 로 되어있는 리스트도 추가함\n"
   ]
  },
  {
   "cell_type": "markdown",
   "metadata": {},
   "source": [
    "### 또한 헤드라인 뉴스에서 전날의 중복된 기사의 경우 제거한 후 제공해야 함\n",
    "\n",
    "중복 기사를 위해 전날의 기사 제목을 csv에 저장하고 기사가 30개 이상일 경우 앞의 row를 5개 제거하고 저장하는 형식으로 진행할 예정"
   ]
  },
  {
   "cell_type": "code",
   "execution_count": 29,
   "metadata": {},
   "outputs": [],
   "source": [
    "df.reset_index(drop=True,inplace=True) # dataframe index 재설정"
   ]
  },
  {
   "cell_type": "code",
   "execution_count": 36,
   "metadata": {},
   "outputs": [],
   "source": [
    "science_list = ['노벨','노벨화학상','화학','과학자','후쿠시마','세포','방사능','방사선','세포','암',\n",
    "                '[이슈IN]','[슬기로운 소비생활]','[사이언스샷]','[핵잼 사이언스]','[사이언스카페]'\n",
    "                '바이러스','미생물','가위', '세포의','코로나','코로나19','유전자','유전자가위로',\n",
    "                'DNA','오염수','국감','세슘','원전','미세먼지'] # 10.12일자 과학 단어 list"
   ]
  },
  {
   "cell_type": "code",
   "execution_count": 37,
   "metadata": {},
   "outputs": [],
   "source": [
    "science_drop = []\n",
    "for row, science in enumerate(df.title) :\n",
    "    count=0\n",
    "    title_split = re.sub(\"[^ㄱ-ㅎ ㅏ-ㅣ 가-힣| a-zA-Z0-9]\", \" \",science) # 특수문자 제거\n",
    "    title_split = re.split(' ', title_split) # 기사 제목을 띄어쓰기 단위로 구분\n",
    "    title_split = [ string for string in title_split if string != ''] #  리스트에 빈공간인 ''로 저장되는 list 삭제\n",
    "    \n",
    "    for k in science_list :\n",
    "        if title_split.count(k)>=1 :\n",
    "            count +=1\n",
    "            if count>=2 :\n",
    "                count=0 \n",
    "                science_drop.append(row)\n",
    "                break\n",
    "science_drop\n",
    "df.drop(science_drop,inplace=True)"
   ]
  },
  {
   "cell_type": "code",
   "execution_count": 38,
   "metadata": {},
   "outputs": [
    {
     "data": {
      "text/html": [
       "<div>\n",
       "<style scoped>\n",
       "    .dataframe tbody tr th:only-of-type {\n",
       "        vertical-align: middle;\n",
       "    }\n",
       "\n",
       "    .dataframe tbody tr th {\n",
       "        vertical-align: top;\n",
       "    }\n",
       "\n",
       "    .dataframe thead th {\n",
       "        text-align: right;\n",
       "    }\n",
       "</style>\n",
       "<table border=\"1\" class=\"dataframe\">\n",
       "  <thead>\n",
       "    <tr style=\"text-align: right;\">\n",
       "      <th></th>\n",
       "      <th>title</th>\n",
       "      <th>url</th>\n",
       "    </tr>\n",
       "  </thead>\n",
       "  <tbody>\n",
       "    <tr>\n",
       "      <th>0</th>\n",
       "      <td>아이폰12, 14일 새벽 공개…관전 포인트는</td>\n",
       "      <td>https://news.naver.com/main/read.nhn?mode=LSD&amp;...</td>\n",
       "    </tr>\n",
       "    <tr>\n",
       "      <th>2</th>\n",
       "      <td>디지털뉴딜 2.2만여개 'AI 데이터 가공 일자리 정보' 한눈에</td>\n",
       "      <td>https://news.naver.com/main/read.nhn?mode=LSD&amp;...</td>\n",
       "    </tr>\n",
       "    <tr>\n",
       "      <th>3</th>\n",
       "      <td>[TF현장] KT, 네이버·카카오와 겨룬다…웹툰 사업 강화 박차</td>\n",
       "      <td>https://news.naver.com/main/read.nhn?mode=LSD&amp;...</td>\n",
       "    </tr>\n",
       "    <tr>\n",
       "      <th>4</th>\n",
       "      <td>로봇이 스스로 학습해 임무까지 수행한다</td>\n",
       "      <td>https://news.naver.com/main/read.nhn?mode=LSD&amp;...</td>\n",
       "    </tr>\n",
       "  </tbody>\n",
       "</table>\n",
       "</div>"
      ],
      "text/plain": [
       "                                 title  \\\n",
       "0             아이폰12, 14일 새벽 공개…관전 포인트는   \n",
       "2  디지털뉴딜 2.2만여개 'AI 데이터 가공 일자리 정보' 한눈에   \n",
       "3  [TF현장] KT, 네이버·카카오와 겨룬다…웹툰 사업 강화 박차   \n",
       "4                로봇이 스스로 학습해 임무까지 수행한다   \n",
       "\n",
       "                                                 url  \n",
       "0  https://news.naver.com/main/read.nhn?mode=LSD&...  \n",
       "2  https://news.naver.com/main/read.nhn?mode=LSD&...  \n",
       "3  https://news.naver.com/main/read.nhn?mode=LSD&...  \n",
       "4  https://news.naver.com/main/read.nhn?mode=LSD&...  "
      ]
     },
     "execution_count": 38,
     "metadata": {},
     "output_type": "execute_result"
    }
   ],
   "source": [
    "df"
   ]
  },
  {
   "cell_type": "markdown",
   "metadata": {},
   "source": [
    "샘플 코드로서 저장된 URL중 하나에 접속하여 해당 기사의 제목과 본문 추출"
   ]
  },
  {
   "cell_type": "code",
   "execution_count": 41,
   "metadata": {},
   "outputs": [
    {
     "data": {
      "text/plain": [
       "'https://imgnews.pstatic.net/image/629/2020/10/07/202034151602051493_20201007153501116.jpg?type=w647'"
      ]
     },
     "execution_count": 41,
     "metadata": {},
     "output_type": "execute_result"
    }
   ],
   "source": [
    "url ='https://news.naver.com/main/read.nhn?mode=LSD&mid=shm&sid1=105&oid=629&aid=0000045669'  ## 각 뉴스 URL 주소 입력\n",
    "title_list2 =[] # 기사 제목 저장 LIST 생성\n",
    "news_list2 = [] # 뉴스 본문 저장 LIST 생성\n",
    "\n",
    "\n",
    "responce = requests.get(url, headers={'User-Agent':'Chrome/85.0.4183.121'},verify = False) ## 뉴스 URL 주소 접속\n",
    "news = BeautifulSoup(responce.text,'html.parser') # html 태그 기준으로 parsing\n",
    "content = news.select(\"#articleBodyContents\") # 기사 본문 저장되어 있는 html주소 복사\n",
    "\n",
    "\n",
    "\n",
    "test = content[0].find('img')['src']\n",
    "test"
   ]
  },
  {
   "cell_type": "code",
   "execution_count": 356,
   "metadata": {},
   "outputs": [
    {
     "data": {
      "text/plain": [
       "'C:\\\\Users\\\\ADMIN\\\\project'"
      ]
     },
     "execution_count": 356,
     "metadata": {},
     "output_type": "execute_result"
    }
   ],
   "source": [
    "os.getcwd ()"
   ]
  },
  {
   "cell_type": "code",
   "execution_count": 354,
   "metadata": {},
   "outputs": [
    {
     "data": {
      "text/plain": [
       "('C:\\\\Users\\\\ADMIN\\\\AppData\\\\Local\\\\Temp\\\\tmp04mey0or',\n",
       " <http.client.HTTPMessage at 0x218e16d9e88>)"
      ]
     },
     "execution_count": 354,
     "metadata": {},
     "output_type": "execute_result"
    }
   ],
   "source": [
    "urllib.request.urlretrieve(test)"
   ]
  },
  {
   "cell_type": "code",
   "execution_count": 350,
   "metadata": {},
   "outputs": [
    {
     "data": {
      "text/plain": [
       "'<img src=https://imgnews.pstatic.net/image/629/2020/10/07/202034151602051493_20201007153501116.jpg?type=w647alt=\"\" style=\"border: 0px; display: inline-block; margin-bottom: 8px; vertical-align: middle; max-width: 100%;\">'"
      ]
     },
     "execution_count": 350,
     "metadata": {},
     "output_type": "execute_result"
    }
   ],
   "source": [
    "test2 = '<img src=' + test +'alt=\"\" style=\"border: 0px; display: inline-block; margin-bottom: 8px; vertical-align: middle; max-width: 100%;\">'\n",
    "test2"
   ]
  },
  {
   "cell_type": "code",
   "execution_count": null,
   "metadata": {},
   "outputs": [],
   "source": []
  },
  {
   "cell_type": "code",
   "execution_count": 43,
   "metadata": {
    "scrolled": true
   },
   "outputs": [
    {
     "data": {
      "text/plain": [
       "<div class=\"_article_body_contents\" id=\"articleBodyContents\">\n",
       "<!-- 본문 내용 -->\n",
       "<!-- TV플레이어 -->\n",
       "<!-- // TV플레이어 -->\n",
       "\n",
       "\n",
       "\n",
       "<strong>7일 국회 과방위 과기정통부 국정감사서 '구글 수수료 30%' 관련 정부 대책 마련 촉구</strong>\n",
       "\n",
       "[더팩트│최수진 기자] 국회에서 구글의 수수료 30% 정책에 대한 우려의 목소리가 나왔다. 정부가 적극적으로 나서서 글로벌 IT 공룡의 갑질을 막아야 한다는 주장이다.\n",
       "\n",
       "7일 국회 과학기술방송통신위원회(과방위)의 과기정통부 국정감사에서 한준호 더불어민주당 의원은 \"세계에서 두 번째로 큰 인터넷 시장인 인도에서 150개 스타트업 기업들이 비공식적으로 연합해 구글의 인앱결제 정책을 2022년 4월까지 연기했다\"며 \"인도에서는 구글이 무릎을 꿇은 것이다. 구글플레이 마켓 규모로 보면 인도 시장보다 국내 시장이 크다. 우리도 정부 차원에서 스타트업들과 함께 인도 사례를 참고해서 구글과 협상해야 한다\"고 말했다.\n",
       "\n",
       "이어 \"정부에서 믿음을 줘야 한다\"며 \"엔씨소프트 같은 경우도 왜 참고인 출석을 안 했겠냐. 구글의 눈치를 보는 것이다. 기업이 눈치를 보지 않도록 정부가 우리 스타트업과 기업들을 보살펴주고 방패가 될 필요가 있다\"고 덧붙였다.\n",
       "\n",
       "앞서 구글은 지난 9월 온라인 간담회를 열고, 내년부터 플레이스토어에 등록된 모든 앱 및 콘텐츠에 일괄적으로 30%의 수수료를 부과한다고 밝혔다. 이와 함께 인앱결제(IAP)도 강제한다. 신규 앱은 내년 1월 20일부터 적용되며, 기존 앱은 내년 10월부터 변경된다.\n",
       "\n",
       "문제는 구글의 결정을 따르지 않는 업체가 플레이스토어에서 퇴출당할 가능성이 존재한다는 점이다. 이에 국감에서도 관련된 우려를 표명했다.\n",
       "\n",
       "\n",
       "\n",
       "홍정민 더불어민주당 의원 역시 \"보통 규제라고 하면 시장이나 정부를 보는 입장에 따라 찬반이 갈리는데 구글 사안에 대해서는 모두 한목소리를 내고 있다\"며 \"정부가 나서서 공정거래법, 전기통신사업법 등 적용해 규제해주길 바라고 있다. 정부가 개입을 안 하면 스타트업같이 취약한 경우는 앱 생태계 자체가 무너질 수 있는 중대한 사안\"이라고 강조했다.\n",
       "\n",
       "이어 그는 \"스타트업을 비롯해 인터넷 콘텐츠 업계에서는 구글의 인앱결제 강행에 대해 국회와 정부의 개입을 강력히 요구하고 있다\"며 \"구글의 시장지배적 지위 때문에 신원이 드러나는 것을 두려워하고 있다. 그래서 국감 증인 신청도 어려운 상황이다. 공개적으로 비판하거나 협상을 요청해 기업의 신분이 드러나면 구글로부터 불이익을 당할까 두려워하는 것이다. 구글 인앱결제 강제는 스타트업이 감당할 수 없는 수준이다. 정치권이 제 역할을 다해야 할 시점\"이라고 강조했다.\n",
       "\n",
       "이에 최기영 과기정통부 장관은 \"구글 인앱결제와 관련해 우리 기업이 입을 피해에 대한 실태조사를 이달 말까지 완료할 계획\"이라며 \" 불공정한 상황에서 선의의 피해자가 생기지 않아야 한다. 그런 관점에서 최대한 좋은 결과를 낼 수 있도록 하겠다\"고 밝혔다.\n",
       "\n",
       "jinny0618@tf.co.kr\n",
       "\n",
       "\n",
       "\n",
       "\n",
       "\n",
       "\n",
       "저작권자 ⓒ 특종에 강한 더팩트 &amp; tf.co.kr 무단 전재 및 재배포 금지\n",
       "\t<!-- // 본문 내용 -->\n",
       "</div>"
      ]
     },
     "execution_count": 43,
     "metadata": {},
     "output_type": "execute_result"
    }
   ],
   "source": [
    "url ='https://news.naver.com/main/read.nhn?mode=LSD&mid=shm&sid1=105&oid=629&aid=0000045669'  ## 각 뉴스 URL 주소 입력\n",
    "title_list2 =[] # 기사 제목 저장 LIST 생성\n",
    "news_list2 = [] # 뉴스 본문 저장 LIST 생성\n",
    "\n",
    "\n",
    "responce = requests.get(url, headers={'User-Agent':'Chrome/85.0.4183.121'},verify = False) ## 뉴스 URL 주소 접속\n",
    "news = BeautifulSoup(responce.text,'html.parser') # html 태그 기준으로 parsing\n",
    "content = news.select(\"#articleBodyContents\") # 기사 본문 저장되어 있는 html주소 복사\n",
    "\n",
    "\n",
    "news_content = content[0]\n",
    "\n",
    "for target in news_content.find_all('script'): # 기사 본문에 추가로 저장되어 있는 각 class들 제거\n",
    "    target.extract()\n",
    "\n",
    "for target in news_content.find_all('a'): # 기사 본문에 추가로 저장되어 있는 각 class들 제거\n",
    "    target.extract()\n",
    "\n",
    "for target in news_content.find_all('span'): # 기사 본문에 추가로 저장되어 있는 각 class들 제거\n",
    "    target.extract()\n",
    "\n",
    "for target in news_content.find_all('div'): # 기사 본문에 추가로 저장되어 있는 각 class들 제거\n",
    "    target.extract()\n",
    "    \n",
    "for target in news_content.find_all('iframe'): # 기사 본문에 추가로 저장되어 있는 각 class들 제거\n",
    "    target.extract()\n",
    "\n",
    "    \n",
    "for target in news_content.find_all('br'): # 기사 본문에 추가로 저장되어 있는 각 class들 제거\n",
    "    target.replace_with(\"\\n\")    \n",
    "\n",
    "    \n",
    "news_content\n",
    "\n"
   ]
  },
  {
   "cell_type": "markdown",
   "metadata": {},
   "source": [
    "전체 URL로 확장 중"
   ]
  },
  {
   "cell_type": "code",
   "execution_count": 132,
   "metadata": {},
   "outputs": [
    {
     "data": {
      "text/plain": [
       "5"
      ]
     },
     "execution_count": 132,
     "metadata": {},
     "output_type": "execute_result"
    }
   ],
   "source": [
    "'''\n",
    "url_test =df['url'].tolist()  ## 각 뉴스 URL 주소 입력\n",
    "news_list = [] # 뉴스 본문 저장 LIST 생성\n",
    "\n",
    "for page in url_test :\n",
    "    \n",
    "    responce = requests.get(page, headers={'User-Agent':'Chrome/85.0.4183.121'},verify = False) ## 뉴스 URL 주소 접속\n",
    "    news = BeautifulSoup(responce.text,'html.parser') # html 태그 기준으로 parsing\n",
    "    content = news.select(\"#articleBodyContents\") # 기사 본문 저장되어 있는 html주소 복사\n",
    "\n",
    "\n",
    "    news_content = content[0]\n",
    "\n",
    "    for target in news_content.find_all('script'): # 기사 본문에 추가로 저장되어 있는 각 class들 제거\n",
    "        target.extract()\n",
    "\n",
    "    for target in news_content.find_all('a'): # 기사 본문에 추가로 저장되어 있는 각 class들 제거\n",
    "        target.extract()\n",
    "\n",
    "    for target in news_content.find_all('span'): # 기사 본문에 추가로 저장되어 있는 각 class들 제거\n",
    "        target.extract()\n",
    "\n",
    "    for target in news_content.find_all('div'): # 기사 본문에 추가로 저장되어 있는 각 class들 제거\n",
    "        target.extract()\n",
    "\n",
    "    for target in news_content.find_all('iframe'): # 기사 본문에 추가로 저장되어 있는 각 class들 제거\n",
    "        target.extract()\n",
    "\n",
    "\n",
    "    for target in news_content.find_all('br'): # 기사 본문에 추가로 저장되어 있는 각 class들 제거\n",
    "        target.replace_with(\"\\n\")    \n",
    "\n",
    "    news_text = news_content.get_text()\n",
    "    news_text = news_text.replace(\"\\t\", \"\").replace('\\'','') # text로 전환하며 저장되는 기타 \\t \\'를 각각 빈칸으로 변환\n",
    "    news_list.append(news_text)\n",
    "    time.sleep(10)\n",
    "\n",
    "final_title = df.title.tolist()\n",
    "news_list\n",
    "\n",
    "'''"
   ]
  },
  {
   "cell_type": "code",
   "execution_count": 138,
   "metadata": {
    "scrolled": true
   },
   "outputs": [
    {
     "data": {
      "text/plain": [
       "['\\n\\n\\n\\n\\n1일 1회 이상 방송...14일까지 ‘브랜드 슈퍼데이’ 행사(지디넷코리아=백봉삼  기자)카카오커머스(대표 홍은택)가 12일 카카오쇼핑라이브를 정식 오픈하며, 국내 라이브 커머스 시장을 겨냥한 새로운 쇼핑 문화 창출에 나선다.\\n\\n카카오쇼핑라이브는 이번 정식 오픈을 계기로 방송 횟수 확대를 통한 다양한 브랜드의 라이브 커머스를 선보일 예정이다. 기존 모바일 쇼핑이 갖던 소통의 한계를 넘어 상품 및 브랜드에 대한 다각도 정보는 물론이고, 쌍방향 소통이 가능한 고객 중심 라이브 커머스로 거듭날 계획이다.\\n\\n우선 정식 오픈 후 현재 1주에 1~2회 진행했던 방송 횟수를 확대해 매일 1회 이상 라이브 커머스를 진행한다. 이를 위해 카카오커머스는 현재 카카오쇼핑라이브 전담팀 신설 및 자체 스튜디오 설립 등 전문 인프라 구축을 통해 차별화된 콘텐츠 기획/제작 역량을 마련했다.\\n\\n\\n이처럼 제작된 방송은 카카오쇼핑라이브 톡채널 및 카카오 쇼핑하기, 카카오 선물하기를 통해서도 만나볼 수 있다. 다음엠탑 쇼핑탭, 카카오톡 샵탭에서도 라이브 방송이 노출돼 고객들이 다양한 채널을 통해 카카오쇼핑라이브를 시청할 수 있도록 접근성을 강화했다.\\n\\n또 정식 오픈 이후에는 다양한 전문가와 함께 하는 정규 프로그램을 신설해 고객이 구매에 필요한 상품 정보를 전문가와 실시간 소통할 수 있는 콘텐츠를 강화할 계획이다. 아울러 개개인이 원하는 브랜드 상품을 라이브로 만날 수 있도록 고객 맞춤형 시스템도 구축할 예정이다.\\n\\n더불어 점차 다양화되는 모바일 쇼핑에 대한 고객 니즈를 고려해 럭셔리 브랜드와의 협업을 강화해 보다 차별화된 상품을 고객에게 선보일 계획이다. 중소상공인을 위한 방송 창구도 마련해 제작 시스템을 마련하기 어려운 파트너들을 위한 도움도 지원한다.\\n\\n카카오쇼핑라이브는 이번 정식 오픈을 기념해 12일부터 14일까지 3일간 &apos;카카오커머스 브랜드 슈퍼데이&apos;를 선보인다. 카카오커머스 브랜드 슈퍼데이는 카카오커머스가 브랜드와 함께 기획하는 원데이 타임세일 행사로, 카카오 주요 채널(카카오쇼핑라이브, 카카오선물하기, 카카오쇼핑하기)의 통합 마케팅을 통해 고객들에게 특별한 혜택을 제공한다.\\n\\n대표적으로 이번 행사에는 아모레퍼시픽, 삼성전자, 현대백화점이 참여할 계획이다. 12일 아모레퍼시픽 브랜드 슈퍼데이에서는 설화수/헤라/라네즈/아이오페 브랜드 상품을 뷰티 인플루언서들이 소개하는 라이브 커머스가 진행되며, 1+1 등 구매 혜택 및 경품 행사 등 고객들을 위한 다양한 이벤트도 제공한다. 또 13일 삼성전자 브랜드 슈퍼데이에서는 IT 인플루언서들이 라이브커머스를 통해 상품을 다각도로 리뷰할 예정이며, 청소기/에어드레서/버즈 라이브 등 인기 상품을 한정 수량 특가로 판매한다.\\n\\n\\n더불어 상생을 위한 특별한 행사도 준비했다. 15일부터 21일까지 카카오쇼핑라이브와 삼성카드가 협업해 중소상공인과 사회적 기업의 판로 개척 및 홍보 지원을 위한 비대면 라이브 커머스 페스티벌인 &apos;홀가분마켓 라이브&apos;를 개최한다.\\n\\n홀가분마켓 라이브에는 총 40여 개 팀이 참여하고 ▲먹방 ▲쿡방 ▲간식 ▲취미·DIY ▲홈트레이닝 ▲정리·리빙 아이템 ▲패션 아이템 등 7개 카테고리로 총 50여 개의 상품을 만나볼 수 있다. 특히 노라조, 원더걸스 유빈, 레인보우 지숙, 김풍 등 카테고리별 다양한 셀럽들이 라이브 방송의 쇼호스트로 참여해 중·소상공인 제품 소개할 예정이다.\\n\\n카카오쇼핑라이브는 지난 5월 베타 서비스 오픈 이후 25회 방송 만에 누적 시청 횟수 500만회를 돌파했다. 현재까지 방송 당 평균 시청 횟수 10만 회, 카카오쇼핑라이브 톡채널 친구 수 120만 명을 확보했다.\\n\\n카카오커머스 관계자는 \"다양한 브랜드의 상품을 라이브 커머스로 진행하며 차별화된 콘텐츠를 선보이기 위해 노력하고 있다\"며 \"브랜드 상품뿐 아니라 실시간 소통이 가능한 라이브 커머스의 장점을 확대해 고객들과 함께 소통하며 성장할 수 있는 고객 중심의 서비스가 될 수 있도록 노력할 것\"이라고 말했다.\\n\\n백봉삼 기자(paikshow@zdnet.co.kr)\\n\\n \\n \\n[Copyrightⓒ메가뉴스 & ZDNet & CNET. 무단전재 및 재배포 금지]\\n\\n',\n",
       " '\\n\\n\\n\\n\\n\\nLG유플러스는 약 400㎏ 사료를 동물행동권 카라에 기부했다고 12일 밝혔다. 사료는 공식 페이스북과 인스타그램 계정을 통해 9월 한달 간 진행된 유기동물 인식개선 SNS 참여 캠페인에 총 3800여건의 댓글이 달리며 적립됐다. \\n\\nLG유플러스는 유기동물 인식개선 캠페인 게시물에 사지말고입양하세요 등 응원 댓글을 달아 친구를 태그하면 댓글 1개당 사료 100g을 적립했다. LG유플러스가 전달한 사료는 경기도 파주에 위치한 반려동물복지센터 더봄센터에서 보호하고 있는 140여마리의 반려동물을 위해 사용될 예정이다.\\n\\n캠페인을 위해 발행된 SNS 콘텐츠는 카라에서 임시보호 중인 유기동물들의 모습을 담아 공개 이후 한 달간 조회수 약 20만회를 기록했다. 밝게 웃고 있는 동물들 모습에 유기동물에 대한 편견이 없어져 입양을 긍정적으로 생각해보겠다는 댓글이 많았다.\\n\\n류창수 LG유플러스 홈상품그룹장상무는 \"성숙한 반려동물 문화 조성에 기여하면서 고객이 쉽게 기부에 참여할 수 있도록 이번 SNS 참여 캠페인을 진행했다\"며 \"앞으로 U+초등나라와 같은 키즈 콘텐츠, 5G, 스마트홈 등 자사 우수 서비스를 활용해 다양한 사회 문제 해결에 도움되는 CSR 캠페인 진행할 예정\"이라고 말했다.\\n\\n한편 LG유플러스는 반려동물복지센터 더봄센터에 △반려동물 전문 인공지능 서비스 AI맘카(CCTV) △간식로봇 등을 설치, 유기동물을 효율적으로 돌볼 수 있는 스마트견사를 구축한다. 또 유기동물의 입양활성화와 빠른 적응을 위해 카라와 협력해 유기동물 입양 가정 50가구에 반려동물 전문 인공지능 서비스 스마트홈 펫케어 서비스와 이용료를 무료로 지원 중이다.김은지기자 kej@dt.co.kr\\n\\n \\n\\n디지털타임스  / \\n\\n\\n\\n',\n",
       " '\\n\\n\\n\\n\\n\\n\\n[헤럴드경제=채상우 기자] 모바일 게임 전문기업 컴투스는 독일 게임사 아웃 오브 더 파크 디벨롭먼트(OOTP)의 지분 100%를 취득하는 인수합병을 진행했다고 12일 밝혔다. 컴투스가 해외 기업을 인수한 건 처음이다. \\n\\nOOTP는 1999년 설립된 독일의 중견 게임사로 PC 기반의 스포츠 매니지먼트 게임인 ‘아웃 오브 더 파크 베이스볼’과 ‘프랜차이즈 하키 매니저’ 등을 서비스하고 있다.\\n\\n컴투스는 이번 OOTP 인수로 양사 간의 높은 시너지를 기대하고 있다. 이미 MLB, NBA, KBO 등 글로벌 스포츠 라이선스 게임의 노하우를 갖춘 컴투스는 OOTP의 매니지먼트 장르 역량을 더해 경쟁력을 강화해 나간다. 또한, OOTP 게임들의 세계 시장 확대와 모바일 버전 서비스 역시 유기적인 협업을 통해 성공적으로 이끌어 간다는 계획이다.\\n\\n마르쿠스 하인손 OOTP CEO는 컴투스의 모바일 게임 노하우 및 글로벌 마켓 파워는 OOTP 게임들을 더욱 성장시킬 것으로 확신한다”고 전했다.\\n\\n123@heraldcorp.com\\n\\n\\n\\n  \\n\\n\\n\\n- Copyrights ⓒ 헤럴드경제 & heraldbiz.com, 무단 전재 및 재배포 금지 -\\n\\n',\n",
       " '\\n\\n\\n\\n\\n\\n  [파이낸셜뉴스] LG헬로비전은 지역 이색 여행코스를 소개하는 오리지널 예능 콘텐츠 GO지방트래블을 첫 방송 한다고 12일 밝혔다. 매주 월요일 오후 5시 5분에 LG헬로비전 지역채널 25번에서 시청할 수 있으며 지역채널 홈페이지와 유튜브 채널을 통해서도 만나볼 수 있다.  \\n \\n  \\nGO지방트래블은 지역의 숨겨진 맛과 멋을 발굴하고 지역을 즐기는 새로운 방법을 제시하는 여행 프로그램이다. 코로나19가 장기화하는 상황에서 시청자들이 지역의 즐길 거리를 간접 체험하며 여행에 대한 갈증을 해소할 수 있도록 돕는다는 취지에서 마련됐다.  \\n \\n전 연령층이 재미있게 즐길 수 있도록 예능 형태로 구성한 것이 이번 프로그램의 특징이다. 지역 여행을 떠난 출연진이 초를 다투는 미션을 수행하며 곳곳의 숨은 명소와 맛집을 방문하고 액티비티를 즐기는 모습을 유쾌하게 담아낸다.  \\n \\nMC는 연예계 대표 미식가인 작곡가 돈스파이크씨와 개그계 원조 귀요미 홍윤화씨가 맡았다. 고지방 남매를 자처한 두 MC는 전혀 다른 여행 스타일과 취향을 바탕으로 이색 케미를 발휘한다.  \\n \\nLG헬로비전은 이번 프로그램을 통해 지역사회 활력 제고에 힘을 보탤 수 있을 것으로 기대하고 있다. 지역 여행을 즐기는 두 MC의 모습을 통해 각 지역의 특산물과 전통시장을 자연스레 조명해 홍보를 돕는다. 지역민들만 아는 로컬 명소도 함께 소개해 코로나19 종식 이후의 관광객 유치에도 기여할 수 있을 것으로 보고있다.  \\n \\n이날 첫 방송에서는 강원도 정선을 찾는다. 여행은 선택이다를 주제로 진행된 이번 여행에서 두 MC는 각자의 선택에 따라 주어진 미션을 수행하며 여유와 극한을 오가는 복불복 여행을 하게 된다.  \\n \\n류복열 LG헬로비전 PD는 \"GO지방트래블은 지역성의 가치를 구현해내면서도 재미라는 콘텐츠 본원적 경쟁력을 확보한 지역형 예능교양 대표 콘텐츠로 자리 잡을 것\"이라며 \"시청자들이 이번 프로그램을 통해 여행에 대한 갈증을 해소할 수 있게 되기를 기대한다\"고 말했다.  \\n \\n  \\n \\n \\n\\n \\n \\n※ 저작권자 ⓒ 파이낸셜뉴스. 무단 전재-재배포 금지\\n\\n',\n",
       " '\\n\\n\\n\\n\\n\\n구글의 앱 장터(마켓)인 구글 플레이가 폭발적인 성장세를 기록한 것으로 조사됐다.\\n\\n12일 국회 정무위 소속 더불어민주당 박광온 의원이 국내 7개 카드사(삼성·신한·KB국민·현대·롯데·하나·비씨)에서 제출받아 분석한 자료를 보면 올해 1∼9월 국내 3대 앱마켓의 전체 신용카드 매출액은 2조6356억원으로 집계됐다.\\n\\n이중 구글의 구글플레이 매출이 2조 696억원으로 78.5%를 기록했다. 2016년 1598억원에 그쳤던 구글플레이 매출은 지난해 1조9753억원으로 5년새 10배 이상 증가했고, 올해 들어서는 3분기까지 이미 2조원을 돌파하며 사상 최대 실적을 경신했다.\\n\\n애플 앱스토어는 454억원으로 15.4%를 기록했다. 지난해 980억원과 비교하면 4배로 증가했다. 반면에 국산 앱 마켓인 원스토어의 매출 실적은 저조했다. 국내 이동통신 3사와 네이버가 함께 만든 원스토어의 1∼9월 매출은 1606억원으로 전체 국내 앱마켓 매출액의 6.1% 수준에 그쳤다.\\n\\n박광온 의원은 \"국내 앱 마켓 시장에서 80% 점유율을 가진 구글이 독점적 지배력을 남용해 인앱결제와 30% 수수료를 강행하고 있다\"면서 \"구글 결제정책에 위법성이 있다면 정부가 즉각 대응해야 할 것\"이라고 말했다.황병서기자 BShwang@dt.co.kr\\n\\n \\n\\n디지털타임스  / \\n\\n\\n\\n']"
      ]
     },
     "execution_count": 138,
     "metadata": {},
     "output_type": "execute_result"
    }
   ],
   "source": [
    "final_title = df.title.tolist()\n",
    "news_list"
   ]
  },
  {
   "cell_type": "markdown",
   "metadata": {},
   "source": [
    "셀레니움도 전체로 확장 작업 중"
   ]
  },
  {
   "cell_type": "code",
   "execution_count": null,
   "metadata": {},
   "outputs": [],
   "source": [
    "path = \"C:/driver/chromedriver.exe\"    # 크롬드라이버 설치 경로 설정\n",
    "set_id = open(\"C:/driver/set_id.txt\", 'r').read() #id 입력\n",
    "set_pwd = open(\"C:/driver/pwd.txt\", 'r').read() # pwd 입력"
   ]
  },
  {
   "cell_type": "code",
   "execution_count": 253,
   "metadata": {
    "scrolled": true
   },
   "outputs": [
    {
     "data": {
      "text/plain": [
       "'\\n# Selenium Load\\ndriver = webdriver.Chrome(path) # chrome driver load\\n# site login\\ndriver.get(\\'https://autoway.hyundai.net/\\') # 오토웨이 접속\\ntime.sleep(3)\\n\\ndriver.find_element_by_xpath(\\'//*[@id=\"form1\"]/div[3]/div[2]/div[3]/div/div[3]\\').click() # autoway접속하여 로그인창의 부품 선택\\n\\ndriver.find_element_by_xpath(\\'//*[@id=\"drpGroupCopList\"]/option[2]\\').click() # 부품의 현대트랜시스 선택\\n\\n\\nlog = driver.find_element_by_id(\"userID\") # 오토웨이 id 입력 주소\\nlog.send_keys(set_id) # id입력\\ntime.sleep(2)\\npwd = driver.find_element_by_id(\"password\") # 오토웨이 비밀번호 입력 주소\\npwd.send_keys(set_pwd) # pwd 입력\\ntime.sleep(8)\\ndriver.find_element_by_xpath(\\'//*[@id=\"Login\"]\\').click() # 로그인 버튼 클릭\\ntime.sleep(10)\\n\\ndriver.get(\\'https://autoway.hyundai.net/board/H104/Lists/H10400357/TileListView.aspx\\') # 현대트랜시스 I.C.U주소 입력하여 접속\\ntime.sleep(8)\\n\\nfor news_title, news_text in zip(final_title, news_list) :\\n\\n\\n    driver.find_element_by_xpath(\\'//*[@id=\"ctl00_ctl59_g_de894c14_b56d_4d4b_9c89_374a6c0455c1_Search_NewButton_New_ctl00_ctl59_g_de894c14_b56d_4d4b_9c89_374a6c0455c1_Search_NewButton\"]\\').click()\\n    # I.C.U 내부의 작성 버튼 클릭\\n    time.sleep(10)\\n\\n    icu_title = driver.find_element_by_id(\"Title_fa564e0f-0c70-4ab9-b863-0177e6ddd247_$TextField\") # 제목란 클릭\\n    icu_title.send_keys(news_title) # 작성 제목에 기사 제목 입력\\n    time.sleep(5)\\n\\n\\n    # iframe 전환\\n\\n    # 작성 게시글 내부의 inline frame(iframe) 2개의 web page가 삽입되어 있습니다.\\n    # 기사를 입력하기 위해서는 내부에 들어가서 작성해야 합니다.\\n    # 이를 위해 tag_name으로 iframe이 입력된 전체 리스트를 찾고 \\n    # 기사 제목을 입력할 수 있는 iframe[0] 내부의 두번째 iframe에 접속하여 기사 본문을 게시하는 코드를 작성하였습니다.\\n\\n    iframes = driver.find_elements_by_tag_name(\\'iframe\\') # 모든 iframe tage_name을 검색\\n    driver.switch_to.frame(iframes[0]) # 그 중 본문을 작성할 수 있는 첫번째 iframe 선택\\n\\n\\n    second_iframe = driver.find_elements_by_tag_name(\\'iframe\\') # 본문에 접속하기 위해서는 iframe[0]내부의 iframe에 접속하여 작성해야됨\\n    # 이를 위해 2번째 iframe을 검색\\n    driver.switch_to.frame(second_iframe[0])  # 검색한 두 번째 iframe 접속\\n    icu_news = driver.find_element_by_id(\"dext_body\") # 해당 iframe 내의 기사를 입력할 수 있는 id = dext_body 검색\\n    icu_news.send_keys(news_text) # 해당 부분에 기사 내용 입력\\n\\n\\n    driver.switch_to_default_content() # 해당 iframe에 벗어나 상위 웹페이지로 연결\\n    time.sleep(2)\\n    # 기사 최종 게시 클릭\\n    # driver.find_element_by_xpath(\\'//*[@id=\"ctl00_ctl59_g_0005fe00_cee6_4765_9070_f77f554d027e_ctl00_ctl06_btnSave\"]\\').click()\\n\\n    #샘플 테스트로 목록 클릭하여 빠져나오는 코드\\n    driver.find_element_by_xpath(\\'//*[@id=\"ctl00_ctl59_g_0005fe00_cee6_4765_9070_f77f554d027e_ctl00_ctl07_List_ctl00_ctl59_g_0005fe00_cee6_4765_9070_f77f554d027e_ctl00_ctl07\"]/span\\').click()\\n    time.sleep(3)\\n'"
      ]
     },
     "execution_count": 253,
     "metadata": {},
     "output_type": "execute_result"
    }
   ],
   "source": [
    "'''\n",
    "# Selenium Load\n",
    "driver = webdriver.Chrome(path) # chrome driver load\n",
    "# site login\n",
    "driver.get('https://autoway.hyundai.net/') # 오토웨이 접속\n",
    "time.sleep(3)\n",
    "\n",
    "driver.find_element_by_xpath('//*[@id=\"form1\"]/div[3]/div[2]/div[3]/div/div[3]').click() # autoway접속하여 로그인창의 부품 선택\n",
    "\n",
    "driver.find_element_by_xpath('//*[@id=\"drpGroupCopList\"]/option[2]').click() # 부품의 현대트랜시스 선택\n",
    "\n",
    "\n",
    "log = driver.find_element_by_id(\"userID\") # 오토웨이 id 입력 주소\n",
    "log.send_keys(set_id) # id입력\n",
    "time.sleep(2)\n",
    "pwd = driver.find_element_by_id(\"password\") # 오토웨이 비밀번호 입력 주소\n",
    "pwd.send_keys(set_pwd) # pwd 입력\n",
    "time.sleep(8)\n",
    "driver.find_element_by_xpath('//*[@id=\"Login\"]').click() # 로그인 버튼 클릭\n",
    "time.sleep(10)\n",
    "\n",
    "driver.get('https://autoway.hyundai.net/board/H104/Lists/H10400357/TileListView.aspx') # 현대트랜시스 I.C.U주소 입력하여 접속\n",
    "time.sleep(8)\n",
    "\n",
    "for news_title, news_text in zip(final_title, news_list) :\n",
    "\n",
    "\n",
    "    driver.find_element_by_xpath('//*[@id=\"ctl00_ctl59_g_de894c14_b56d_4d4b_9c89_374a6c0455c1_Search_NewButton_New_ctl00_ctl59_g_de894c14_b56d_4d4b_9c89_374a6c0455c1_Search_NewButton\"]').click()\n",
    "    # I.C.U 내부의 작성 버튼 클릭\n",
    "    time.sleep(10)\n",
    "\n",
    "    icu_title = driver.find_element_by_id(\"Title_fa564e0f-0c70-4ab9-b863-0177e6ddd247_$TextField\") # 제목란 클릭\n",
    "    icu_title.send_keys(news_title) # 작성 제목에 기사 제목 입력\n",
    "    time.sleep(5)\n",
    "\n",
    "\n",
    "    # iframe 전환\n",
    "\n",
    "    # 작성 게시글 내부의 inline frame(iframe) 2개의 web page가 삽입되어 있습니다.\n",
    "    # 기사를 입력하기 위해서는 내부에 들어가서 작성해야 합니다.\n",
    "    # 이를 위해 tag_name으로 iframe이 입력된 전체 리스트를 찾고 \n",
    "    # 기사 제목을 입력할 수 있는 iframe[0] 내부의 두번째 iframe에 접속하여 기사 본문을 게시하는 코드를 작성하였습니다.\n",
    "\n",
    "    iframes = driver.find_elements_by_tag_name('iframe') # 모든 iframe tage_name을 검색\n",
    "    driver.switch_to.frame(iframes[0]) # 그 중 본문을 작성할 수 있는 첫번째 iframe 선택\n",
    "\n",
    "\n",
    "    second_iframe = driver.find_elements_by_tag_name('iframe') # 본문에 접속하기 위해서는 iframe[0]내부의 iframe에 접속하여 작성해야됨\n",
    "    # 이를 위해 2번째 iframe을 검색\n",
    "    driver.switch_to.frame(second_iframe[0])  # 검색한 두 번째 iframe 접속\n",
    "    icu_news = driver.find_element_by_id(\"dext_body\") # 해당 iframe 내의 기사를 입력할 수 있는 id = dext_body 검색\n",
    "    icu_news.send_keys(news_text) # 해당 부분에 기사 내용 입력\n",
    "\n",
    "\n",
    "    driver.switch_to_default_content() # 해당 iframe에 벗어나 상위 웹페이지로 연결\n",
    "    time.sleep(2)\n",
    "    # 기사 최종 게시 클릭\n",
    "    # driver.find_element_by_xpath('//*[@id=\"ctl00_ctl59_g_0005fe00_cee6_4765_9070_f77f554d027e_ctl00_ctl06_btnSave\"]').click()\n",
    "\n",
    "    #샘플 테스트로 목록 클릭하여 빠져나오는 코드\n",
    "    driver.find_element_by_xpath('//*[@id=\"ctl00_ctl59_g_0005fe00_cee6_4765_9070_f77f554d027e_ctl00_ctl07_List_ctl00_ctl59_g_0005fe00_cee6_4765_9070_f77f554d027e_ctl00_ctl07\"]/span').click()\n",
    "    time.sleep(3)\n",
    "'''"
   ]
  },
  {
   "cell_type": "markdown",
   "metadata": {},
   "source": [
    "샘플로 기사 제목 추출"
   ]
  },
  {
   "cell_type": "code",
   "execution_count": 45,
   "metadata": {},
   "outputs": [],
   "source": [
    "title = news.select(\"#articleTitle\")\n",
    "title = title[0]\n",
    "news_title = title.text"
   ]
  },
  {
   "cell_type": "markdown",
   "metadata": {},
   "source": [
    "#### Autoway의 I.C.U에 기사를 붙여넣기 하기 위해 해당 내용을 Text로 전환해야 한다\n"
   ]
  },
  {
   "cell_type": "code",
   "execution_count": 44,
   "metadata": {},
   "outputs": [
    {
     "data": {
      "text/plain": [
       "'\\n\\n\\n\\n\\n\\n\\n7일 국회 과방위 과기정통부 국정감사서 구글 수수료 30% 관련 정부 대책 마련 촉구\\n\\n[더팩트│최수진 기자] 국회에서 구글의 수수료 30% 정책에 대한 우려의 목소리가 나왔다. 정부가 적극적으로 나서서 글로벌 IT 공룡의 갑질을 막아야 한다는 주장이다.\\n\\n7일 국회 과학기술방송통신위원회(과방위)의 과기정통부 국정감사에서 한준호 더불어민주당 의원은 \"세계에서 두 번째로 큰 인터넷 시장인 인도에서 150개 스타트업 기업들이 비공식적으로 연합해 구글의 인앱결제 정책을 2022년 4월까지 연기했다\"며 \"인도에서는 구글이 무릎을 꿇은 것이다. 구글플레이 마켓 규모로 보면 인도 시장보다 국내 시장이 크다. 우리도 정부 차원에서 스타트업들과 함께 인도 사례를 참고해서 구글과 협상해야 한다\"고 말했다.\\n\\n이어 \"정부에서 믿음을 줘야 한다\"며 \"엔씨소프트 같은 경우도 왜 참고인 출석을 안 했겠냐. 구글의 눈치를 보는 것이다. 기업이 눈치를 보지 않도록 정부가 우리 스타트업과 기업들을 보살펴주고 방패가 될 필요가 있다\"고 덧붙였다.\\n\\n앞서 구글은 지난 9월 온라인 간담회를 열고, 내년부터 플레이스토어에 등록된 모든 앱 및 콘텐츠에 일괄적으로 30%의 수수료를 부과한다고 밝혔다. 이와 함께 인앱결제(IAP)도 강제한다. 신규 앱은 내년 1월 20일부터 적용되며, 기존 앱은 내년 10월부터 변경된다.\\n\\n문제는 구글의 결정을 따르지 않는 업체가 플레이스토어에서 퇴출당할 가능성이 존재한다는 점이다. 이에 국감에서도 관련된 우려를 표명했다.\\n\\n\\n\\n홍정민 더불어민주당 의원 역시 \"보통 규제라고 하면 시장이나 정부를 보는 입장에 따라 찬반이 갈리는데 구글 사안에 대해서는 모두 한목소리를 내고 있다\"며 \"정부가 나서서 공정거래법, 전기통신사업법 등 적용해 규제해주길 바라고 있다. 정부가 개입을 안 하면 스타트업같이 취약한 경우는 앱 생태계 자체가 무너질 수 있는 중대한 사안\"이라고 강조했다.\\n\\n이어 그는 \"스타트업을 비롯해 인터넷 콘텐츠 업계에서는 구글의 인앱결제 강행에 대해 국회와 정부의 개입을 강력히 요구하고 있다\"며 \"구글의 시장지배적 지위 때문에 신원이 드러나는 것을 두려워하고 있다. 그래서 국감 증인 신청도 어려운 상황이다. 공개적으로 비판하거나 협상을 요청해 기업의 신분이 드러나면 구글로부터 불이익을 당할까 두려워하는 것이다. 구글 인앱결제 강제는 스타트업이 감당할 수 없는 수준이다. 정치권이 제 역할을 다해야 할 시점\"이라고 강조했다.\\n\\n이에 최기영 과기정통부 장관은 \"구글 인앱결제와 관련해 우리 기업이 입을 피해에 대한 실태조사를 이달 말까지 완료할 계획\"이라며 \" 불공정한 상황에서 선의의 피해자가 생기지 않아야 한다. 그런 관점에서 최대한 좋은 결과를 낼 수 있도록 하겠다\"고 밝혔다.\\n\\njinny0618@tf.co.kr\\n\\n\\n\\n\\n\\n\\n저작권자 ⓒ 특종에 강한 더팩트 & tf.co.kr 무단 전재 및 재배포 금지\\n\\n'"
      ]
     },
     "execution_count": 44,
     "metadata": {},
     "output_type": "execute_result"
    }
   ],
   "source": [
    "news_text = news_content.get_text()\n",
    "news_text = news_text.replace(\"\\t\", \"\").replace('\\'','') # text로 전환하며 저장되는 기타 \\t \\'를 각각 빈칸으로 변환\n",
    "news_text\n"
   ]
  },
  {
   "cell_type": "markdown",
   "metadata": {},
   "source": [
    "### Selenium활용하여 Autoway에 자동 로그인\n",
    "\n",
    "#### OTP 승인 없이 로그인 할 수 있는 ID를 받아 \n",
    "#### chrome driver를 실행 후 해당 모든 기사의 제목과 url을 입력할 수 있도록 할 예정이다"
   ]
  },
  {
   "cell_type": "code",
   "execution_count": 56,
   "metadata": {},
   "outputs": [],
   "source": [
    "from selenium.webdriver.common.keys import Keys\n",
    "\n"
   ]
  },
  {
   "cell_type": "code",
   "execution_count": 15,
   "metadata": {},
   "outputs": [],
   "source": [
    "path = \"C:/driver/chromedriver.exe\"    # 크롬드라이버 설치 경로 설정"
   ]
  },
  {
   "cell_type": "code",
   "execution_count": 16,
   "metadata": {},
   "outputs": [],
   "source": [
    "set_id = open(\"C:/driver/set_id.txt\", 'r').read() #id 입력\n",
    "set_pwd = open(\"C:/driver/pwd.txt\", 'r').read() # pwd 입력"
   ]
  },
  {
   "cell_type": "code",
   "execution_count": 60,
   "metadata": {},
   "outputs": [],
   "source": [
    "# Selenium Load\n",
    "driver = webdriver.Chrome(path) # chrome driver load\n",
    "# site login\n",
    "driver.get('https://autoway.hyundai.net/') # 오토웨이 접속\n",
    "time.sleep(3)\n",
    "\n",
    "driver.find_element_by_xpath('//*[@id=\"form1\"]/div[3]/div[2]/div[3]/div/div[3]').click() # autoway접속하여 로그인창의 부품 선택\n",
    "\n",
    "driver.find_element_by_xpath('//*[@id=\"drpGroupCopList\"]/option[2]').click() # 부품의 현대트랜시스 선택\n",
    "\n",
    "\n",
    "log = driver.find_element_by_id(\"userID\") # 오토웨이 id 입력 주소\n",
    "log.send_keys(set_id) # id입력\n",
    "time.sleep(2)\n",
    "pwd = driver.find_element_by_id(\"password\") # 오토웨이 비밀번호 입력 주소\n",
    "pwd.send_keys(set_pwd) # pwd 입력\n",
    "time.sleep(8)\n",
    "driver.find_element_by_xpath('//*[@id=\"Login\"]').click() # 로그인 버튼 클릭\n",
    "time.sleep(10)\n",
    "\n",
    "driver.get('https://autoway.hyundai.net/board/H104/Lists/H10400357/TileListView.aspx') # 현대트랜시스 I.C.U주소 입력하여 접속\n",
    "time.sleep(8)\n",
    "driver.find_element_by_xpath('//*[@id=\"ctl00_ctl59_g_de894c14_b56d_4d4b_9c89_374a6c0455c1_Search_NewButton_New_ctl00_ctl59_g_de894c14_b56d_4d4b_9c89_374a6c0455c1_Search_NewButton\"]').click()\n",
    "# I.C.U 내부의 작성 버튼 클릭\n",
    "time.sleep(8)\n",
    "\n",
    "icu_title = driver.find_element_by_id(\"Title_fa564e0f-0c70-4ab9-b863-0177e6ddd247_$TextField\") # 제목란 클릭\n",
    "icu_title.send_keys(news_title) # 작성 제목에 기사 제목 입력\n",
    "time.sleep(5)\n",
    "\n",
    "\n",
    "# iframe 전환\n",
    "\n",
    "# 작성 게시글 내부의 inline frame(iframe) 2개의 web page가 삽입되어 있습니다.\n",
    "# 기사를 입력하기 위해서는 내부에 들어가서 작성해야 합니다.\n",
    "# 이를 위해 tag_name으로 iframe이 입력된 전체 리스트를 찾고 \n",
    "# 기사 제목을 입력할 수 있는 iframe[0] 내부의 두번째 iframe에 접속하여 기사 본문을 게시하는 코드를 작성하였습니다.\n",
    "\n",
    "iframes = driver.find_elements_by_tag_name('iframe') # 모든 iframe tage_name을 검색\n",
    "driver.switch_to.frame(iframes[0]) # 그 중 본문을 작성할 수 있는 첫번째 iframe 선택\n",
    "\n",
    "\n",
    "second_iframe = driver.find_elements_by_tag_name('iframe') # 본문에 접속하기 위해서는 iframe[0]내부의 iframe에 접속하여 작성해야됨\n",
    "# 이를 위해 2번째 iframe을 검색\n",
    "driver.switch_to.frame(second_iframe[0])  # 검색한 두 번째 iframe 접속\n",
    "icu_news = driver.find_element_by_id(\"dext_body\") # 해당 iframe 내의 기사를 입력할 수 있는 id = dext_body 검색\n",
    "icu_news.send_keys(news_text) # 해당 부분에 기사 내용 입력\n",
    "\n",
    "    \n",
    "driver.switch_to_default_content() # 해당 iframe에 벗어나 상위 웹페이지로 연결\n",
    "\n",
    "# 기사 최종 게시 클릭\n",
    "# driver.find_element_by_xpath('//*[@id=\"ctl00_ctl59_g_0005fe00_cee6_4765_9070_f77f554d027e_ctl00_ctl06_btnSave\"]').click()\n",
    "\n",
    "#샘플 테스트로 목록 클릭하여 빠져나오는 코드\n",
    "# driver.find_element_by_xpath('//*[@id=\"ctl00_ctl59_g_0005fe00_cee6_4765_9070_f77f554d027e_ctl00_ctl07_List_ctl00_ctl59_g_0005fe00_cee6_4765_9070_f77f554d027e_ctl00_ctl07\"]/span').click()\n",
    "\n"
   ]
  },
  {
   "cell_type": "markdown",
   "metadata": {},
   "source": [
    "#### 샘플 테스트 결과 제목과 기사 본문 모두 작성이 완료되고 목록으로 빠져나오는 것을 확인할 수 있다.\n",
    "\n",
    "이후 이미지 복사 후 이미지 저장까지 적용할 예정입니다."
   ]
  },
  {
   "cell_type": "markdown",
   "metadata": {},
   "source": [
    "# test"
   ]
  },
  {
   "cell_type": "markdown",
   "metadata": {},
   "source": [
    "### ITWorld Korea 머신러닝, 클라우드, 빅데이터 파트 크롤링"
   ]
  },
  {
   "cell_type": "markdown",
   "metadata": {},
   "source": [
    "### ITWorld 빅데이터 탭 크롤링"
   ]
  },
  {
   "cell_type": "markdown",
   "metadata": {},
   "source": [
    "ITWorld의 빅데이터의 경우 매일 기사가 올라오지 않는다. 따라서 날짜를 기준으로 뉴스 기사를 판단한다.  \n",
    "날짜의 경우 일주일이 지나지 않았을 때는 n일 전, 일주일 경과 후에는 yyyy.mm.dd와 같이 2가지 포맷을 따르기에 2가지 경우에 따라 데이터를 추출하는 작업이 필요하다\n"
   ]
  },
  {
   "cell_type": "code",
   "execution_count": null,
   "metadata": {},
   "outputs": [],
   "source": [
    "itw_bigdata = 'http://www.itworld.co.kr/t/54649/%EB%B9%85%20%EB%8D%B0%EC%9D%B4%ED%84%B0' ## ITWorld 빅데이터 URL주소\n",
    "\n",
    "res = requests.get(itw_bigdata, headers={'User-Agent':'Chrome/85.0.4183.121'},verify = False) \n",
    "# requests이용하여 뉴스 주소 Load, 네이버 크롬 차단 방지 위해 chrome version을 입력하고 뉴스 주소를 설정\n",
    "# SSL ERROR 방지를 위해 Verify False 설정\n",
    "soup = BeautifulSoup(res.text, \"html.parser\") # html기준으로 parsing\n",
    "\n",
    "it_title_list =[] # 제목을 저장하기 위한 list 생성\n",
    "it_url_list = [] #URL을 저장하기 위한 list 생성\n",
    "\n",
    "results = soup.select('div > h4')\n",
    "results\n",
    "\n",
    "# 제목, 링크 출력 ---------------------------(2)\n",
    "it_title = soup.select('div > h4 > a')\n",
    "for i in it_title :\n",
    "    it_title_list.append(str.strip(i.string)) #기록된 기사 제목을 리스트에 추가\n",
    "    itworld_url = 'http://www.itworld.co.kr/'+ i.attrs['href']\n",
    "    it_url_list.append(itworld_url)\n",
    "\n",
    "    \n",
    "# df = pd.DataFrame({'title': title_list,'url':url_list}) # 기사제목과, URL을 dataframe에 임시 저장\n",
    "# df['title'] = df.title.str.replace('\\\\',\"\") # 따옴표가  \\' 형태로 기록되어 해당 \\를 공란으로 대체\n",
    "# df.head(10)\n",
    "\n",
    "\n",
    "# 날짜 추출\n",
    "\n",
    "test2 = soup.find(\"div\",{\"class\":\"news_list_time default_small_font color_lightest_gray\"})\n",
    "test2 = test2.get_text()\n",
    "\n",
    "# n일 전 일경우와 yyyy.mm.dd일 경우 구분\n",
    "\n",
    "test2 = re.findall(r'\\d+', test2)"
   ]
  },
  {
   "cell_type": "code",
   "execution_count": 268,
   "metadata": {},
   "outputs": [],
   "source": [
    "test = soup.find(\"div\",{\"class\":\"of-h cb\"})"
   ]
  },
  {
   "cell_type": "code",
   "execution_count": 270,
   "metadata": {},
   "outputs": [
    {
     "data": {
      "text/plain": [
       "<div class=\"of-h cb\">\n",
       "<div class=\"news_list_source color_lightest_gray font_12\">\n",
       "<a class=\"color_lightest_gray\" href=\"/t/54649/빅 데이터\">빅 데이터</a>\n",
       "\t\t          \t\t\t          \t/\t\t          \t<a class=\"color_lightest_gray\" href=\"/t/39/애플리케이션\">애플리케이션</a>\n",
       "</div>\n",
       "<div class=\"news_list_time default_small_font color_lightest_gray\"><i class=\"icon-time news_list_time_icon color_light_gray font_12 default_small_font\"></i> 4일 전</div>\n",
       "</div>"
      ]
     },
     "execution_count": 270,
     "metadata": {},
     "output_type": "execute_result"
    }
   ],
   "source": [
    "test"
   ]
  },
  {
   "cell_type": "code",
   "execution_count": 285,
   "metadata": {},
   "outputs": [],
   "source": [
    "test2 = soup.find(\"div\",{\"class\":\"news_list_time default_small_font color_lightest_gray\"})"
   ]
  },
  {
   "cell_type": "code",
   "execution_count": 286,
   "metadata": {},
   "outputs": [],
   "source": [
    "test2 = test2.get_text()\n",
    "# test2 = str.strip(test2)\n",
    "test2.endswith('전')"
   ]
  },
  {
   "cell_type": "code",
   "execution_count": 299,
   "metadata": {},
   "outputs": [
    {
     "data": {
      "text/plain": [
       "'4일 전'"
      ]
     },
     "execution_count": 299,
     "metadata": {},
     "output_type": "execute_result"
    }
   ],
   "source": [
    "test2"
   ]
  },
  {
   "cell_type": "code",
   "execution_count": 335,
   "metadata": {},
   "outputs": [
    {
     "data": {
      "text/plain": [
       "True"
      ]
     },
     "execution_count": 335,
     "metadata": {},
     "output_type": "execute_result"
    }
   ],
   "source": [
    "test2.endswith('일 전') "
   ]
  },
  {
   "cell_type": "code",
   "execution_count": 312,
   "metadata": {},
   "outputs": [
    {
     "name": "stdout",
     "output_type": "stream",
     "text": [
      "2020-10-09 08:23:06.463726\n"
     ]
    }
   ],
   "source": [
    "date_list = []\n",
    "if test2.endswith('일 전') ==True :\n",
    "    test3 = re.findall(r'\\d+', test2)\n",
    "    test4 = datetime.now() - timedelta(days=int(test3[0]))\n",
    "    date_list.append(test4)\n",
    "elif bool(re.search(r'\\d{3,4}.\\d{1,2}.\\d{2}',sample)) == True :\n",
    "    test2.replace('.',\"-\")\n",
    "    date_list.append(test2)\n",
    "    \n",
    "elif test2.endswith('분 전') ==True:\n",
    "    test3 = re.findall(r'\\d+', test2)\n",
    "    test4 = datetime.now() - timedelta(minutes=int(test3[0]))"
   ]
  },
  {
   "cell_type": "code",
   "execution_count": null,
   "metadata": {},
   "outputs": [],
   "source": [
    "start_date = datetime.now()\n",
    "date_list = []\n",
    "if test2.endswith('시간 전') ==True :\n",
    "    test3 = re.findall(r'\\d+', test2)\n",
    "    test4 = datetime.now() - timedelta(hours=int(test3[0]))\n",
    "    date_list.append(test4)\n",
    "    \n",
    "elif test2.endswith('분 전') ==True:\n",
    "    test3 = re.findall(r'\\d+', test2)\n",
    "    test4 = datetime.now() - timedelta(minutes=int(test3[0]))\n",
    "    date_list.append(test4)\n",
    "\n",
    "elif bool(re.search(r'\\d{3,4}.\\d{1,2}.\\d{2}',sample)) == True :\n",
    "    test2.replace('.',\"-\")\n",
    "    "
   ]
  },
  {
   "cell_type": "code",
   "execution_count": 307,
   "metadata": {},
   "outputs": [
    {
     "data": {
      "text/plain": [
       "['4']"
      ]
     },
     "execution_count": 307,
     "metadata": {},
     "output_type": "execute_result"
    }
   ],
   "source": [
    "test3 = re.findall(r'\\d+', test2)\n",
    "test3"
   ]
  },
  {
   "cell_type": "code",
   "execution_count": 311,
   "metadata": {},
   "outputs": [
    {
     "data": {
      "text/plain": [
       "datetime.timedelta(days=4)"
      ]
     },
     "execution_count": 311,
     "metadata": {},
     "output_type": "execute_result"
    }
   ],
   "source": [
    "timedelta(days=int(test3[0]))"
   ]
  },
  {
   "cell_type": "code",
   "execution_count": 306,
   "metadata": {},
   "outputs": [
    {
     "data": {
      "text/plain": [
       "datetime.datetime(2020, 10, 13, 8, 20, 34, 60328)"
      ]
     },
     "execution_count": 306,
     "metadata": {},
     "output_type": "execute_result"
    }
   ],
   "source": [
    "from datetime import datetime, timedelta\n",
    "\n",
    "datetime.now()"
   ]
  },
  {
   "cell_type": "code",
   "execution_count": null,
   "metadata": {},
   "outputs": [],
   "source": []
  },
  {
   "cell_type": "code",
   "execution_count": null,
   "metadata": {},
   "outputs": [],
   "source": []
  },
  {
   "cell_type": "code",
   "execution_count": null,
   "metadata": {},
   "outputs": [],
   "source": [
    "<img src=\"https://imgnews.pstatic.net/image/025/2020/10/12/0003042568_001_20201012181732187.jpg?type=w647\" \n",
    "alt=\"\" style=\"border: 0px; display: inline-block; margin-bottom: 8px; vertical-align: middle; max-width: 100%;\">"
   ]
  },
  {
   "cell_type": "code",
   "execution_count": null,
   "metadata": {},
   "outputs": [],
   "source": [
    "<img src=\"https://imgnews.pstatic.net/image/025/2020/10/12/0003042568_002_20201012181732215.jpg?type=w647\" alt=\"\" \n",
    "style=\"border: 0px; display: inline-block; margin-bottom: 8px; vertical-align: middle; max-width: 100%;\">"
   ]
  },
  {
   "cell_type": "code",
   "execution_count": null,
   "metadata": {},
   "outputs": [],
   "source": [
    "<img src=\"https://imgnews.pstatic.net/image/215/2020/10/13/A202010130072_1_20201013094854468.jpg?type=w647\" \n",
    "alt=\"\" style=\"border: 0px; display: inline-block; margin-bottom: 8px; vertical-align: middle; max-width: 100%;\">"
   ]
  },
  {
   "cell_type": "code",
   "execution_count": null,
   "metadata": {},
   "outputs": [],
   "source": []
  },
  {
   "cell_type": "code",
   "execution_count": null,
   "metadata": {},
   "outputs": [],
   "source": []
  },
  {
   "cell_type": "code",
   "execution_count": null,
   "metadata": {},
   "outputs": [],
   "source": []
  },
  {
   "cell_type": "markdown",
   "metadata": {},
   "source": [
    "이미지 복사"
   ]
  },
  {
   "cell_type": "code",
   "execution_count": 231,
   "metadata": {},
   "outputs": [
    {
     "data": {
      "text/plain": [
       "<div class=\"_article_body_contents\" id=\"articleBodyContents\">\n",
       "<!-- 본문 내용 -->\n",
       "<!-- TV플레이어 -->\n",
       "<!-- // TV플레이어 -->\n",
       "\n",
       "<strong class=\"media_end_summary\">4개 모델 같이 나올까…120Hz·라이다 스캐너·5G 여부도 주목</strong>(지디넷코리아=황정빈  기자)애플이 야심적으로 준비해 온 아이폰12가 마침내 베일을 벗는다. 아이폰12는 애플이 내놓는 첫 5G 스마트폰이 될 것으로 예상돼 스마트폰 시장에서 어떤 바람을 몰고 올지 관심이 쏠린다.\n",
       "\n",
       "애플은 13일 오전 10시(현지시간, 한국시간 14일 오전 2시) 신제품 공개 행사를 개최한다. 코로나19 여파로 온라인으로 진행될 이번 행사에서 애플은 아이폰12 시리즈를 내놓을 것으로 예상된다.\n",
       "\n",
       "이에 앞서 애플은 지난 9월 온라인 행사를 열고 ▲애플워치 시리즈6 ▲애플워치SE ▲아이패드8세대 ▲아이패드 에어 등을 공개했다.\n",
       "\n",
       "<span style=\"position:relative;z-index:1;display:block;margin-top:24px;text-align:center; zoom:1;\"><span class=\"end_photo_org\"><img alt=\"\" src=\"https://imgnews.pstatic.net/image/092/2020/10/13/0002201756_001_20201013140501531.jpg?type=w647\"/></span><em style=\"display:block; padding-bottom:20px; margin:0px; color:#666; letter-spacing:-0.3px; line-height:19px; font-size:12px; font-family:gulim,Sans-serif;\">아이폰12 시리즈 렌더링 이미지.(사진=EVERYTHINGAPPLEPRO)</em></span>\n",
       "\n",
       "지금까지 전망을 종합하면 아이폰12 시리즈는 총 4개 모델으로 구성될 것으로 예상된다. ▲5.4인치 아이폰12미니(가칭) ▲6.1인치 아이폰12 ▲6.1인치 아이폰12 프로(가칭) ▲6.7인치 아이폰12 프로맥스(가칭) 4가지 모델로 구성될 전망이다.\n",
       "\n",
       "지난 해 나온 아이폰11와 달리 올해는 &amp;apos;미니&amp;apos; 모델이 추가될 것이 유력하다.\n",
       "\n",
       "아이폰12 시리즈의 겉모양은 전작과 크게 달라지지는 않을 전망이다. 하지만 아이폰4와 비슷한 각진 디자인을 채택할 것으로 예상된다. 노치 크기가 줄어들 수 있다는 전망도 유력하게 제기되고 있다.\n",
       "\n",
       "아이폰12 시리즈는 모두 OLED 디스플레이를 장착하고, A14 바이오닉 칩셋을 탑재할 것으로 예상된다. 하위모델인 아이폰12미니와 아이폰12는 후면에 듀얼 카메라를, 상위모델인 아이폰12프로와 아이폰12 프로맥스는 트리플 카메라를 탑재할 전망이다.\n",
       "\n",
       "<span style=\"position:relative;z-index:1;display:block;margin-top:24px;text-align:center; zoom:1;\"><span class=\"end_photo_org\"><img alt=\"\" src=\"https://imgnews.pstatic.net/image/092/2020/10/13/0002201756_002_20201013140501569.png?type=w647\"/></span><em style=\"display:block; padding-bottom:20px; margin:0px; color:#666; letter-spacing:-0.3px; line-height:19px; font-size:12px; font-family:gulim,Sans-serif;\">애플은 지난 7일 글로벌 미디어들에 애플 이벤트 초청장을 발송했다. 애플은 이날 아이폰12를 공개할 전망이다.</em></span>\n",
       "최상위 모델인 아이폰12 프로맥스에는 라이다(LiDAR) 스캐너가 탑재될 수 있다는 전망도 나온다. 라이다 스캐너는 빛이 물체에 닿았다가 반사돼 돌아오는 데 걸리는 시간을 측정해 거리를 파악하는 기술로, 증강 현실(AR)을 구현하는 데 사용된다. 라이다 스캐너는 아이패드 프로에 탑재된 바 있다.\n",
       "\n",
       "\n",
       "120Hz 고주사율을 지원 여부도 관심사다. 그 동안 아이폰12 프로 맥스에 한해 120Hz 고주사율을 지원할 것이란 전망이 유력하게 제기됐다.\n",
       "\n",
       "하지만 최근엔 내년에 출시될 아이폰에서 지원할 것이란 전망도 만만치 않다.\n",
       "\n",
       "주사율은 1초에 얼마나 많은 장면을 보여주는지를 나타내는 수치다. 주사율이 높을수록 부드럽고 매끄러운 화면 전환을 느낄 수 있다. 그런만큼 사용자들의 만족도를 높이는 데는 중요한 역할을 한다.\n",
       "\n",
       "실제로 삼성전자가 최근 조사한 갤럭시 스마트폰 중 가장 만족하는 디스플레이 기능에서는 120Hz 주사율이 압도적인 지지로 1위를 차지하기도 했다.\n",
       "\n",
       "그런 만큼 올해 출시될 아이폰이 120Hz 주사율을 지원할 지 여부도 중요한 관전 포인트다.\n",
       "\n",
       "\n",
       "애플이 아이폰12부터 5G를 지원할 것은 거의 확실한 상황이다. 하지만 이번에 출시될 모든 아이폰 모델이 5G를 지원할 지 여부는 미지수다.\n",
       "\n",
       "당초 아이폰12 시리즈는 모두 5G 모델로 출시될 것으로 전망됐다. 하지만 최근 미국 금융컨설팅회사 DA 데이비슨의 톰 포르테 애널리스트는 아이폰12 미니가 4G 모델로만 출시될 수도 있다고 전망했다.\n",
       "\n",
       "아이폰12시리즈가 28GHz 이상 밀리미터파(mmWave) 대역 안테나를 탑재할지도 미지수다. 5G 주파수 대역 중 28GHz 대역을 이용하면 6GHz 이하 주파수 대역(sub-6GHz)을 이용한 5G보다 속도가 빠른 것으로 알려졌다. 28GHz 대역 안테나는 아이폰12 프로맥스에만 지원될 수 있다는 전망과 함께 해당 안테나가 특정 국가에 제한될 수 있다는 전망도 나온다.\n",
       "\n",
       "하지만 아이폰12 프로맥스가 28GHz 대역을 지원하더라도 국내에서는 해당 주파수를 당장 사용하긴 어려울 전망이다. 국내 이동통신3사는 28GHz 대역 주파수 특성을 고려해 B2B 중심으로 우선 상용화한다는 계획이다.\n",
       "\n",
       "애플은 환경 보호와 비용 절감을 이유로 이번 아이폰12 구성품에 충전기와 유선 이어폰을 포함하지 않을 것으로 전망된다. 라이트닝 단자를 USB-C단자로 바꿀 수 있다는 전망도 나오지만, 가능성은 낮을 것으로 예상된다.\n",
       "\n",
       "바클레이스 투자은행 애널리스트에 따르면 아이폰 미니, 아이폰12는 4GB램, 아이폰12 프로와 아이폰12 프로맥스는 6GB램을 장착할 것으로 예상된다. 아이폰12와 아이폰12미니는 64GB·128GB·256GB 내장 용량을 제공하며, 아이폰12프로와 아이폰12프로맥스는 128GB·256GB·512GB 내장 용량을 지원할 것으로 예상된다.\n",
       "\n",
       "\n",
       "유명 IT팁스터 존 프로서에 따르면 아이폰12 미니는 649달러, 아이폰12는 749달러, 아이폰12 프로는 999달러, 아이폰12 프로맥스는 1천99달러부터 시작할 것으로 예상된다. 아이폰11은 699달러, 아이폰11프로는 999달러, 아이폰11프로 맥스는 1천99달러부터 시작했다.\n",
       "\n",
       "이동통신 업계에 따르면 아이폰12는 국내에 이르면 이달 말 또는 다음 달 초에 출시될 전망이다. 오는 23일 아이폰12 사전 예약을 진행하고, 30일 공식 출시할 가능성이 높게 점쳐진다. 아이폰12가 5G 스마트폰인 만큼, 세계 최초 5G 상용화 국가인 한국 출시가 기존보다 빨라질 것이라는 전망이다.\n",
       "\n",
       "4가지 모델이 모두 같은 날 동시에 출시될지는 미지수다. 일각에서는 아이폰12 미니와 아이폰12 프로맥스는 아이폰12와 아이폰12프로보다 조금 더 늦게 출시될 수 있다는 전망이 나온다.\n",
       "\n",
       "아이폰12 출시로 글로벌 5G 시장은 더욱 성장할 전망이다. 카운터포인트리서치에 따르면 올해 글로벌 5G 스마트폰 시장 규모는 2억3천500만대에 달할 것으로 예상된다. 내년에는 5억9천만대의 판매량을 기록할 전망이다.\n",
       "\n",
       "카운터포인트리서치 이윤정 연구원은 \"애플의 첫 5G 스마트폰인 아이폰12 출시는 최근 코로나 타격 및 경기 불확실성 등으로 침체되어 있는 스마트폰 시장에 활기를 불어넣으며 금번 4분기부터 내년까지 이어질 스마트폰 시장의 탄력적인 회복세에 보다 힘을 실어줄 것으로 예상된다\"며 \"기존 애플 충성고객들의 신규 5G 교체 수요를 크게 자극하고 글로벌은 물론 국내에서도 5G 가입자를 늘려나갈 것으로 보여, 애플의 점유율 상승이 특히 기대된다\"고 말했다.\n",
       "\n",
       "황정빈 기자(jungvinh@zdnet.co.kr)\n",
       "\n",
       " \n",
       " \n",
       "[Copyrightⓒ메가뉴스 &amp; ZDNet &amp; CNET. 무단전재 및 재배포 금지]\n",
       "\t<!-- // 본문 내용 -->\n",
       "</div>"
      ]
     },
     "execution_count": 231,
     "metadata": {},
     "output_type": "execute_result"
    }
   ],
   "source": [
    "url ='https://news.naver.com/main/read.nhn?mode=LSD&mid=shm&sid1=105&oid=092&aid=0002201756'  ## 각 뉴스 URL 주소 입력\n",
    "title_list2 =[] # 기사 제목 저장 LIST 생성\n",
    "news_list2 = [] # 뉴스 본문 저장 LIST 생성\n",
    "image_list = []\n",
    "\n",
    "responce = requests.get(url, headers={'User-Agent':'Chrome/85.0.4183.121'},verify = False) ## 뉴스 URL 주소 접속\n",
    "news = BeautifulSoup(responce.text,'html.parser') # html 태그 기준으로 parsing\n",
    "content = news.select(\"#articleBodyContents\") # 기사 본문 저장되어 있는 html주소 복사\n",
    "\n",
    "\n",
    "news_contentss = content[0]\n",
    "\n",
    "\n",
    "for target in news_contentss.find_all('script'): # 기사 본문에 추가로 저장되어 있는 각 class들 제거\n",
    "    target.extract()\n",
    "\n",
    "for target in news_contentss.find_all('a'): # 기사 본문에 추가로 저장되어 있는 각 class들 제거\n",
    "    target.extract()\n",
    "\n",
    "# for target in news_contentss.find_all('span'): # 기사 본문에 추가로 저장되어 있는 각 class들 제거\n",
    "#     image_list.append(target.find('img')['src'])\n",
    "# #     target.extract()\n",
    "\n",
    "for target in news_contentss.find_all('div'): # 기사 본문에 추가로 저장되어 있는 각 class들 제거\n",
    "    target.extract()\n",
    "    \n",
    "for target in news_contentss.find_all('iframe'): # 기사 본문에 추가로 저장되어 있는 각 class들 제거\n",
    "    target.extract()\n",
    "\n",
    "    \n",
    "for target in news_contentss.find_all('br'): # 기사 본문에 추가로 저장되어 있는 각 class들 제거\n",
    "    target.replace_with(\"\\n\")    \n",
    "\n",
    "    \n",
    "\n",
    "news_text = news_contentss.get_text()\n",
    "news_contentss"
   ]
  },
  {
   "cell_type": "code",
   "execution_count": 87,
   "metadata": {
    "scrolled": true
   },
   "outputs": [
    {
     "data": {
      "text/plain": [
       "'https://imgnews.pstatic.net/image/092/2020/10/13/0002201756_001_20201013140501531.jpg?type=w647'"
      ]
     },
     "execution_count": 87,
     "metadata": {},
     "output_type": "execute_result"
    }
   ],
   "source": [
    "image_list"
   ]
  },
  {
   "cell_type": "code",
   "execution_count": 232,
   "metadata": {},
   "outputs": [],
   "source": [
    "src_list = []\n",
    "img_desc = []\n",
    "em_list = []\n",
    "image_list = []\n",
    "\n",
    "news_contentss = content[0]\n",
    "image_url = news_contentss.find_all('span')\n",
    "for i in image_url:\n",
    "    src_list.append(i.find('img')['src'])\n",
    "    img_desc.append(i.get_text())\n",
    "    \n",
    "\n",
    "for v in src_list:\n",
    "    if v not in image_list:\n",
    "        image_list.append(v)\n",
    "        \n",
    "for k in img_desc:\n",
    "    if not k :\n",
    "        continue\n",
    "        \n",
    "    em_list.append(k)"
   ]
  },
  {
   "cell_type": "code",
   "execution_count": 181,
   "metadata": {},
   "outputs": [
    {
     "data": {
      "text/plain": [
       "['아이폰12 시리즈 렌더링 이미지.(사진=EVERYTHINGAPPLEPRO)',\n",
       " '애플은 지난 7일 글로벌 미디어들에 애플 이벤트 초청장을 발송했다. 애플은 이날 아이폰12를 공개할 전망이다.']"
      ]
     },
     "execution_count": 181,
     "metadata": {},
     "output_type": "execute_result"
    }
   ],
   "source": [
    "em_list"
   ]
  },
  {
   "cell_type": "code",
   "execution_count": 214,
   "metadata": {},
   "outputs": [
    {
     "data": {
      "text/plain": [
       "2"
      ]
     },
     "execution_count": 214,
     "metadata": {},
     "output_type": "execute_result"
    }
   ],
   "source": [
    "len(em_list)"
   ]
  },
  {
   "cell_type": "code",
   "execution_count": 118,
   "metadata": {},
   "outputs": [
    {
     "data": {
      "text/plain": [
       "['https://imgnews.pstatic.net/image/092/2020/10/13/0002201756_001_20201013140501531.jpg?type=w647',\n",
       " 'https://imgnews.pstatic.net/image/092/2020/10/13/0002201756_002_20201013140501569.png?type=w647']"
      ]
     },
     "execution_count": 118,
     "metadata": {},
     "output_type": "execute_result"
    }
   ],
   "source": [
    "image_list"
   ]
  },
  {
   "cell_type": "code",
   "execution_count": 233,
   "metadata": {
    "scrolled": false
   },
   "outputs": [],
   "source": [
    "final_text_list = []\n",
    "if len(em_list) != 0:\n",
    "    for row,i in enumerate(em_list) :\n",
    "#         print(sample)\n",
    "        news_cut = news_text.find(i)\n",
    "        main_text = news_text[0:news_cut]\n",
    "        either_text = news_text[news_cut:]\n",
    "        if row == 0:\n",
    "            if int(news_cut) >=20 :\n",
    "                news_text = either_text\n",
    "                final_text_list.append(main_text)\n",
    "                continue\n",
    "            else : \n",
    "                news_text = main_text\n",
    "                final_text_list.append(main_text)\n",
    "                continue\n",
    "        news_text = main_text\n",
    "        final_text_list.append(main_text)\n",
    "        \n",
    "        if row == len(em_list)-1 :\n",
    "            final_text_list.append(either_text)\n",
    "\n",
    "        "
   ]
  },
  {
   "cell_type": "code",
   "execution_count": 234,
   "metadata": {
    "scrolled": false
   },
   "outputs": [
    {
     "name": "stdout",
     "output_type": "stream",
     "text": [
      "1_list \n",
      "\n",
      " \n",
      "\n",
      "\n",
      "\n",
      "\n",
      "4개 모델 같이 나올까…120Hz·라이다 스캐너·5G 여부도 주목(지디넷코리아=황정빈  기자)애플이 야심적으로 준비해 온 아이폰12가 마침내 베일을 벗는다. 아이폰12는 애플이 내놓는 첫 5G 스마트폰이 될 것으로 예상돼 스마트폰 시장에서 어떤 바람을 몰고 올지 관심이 쏠린다.\n",
      "\n",
      "애플은 13일 오전 10시(현지시간, 한국시간 14일 오전 2시) 신제품 공개 행사를 개최한다. 코로나19 여파로 온라인으로 진행될 이번 행사에서 애플은 아이폰12 시리즈를 내놓을 것으로 예상된다.\n",
      "\n",
      "이에 앞서 애플은 지난 9월 온라인 행사를 열고 ▲애플워치 시리즈6 ▲애플워치SE ▲아이패드8세대 ▲아이패드 에어 등을 공개했다.\n",
      "\n",
      " \n",
      "\n",
      "\n",
      "\n",
      "\n",
      "2_list \n",
      "\n",
      " 아이폰12 시리즈 렌더링 이미지.(사진=EVERYTHINGAPPLEPRO)\n",
      "\n",
      "지금까지 전망을 종합하면 아이폰12 시리즈는 총 4개 모델으로 구성될 것으로 예상된다. ▲5.4인치 아이폰12미니(가칭) ▲6.1인치 아이폰12 ▲6.1인치 아이폰12 프로(가칭) ▲6.7인치 아이폰12 프로맥스(가칭) 4가지 모델로 구성될 전망이다.\n",
      "\n",
      "지난 해 나온 아이폰11와 달리 올해는 &apos;미니&apos; 모델이 추가될 것이 유력하다.\n",
      "\n",
      "아이폰12 시리즈의 겉모양은 전작과 크게 달라지지는 않을 전망이다. 하지만 아이폰4와 비슷한 각진 디자인을 채택할 것으로 예상된다. 노치 크기가 줄어들 수 있다는 전망도 유력하게 제기되고 있다.\n",
      "\n",
      "아이폰12 시리즈는 모두 OLED 디스플레이를 장착하고, A14 바이오닉 칩셋을 탑재할 것으로 예상된다. 하위모델인 아이폰12미니와 아이폰12는 후면에 듀얼 카메라를, 상위모델인 아이폰12프로와 아이폰12 프로맥스는 트리플 카메라를 탑재할 전망이다.\n",
      "\n",
      " \n",
      "\n",
      "\n",
      "\n",
      "\n",
      "3_list \n",
      "\n",
      " 애플은 지난 7일 글로벌 미디어들에 애플 이벤트 초청장을 발송했다. 애플은 이날 아이폰12를 공개할 전망이다.\n",
      "최상위 모델인 아이폰12 프로맥스에는 라이다(LiDAR) 스캐너가 탑재될 수 있다는 전망도 나온다. 라이다 스캐너는 빛이 물체에 닿았다가 반사돼 돌아오는 데 걸리는 시간을 측정해 거리를 파악하는 기술로, 증강 현실(AR)을 구현하는 데 사용된다. 라이다 스캐너는 아이패드 프로에 탑재된 바 있다.\n",
      "\n",
      "\n",
      "120Hz 고주사율을 지원 여부도 관심사다. 그 동안 아이폰12 프로 맥스에 한해 120Hz 고주사율을 지원할 것이란 전망이 유력하게 제기됐다.\n",
      "\n",
      "하지만 최근엔 내년에 출시될 아이폰에서 지원할 것이란 전망도 만만치 않다.\n",
      "\n",
      "주사율은 1초에 얼마나 많은 장면을 보여주는지를 나타내는 수치다. 주사율이 높을수록 부드럽고 매끄러운 화면 전환을 느낄 수 있다. 그런만큼 사용자들의 만족도를 높이는 데는 중요한 역할을 한다.\n",
      "\n",
      "실제로 삼성전자가 최근 조사한 갤럭시 스마트폰 중 가장 만족하는 디스플레이 기능에서는 120Hz 주사율이 압도적인 지지로 1위를 차지하기도 했다.\n",
      "\n",
      "그런 만큼 올해 출시될 아이폰이 120Hz 주사율을 지원할 지 여부도 중요한 관전 포인트다.\n",
      "\n",
      "\n",
      "애플이 아이폰12부터 5G를 지원할 것은 거의 확실한 상황이다. 하지만 이번에 출시될 모든 아이폰 모델이 5G를 지원할 지 여부는 미지수다.\n",
      "\n",
      "당초 아이폰12 시리즈는 모두 5G 모델로 출시될 것으로 전망됐다. 하지만 최근 미국 금융컨설팅회사 DA 데이비슨의 톰 포르테 애널리스트는 아이폰12 미니가 4G 모델로만 출시될 수도 있다고 전망했다.\n",
      "\n",
      "아이폰12시리즈가 28GHz 이상 밀리미터파(mmWave) 대역 안테나를 탑재할지도 미지수다. 5G 주파수 대역 중 28GHz 대역을 이용하면 6GHz 이하 주파수 대역(sub-6GHz)을 이용한 5G보다 속도가 빠른 것으로 알려졌다. 28GHz 대역 안테나는 아이폰12 프로맥스에만 지원될 수 있다는 전망과 함께 해당 안테나가 특정 국가에 제한될 수 있다는 전망도 나온다.\n",
      "\n",
      "하지만 아이폰12 프로맥스가 28GHz 대역을 지원하더라도 국내에서는 해당 주파수를 당장 사용하긴 어려울 전망이다. 국내 이동통신3사는 28GHz 대역 주파수 특성을 고려해 B2B 중심으로 우선 상용화한다는 계획이다.\n",
      "\n",
      "애플은 환경 보호와 비용 절감을 이유로 이번 아이폰12 구성품에 충전기와 유선 이어폰을 포함하지 않을 것으로 전망된다. 라이트닝 단자를 USB-C단자로 바꿀 수 있다는 전망도 나오지만, 가능성은 낮을 것으로 예상된다.\n",
      "\n",
      "바클레이스 투자은행 애널리스트에 따르면 아이폰 미니, 아이폰12는 4GB램, 아이폰12 프로와 아이폰12 프로맥스는 6GB램을 장착할 것으로 예상된다. 아이폰12와 아이폰12미니는 64GB·128GB·256GB 내장 용량을 제공하며, 아이폰12프로와 아이폰12프로맥스는 128GB·256GB·512GB 내장 용량을 지원할 것으로 예상된다.\n",
      "\n",
      "\n",
      "유명 IT팁스터 존 프로서에 따르면 아이폰12 미니는 649달러, 아이폰12는 749달러, 아이폰12 프로는 999달러, 아이폰12 프로맥스는 1천99달러부터 시작할 것으로 예상된다. 아이폰11은 699달러, 아이폰11프로는 999달러, 아이폰11프로 맥스는 1천99달러부터 시작했다.\n",
      "\n",
      "이동통신 업계에 따르면 아이폰12는 국내에 이르면 이달 말 또는 다음 달 초에 출시될 전망이다. 오는 23일 아이폰12 사전 예약을 진행하고, 30일 공식 출시할 가능성이 높게 점쳐진다. 아이폰12가 5G 스마트폰인 만큼, 세계 최초 5G 상용화 국가인 한국 출시가 기존보다 빨라질 것이라는 전망이다.\n",
      "\n",
      "4가지 모델이 모두 같은 날 동시에 출시될지는 미지수다. 일각에서는 아이폰12 미니와 아이폰12 프로맥스는 아이폰12와 아이폰12프로보다 조금 더 늦게 출시될 수 있다는 전망이 나온다.\n",
      "\n",
      "아이폰12 출시로 글로벌 5G 시장은 더욱 성장할 전망이다. 카운터포인트리서치에 따르면 올해 글로벌 5G 스마트폰 시장 규모는 2억3천500만대에 달할 것으로 예상된다. 내년에는 5억9천만대의 판매량을 기록할 전망이다.\n",
      "\n",
      "카운터포인트리서치 이윤정 연구원은 \"애플의 첫 5G 스마트폰인 아이폰12 출시는 최근 코로나 타격 및 경기 불확실성 등으로 침체되어 있는 스마트폰 시장에 활기를 불어넣으며 금번 4분기부터 내년까지 이어질 스마트폰 시장의 탄력적인 회복세에 보다 힘을 실어줄 것으로 예상된다\"며 \"기존 애플 충성고객들의 신규 5G 교체 수요를 크게 자극하고 글로벌은 물론 국내에서도 5G 가입자를 늘려나갈 것으로 보여, 애플의 점유율 상승이 특히 기대된다\"고 말했다.\n",
      "\n",
      "황정빈 기자(jungvinh@zdnet.co.kr)\n",
      "\n",
      " \n",
      " \n",
      "[Copyrightⓒ메가뉴스 & ZDNet & CNET. 무단전재 및 재배포 금지]\n",
      "\t\n",
      " \n",
      "\n",
      "\n",
      "\n",
      "\n"
     ]
    }
   ],
   "source": [
    "for row, i in enumerate(final_text_list):\n",
    "    print(f'{row+1}_list \\n\\n',i,'\\n\\n\\n\\n')\n",
    "    "
   ]
  },
  {
   "cell_type": "code",
   "execution_count": null,
   "metadata": {},
   "outputs": [],
   "source": [
    "final_text_list"
   ]
  },
  {
   "cell_type": "code",
   "execution_count": 240,
   "metadata": {},
   "outputs": [
    {
     "data": {
      "text/plain": [
       "-1"
      ]
     },
     "execution_count": 240,
     "metadata": {},
     "output_type": "execute_result"
    }
   ],
   "source": [
    "final_text_list[0].find(em_list[0])"
   ]
  },
  {
   "cell_type": "code",
   "execution_count": 243,
   "metadata": {},
   "outputs": [
    {
     "data": {
      "text/plain": [
       "True"
      ]
     },
     "execution_count": 243,
     "metadata": {},
     "output_type": "execute_result"
    }
   ],
   "source": [
    "final_text_list[1].find(em_list[0])==0"
   ]
  },
  {
   "cell_type": "code",
   "execution_count": 242,
   "metadata": {},
   "outputs": [
    {
     "data": {
      "text/plain": [
       "-1"
      ]
     },
     "execution_count": 242,
     "metadata": {},
     "output_type": "execute_result"
    }
   ],
   "source": [
    "final_text_list[2].find(em_list[0])"
   ]
  },
  {
   "cell_type": "code",
   "execution_count": 249,
   "metadata": {},
   "outputs": [],
   "source": [
    "def send_to_clipboard(clip_type, data):\n",
    "    win32clipboard.OpenClipboard()\n",
    "    win32clipboard.EmptyClipboard()\n",
    "    win32clipboard.SetClipboardData(clip_type, data)\n",
    "    win32clipboard.CloseClipboard()\n",
    "    \n",
    "def text_inline(k):\n",
    "    iframes = driver.find_elements_by_tag_name('iframe') # 모든 iframe tage_name을 검색\n",
    "    driver.switch_to.frame(iframes[0]) # 그 중 본문을 작성할 수 있는 첫번째 iframe 선택\n",
    "\n",
    "\n",
    "    second_iframe = driver.find_elements_by_tag_name('iframe') # 본문에 접속하기 위해서는 iframe[0]내부의 iframe에 접속하여 작성해야됨\n",
    "    # 이를 위해 2번째 iframe을 검색\n",
    "    driver.switch_to.frame(second_iframe[0])  # 검색한 두 번째 iframe 접속\n",
    "    icu_news = driver.find_element_by_id(\"dext_body\")\n",
    "\n",
    "    icu_news.send_keys(k) # 해당 부분에 기사 내용 입력\n",
    "\n",
    "\n",
    "    driver.switch_to_default_content() # 해당 iframe에 벗어나 상위 웹페이지로 연결"
   ]
  },
  {
   "cell_type": "code",
   "execution_count": null,
   "metadata": {},
   "outputs": [],
   "source": []
  },
  {
   "cell_type": "code",
   "execution_count": 260,
   "metadata": {
    "scrolled": true
   },
   "outputs": [
    {
     "ename": "NoSuchElementException",
     "evalue": "Message: no such element: Unable to locate element: {\"method\":\"xpath\",\"selector\":\"//*[@id=\"image_btn\"]\"}\n  (Session info: chrome=86.0.4240.75)\n",
     "output_type": "error",
     "traceback": [
      "\u001b[1;31m---------------------------------------------------------------------------\u001b[0m",
      "\u001b[1;31mNoSuchElementException\u001b[0m                    Traceback (most recent call last)",
      "\u001b[1;32m<ipython-input-260-9830dc31f06d>\u001b[0m in \u001b[0;36m<module>\u001b[1;34m\u001b[0m\n\u001b[0;32m     71\u001b[0m \u001b[1;31m#                     driver.switch_to_default_content()\u001b[0m\u001b[1;33m\u001b[0m\u001b[1;33m\u001b[0m\u001b[1;33m\u001b[0m\u001b[0m\n\u001b[0;32m     72\u001b[0m \u001b[1;31m#                     time.sleep(1)\u001b[0m\u001b[1;33m\u001b[0m\u001b[1;33m\u001b[0m\u001b[1;33m\u001b[0m\u001b[0m\n\u001b[1;32m---> 73\u001b[1;33m                     \u001b[0mdriver\u001b[0m\u001b[1;33m.\u001b[0m\u001b[0mfind_element_by_xpath\u001b[0m\u001b[1;33m(\u001b[0m\u001b[1;34m'//*[@id=\"image_btn\"]'\u001b[0m\u001b[1;33m)\u001b[0m\u001b[1;33m.\u001b[0m\u001b[0mclick\u001b[0m\u001b[1;33m(\u001b[0m\u001b[1;33m)\u001b[0m\u001b[1;33m\u001b[0m\u001b[1;33m\u001b[0m\u001b[0m\n\u001b[0m\u001b[0;32m     74\u001b[0m                     \u001b[0micu_news\u001b[0m\u001b[1;33m.\u001b[0m\u001b[0msend_keys\u001b[0m\u001b[1;33m(\u001b[0m\u001b[0mKeys\u001b[0m\u001b[1;33m.\u001b[0m\u001b[0mCONTROL\u001b[0m\u001b[1;33m,\u001b[0m\u001b[0mSHIFT\u001b[0m\u001b[1;33m,\u001b[0m\u001b[1;34m'e'\u001b[0m\u001b[1;33m)\u001b[0m\u001b[1;33m\u001b[0m\u001b[1;33m\u001b[0m\u001b[0m\n\u001b[0;32m     75\u001b[0m \u001b[1;33m\u001b[0m\u001b[0m\n",
      "\u001b[1;32m~\\AppData\\Local\\Continuum\\anaconda3\\envs\\RSS\\lib\\site-packages\\selenium\\webdriver\\remote\\webdriver.py\u001b[0m in \u001b[0;36mfind_element_by_xpath\u001b[1;34m(self, xpath)\u001b[0m\n\u001b[0;32m    392\u001b[0m             \u001b[0melement\u001b[0m \u001b[1;33m=\u001b[0m \u001b[0mdriver\u001b[0m\u001b[1;33m.\u001b[0m\u001b[0mfind_element_by_xpath\u001b[0m\u001b[1;33m(\u001b[0m\u001b[1;34m'//div/td[1]'\u001b[0m\u001b[1;33m)\u001b[0m\u001b[1;33m\u001b[0m\u001b[1;33m\u001b[0m\u001b[0m\n\u001b[0;32m    393\u001b[0m         \"\"\"\n\u001b[1;32m--> 394\u001b[1;33m         \u001b[1;32mreturn\u001b[0m \u001b[0mself\u001b[0m\u001b[1;33m.\u001b[0m\u001b[0mfind_element\u001b[0m\u001b[1;33m(\u001b[0m\u001b[0mby\u001b[0m\u001b[1;33m=\u001b[0m\u001b[0mBy\u001b[0m\u001b[1;33m.\u001b[0m\u001b[0mXPATH\u001b[0m\u001b[1;33m,\u001b[0m \u001b[0mvalue\u001b[0m\u001b[1;33m=\u001b[0m\u001b[0mxpath\u001b[0m\u001b[1;33m)\u001b[0m\u001b[1;33m\u001b[0m\u001b[1;33m\u001b[0m\u001b[0m\n\u001b[0m\u001b[0;32m    395\u001b[0m \u001b[1;33m\u001b[0m\u001b[0m\n\u001b[0;32m    396\u001b[0m     \u001b[1;32mdef\u001b[0m \u001b[0mfind_elements_by_xpath\u001b[0m\u001b[1;33m(\u001b[0m\u001b[0mself\u001b[0m\u001b[1;33m,\u001b[0m \u001b[0mxpath\u001b[0m\u001b[1;33m)\u001b[0m\u001b[1;33m:\u001b[0m\u001b[1;33m\u001b[0m\u001b[1;33m\u001b[0m\u001b[0m\n",
      "\u001b[1;32m~\\AppData\\Local\\Continuum\\anaconda3\\envs\\RSS\\lib\\site-packages\\selenium\\webdriver\\remote\\webdriver.py\u001b[0m in \u001b[0;36mfind_element\u001b[1;34m(self, by, value)\u001b[0m\n\u001b[0;32m    976\u001b[0m         return self.execute(Command.FIND_ELEMENT, {\n\u001b[0;32m    977\u001b[0m             \u001b[1;34m'using'\u001b[0m\u001b[1;33m:\u001b[0m \u001b[0mby\u001b[0m\u001b[1;33m,\u001b[0m\u001b[1;33m\u001b[0m\u001b[1;33m\u001b[0m\u001b[0m\n\u001b[1;32m--> 978\u001b[1;33m             'value': value})['value']\n\u001b[0m\u001b[0;32m    979\u001b[0m \u001b[1;33m\u001b[0m\u001b[0m\n\u001b[0;32m    980\u001b[0m     \u001b[1;32mdef\u001b[0m \u001b[0mfind_elements\u001b[0m\u001b[1;33m(\u001b[0m\u001b[0mself\u001b[0m\u001b[1;33m,\u001b[0m \u001b[0mby\u001b[0m\u001b[1;33m=\u001b[0m\u001b[0mBy\u001b[0m\u001b[1;33m.\u001b[0m\u001b[0mID\u001b[0m\u001b[1;33m,\u001b[0m \u001b[0mvalue\u001b[0m\u001b[1;33m=\u001b[0m\u001b[1;32mNone\u001b[0m\u001b[1;33m)\u001b[0m\u001b[1;33m:\u001b[0m\u001b[1;33m\u001b[0m\u001b[1;33m\u001b[0m\u001b[0m\n",
      "\u001b[1;32m~\\AppData\\Local\\Continuum\\anaconda3\\envs\\RSS\\lib\\site-packages\\selenium\\webdriver\\remote\\webdriver.py\u001b[0m in \u001b[0;36mexecute\u001b[1;34m(self, driver_command, params)\u001b[0m\n\u001b[0;32m    319\u001b[0m         \u001b[0mresponse\u001b[0m \u001b[1;33m=\u001b[0m \u001b[0mself\u001b[0m\u001b[1;33m.\u001b[0m\u001b[0mcommand_executor\u001b[0m\u001b[1;33m.\u001b[0m\u001b[0mexecute\u001b[0m\u001b[1;33m(\u001b[0m\u001b[0mdriver_command\u001b[0m\u001b[1;33m,\u001b[0m \u001b[0mparams\u001b[0m\u001b[1;33m)\u001b[0m\u001b[1;33m\u001b[0m\u001b[1;33m\u001b[0m\u001b[0m\n\u001b[0;32m    320\u001b[0m         \u001b[1;32mif\u001b[0m \u001b[0mresponse\u001b[0m\u001b[1;33m:\u001b[0m\u001b[1;33m\u001b[0m\u001b[1;33m\u001b[0m\u001b[0m\n\u001b[1;32m--> 321\u001b[1;33m             \u001b[0mself\u001b[0m\u001b[1;33m.\u001b[0m\u001b[0merror_handler\u001b[0m\u001b[1;33m.\u001b[0m\u001b[0mcheck_response\u001b[0m\u001b[1;33m(\u001b[0m\u001b[0mresponse\u001b[0m\u001b[1;33m)\u001b[0m\u001b[1;33m\u001b[0m\u001b[1;33m\u001b[0m\u001b[0m\n\u001b[0m\u001b[0;32m    322\u001b[0m             response['value'] = self._unwrap_value(\n\u001b[0;32m    323\u001b[0m                 response.get('value', None))\n",
      "\u001b[1;32m~\\AppData\\Local\\Continuum\\anaconda3\\envs\\RSS\\lib\\site-packages\\selenium\\webdriver\\remote\\errorhandler.py\u001b[0m in \u001b[0;36mcheck_response\u001b[1;34m(self, response)\u001b[0m\n\u001b[0;32m    240\u001b[0m                 \u001b[0malert_text\u001b[0m \u001b[1;33m=\u001b[0m \u001b[0mvalue\u001b[0m\u001b[1;33m[\u001b[0m\u001b[1;34m'alert'\u001b[0m\u001b[1;33m]\u001b[0m\u001b[1;33m.\u001b[0m\u001b[0mget\u001b[0m\u001b[1;33m(\u001b[0m\u001b[1;34m'text'\u001b[0m\u001b[1;33m)\u001b[0m\u001b[1;33m\u001b[0m\u001b[1;33m\u001b[0m\u001b[0m\n\u001b[0;32m    241\u001b[0m             \u001b[1;32mraise\u001b[0m \u001b[0mexception_class\u001b[0m\u001b[1;33m(\u001b[0m\u001b[0mmessage\u001b[0m\u001b[1;33m,\u001b[0m \u001b[0mscreen\u001b[0m\u001b[1;33m,\u001b[0m \u001b[0mstacktrace\u001b[0m\u001b[1;33m,\u001b[0m \u001b[0malert_text\u001b[0m\u001b[1;33m)\u001b[0m\u001b[1;33m\u001b[0m\u001b[1;33m\u001b[0m\u001b[0m\n\u001b[1;32m--> 242\u001b[1;33m         \u001b[1;32mraise\u001b[0m \u001b[0mexception_class\u001b[0m\u001b[1;33m(\u001b[0m\u001b[0mmessage\u001b[0m\u001b[1;33m,\u001b[0m \u001b[0mscreen\u001b[0m\u001b[1;33m,\u001b[0m \u001b[0mstacktrace\u001b[0m\u001b[1;33m)\u001b[0m\u001b[1;33m\u001b[0m\u001b[1;33m\u001b[0m\u001b[0m\n\u001b[0m\u001b[0;32m    243\u001b[0m \u001b[1;33m\u001b[0m\u001b[0m\n\u001b[0;32m    244\u001b[0m     \u001b[1;32mdef\u001b[0m \u001b[0m_value_or_default\u001b[0m\u001b[1;33m(\u001b[0m\u001b[0mself\u001b[0m\u001b[1;33m,\u001b[0m \u001b[0mobj\u001b[0m\u001b[1;33m,\u001b[0m \u001b[0mkey\u001b[0m\u001b[1;33m,\u001b[0m \u001b[0mdefault\u001b[0m\u001b[1;33m)\u001b[0m\u001b[1;33m:\u001b[0m\u001b[1;33m\u001b[0m\u001b[1;33m\u001b[0m\u001b[0m\n",
      "\u001b[1;31mNoSuchElementException\u001b[0m: Message: no such element: Unable to locate element: {\"method\":\"xpath\",\"selector\":\"//*[@id=\"image_btn\"]\"}\n  (Session info: chrome=86.0.4240.75)\n"
     ]
    }
   ],
   "source": [
    "# Selenium Load\n",
    "driver = webdriver.Chrome(path) # chrome driver load\n",
    "# site login\n",
    "driver.get('https://autoway.hyundai.net/') # 오토웨이 접속\n",
    "time.sleep(3)\n",
    "\n",
    "driver.find_element_by_xpath('//*[@id=\"form1\"]/div[3]/div[2]/div[3]/div/div[3]').click() # autoway접속하여 로그인창의 부품 선택\n",
    "\n",
    "driver.find_element_by_xpath('//*[@id=\"drpGroupCopList\"]/option[2]').click() # 부품의 현대트랜시스 선택\n",
    "\n",
    "\n",
    "log = driver.find_element_by_id(\"userID\") # 오토웨이 id 입력 주소\n",
    "log.send_keys(set_id) # id입력\n",
    "time.sleep(2)\n",
    "pwd = driver.find_element_by_id(\"password\") # 오토웨이 비밀번호 입력 주소\n",
    "pwd.send_keys(set_pwd) # pwd 입력\n",
    "time.sleep(8)\n",
    "driver.find_element_by_xpath('//*[@id=\"Login\"]').click() # 로그인 버튼 클릭\n",
    "time.sleep(10)\n",
    "\n",
    "driver.get('https://autoway.hyundai.net/board/H104/Lists/H10400357/TileListView.aspx') # 현대트랜시스 I.C.U주소 입력하여 접속\n",
    "time.sleep(8)\n",
    "driver.find_element_by_xpath('//*[@id=\"ctl00_ctl59_g_de894c14_b56d_4d4b_9c89_374a6c0455c1_Search_NewButton_New_ctl00_ctl59_g_de894c14_b56d_4d4b_9c89_374a6c0455c1_Search_NewButton\"]').click()\n",
    "# I.C.U 내부의 작성 버튼 클릭\n",
    "time.sleep(8)\n",
    "\n",
    "icu_title = driver.find_element_by_id(\"Title_fa564e0f-0c70-4ab9-b863-0177e6ddd247_$TextField\") # 제목란 클릭\n",
    "icu_title.send_keys(news_title) # 작성 제목에 기사 제목 입력\n",
    "time.sleep(5)\n",
    "\n",
    "\n",
    "# iframe 전환\n",
    "\n",
    "# 작성 게시글 내부의 inline frame(iframe) 2개의 web page가 삽입되어 있습니다.\n",
    "# 기사를 입력하기 위해서는 내부에 들어가서 작성해야 합니다.\n",
    "# 이를 위해 tag_name으로 iframe이 입력된 전체 리스트를 찾고 \n",
    "# 기사 제목을 입력할 수 있는 iframe[0] 내부의 두번째 iframe에 접속하여 기사 본문을 게시하는 코드를 작성하였습니다.\n",
    "\n",
    "iframes = driver.find_elements_by_tag_name('iframe') # 모든 iframe tage_name을 검색\n",
    "driver.switch_to.frame(iframes[0]) # 그 중 본문을 작성할 수 있는 첫번째 iframe 선택\n",
    "\n",
    "\n",
    "second_iframe = driver.find_elements_by_tag_name('iframe') # 본문에 접속하기 위해서는 iframe[0]내부의 iframe에 접속하여 작성해야됨\n",
    "# 이를 위해 2번째 iframe을 검색\n",
    "driver.switch_to.frame(second_iframe[0])  # 검색한 두 번째 iframe 접속\n",
    "icu_news = driver.find_element_by_id(\"dext_body\") # 해당 iframe 내의 기사를 입력할 수 있는 id = dext_body 검색\n",
    "\n",
    "if len(em_list)>=1 :    \n",
    "        \n",
    "        for row,i in enumerate(em_list) :\n",
    "            \n",
    "            for k in final_text_list :\n",
    "                \n",
    "            \n",
    "                if k.find(i)== -1 :                    \n",
    "                    icu_news.send_keys(k) # 해당 부분에 기사 내용 입력\n",
    "\n",
    "                elif k.find(i)==0 :                   \n",
    "                    urllib.request.urlretrieve(image_list[row],'test.jpg')\n",
    "                    img = Image.open('test.jpg')\n",
    "                    output = BytesIO()\n",
    "                    img.convert(\"RGB\").save(output, \"BMP\")\n",
    "                    data = output.getvalue()[14:]\n",
    "                    output.close()\n",
    "\n",
    "                    send_to_clipboard(win32clipboard.CF_DIB, data)\n",
    "                    icu_news.send_keys(Keys.CONTROL,'v')\n",
    "                    time.sleep(5)\n",
    "#                     driver.switch_to_default_content()\n",
    "#                     time.sleep(1)\n",
    "#                     driver.switch_to_default_content() \n",
    "#                     time.sleep(1)\n",
    "                    driver.find_element_by_xpath('//*[@id=\"span_insert_image\"]').click()\n",
    "                    icu_news.send_keys(Keys.CONTROL,SHIFT,'e')\n",
    "\n",
    "                    text_inline(k)\n",
    "\n",
    "                    # 기사 최종 게시 클릭\n",
    "                    # driver.find_element_by_xpath('//*[@id=\"ctl00_ctl59_g_0005fe00_cee6_4765_9070_f77f554d027e_ctl00_ctl06_btnSave\"]').click()\n",
    "\n",
    "                    #샘플 테스트로 목록 클릭하여 빠져나오는 코드\n",
    "                    # driver.find_element_by_xpath('//*[@id=\"ctl00_ctl59_g_0005fe00_cee6_4765_9070_f77f554d027e_ctl00_ctl07_List_ctl00_ctl59_g_0005fe00_cee6_4765_9070_f77f554d027e_ctl00_ctl07\"]/span').click()\n"
   ]
  },
  {
   "cell_type": "code",
   "execution_count": null,
   "metadata": {},
   "outputs": [],
   "source": [
    "//*[@id=\"image_btn\"]\n",
    "//*[@id=\"span_insert_image\"]"
   ]
  },
  {
   "cell_type": "markdown",
   "metadata": {},
   "source": [
    "가운데 정렬 키 ctrl+shift+e"
   ]
  },
  {
   "cell_type": "code",
   "execution_count": 5,
   "metadata": {},
   "outputs": [
    {
     "data": {
      "text/plain": [
       "'https://imgnews.pstatic.net/image/629/2020/10/07/202034151602051493_20201007153501116.jpg?type=w647'"
      ]
     },
     "execution_count": 5,
     "metadata": {},
     "output_type": "execute_result"
    }
   ],
   "source": [
    "url ='https://news.naver.com/main/read.nhn?mode=LSD&mid=shm&sid1=105&oid=629&aid=0000045669'  ## 각 뉴스 URL 주소 입력\n",
    "title_list2 =[] # 기사 제목 저장 LIST 생성\n",
    "news_list2 = [] # 뉴스 본문 저장 LIST 생성\n",
    "\n",
    "\n",
    "responce = requests.get(url, headers={'User-Agent':'Chrome/85.0.4183.121'},verify = False) ## 뉴스 URL 주소 접속\n",
    "news = BeautifulSoup(responce.text,'html.parser') # html 태그 기준으로 parsing\n",
    "content = news.select(\"#articleBodyContents\") # 기사 본문 저장되어 있는 html주소 복사\n",
    "\n",
    "\n",
    "\n",
    "test = content[0].find('img')['src']\n",
    "test"
   ]
  },
  {
   "cell_type": "code",
   "execution_count": 246,
   "metadata": {},
   "outputs": [
    {
     "data": {
      "text/plain": [
       "('test.jpg', <http.client.HTTPMessage at 0x205ce830988>)"
      ]
     },
     "execution_count": 246,
     "metadata": {},
     "output_type": "execute_result"
    }
   ],
   "source": [
    "urllib.request.urlretrieve(image_list[0],'test.jpg')"
   ]
  },
  {
   "cell_type": "code",
   "execution_count": 247,
   "metadata": {},
   "outputs": [],
   "source": [
    "from PIL import Image\n",
    "img = Image.open('test.jpg')"
   ]
  },
  {
   "cell_type": "code",
   "execution_count": 248,
   "metadata": {},
   "outputs": [
    {
     "data": {
      "image/png": "[encoded data removed]",
      "text/plain": [
       "<PIL.JpegImagePlugin.JpegImageFile image mode=RGB size=639x455 at 0x205CE830948>"
      ]
     },
     "execution_count": 248,
     "metadata": {},
     "output_type": "execute_result"
    }
   ],
   "source": [
    "img"
   ]
  },
  {
   "cell_type": "code",
   "execution_count": 12,
   "metadata": {},
   "outputs": [],
   "source": [
    "import pyautogui as P\n",
    "import win32clipboard\n",
    "from io import BytesIO\n"
   ]
  },
  {
   "cell_type": "code",
   "execution_count": null,
   "metadata": {},
   "outputs": [],
   "source": [
    "def send_to_clipboard(clip_type, data):\n",
    "    win32clipboard.OpenClipboard()\n",
    "    win32clipboard.EmptyClipboard()\n",
    "    win32clipboard.SetClipboardData(clip_type, data)\n",
    "    win32clipboard.CloseClipboard()\n"
   ]
  },
  {
   "cell_type": "code",
   "execution_count": 58,
   "metadata": {},
   "outputs": [],
   "source": [
    "output = BytesIO()\n",
    "img.convert(\"RGB\").save(output, \"BMP\")\n",
    "data = output.getvalue()[14:]\n",
    "output.close()\n",
    "\n",
    "send_to_clipboard(win32clipboard.CF_DIB, data)"
   ]
  },
  {
   "cell_type": "code",
   "execution_count": 51,
   "metadata": {},
   "outputs": [],
   "source": [
    "im"
   ]
  }
 ],
 "metadata": {
  "kernelspec": {
   "display_name": "Python 3",
   "language": "python",
   "name": "python3"
  },
  "language_info": {
   "codemirror_mode": {
    "name": "ipython",
    "version": 3
   },
   "file_extension": ".py",
   "mimetype": "text/x-python",
   "name": "python",
   "nbconvert_exporter": "python",
   "pygments_lexer": "ipython3",
   "version": "3.7.4"
  }
 },
 "nbformat": 4,
 "nbformat_minor": 2
}
